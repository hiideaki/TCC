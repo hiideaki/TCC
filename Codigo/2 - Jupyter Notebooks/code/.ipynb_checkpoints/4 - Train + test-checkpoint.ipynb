{
 "cells": [
  {
   "cell_type": "code",
   "execution_count": 1,
   "metadata": {},
   "outputs": [],
   "source": [
    "import pickle as pkl\n",
    "import seaborn as sns\n",
    "import matplotlib.pyplot as plt\n",
    "import re\n",
    "import pandas as pd\n",
    "import numpy as np\n",
    "import os\n",
    "import seaborn as sns\n",
    "import matplotlib.pyplot as plt\n",
    "import math\n",
    "\n",
    "from tqdm import tqdm_notebook\n",
    "from collections import Counter\n",
    "from glob import glob\n",
    "from unidecode import unidecode\n",
    "from nltk.corpus import stopwords\n",
    "from datetime import datetime\n",
    "\n",
    "import utils\n",
    "\n",
    "%matplotlib inline\n",
    "\n",
    "sns.set(style=\"darkgrid\")"
   ]
  },
  {
   "cell_type": "code",
   "execution_count": 2,
   "metadata": {},
   "outputs": [],
   "source": [
    "PATH = '../'\n",
    "\n",
    "PROCESSED_DATA_PATH = os.path.join(PATH, 'data/processed/')\n",
    "\n",
    "DF_PRIME_TRUNCATED_PATH = os.path.join(PROCESSED_DATA_PATH, 'df_prime_truncated.pkl')\n",
    "DF_USP_TRUNCATED_PATH = os.path.join(PROCESSED_DATA_PATH, 'df_usp_truncated_clean.pkl')\n",
    "\n",
    "\n",
    "STOPWORDS = utils.get_stopwords()"
   ]
  },
  {
   "cell_type": "code",
   "execution_count": 3,
   "metadata": {},
   "outputs": [],
   "source": [
    "df_prime = pkl.load(open(DF_PRIME_TRUNCATED_PATH, 'rb'))\n",
    "\n",
    "df_fakebr = pkl.load(open(DF_USP_TRUNCATED_PATH, 'rb'))"
   ]
  },
  {
   "cell_type": "code",
   "execution_count": 4,
   "metadata": {},
   "outputs": [],
   "source": [
    "from imblearn.under_sampling import RandomUnderSampler\n",
    "\n",
    "from sklearn.feature_extraction.text import CountVectorizer, TfidfVectorizer\n",
    "from sklearn.model_selection import cross_val_score, train_test_split\n",
    "from sklearn.metrics import accuracy_score, f1_score, recall_score, precision_score, confusion_matrix, classification_report\n",
    "\n",
    "from sklearn.linear_model import LogisticRegression\n",
    "from sklearn.ensemble import RandomForestClassifier\n",
    "from sklearn.naive_bayes import GaussianNB\n",
    "from sklearn.svm import SVC\n",
    "from sklearn.svm import LinearSVC\n",
    "\n",
    "from sklearn.calibration import CalibratedClassifierCV\n",
    "\n",
    "from sklearn.pipeline import Pipeline"
   ]
  },
  {
   "cell_type": "code",
   "execution_count": 5,
   "metadata": {},
   "outputs": [],
   "source": [
    "vectorizer_list = [\n",
    "    CountVectorizer,\n",
    "    TfidfVectorizer\n",
    "]\n",
    "\n",
    "vect_kwargs = {\n",
    "    'ngram_range': (1, 2),\n",
    "#     'min_df': 5,\n",
    "#     'max_df': 0.9,\n",
    "    'max_features': 10000\n",
    "}\n",
    "\n",
    "\n",
    "model_list = [\n",
    "    GaussianNB,\n",
    "    LogisticRegression,\n",
    "    RandomForestClassifier,\n",
    "    SVC\n",
    "]\n",
    "\n"
   ]
  },
  {
   "cell_type": "code",
   "execution_count": 6,
   "metadata": {},
   "outputs": [
    {
     "name": "stdout",
     "output_type": "stream",
     "text": [
      "GaussianNB\n",
      "LogisticRegression\n",
      "RandomForestClassifier\n",
      "SVC\n"
     ]
    }
   ],
   "source": [
    "for clf in model_list:\n",
    "    print(type(clf()).__name__)"
   ]
  },
  {
   "cell_type": "code",
   "execution_count": 7,
   "metadata": {},
   "outputs": [],
   "source": [
    "from sklearn.base import TransformerMixin\n",
    "class DenseTransformer(TransformerMixin):\n",
    "\n",
    "    def fit(self, X, y=None, **fit_params):\n",
    "        return self\n",
    "\n",
    "    def transform(self, X, y=None, **fit_params):\n",
    "        return X.todense()"
   ]
  },
  {
   "cell_type": "code",
   "execution_count": 8,
   "metadata": {},
   "outputs": [],
   "source": [
    "from time import time \n",
    "\n",
    "def make_pipelines(X_train, y_train,\n",
    "            vectorizer_list=[TfidfVectorizer],\n",
    "            model_list=[LogisticRegression],\n",
    "            vect_kwargs= {\n",
    "                'ngram_range': (1, 2),\n",
    "                'min_df': 5,\n",
    "                'max_df': 0.9,\n",
    "                'max_features': 10000\n",
    "            },\n",
    "            n_jobs=3):\n",
    "    \n",
    "    pipelines = {'vectorizer': [], 'model': [], 'pipeline': []}\n",
    "            \n",
    "    for vect in vectorizer_list:\n",
    "        for clf in model_list:\n",
    "            \n",
    "            clf_name = type(clf()).__name__\n",
    "            \n",
    "            if clf_name == 'LogisticRegression':\n",
    "                clf_kwargs = {'solver': 'lbfgs'}\n",
    "            elif clf_name == 'RandomForestClassifier':\n",
    "                clf_kwargs = {'n_estimators': 1000}\n",
    "            elif clf_name == 'SVC':\n",
    "                clf_kwargs = {'kernel': 'linear', 'C': 0.1}\n",
    "            else:\n",
    "                clf_kwargs = {}                \n",
    "            \n",
    "            time_start = time()\n",
    "            pipe = Pipeline([('vect', vect(**vect_kwargs)), ('clf', clf(**clf_kwargs))])\n",
    "\n",
    "            try:\n",
    "                pipe.fit(X_train, y_train)\n",
    "                \n",
    "            except:\n",
    "                pipe = Pipeline([('vect', vect(**vect_kwargs)),\n",
    "                                 ('todense', DenseTransformer()),\n",
    "                                 ('clf', clf(**clf_kwargs))])\n",
    "                pipe.fit(X_train, y_train)\n",
    "                \n",
    "\n",
    "            \n",
    "            pipelines['vectorizer'].append(type(vect()).__name__)\n",
    "            pipelines['model'].append(type(clf()).__name__)\n",
    "            pipelines['pipeline'].append(pipe)\n",
    "            \n",
    "            print('Finished running {} + {}'.format(type(vect()).__name__, type(clf()).__name__))\n",
    "            print('Time elapsed {}s'.format(time() - time_start))\n",
    "            print()\n",
    "            \n",
    "    return pipelines"
   ]
  },
  {
   "cell_type": "code",
   "execution_count": 9,
   "metadata": {},
   "outputs": [],
   "source": [
    "def test_pipelines(X_test, y_test, pipelines):\n",
    "\n",
    "    results = {\n",
    "        'vectorizer': [],\n",
    "        'model': [],\n",
    "#         'y_pred': [],\n",
    "        'accuracy': [],\n",
    "        'f1_score': [],\n",
    "#         'precision': [],\n",
    "#         'recall': []\n",
    "    }\n",
    "    \n",
    "    for i, row in pd.DataFrame(pipelines).iterrows():\n",
    "        y_pred = row['pipeline'].predict(X_test)\n",
    "        \n",
    "        results['vectorizer'].append(row['vectorizer'])\n",
    "        results['model'].append(row['model'])\n",
    "#         results['y_pred'].append(y_pred)\n",
    "        results['accuracy'].append(accuracy_score(y_test, y_pred))\n",
    "        results['f1_score'].append(f1_score(y_test, y_pred))\n",
    "#         results['precision'].append(precision_score(y_test, y_pred))\n",
    "#         results['recall'].append(recall_score(y_test, y_pred))\n",
    "        \n",
    "    return results"
   ]
  },
  {
   "cell_type": "code",
   "execution_count": null,
   "metadata": {},
   "outputs": [],
   "source": []
  },
  {
   "cell_type": "code",
   "execution_count": 10,
   "metadata": {},
   "outputs": [],
   "source": [
    "X_train_fakebr, X_test_fakebr, y_train_fakebr, y_test_fakebr = \\\n",
    "    train_test_split(df_fakebr['TEXT_CLEAN'], df_fakebr['FAKE'], test_size=0.3, random_state=42)"
   ]
  },
  {
   "cell_type": "code",
   "execution_count": 11,
   "metadata": {},
   "outputs": [],
   "source": [
    "X_train_prime, X_test_prime, y_train_prime, y_test_prime = \\\n",
    "    train_test_split(df_prime['TEXT_CLEAN'], df_prime['FAKE'], test_size=0.3, random_state=42)"
   ]
  },
  {
   "cell_type": "code",
   "execution_count": 12,
   "metadata": {},
   "outputs": [],
   "source": [
    "X_train_all = list(X_train_fakebr) + list(X_train_prime)\n",
    "y_train_all = list(y_train_fakebr) + list(y_train_prime)"
   ]
  },
  {
   "cell_type": "code",
   "execution_count": 13,
   "metadata": {},
   "outputs": [],
   "source": [
    "X_aux = list(X_test_fakebr) + list(X_test_prime)\n",
    "y_aux = list(y_test_fakebr) + list(y_test_prime)\n",
    "src_aux = len(list(y_test_fakebr)) * ['fakebr'] + len(list(y_test_prime)) * ['prime']\n",
    "\n",
    "df_resample = pd.DataFrame({'X': X_aux, 'y': y_aux, 'src': src_aux})\n",
    "rus = RandomUnderSampler()\n",
    "resampled = rus.fit_resample(df_resample[['X', 'y']], df_resample['src'])\n",
    "\n",
    "X_test_all = [item[0] for item in resampled[0]]\n",
    "y_test_all = [item[1] for item in resampled[0]]"
   ]
  },
  {
   "cell_type": "markdown",
   "metadata": {},
   "source": [
    "# Montando os pipelines para o Fake.Br corpus"
   ]
  },
  {
   "cell_type": "code",
   "execution_count": 14,
   "metadata": {
    "scrolled": true
   },
   "outputs": [
    {
     "name": "stdout",
     "output_type": "stream",
     "text": [
      "Finished running CountVectorizer + GaussianNB\n",
      "Time elapsed 3.048135757446289s\n",
      "\n",
      "Finished running CountVectorizer + LogisticRegression\n",
      "Time elapsed 1.3238298892974854s\n",
      "\n",
      "Finished running CountVectorizer + RandomForestClassifier\n",
      "Time elapsed 15.843529462814331s\n",
      "\n",
      "Finished running CountVectorizer + SVC\n",
      "Time elapsed 4.3408522605896s\n",
      "\n",
      "Finished running TfidfVectorizer + GaussianNB\n",
      "Time elapsed 3.0571601390838623s\n",
      "\n",
      "Finished running TfidfVectorizer + LogisticRegression\n",
      "Time elapsed 1.2846944332122803s\n",
      "\n",
      "Finished running TfidfVectorizer + RandomForestClassifier\n",
      "Time elapsed 16.31509280204773s\n",
      "\n",
      "Finished running TfidfVectorizer + SVC\n",
      "Time elapsed 7.7526161670684814s\n",
      "\n"
     ]
    }
   ],
   "source": [
    "pipelines_fakebr = make_pipelines(X_train_fakebr, y_train_fakebr, vectorizer_list, model_list)"
   ]
  },
  {
   "cell_type": "markdown",
   "metadata": {},
   "source": [
    "### Teste com o próprio conjunto de teste"
   ]
  },
  {
   "cell_type": "code",
   "execution_count": 15,
   "metadata": {},
   "outputs": [
    {
     "data": {
      "text/html": [
       "<div>\n",
       "<style scoped>\n",
       "    .dataframe tbody tr th:only-of-type {\n",
       "        vertical-align: middle;\n",
       "    }\n",
       "\n",
       "    .dataframe tbody tr th {\n",
       "        vertical-align: top;\n",
       "    }\n",
       "\n",
       "    .dataframe thead th {\n",
       "        text-align: right;\n",
       "    }\n",
       "</style>\n",
       "<table border=\"1\" class=\"dataframe\">\n",
       "  <thead>\n",
       "    <tr style=\"text-align: right;\">\n",
       "      <th></th>\n",
       "      <th>vectorizer</th>\n",
       "      <th>model</th>\n",
       "      <th>accuracy</th>\n",
       "      <th>f1_score</th>\n",
       "    </tr>\n",
       "  </thead>\n",
       "  <tbody>\n",
       "    <tr>\n",
       "      <th>0</th>\n",
       "      <td>CountVectorizer</td>\n",
       "      <td>GaussianNB</td>\n",
       "      <td>0.802233</td>\n",
       "      <td>0.813814</td>\n",
       "    </tr>\n",
       "    <tr>\n",
       "      <th>1</th>\n",
       "      <td>CountVectorizer</td>\n",
       "      <td>LogisticRegression</td>\n",
       "      <td>0.880383</td>\n",
       "      <td>0.884793</td>\n",
       "    </tr>\n",
       "    <tr>\n",
       "      <th>2</th>\n",
       "      <td>CountVectorizer</td>\n",
       "      <td>RandomForestClassifier</td>\n",
       "      <td>0.860447</td>\n",
       "      <td>0.866106</td>\n",
       "    </tr>\n",
       "    <tr>\n",
       "      <th>3</th>\n",
       "      <td>CountVectorizer</td>\n",
       "      <td>SVC</td>\n",
       "      <td>0.870813</td>\n",
       "      <td>0.875385</td>\n",
       "    </tr>\n",
       "    <tr>\n",
       "      <th>4</th>\n",
       "      <td>TfidfVectorizer</td>\n",
       "      <td>GaussianNB</td>\n",
       "      <td>0.794258</td>\n",
       "      <td>0.800926</td>\n",
       "    </tr>\n",
       "    <tr>\n",
       "      <th>5</th>\n",
       "      <td>TfidfVectorizer</td>\n",
       "      <td>LogisticRegression</td>\n",
       "      <td>0.881180</td>\n",
       "      <td>0.885824</td>\n",
       "    </tr>\n",
       "    <tr>\n",
       "      <th>6</th>\n",
       "      <td>TfidfVectorizer</td>\n",
       "      <td>RandomForestClassifier</td>\n",
       "      <td>0.855662</td>\n",
       "      <td>0.861727</td>\n",
       "    </tr>\n",
       "    <tr>\n",
       "      <th>7</th>\n",
       "      <td>TfidfVectorizer</td>\n",
       "      <td>SVC</td>\n",
       "      <td>0.855662</td>\n",
       "      <td>0.866814</td>\n",
       "    </tr>\n",
       "  </tbody>\n",
       "</table>\n",
       "</div>"
      ],
      "text/plain": [
       "        vectorizer                   model  accuracy  f1_score\n",
       "0  CountVectorizer              GaussianNB  0.802233  0.813814\n",
       "1  CountVectorizer      LogisticRegression  0.880383  0.884793\n",
       "2  CountVectorizer  RandomForestClassifier  0.860447  0.866106\n",
       "3  CountVectorizer                     SVC  0.870813  0.875385\n",
       "4  TfidfVectorizer              GaussianNB  0.794258  0.800926\n",
       "5  TfidfVectorizer      LogisticRegression  0.881180  0.885824\n",
       "6  TfidfVectorizer  RandomForestClassifier  0.855662  0.861727\n",
       "7  TfidfVectorizer                     SVC  0.855662  0.866814"
      ]
     },
     "execution_count": 15,
     "metadata": {},
     "output_type": "execute_result"
    }
   ],
   "source": [
    "aux = test_pipelines(X_test_fakebr, y_test_fakebr, pipelines_fakebr)\n",
    "pd.DataFrame(aux)"
   ]
  },
  {
   "cell_type": "markdown",
   "metadata": {},
   "source": [
    "### Teste com o conjunto geral"
   ]
  },
  {
   "cell_type": "code",
   "execution_count": 16,
   "metadata": {},
   "outputs": [
    {
     "data": {
      "text/html": [
       "<div>\n",
       "<style scoped>\n",
       "    .dataframe tbody tr th:only-of-type {\n",
       "        vertical-align: middle;\n",
       "    }\n",
       "\n",
       "    .dataframe tbody tr th {\n",
       "        vertical-align: top;\n",
       "    }\n",
       "\n",
       "    .dataframe thead th {\n",
       "        text-align: right;\n",
       "    }\n",
       "</style>\n",
       "<table border=\"1\" class=\"dataframe\">\n",
       "  <thead>\n",
       "    <tr style=\"text-align: right;\">\n",
       "      <th></th>\n",
       "      <th>vectorizer</th>\n",
       "      <th>model</th>\n",
       "      <th>accuracy</th>\n",
       "      <th>f1_score</th>\n",
       "    </tr>\n",
       "  </thead>\n",
       "  <tbody>\n",
       "    <tr>\n",
       "      <th>0</th>\n",
       "      <td>CountVectorizer</td>\n",
       "      <td>GaussianNB</td>\n",
       "      <td>0.742547</td>\n",
       "      <td>0.750656</td>\n",
       "    </tr>\n",
       "    <tr>\n",
       "      <th>1</th>\n",
       "      <td>CountVectorizer</td>\n",
       "      <td>LogisticRegression</td>\n",
       "      <td>0.838753</td>\n",
       "      <td>0.836314</td>\n",
       "    </tr>\n",
       "    <tr>\n",
       "      <th>2</th>\n",
       "      <td>CountVectorizer</td>\n",
       "      <td>RandomForestClassifier</td>\n",
       "      <td>0.846883</td>\n",
       "      <td>0.850331</td>\n",
       "    </tr>\n",
       "    <tr>\n",
       "      <th>3</th>\n",
       "      <td>CountVectorizer</td>\n",
       "      <td>SVC</td>\n",
       "      <td>0.822493</td>\n",
       "      <td>0.822252</td>\n",
       "    </tr>\n",
       "    <tr>\n",
       "      <th>4</th>\n",
       "      <td>TfidfVectorizer</td>\n",
       "      <td>GaussianNB</td>\n",
       "      <td>0.726287</td>\n",
       "      <td>0.727763</td>\n",
       "    </tr>\n",
       "    <tr>\n",
       "      <th>5</th>\n",
       "      <td>TfidfVectorizer</td>\n",
       "      <td>LogisticRegression</td>\n",
       "      <td>0.861789</td>\n",
       "      <td>0.862903</td>\n",
       "    </tr>\n",
       "    <tr>\n",
       "      <th>6</th>\n",
       "      <td>TfidfVectorizer</td>\n",
       "      <td>RandomForestClassifier</td>\n",
       "      <td>0.837398</td>\n",
       "      <td>0.840426</td>\n",
       "    </tr>\n",
       "    <tr>\n",
       "      <th>7</th>\n",
       "      <td>TfidfVectorizer</td>\n",
       "      <td>SVC</td>\n",
       "      <td>0.833333</td>\n",
       "      <td>0.844501</td>\n",
       "    </tr>\n",
       "  </tbody>\n",
       "</table>\n",
       "</div>"
      ],
      "text/plain": [
       "        vectorizer                   model  accuracy  f1_score\n",
       "0  CountVectorizer              GaussianNB  0.742547  0.750656\n",
       "1  CountVectorizer      LogisticRegression  0.838753  0.836314\n",
       "2  CountVectorizer  RandomForestClassifier  0.846883  0.850331\n",
       "3  CountVectorizer                     SVC  0.822493  0.822252\n",
       "4  TfidfVectorizer              GaussianNB  0.726287  0.727763\n",
       "5  TfidfVectorizer      LogisticRegression  0.861789  0.862903\n",
       "6  TfidfVectorizer  RandomForestClassifier  0.837398  0.840426\n",
       "7  TfidfVectorizer                     SVC  0.833333  0.844501"
      ]
     },
     "execution_count": 16,
     "metadata": {},
     "output_type": "execute_result"
    }
   ],
   "source": [
    "aux = test_pipelines(X_test_all, y_test_all, pipelines_fakebr)\n",
    "pd.DataFrame(aux)"
   ]
  },
  {
   "cell_type": "code",
   "execution_count": null,
   "metadata": {},
   "outputs": [],
   "source": []
  },
  {
   "cell_type": "code",
   "execution_count": null,
   "metadata": {},
   "outputs": [],
   "source": []
  },
  {
   "cell_type": "markdown",
   "metadata": {},
   "source": [
    "# Montando os pipelines para o conjunto primário"
   ]
  },
  {
   "cell_type": "code",
   "execution_count": 17,
   "metadata": {
    "scrolled": true
   },
   "outputs": [
    {
     "name": "stdout",
     "output_type": "stream",
     "text": [
      "Finished running CountVectorizer + GaussianNB\n",
      "Time elapsed 0.8237624168395996s\n",
      "\n",
      "Finished running CountVectorizer + LogisticRegression\n",
      "Time elapsed 0.4497408866882324s\n",
      "\n",
      "Finished running CountVectorizer + RandomForestClassifier\n",
      "Time elapsed 2.944206476211548s\n",
      "\n",
      "Finished running CountVectorizer + SVC\n",
      "Time elapsed 0.6370797157287598s\n",
      "\n",
      "Finished running TfidfVectorizer + GaussianNB\n",
      "Time elapsed 0.9766843318939209s\n",
      "\n",
      "Finished running TfidfVectorizer + LogisticRegression\n",
      "Time elapsed 0.4059126377105713s\n",
      "\n",
      "Finished running TfidfVectorizer + RandomForestClassifier\n",
      "Time elapsed 3.0864310264587402s\n",
      "\n",
      "Finished running TfidfVectorizer + SVC\n",
      "Time elapsed 0.9278669357299805s\n",
      "\n"
     ]
    }
   ],
   "source": [
    "pipelines_prime = make_pipelines(X_train_prime, y_train_prime, vectorizer_list, model_list)"
   ]
  },
  {
   "cell_type": "markdown",
   "metadata": {},
   "source": [
    "### Teste com o próprio conjunto de teste"
   ]
  },
  {
   "cell_type": "code",
   "execution_count": 18,
   "metadata": {
    "scrolled": true
   },
   "outputs": [
    {
     "data": {
      "text/html": [
       "<div>\n",
       "<style scoped>\n",
       "    .dataframe tbody tr th:only-of-type {\n",
       "        vertical-align: middle;\n",
       "    }\n",
       "\n",
       "    .dataframe tbody tr th {\n",
       "        vertical-align: top;\n",
       "    }\n",
       "\n",
       "    .dataframe thead th {\n",
       "        text-align: right;\n",
       "    }\n",
       "</style>\n",
       "<table border=\"1\" class=\"dataframe\">\n",
       "  <thead>\n",
       "    <tr style=\"text-align: right;\">\n",
       "      <th></th>\n",
       "      <th>vectorizer</th>\n",
       "      <th>model</th>\n",
       "      <th>accuracy</th>\n",
       "      <th>f1_score</th>\n",
       "    </tr>\n",
       "  </thead>\n",
       "  <tbody>\n",
       "    <tr>\n",
       "      <th>0</th>\n",
       "      <td>CountVectorizer</td>\n",
       "      <td>GaussianNB</td>\n",
       "      <td>0.799458</td>\n",
       "      <td>0.771605</td>\n",
       "    </tr>\n",
       "    <tr>\n",
       "      <th>1</th>\n",
       "      <td>CountVectorizer</td>\n",
       "      <td>LogisticRegression</td>\n",
       "      <td>0.915989</td>\n",
       "      <td>0.917333</td>\n",
       "    </tr>\n",
       "    <tr>\n",
       "      <th>2</th>\n",
       "      <td>CountVectorizer</td>\n",
       "      <td>RandomForestClassifier</td>\n",
       "      <td>0.888889</td>\n",
       "      <td>0.883853</td>\n",
       "    </tr>\n",
       "    <tr>\n",
       "      <th>3</th>\n",
       "      <td>CountVectorizer</td>\n",
       "      <td>SVC</td>\n",
       "      <td>0.905149</td>\n",
       "      <td>0.906166</td>\n",
       "    </tr>\n",
       "    <tr>\n",
       "      <th>4</th>\n",
       "      <td>TfidfVectorizer</td>\n",
       "      <td>GaussianNB</td>\n",
       "      <td>0.769648</td>\n",
       "      <td>0.728435</td>\n",
       "    </tr>\n",
       "    <tr>\n",
       "      <th>5</th>\n",
       "      <td>TfidfVectorizer</td>\n",
       "      <td>LogisticRegression</td>\n",
       "      <td>0.899729</td>\n",
       "      <td>0.898072</td>\n",
       "    </tr>\n",
       "    <tr>\n",
       "      <th>6</th>\n",
       "      <td>TfidfVectorizer</td>\n",
       "      <td>RandomForestClassifier</td>\n",
       "      <td>0.886179</td>\n",
       "      <td>0.881356</td>\n",
       "    </tr>\n",
       "    <tr>\n",
       "      <th>7</th>\n",
       "      <td>TfidfVectorizer</td>\n",
       "      <td>SVC</td>\n",
       "      <td>0.891599</td>\n",
       "      <td>0.888889</td>\n",
       "    </tr>\n",
       "  </tbody>\n",
       "</table>\n",
       "</div>"
      ],
      "text/plain": [
       "        vectorizer                   model  accuracy  f1_score\n",
       "0  CountVectorizer              GaussianNB  0.799458  0.771605\n",
       "1  CountVectorizer      LogisticRegression  0.915989  0.917333\n",
       "2  CountVectorizer  RandomForestClassifier  0.888889  0.883853\n",
       "3  CountVectorizer                     SVC  0.905149  0.906166\n",
       "4  TfidfVectorizer              GaussianNB  0.769648  0.728435\n",
       "5  TfidfVectorizer      LogisticRegression  0.899729  0.898072\n",
       "6  TfidfVectorizer  RandomForestClassifier  0.886179  0.881356\n",
       "7  TfidfVectorizer                     SVC  0.891599  0.888889"
      ]
     },
     "execution_count": 18,
     "metadata": {},
     "output_type": "execute_result"
    }
   ],
   "source": [
    "aux = test_pipelines(X_test_prime, y_test_prime, pipelines_prime)\n",
    "pd.DataFrame(aux)"
   ]
  },
  {
   "cell_type": "markdown",
   "metadata": {},
   "source": [
    "### Teste com o conjunto geral"
   ]
  },
  {
   "cell_type": "code",
   "execution_count": 19,
   "metadata": {},
   "outputs": [
    {
     "data": {
      "text/html": [
       "<div>\n",
       "<style scoped>\n",
       "    .dataframe tbody tr th:only-of-type {\n",
       "        vertical-align: middle;\n",
       "    }\n",
       "\n",
       "    .dataframe tbody tr th {\n",
       "        vertical-align: top;\n",
       "    }\n",
       "\n",
       "    .dataframe thead th {\n",
       "        text-align: right;\n",
       "    }\n",
       "</style>\n",
       "<table border=\"1\" class=\"dataframe\">\n",
       "  <thead>\n",
       "    <tr style=\"text-align: right;\">\n",
       "      <th></th>\n",
       "      <th>vectorizer</th>\n",
       "      <th>model</th>\n",
       "      <th>accuracy</th>\n",
       "      <th>f1_score</th>\n",
       "    </tr>\n",
       "  </thead>\n",
       "  <tbody>\n",
       "    <tr>\n",
       "      <th>0</th>\n",
       "      <td>CountVectorizer</td>\n",
       "      <td>GaussianNB</td>\n",
       "      <td>0.714092</td>\n",
       "      <td>0.659128</td>\n",
       "    </tr>\n",
       "    <tr>\n",
       "      <th>1</th>\n",
       "      <td>CountVectorizer</td>\n",
       "      <td>LogisticRegression</td>\n",
       "      <td>0.800813</td>\n",
       "      <td>0.807843</td>\n",
       "    </tr>\n",
       "    <tr>\n",
       "      <th>2</th>\n",
       "      <td>CountVectorizer</td>\n",
       "      <td>RandomForestClassifier</td>\n",
       "      <td>0.785908</td>\n",
       "      <td>0.783562</td>\n",
       "    </tr>\n",
       "    <tr>\n",
       "      <th>3</th>\n",
       "      <td>CountVectorizer</td>\n",
       "      <td>SVC</td>\n",
       "      <td>0.791328</td>\n",
       "      <td>0.800000</td>\n",
       "    </tr>\n",
       "    <tr>\n",
       "      <th>4</th>\n",
       "      <td>TfidfVectorizer</td>\n",
       "      <td>GaussianNB</td>\n",
       "      <td>0.708672</td>\n",
       "      <td>0.638655</td>\n",
       "    </tr>\n",
       "    <tr>\n",
       "      <th>5</th>\n",
       "      <td>TfidfVectorizer</td>\n",
       "      <td>LogisticRegression</td>\n",
       "      <td>0.810298</td>\n",
       "      <td>0.807163</td>\n",
       "    </tr>\n",
       "    <tr>\n",
       "      <th>6</th>\n",
       "      <td>TfidfVectorizer</td>\n",
       "      <td>RandomForestClassifier</td>\n",
       "      <td>0.791328</td>\n",
       "      <td>0.785515</td>\n",
       "    </tr>\n",
       "    <tr>\n",
       "      <th>7</th>\n",
       "      <td>TfidfVectorizer</td>\n",
       "      <td>SVC</td>\n",
       "      <td>0.798103</td>\n",
       "      <td>0.784993</td>\n",
       "    </tr>\n",
       "  </tbody>\n",
       "</table>\n",
       "</div>"
      ],
      "text/plain": [
       "        vectorizer                   model  accuracy  f1_score\n",
       "0  CountVectorizer              GaussianNB  0.714092  0.659128\n",
       "1  CountVectorizer      LogisticRegression  0.800813  0.807843\n",
       "2  CountVectorizer  RandomForestClassifier  0.785908  0.783562\n",
       "3  CountVectorizer                     SVC  0.791328  0.800000\n",
       "4  TfidfVectorizer              GaussianNB  0.708672  0.638655\n",
       "5  TfidfVectorizer      LogisticRegression  0.810298  0.807163\n",
       "6  TfidfVectorizer  RandomForestClassifier  0.791328  0.785515\n",
       "7  TfidfVectorizer                     SVC  0.798103  0.784993"
      ]
     },
     "execution_count": 19,
     "metadata": {},
     "output_type": "execute_result"
    }
   ],
   "source": [
    "aux = test_pipelines(X_test_all, y_test_all, pipelines_prime)\n",
    "pd.DataFrame(aux)"
   ]
  },
  {
   "cell_type": "code",
   "execution_count": null,
   "metadata": {},
   "outputs": [],
   "source": []
  },
  {
   "cell_type": "code",
   "execution_count": null,
   "metadata": {},
   "outputs": [],
   "source": []
  },
  {
   "cell_type": "markdown",
   "metadata": {},
   "source": [
    "# Montando os pipelines com ambos os conjuntos"
   ]
  },
  {
   "cell_type": "code",
   "execution_count": 20,
   "metadata": {
    "scrolled": true
   },
   "outputs": [
    {
     "name": "stdout",
     "output_type": "stream",
     "text": [
      "Finished running CountVectorizer + GaussianNB\n",
      "Time elapsed 4.306814193725586s\n",
      "\n",
      "Finished running CountVectorizer + LogisticRegression\n",
      "Time elapsed 1.758148431777954s\n",
      "\n",
      "Finished running CountVectorizer + RandomForestClassifier\n",
      "Time elapsed 23.827953338623047s\n",
      "\n",
      "Finished running CountVectorizer + SVC\n",
      "Time elapsed 6.686055660247803s\n",
      "\n",
      "Finished running TfidfVectorizer + GaussianNB\n",
      "Time elapsed 4.261123895645142s\n",
      "\n",
      "Finished running TfidfVectorizer + LogisticRegression\n",
      "Time elapsed 1.6262803077697754s\n",
      "\n",
      "Finished running TfidfVectorizer + RandomForestClassifier\n",
      "Time elapsed 24.30170774459839s\n",
      "\n",
      "Finished running TfidfVectorizer + SVC\n",
      "Time elapsed 13.58487319946289s\n",
      "\n"
     ]
    }
   ],
   "source": [
    "pipelines_all = make_pipelines(X_train_all, y_train_all, vectorizer_list, model_list)"
   ]
  },
  {
   "cell_type": "markdown",
   "metadata": {},
   "source": [
    "### Teste com o conjunto geral"
   ]
  },
  {
   "cell_type": "code",
   "execution_count": 21,
   "metadata": {},
   "outputs": [
    {
     "data": {
      "text/html": [
       "<div>\n",
       "<style scoped>\n",
       "    .dataframe tbody tr th:only-of-type {\n",
       "        vertical-align: middle;\n",
       "    }\n",
       "\n",
       "    .dataframe tbody tr th {\n",
       "        vertical-align: top;\n",
       "    }\n",
       "\n",
       "    .dataframe thead th {\n",
       "        text-align: right;\n",
       "    }\n",
       "</style>\n",
       "<table border=\"1\" class=\"dataframe\">\n",
       "  <thead>\n",
       "    <tr style=\"text-align: right;\">\n",
       "      <th></th>\n",
       "      <th>vectorizer</th>\n",
       "      <th>model</th>\n",
       "      <th>accuracy</th>\n",
       "      <th>f1_score</th>\n",
       "    </tr>\n",
       "  </thead>\n",
       "  <tbody>\n",
       "    <tr>\n",
       "      <th>0</th>\n",
       "      <td>CountVectorizer</td>\n",
       "      <td>GaussianNB</td>\n",
       "      <td>0.822493</td>\n",
       "      <td>0.829205</td>\n",
       "    </tr>\n",
       "    <tr>\n",
       "      <th>1</th>\n",
       "      <td>CountVectorizer</td>\n",
       "      <td>LogisticRegression</td>\n",
       "      <td>0.897019</td>\n",
       "      <td>0.897297</td>\n",
       "    </tr>\n",
       "    <tr>\n",
       "      <th>2</th>\n",
       "      <td>CountVectorizer</td>\n",
       "      <td>RandomForestClassifier</td>\n",
       "      <td>0.850949</td>\n",
       "      <td>0.848485</td>\n",
       "    </tr>\n",
       "    <tr>\n",
       "      <th>3</th>\n",
       "      <td>CountVectorizer</td>\n",
       "      <td>SVC</td>\n",
       "      <td>0.892954</td>\n",
       "      <td>0.894244</td>\n",
       "    </tr>\n",
       "    <tr>\n",
       "      <th>4</th>\n",
       "      <td>TfidfVectorizer</td>\n",
       "      <td>GaussianNB</td>\n",
       "      <td>0.815718</td>\n",
       "      <td>0.814208</td>\n",
       "    </tr>\n",
       "    <tr>\n",
       "      <th>5</th>\n",
       "      <td>TfidfVectorizer</td>\n",
       "      <td>LogisticRegression</td>\n",
       "      <td>0.898374</td>\n",
       "      <td>0.898236</td>\n",
       "    </tr>\n",
       "    <tr>\n",
       "      <th>6</th>\n",
       "      <td>TfidfVectorizer</td>\n",
       "      <td>RandomForestClassifier</td>\n",
       "      <td>0.857724</td>\n",
       "      <td>0.856753</td>\n",
       "    </tr>\n",
       "    <tr>\n",
       "      <th>7</th>\n",
       "      <td>TfidfVectorizer</td>\n",
       "      <td>SVC</td>\n",
       "      <td>0.898374</td>\n",
       "      <td>0.900398</td>\n",
       "    </tr>\n",
       "  </tbody>\n",
       "</table>\n",
       "</div>"
      ],
      "text/plain": [
       "        vectorizer                   model  accuracy  f1_score\n",
       "0  CountVectorizer              GaussianNB  0.822493  0.829205\n",
       "1  CountVectorizer      LogisticRegression  0.897019  0.897297\n",
       "2  CountVectorizer  RandomForestClassifier  0.850949  0.848485\n",
       "3  CountVectorizer                     SVC  0.892954  0.894244\n",
       "4  TfidfVectorizer              GaussianNB  0.815718  0.814208\n",
       "5  TfidfVectorizer      LogisticRegression  0.898374  0.898236\n",
       "6  TfidfVectorizer  RandomForestClassifier  0.857724  0.856753\n",
       "7  TfidfVectorizer                     SVC  0.898374  0.900398"
      ]
     },
     "execution_count": 21,
     "metadata": {},
     "output_type": "execute_result"
    }
   ],
   "source": [
    "aux = test_pipelines(X_test_all, y_test_all, pipelines_all)\n",
    "pd.DataFrame(aux)"
   ]
  },
  {
   "cell_type": "code",
   "execution_count": null,
   "metadata": {},
   "outputs": [],
   "source": []
  },
  {
   "cell_type": "code",
   "execution_count": 42,
   "metadata": {},
   "outputs": [],
   "source": []
  },
  {
   "cell_type": "code",
   "execution_count": null,
   "metadata": {},
   "outputs": [],
   "source": []
  },
  {
   "cell_type": "code",
   "execution_count": null,
   "metadata": {},
   "outputs": [],
   "source": []
  },
  {
   "cell_type": "code",
   "execution_count": null,
   "metadata": {},
   "outputs": [],
   "source": []
  },
  {
   "cell_type": "code",
   "execution_count": null,
   "metadata": {},
   "outputs": [],
   "source": []
  },
  {
   "cell_type": "code",
   "execution_count": null,
   "metadata": {},
   "outputs": [],
   "source": []
  },
  {
   "cell_type": "code",
   "execution_count": null,
   "metadata": {},
   "outputs": [],
   "source": []
  },
  {
   "cell_type": "code",
   "execution_count": null,
   "metadata": {},
   "outputs": [],
   "source": []
  },
  {
   "cell_type": "code",
   "execution_count": null,
   "metadata": {},
   "outputs": [],
   "source": []
  }
 ],
 "metadata": {
  "kernelspec": {
   "display_name": "Python 3",
   "language": "python",
   "name": "python3"
  },
  "language_info": {
   "codemirror_mode": {
    "name": "ipython",
    "version": 3
   },
   "file_extension": ".py",
   "mimetype": "text/x-python",
   "name": "python",
   "nbconvert_exporter": "python",
   "pygments_lexer": "ipython3",
   "version": "3.7.3"
  }
 },
 "nbformat": 4,
 "nbformat_minor": 2
}
