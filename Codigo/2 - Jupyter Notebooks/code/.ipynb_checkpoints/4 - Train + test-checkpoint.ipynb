{
 "cells": [
  {
   "cell_type": "code",
   "execution_count": 1,
   "metadata": {},
   "outputs": [],
   "source": [
    "import pickle as pkl\n",
    "import seaborn as sns\n",
    "import matplotlib.pyplot as plt\n",
    "import re\n",
    "import pandas as pd\n",
    "import numpy as np\n",
    "import os\n",
    "import seaborn as sns\n",
    "import matplotlib.pyplot as plt\n",
    "import math\n",
    "\n",
    "from tqdm import tqdm_notebook\n",
    "from collections import Counter\n",
    "from glob import glob\n",
    "from unidecode import unidecode\n",
    "from nltk.corpus import stopwords\n",
    "from datetime import datetime\n",
    "\n",
    "import utils\n",
    "\n",
    "%matplotlib inline\n",
    "\n",
    "sns.set(style=\"darkgrid\")"
   ]
  },
  {
   "cell_type": "code",
   "execution_count": 2,
   "metadata": {},
   "outputs": [],
   "source": [
    "PATH = '../'\n",
    "\n",
    "PROCESSED_DATA_PATH = os.path.join(PATH, 'data/processed/')\n",
    "\n",
    "DF_PRIME_TRUNCATED_PATH = os.path.join(PROCESSED_DATA_PATH, 'df_prime_truncated.pkl')\n",
    "DF_USP_TRUNCATED_PATH = os.path.join(PROCESSED_DATA_PATH, 'df_usp_truncated_clean.pkl')\n",
    "\n",
    "\n",
    "STOPWORDS = utils.get_stopwords()"
   ]
  },
  {
   "cell_type": "code",
   "execution_count": 3,
   "metadata": {},
   "outputs": [],
   "source": [
    "df_prime = pkl.load(open(DF_PRIME_TRUNCATED_PATH, 'rb'))\n",
    "\n",
    "df_fakebr = pkl.load(open(DF_USP_TRUNCATED_PATH, 'rb'))"
   ]
  },
  {
   "cell_type": "code",
   "execution_count": 4,
   "metadata": {},
   "outputs": [],
   "source": [
    "from imblearn.under_sampling import RandomUnderSampler\n",
    "\n",
    "from sklearn.feature_extraction.text import CountVectorizer, TfidfVectorizer\n",
    "from sklearn.model_selection import cross_val_score, train_test_split\n",
    "from sklearn.metrics import accuracy_score, f1_score, recall_score, precision_score, confusion_matrix, classification_report\n",
    "\n",
    "from sklearn.linear_model import LogisticRegression\n",
    "from sklearn.ensemble import RandomForestClassifier\n",
    "from sklearn.naive_bayes import GaussianNB\n",
    "from sklearn.svm import SVC\n",
    "from sklearn.svm import LinearSVC\n",
    "\n",
    "from sklearn.calibration import CalibratedClassifierCV\n",
    "\n",
    "from sklearn.pipeline import Pipeline"
   ]
  },
  {
   "cell_type": "code",
   "execution_count": 5,
   "metadata": {},
   "outputs": [],
   "source": [
    "vectorizer_list = [\n",
    "    CountVectorizer,\n",
    "    TfidfVectorizer\n",
    "]\n",
    "\n",
    "vect_kwargs = {\n",
    "    'ngram_range': (1, 2),\n",
    "#     'min_df': 5,\n",
    "#     'max_df': 0.9,\n",
    "    'max_features': 10000\n",
    "}\n",
    "\n",
    "\n",
    "model_list = [\n",
    "    GaussianNB,\n",
    "    LogisticRegression,\n",
    "    RandomForestClassifier,\n",
    "    SVC\n",
    "]\n",
    "\n"
   ]
  },
  {
   "cell_type": "code",
   "execution_count": 6,
   "metadata": {},
   "outputs": [
    {
     "name": "stdout",
     "output_type": "stream",
     "text": [
      "GaussianNB\n",
      "LogisticRegression\n",
      "RandomForestClassifier\n",
      "SVC\n"
     ]
    }
   ],
   "source": [
    "for clf in model_list:\n",
    "    print(type(clf()).__name__)"
   ]
  },
  {
   "cell_type": "code",
   "execution_count": 7,
   "metadata": {},
   "outputs": [],
   "source": [
    "from sklearn.base import TransformerMixin\n",
    "class DenseTransformer(TransformerMixin):\n",
    "\n",
    "    def fit(self, X, y=None, **fit_params):\n",
    "        return self\n",
    "\n",
    "    def transform(self, X, y=None, **fit_params):\n",
    "        return X.todense()"
   ]
  },
  {
   "cell_type": "code",
   "execution_count": 8,
   "metadata": {},
   "outputs": [],
   "source": [
    "from time import time \n",
    "\n",
    "def make_pipelines(X_train, y_train,\n",
    "            vectorizer_list=[TfidfVectorizer],\n",
    "            model_list=[LogisticRegression],\n",
    "            vect_kwargs= {\n",
    "                'ngram_range': (1, 2),\n",
    "                'min_df': 5,\n",
    "                'max_df': 0.9,\n",
    "                'max_features': 10000\n",
    "            },\n",
    "            n_jobs=3):\n",
    "    \n",
    "    pipelines = {'vectorizer': [], 'model': [], 'pipeline': []}\n",
    "            \n",
    "    for vect in vectorizer_list:\n",
    "        for clf in model_list:\n",
    "            \n",
    "            clf_name = type(clf()).__name__\n",
    "            \n",
    "            if clf_name == 'LogisticRegression':\n",
    "                clf_kwargs = {'solver': 'lbfgs'}\n",
    "            elif clf_name == 'RandomForestClassifier':\n",
    "                clf_kwargs = {'n_estimators': 1000}\n",
    "            elif clf_name == 'SVC':\n",
    "                clf_kwargs = {'kernel': 'linear', 'C': 0.1}\n",
    "            else:\n",
    "                clf_kwargs = {}                \n",
    "            \n",
    "            time_start = time()\n",
    "            pipe = Pipeline([('vect', vect(**vect_kwargs)), ('clf', clf(**clf_kwargs))])\n",
    "\n",
    "            try:\n",
    "                pipe.fit(X_train, y_train)\n",
    "                \n",
    "            except:\n",
    "                pipe = Pipeline([('vect', vect(**vect_kwargs)),\n",
    "                                 ('todense', DenseTransformer()),\n",
    "                                 ('clf', clf(**clf_kwargs))])\n",
    "                pipe.fit(X_train, y_train)\n",
    "                \n",
    "\n",
    "            \n",
    "            pipelines['vectorizer'].append(type(vect()).__name__)\n",
    "            pipelines['model'].append(type(clf()).__name__)\n",
    "            pipelines['pipeline'].append(pipe)\n",
    "            \n",
    "            print('Finished running {} + {}'.format(type(vect()).__name__, type(clf()).__name__))\n",
    "            print('Time elapsed {}s'.format(time() - time_start))\n",
    "            print()\n",
    "            \n",
    "    return pipelines"
   ]
  },
  {
   "cell_type": "code",
   "execution_count": 9,
   "metadata": {},
   "outputs": [],
   "source": [
    "def test_pipelines(X_test, y_test, pipelines):\n",
    "\n",
    "    results = {\n",
    "        'vectorizer': [],\n",
    "        'model': [],\n",
    "#         'y_pred': [],\n",
    "        'accuracy': [],\n",
    "        'f1_score': [],\n",
    "#         'precision': [],\n",
    "#         'recall': []\n",
    "    }\n",
    "    \n",
    "    for i, row in pd.DataFrame(pipelines).iterrows():\n",
    "        y_pred = row['pipeline'].predict(X_test)\n",
    "        \n",
    "        results['vectorizer'].append(row['vectorizer'])\n",
    "        results['model'].append(row['model'])\n",
    "#         results['y_pred'].append(y_pred)\n",
    "        results['accuracy'].append(accuracy_score(y_test, y_pred))\n",
    "        results['f1_score'].append(f1_score(y_test, y_pred))\n",
    "#         results['precision'].append(precision_score(y_test, y_pred))\n",
    "#         results['recall'].append(recall_score(y_test, y_pred))\n",
    "        \n",
    "    return results"
   ]
  },
  {
   "cell_type": "code",
   "execution_count": null,
   "metadata": {},
   "outputs": [],
   "source": []
  },
  {
   "cell_type": "code",
   "execution_count": 10,
   "metadata": {},
   "outputs": [],
   "source": [
    "X_train_fakebr, X_test_fakebr, y_train_fakebr, y_test_fakebr = \\\n",
    "    train_test_split(df_fakebr['TEXT_CLEAN'], df_fakebr['FAKE'], test_size=0.3)"
   ]
  },
  {
   "cell_type": "code",
   "execution_count": 11,
   "metadata": {},
   "outputs": [],
   "source": [
    "X_train_prime, X_test_prime, y_train_prime, y_test_prime = \\\n",
    "    train_test_split(df_prime['TEXT_CLEAN'], df_prime['FAKE'], test_size=0.3)"
   ]
  },
  {
   "cell_type": "code",
   "execution_count": 26,
   "metadata": {},
   "outputs": [
    {
     "data": {
      "text/plain": [
       "(1254, 369, 1623)"
      ]
     },
     "execution_count": 26,
     "metadata": {},
     "output_type": "execute_result"
    }
   ],
   "source": [
    "len(y_test_fakebr), len(y_test_prime), (1254+ 369)"
   ]
  },
  {
   "cell_type": "code",
   "execution_count": 12,
   "metadata": {},
   "outputs": [],
   "source": [
    "X_aux = list(X_test_fakebr) + list(X_test_prime)\n",
    "y_aux = list(y_test_fakebr) + list(y_test_prime)\n",
    "src_aux = len(list(y_test_fakebr)) * ['fakebr'] + len(list(y_test_prime)) * ['prime']\n",
    "\n",
    "df_resample = pd.DataFrame({'X': X_aux, 'y': y_aux, 'src': src_aux})\n",
    "rus = RandomUnderSampler()\n",
    "resampled = rus.fit_resample(df_resample[['X', 'y']], df_resample['src'])\n",
    "\n",
    "X_test_all = [item[0] for item in resampled[0]]\n",
    "y_test_all = [item[1] for item in resampled[0]]"
   ]
  },
  {
   "cell_type": "markdown",
   "metadata": {},
   "source": [
    "# Montando os pipelines para o Fake.Br corpus"
   ]
  },
  {
   "cell_type": "code",
   "execution_count": 13,
   "metadata": {
    "scrolled": true
   },
   "outputs": [
    {
     "name": "stdout",
     "output_type": "stream",
     "text": [
      "Finished running CountVectorizer + GaussianNB\n",
      "Time elapsed 3.448272943496704s\n",
      "\n",
      "Finished running CountVectorizer + LogisticRegression\n",
      "Time elapsed 1.462090015411377s\n",
      "\n",
      "Finished running CountVectorizer + RandomForestClassifier\n",
      "Time elapsed 16.926737546920776s\n",
      "\n",
      "Finished running CountVectorizer + SVC\n",
      "Time elapsed 4.502958297729492s\n",
      "\n",
      "Finished running TfidfVectorizer + GaussianNB\n",
      "Time elapsed 3.148686647415161s\n",
      "\n",
      "Finished running TfidfVectorizer + LogisticRegression\n",
      "Time elapsed 1.2826895713806152s\n",
      "\n",
      "Finished running TfidfVectorizer + RandomForestClassifier\n",
      "Time elapsed 20.344597578048706s\n",
      "\n",
      "Finished running TfidfVectorizer + SVC\n",
      "Time elapsed 10.229337692260742s\n",
      "\n"
     ]
    }
   ],
   "source": [
    "pipelines_fakebr = make_pipelines(X_train_fakebr, y_train_fakebr, vectorizer_list, model_list)"
   ]
  },
  {
   "cell_type": "markdown",
   "metadata": {},
   "source": [
    "### Teste com o próprio conjunto de teste"
   ]
  },
  {
   "cell_type": "code",
   "execution_count": 14,
   "metadata": {},
   "outputs": [
    {
     "data": {
      "text/html": [
       "<div>\n",
       "<style scoped>\n",
       "    .dataframe tbody tr th:only-of-type {\n",
       "        vertical-align: middle;\n",
       "    }\n",
       "\n",
       "    .dataframe tbody tr th {\n",
       "        vertical-align: top;\n",
       "    }\n",
       "\n",
       "    .dataframe thead th {\n",
       "        text-align: right;\n",
       "    }\n",
       "</style>\n",
       "<table border=\"1\" class=\"dataframe\">\n",
       "  <thead>\n",
       "    <tr style=\"text-align: right;\">\n",
       "      <th></th>\n",
       "      <th>vectorizer</th>\n",
       "      <th>model</th>\n",
       "      <th>accuracy</th>\n",
       "      <th>f1_score</th>\n",
       "    </tr>\n",
       "  </thead>\n",
       "  <tbody>\n",
       "    <tr>\n",
       "      <th>0</th>\n",
       "      <td>CountVectorizer</td>\n",
       "      <td>GaussianNB</td>\n",
       "      <td>0.812600</td>\n",
       "      <td>0.814522</td>\n",
       "    </tr>\n",
       "    <tr>\n",
       "      <th>1</th>\n",
       "      <td>CountVectorizer</td>\n",
       "      <td>LogisticRegression</td>\n",
       "      <td>0.881180</td>\n",
       "      <td>0.879742</td>\n",
       "    </tr>\n",
       "    <tr>\n",
       "      <th>2</th>\n",
       "      <td>CountVectorizer</td>\n",
       "      <td>RandomForestClassifier</td>\n",
       "      <td>0.866826</td>\n",
       "      <td>0.864996</td>\n",
       "    </tr>\n",
       "    <tr>\n",
       "      <th>3</th>\n",
       "      <td>CountVectorizer</td>\n",
       "      <td>SVC</td>\n",
       "      <td>0.864434</td>\n",
       "      <td>0.862237</td>\n",
       "    </tr>\n",
       "    <tr>\n",
       "      <th>4</th>\n",
       "      <td>TfidfVectorizer</td>\n",
       "      <td>GaussianNB</td>\n",
       "      <td>0.812600</td>\n",
       "      <td>0.812150</td>\n",
       "    </tr>\n",
       "    <tr>\n",
       "      <th>5</th>\n",
       "      <td>TfidfVectorizer</td>\n",
       "      <td>LogisticRegression</td>\n",
       "      <td>0.890750</td>\n",
       "      <td>0.889605</td>\n",
       "    </tr>\n",
       "    <tr>\n",
       "      <th>6</th>\n",
       "      <td>TfidfVectorizer</td>\n",
       "      <td>RandomForestClassifier</td>\n",
       "      <td>0.866826</td>\n",
       "      <td>0.864777</td>\n",
       "    </tr>\n",
       "    <tr>\n",
       "      <th>7</th>\n",
       "      <td>TfidfVectorizer</td>\n",
       "      <td>SVC</td>\n",
       "      <td>0.834131</td>\n",
       "      <td>0.845007</td>\n",
       "    </tr>\n",
       "  </tbody>\n",
       "</table>\n",
       "</div>"
      ],
      "text/plain": [
       "        vectorizer                   model  accuracy  f1_score\n",
       "0  CountVectorizer              GaussianNB  0.812600  0.814522\n",
       "1  CountVectorizer      LogisticRegression  0.881180  0.879742\n",
       "2  CountVectorizer  RandomForestClassifier  0.866826  0.864996\n",
       "3  CountVectorizer                     SVC  0.864434  0.862237\n",
       "4  TfidfVectorizer              GaussianNB  0.812600  0.812150\n",
       "5  TfidfVectorizer      LogisticRegression  0.890750  0.889605\n",
       "6  TfidfVectorizer  RandomForestClassifier  0.866826  0.864777\n",
       "7  TfidfVectorizer                     SVC  0.834131  0.845007"
      ]
     },
     "execution_count": 14,
     "metadata": {},
     "output_type": "execute_result"
    }
   ],
   "source": [
    "aux = test_pipelines(X_test_fakebr, y_test_fakebr, pipelines_fakebr)\n",
    "pd.DataFrame(aux)"
   ]
  },
  {
   "cell_type": "markdown",
   "metadata": {},
   "source": [
    "### Teste com o conjunto geral"
   ]
  },
  {
   "cell_type": "code",
   "execution_count": 15,
   "metadata": {},
   "outputs": [
    {
     "data": {
      "text/html": [
       "<div>\n",
       "<style scoped>\n",
       "    .dataframe tbody tr th:only-of-type {\n",
       "        vertical-align: middle;\n",
       "    }\n",
       "\n",
       "    .dataframe tbody tr th {\n",
       "        vertical-align: top;\n",
       "    }\n",
       "\n",
       "    .dataframe thead th {\n",
       "        text-align: right;\n",
       "    }\n",
       "</style>\n",
       "<table border=\"1\" class=\"dataframe\">\n",
       "  <thead>\n",
       "    <tr style=\"text-align: right;\">\n",
       "      <th></th>\n",
       "      <th>vectorizer</th>\n",
       "      <th>model</th>\n",
       "      <th>accuracy</th>\n",
       "      <th>f1_score</th>\n",
       "    </tr>\n",
       "  </thead>\n",
       "  <tbody>\n",
       "    <tr>\n",
       "      <th>0</th>\n",
       "      <td>CountVectorizer</td>\n",
       "      <td>GaussianNB</td>\n",
       "      <td>0.777778</td>\n",
       "      <td>0.792929</td>\n",
       "    </tr>\n",
       "    <tr>\n",
       "      <th>1</th>\n",
       "      <td>CountVectorizer</td>\n",
       "      <td>LogisticRegression</td>\n",
       "      <td>0.845528</td>\n",
       "      <td>0.849604</td>\n",
       "    </tr>\n",
       "    <tr>\n",
       "      <th>2</th>\n",
       "      <td>CountVectorizer</td>\n",
       "      <td>RandomForestClassifier</td>\n",
       "      <td>0.853659</td>\n",
       "      <td>0.861538</td>\n",
       "    </tr>\n",
       "    <tr>\n",
       "      <th>3</th>\n",
       "      <td>CountVectorizer</td>\n",
       "      <td>SVC</td>\n",
       "      <td>0.819783</td>\n",
       "      <td>0.823373</td>\n",
       "    </tr>\n",
       "    <tr>\n",
       "      <th>4</th>\n",
       "      <td>TfidfVectorizer</td>\n",
       "      <td>GaussianNB</td>\n",
       "      <td>0.749322</td>\n",
       "      <td>0.760673</td>\n",
       "    </tr>\n",
       "    <tr>\n",
       "      <th>5</th>\n",
       "      <td>TfidfVectorizer</td>\n",
       "      <td>LogisticRegression</td>\n",
       "      <td>0.875339</td>\n",
       "      <td>0.881137</td>\n",
       "    </tr>\n",
       "    <tr>\n",
       "      <th>6</th>\n",
       "      <td>TfidfVectorizer</td>\n",
       "      <td>RandomForestClassifier</td>\n",
       "      <td>0.831978</td>\n",
       "      <td>0.841026</td>\n",
       "    </tr>\n",
       "    <tr>\n",
       "      <th>7</th>\n",
       "      <td>TfidfVectorizer</td>\n",
       "      <td>SVC</td>\n",
       "      <td>0.814363</td>\n",
       "      <td>0.838253</td>\n",
       "    </tr>\n",
       "  </tbody>\n",
       "</table>\n",
       "</div>"
      ],
      "text/plain": [
       "        vectorizer                   model  accuracy  f1_score\n",
       "0  CountVectorizer              GaussianNB  0.777778  0.792929\n",
       "1  CountVectorizer      LogisticRegression  0.845528  0.849604\n",
       "2  CountVectorizer  RandomForestClassifier  0.853659  0.861538\n",
       "3  CountVectorizer                     SVC  0.819783  0.823373\n",
       "4  TfidfVectorizer              GaussianNB  0.749322  0.760673\n",
       "5  TfidfVectorizer      LogisticRegression  0.875339  0.881137\n",
       "6  TfidfVectorizer  RandomForestClassifier  0.831978  0.841026\n",
       "7  TfidfVectorizer                     SVC  0.814363  0.838253"
      ]
     },
     "execution_count": 15,
     "metadata": {},
     "output_type": "execute_result"
    }
   ],
   "source": [
    "aux = test_pipelines(X_test_all, y_test_all, pipelines_fakebr)\n",
    "pd.DataFrame(aux)"
   ]
  },
  {
   "cell_type": "code",
   "execution_count": null,
   "metadata": {},
   "outputs": [],
   "source": []
  },
  {
   "cell_type": "code",
   "execution_count": null,
   "metadata": {},
   "outputs": [],
   "source": []
  },
  {
   "cell_type": "markdown",
   "metadata": {},
   "source": [
    "# Montando os pipelines para o conjunto primário"
   ]
  },
  {
   "cell_type": "code",
   "execution_count": 16,
   "metadata": {
    "scrolled": true
   },
   "outputs": [
    {
     "name": "stdout",
     "output_type": "stream",
     "text": [
      "Finished running CountVectorizer + GaussianNB\n",
      "Time elapsed 1.0033164024353027s\n",
      "\n",
      "Finished running CountVectorizer + LogisticRegression\n",
      "Time elapsed 0.5505266189575195s\n",
      "\n",
      "Finished running CountVectorizer + RandomForestClassifier\n",
      "Time elapsed 3.340068817138672s\n",
      "\n",
      "Finished running CountVectorizer + SVC\n",
      "Time elapsed 0.7270548343658447s\n",
      "\n",
      "Finished running TfidfVectorizer + GaussianNB\n",
      "Time elapsed 1.0223793983459473s\n",
      "\n",
      "Finished running TfidfVectorizer + LogisticRegression\n",
      "Time elapsed 0.48166608810424805s\n",
      "\n",
      "Finished running TfidfVectorizer + RandomForestClassifier\n",
      "Time elapsed 3.3294780254364014s\n",
      "\n",
      "Finished running TfidfVectorizer + SVC\n",
      "Time elapsed 1.004218339920044s\n",
      "\n"
     ]
    }
   ],
   "source": [
    "pipelines_prime = make_pipelines(X_train_prime, y_train_prime, vectorizer_list, model_list)"
   ]
  },
  {
   "cell_type": "markdown",
   "metadata": {},
   "source": [
    "### Teste com o próprio conjunto de teste"
   ]
  },
  {
   "cell_type": "code",
   "execution_count": 17,
   "metadata": {
    "scrolled": true
   },
   "outputs": [
    {
     "data": {
      "text/html": [
       "<div>\n",
       "<style scoped>\n",
       "    .dataframe tbody tr th:only-of-type {\n",
       "        vertical-align: middle;\n",
       "    }\n",
       "\n",
       "    .dataframe tbody tr th {\n",
       "        vertical-align: top;\n",
       "    }\n",
       "\n",
       "    .dataframe thead th {\n",
       "        text-align: right;\n",
       "    }\n",
       "</style>\n",
       "<table border=\"1\" class=\"dataframe\">\n",
       "  <thead>\n",
       "    <tr style=\"text-align: right;\">\n",
       "      <th></th>\n",
       "      <th>vectorizer</th>\n",
       "      <th>model</th>\n",
       "      <th>accuracy</th>\n",
       "      <th>f1_score</th>\n",
       "    </tr>\n",
       "  </thead>\n",
       "  <tbody>\n",
       "    <tr>\n",
       "      <th>0</th>\n",
       "      <td>CountVectorizer</td>\n",
       "      <td>GaussianNB</td>\n",
       "      <td>0.818428</td>\n",
       "      <td>0.792570</td>\n",
       "    </tr>\n",
       "    <tr>\n",
       "      <th>1</th>\n",
       "      <td>CountVectorizer</td>\n",
       "      <td>LogisticRegression</td>\n",
       "      <td>0.921409</td>\n",
       "      <td>0.924675</td>\n",
       "    </tr>\n",
       "    <tr>\n",
       "      <th>2</th>\n",
       "      <td>CountVectorizer</td>\n",
       "      <td>RandomForestClassifier</td>\n",
       "      <td>0.921409</td>\n",
       "      <td>0.920981</td>\n",
       "    </tr>\n",
       "    <tr>\n",
       "      <th>3</th>\n",
       "      <td>CountVectorizer</td>\n",
       "      <td>SVC</td>\n",
       "      <td>0.910569</td>\n",
       "      <td>0.914729</td>\n",
       "    </tr>\n",
       "    <tr>\n",
       "      <th>4</th>\n",
       "      <td>TfidfVectorizer</td>\n",
       "      <td>GaussianNB</td>\n",
       "      <td>0.794038</td>\n",
       "      <td>0.756410</td>\n",
       "    </tr>\n",
       "    <tr>\n",
       "      <th>5</th>\n",
       "      <td>TfidfVectorizer</td>\n",
       "      <td>LogisticRegression</td>\n",
       "      <td>0.937669</td>\n",
       "      <td>0.938992</td>\n",
       "    </tr>\n",
       "    <tr>\n",
       "      <th>6</th>\n",
       "      <td>TfidfVectorizer</td>\n",
       "      <td>RandomForestClassifier</td>\n",
       "      <td>0.932249</td>\n",
       "      <td>0.931507</td>\n",
       "    </tr>\n",
       "    <tr>\n",
       "      <th>7</th>\n",
       "      <td>TfidfVectorizer</td>\n",
       "      <td>SVC</td>\n",
       "      <td>0.926829</td>\n",
       "      <td>0.926829</td>\n",
       "    </tr>\n",
       "  </tbody>\n",
       "</table>\n",
       "</div>"
      ],
      "text/plain": [
       "        vectorizer                   model  accuracy  f1_score\n",
       "0  CountVectorizer              GaussianNB  0.818428  0.792570\n",
       "1  CountVectorizer      LogisticRegression  0.921409  0.924675\n",
       "2  CountVectorizer  RandomForestClassifier  0.921409  0.920981\n",
       "3  CountVectorizer                     SVC  0.910569  0.914729\n",
       "4  TfidfVectorizer              GaussianNB  0.794038  0.756410\n",
       "5  TfidfVectorizer      LogisticRegression  0.937669  0.938992\n",
       "6  TfidfVectorizer  RandomForestClassifier  0.932249  0.931507\n",
       "7  TfidfVectorizer                     SVC  0.926829  0.926829"
      ]
     },
     "execution_count": 17,
     "metadata": {},
     "output_type": "execute_result"
    }
   ],
   "source": [
    "aux = test_pipelines(X_test_prime, y_test_prime, pipelines_prime)\n",
    "pd.DataFrame(aux)"
   ]
  },
  {
   "cell_type": "markdown",
   "metadata": {},
   "source": [
    "### Teste com o conjunto geral"
   ]
  },
  {
   "cell_type": "code",
   "execution_count": 18,
   "metadata": {},
   "outputs": [
    {
     "data": {
      "text/html": [
       "<div>\n",
       "<style scoped>\n",
       "    .dataframe tbody tr th:only-of-type {\n",
       "        vertical-align: middle;\n",
       "    }\n",
       "\n",
       "    .dataframe tbody tr th {\n",
       "        vertical-align: top;\n",
       "    }\n",
       "\n",
       "    .dataframe thead th {\n",
       "        text-align: right;\n",
       "    }\n",
       "</style>\n",
       "<table border=\"1\" class=\"dataframe\">\n",
       "  <thead>\n",
       "    <tr style=\"text-align: right;\">\n",
       "      <th></th>\n",
       "      <th>vectorizer</th>\n",
       "      <th>model</th>\n",
       "      <th>accuracy</th>\n",
       "      <th>f1_score</th>\n",
       "    </tr>\n",
       "  </thead>\n",
       "  <tbody>\n",
       "    <tr>\n",
       "      <th>0</th>\n",
       "      <td>CountVectorizer</td>\n",
       "      <td>GaussianNB</td>\n",
       "      <td>0.715447</td>\n",
       "      <td>0.673913</td>\n",
       "    </tr>\n",
       "    <tr>\n",
       "      <th>1</th>\n",
       "      <td>CountVectorizer</td>\n",
       "      <td>LogisticRegression</td>\n",
       "      <td>0.813008</td>\n",
       "      <td>0.832117</td>\n",
       "    </tr>\n",
       "    <tr>\n",
       "      <th>2</th>\n",
       "      <td>CountVectorizer</td>\n",
       "      <td>RandomForestClassifier</td>\n",
       "      <td>0.804878</td>\n",
       "      <td>0.812500</td>\n",
       "    </tr>\n",
       "    <tr>\n",
       "      <th>3</th>\n",
       "      <td>CountVectorizer</td>\n",
       "      <td>SVC</td>\n",
       "      <td>0.802168</td>\n",
       "      <td>0.821516</td>\n",
       "    </tr>\n",
       "    <tr>\n",
       "      <th>4</th>\n",
       "      <td>TfidfVectorizer</td>\n",
       "      <td>GaussianNB</td>\n",
       "      <td>0.697832</td>\n",
       "      <td>0.642055</td>\n",
       "    </tr>\n",
       "    <tr>\n",
       "      <th>5</th>\n",
       "      <td>TfidfVectorizer</td>\n",
       "      <td>LogisticRegression</td>\n",
       "      <td>0.846883</td>\n",
       "      <td>0.854569</td>\n",
       "    </tr>\n",
       "    <tr>\n",
       "      <th>6</th>\n",
       "      <td>TfidfVectorizer</td>\n",
       "      <td>RandomForestClassifier</td>\n",
       "      <td>0.821138</td>\n",
       "      <td>0.826772</td>\n",
       "    </tr>\n",
       "    <tr>\n",
       "      <th>7</th>\n",
       "      <td>TfidfVectorizer</td>\n",
       "      <td>SVC</td>\n",
       "      <td>0.831978</td>\n",
       "      <td>0.839378</td>\n",
       "    </tr>\n",
       "  </tbody>\n",
       "</table>\n",
       "</div>"
      ],
      "text/plain": [
       "        vectorizer                   model  accuracy  f1_score\n",
       "0  CountVectorizer              GaussianNB  0.715447  0.673913\n",
       "1  CountVectorizer      LogisticRegression  0.813008  0.832117\n",
       "2  CountVectorizer  RandomForestClassifier  0.804878  0.812500\n",
       "3  CountVectorizer                     SVC  0.802168  0.821516\n",
       "4  TfidfVectorizer              GaussianNB  0.697832  0.642055\n",
       "5  TfidfVectorizer      LogisticRegression  0.846883  0.854569\n",
       "6  TfidfVectorizer  RandomForestClassifier  0.821138  0.826772\n",
       "7  TfidfVectorizer                     SVC  0.831978  0.839378"
      ]
     },
     "execution_count": 18,
     "metadata": {},
     "output_type": "execute_result"
    }
   ],
   "source": [
    "aux = test_pipelines(X_test_all, y_test_all, pipelines_prime)\n",
    "pd.DataFrame(aux)"
   ]
  },
  {
   "cell_type": "code",
   "execution_count": null,
   "metadata": {},
   "outputs": [],
   "source": []
  },
  {
   "cell_type": "code",
   "execution_count": null,
   "metadata": {},
   "outputs": [],
   "source": []
  },
  {
   "cell_type": "code",
   "execution_count": null,
   "metadata": {},
   "outputs": [],
   "source": []
  },
  {
   "cell_type": "code",
   "execution_count": 48,
   "metadata": {
    "scrolled": true
   },
   "outputs": [
    {
     "name": "stdout",
     "output_type": "stream",
     "text": [
      "              precision    recall  f1-score   support\n",
      "\n",
      "           0       0.90      0.89      0.89       643\n",
      "           1       0.88      0.90      0.89       611\n",
      "\n",
      "    accuracy                           0.89      1254\n",
      "   macro avg       0.89      0.89      0.89      1254\n",
      "weighted avg       0.89      0.89      0.89      1254\n",
      "\n",
      "[[570  73]\n",
      " [ 61 550]]\n"
     ]
    }
   ],
   "source": [
    "vect_kwargs = {\n",
    "    'ngram_range': (1, 2),\n",
    "    'max_features': 10000,\n",
    "}\n",
    "\n",
    "clf_kwargs = {'C': 10, 'class_weight': 'balanced', 'solver': 'saga', 'tol': 0.001}\n",
    "\n",
    "pipe = Pipeline([\n",
    "    ('vect', TfidfVectorizer(**vect_kwargs)),\n",
    "    ('clf', LogisticRegression(**clf_kwargs))\n",
    "])\n",
    "\n",
    "pipe.fit(X_train_fakebr, y_train_fakebr)\n",
    "\n",
    "y_pred = pipe.predict(X_test_fakebr)\n",
    "\n",
    "print(classification_report(y_test_fakebr, y_pred))\n",
    "\n",
    "print(confusion_matrix(y_test_fakebr, y_pred))"
   ]
  },
  {
   "cell_type": "code",
   "execution_count": 49,
   "metadata": {
    "scrolled": true
   },
   "outputs": [
    {
     "name": "stdout",
     "output_type": "stream",
     "text": [
      "              precision    recall  f1-score   support\n",
      "\n",
      "           0       0.90      0.88      0.89       643\n",
      "           1       0.88      0.90      0.89       611\n",
      "\n",
      "    accuracy                           0.89      1254\n",
      "   macro avg       0.89      0.89      0.89      1254\n",
      "weighted avg       0.89      0.89      0.89      1254\n",
      "\n",
      "[[569  74]\n",
      " [ 60 551]]\n"
     ]
    }
   ],
   "source": [
    "vect_kwargs = {\n",
    "    'ngram_range': (1, 2),\n",
    "    'max_features': 10000,\n",
    "}\n",
    "\n",
    "clf_kwargs = {'C': 10, 'class_weight': None, 'solver': 'saga', 'tol': 0.001}\n",
    "\n",
    "pipe = Pipeline([\n",
    "    ('vect', TfidfVectorizer(**vect_kwargs)),\n",
    "    ('clf', LogisticRegression(**clf_kwargs))\n",
    "])\n",
    "\n",
    "pipe.fit(X_train_fakebr, y_train_fakebr)\n",
    "\n",
    "y_pred = pipe.predict(X_test_fakebr)\n",
    "\n",
    "print(classification_report(y_test_fakebr, y_pred))\n",
    "\n",
    "print(confusion_matrix(y_test_fakebr, y_pred))"
   ]
  },
  {
   "cell_type": "code",
   "execution_count": null,
   "metadata": {},
   "outputs": [],
   "source": []
  },
  {
   "cell_type": "code",
   "execution_count": null,
   "metadata": {},
   "outputs": [],
   "source": []
  },
  {
   "cell_type": "code",
   "execution_count": null,
   "metadata": {},
   "outputs": [],
   "source": []
  },
  {
   "cell_type": "code",
   "execution_count": null,
   "metadata": {},
   "outputs": [],
   "source": []
  },
  {
   "cell_type": "code",
   "execution_count": null,
   "metadata": {},
   "outputs": [],
   "source": []
  },
  {
   "cell_type": "code",
   "execution_count": null,
   "metadata": {},
   "outputs": [],
   "source": []
  }
 ],
 "metadata": {
  "kernelspec": {
   "display_name": "Python 3",
   "language": "python",
   "name": "python3"
  },
  "language_info": {
   "codemirror_mode": {
    "name": "ipython",
    "version": 3
   },
   "file_extension": ".py",
   "mimetype": "text/x-python",
   "name": "python",
   "nbconvert_exporter": "python",
   "pygments_lexer": "ipython3",
   "version": "3.7.3"
  }
 },
 "nbformat": 4,
 "nbformat_minor": 2
}
