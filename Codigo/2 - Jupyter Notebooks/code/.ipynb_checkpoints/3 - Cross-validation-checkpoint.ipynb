{
 "cells": [
  {
   "cell_type": "code",
   "execution_count": 1,
   "metadata": {},
   "outputs": [],
   "source": [
    "import pickle as pkl\n",
    "import seaborn as sns\n",
    "import matplotlib.pyplot as plt\n",
    "import re\n",
    "import pandas as pd\n",
    "import numpy as np\n",
    "import os\n",
    "import seaborn as sns\n",
    "import matplotlib.pyplot as plt\n",
    "import math\n",
    "\n",
    "from tqdm import tqdm_notebook\n",
    "from collections import Counter\n",
    "from glob import glob\n",
    "from unidecode import unidecode\n",
    "from nltk.corpus import stopwords\n",
    "from datetime import datetime\n",
    "\n",
    "import utils\n",
    "\n",
    "%matplotlib inline\n",
    "\n",
    "sns.set(style=\"darkgrid\")"
   ]
  },
  {
   "cell_type": "code",
   "execution_count": 2,
   "metadata": {},
   "outputs": [],
   "source": [
    "PATH = '../'\n",
    "\n",
    "PROCESSED_DATA_PATH = os.path.join(PATH, 'data/processed/')\n",
    "\n",
    "DF_PRIME_TRUNCATED_PATH = os.path.join(PROCESSED_DATA_PATH, 'df_prime_truncated.pkl')\n",
    "DF_USP_TRUNCATED_PATH = os.path.join(PROCESSED_DATA_PATH, 'df_usp_truncated_clean.pkl')\n",
    "\n",
    "\n",
    "STOPWORDS = utils.get_stopwords()"
   ]
  },
  {
   "cell_type": "code",
   "execution_count": 3,
   "metadata": {},
   "outputs": [],
   "source": [
    "df_prime = pkl.load(open(DF_PRIME_TRUNCATED_PATH, 'rb'))\n",
    "\n",
    "df_fakebr = pkl.load(open(DF_USP_TRUNCATED_PATH, 'rb'))"
   ]
  },
  {
   "cell_type": "code",
   "execution_count": null,
   "metadata": {},
   "outputs": [],
   "source": []
  },
  {
   "cell_type": "code",
   "execution_count": 4,
   "metadata": {},
   "outputs": [],
   "source": [
    "from imblearn.under_sampling import RandomUnderSampler\n",
    "\n",
    "from sklearn.feature_extraction.text import CountVectorizer, TfidfVectorizer\n",
    "from sklearn.model_selection import cross_val_score, train_test_split\n",
    "from sklearn.metrics import accuracy_score, confusion_matrix, classification_report\n",
    "\n",
    "from sklearn.linear_model import LogisticRegression\n",
    "from sklearn.ensemble import RandomForestClassifier\n",
    "from sklearn.naive_bayes import GaussianNB\n",
    "from sklearn.svm import SVC\n",
    "from sklearn.svm import LinearSVC\n",
    "\n",
    "from sklearn.calibration import CalibratedClassifierCV\n",
    "\n",
    "from sklearn.pipeline import Pipeline"
   ]
  },
  {
   "cell_type": "code",
   "execution_count": 23,
   "metadata": {},
   "outputs": [],
   "source": [
    "vectorizer_list = [\n",
    "    CountVectorizer(ngram_range=(1, 2), min_df=5, max_df=0.9, max_features=10000),\n",
    "    TfidfVectorizer(ngram_range=(1, 2), min_df=5, max_df=0.9, max_features=10000)\n",
    "]\n",
    "\n",
    "\n",
    "model_list = [\n",
    "    GaussianNB(),\n",
    "    LogisticRegression(),\n",
    "    RandomForestClassifier(n_estimators=1000),\n",
    "    SVC(kernel='linear'),\n",
    "]"
   ]
  },
  {
   "cell_type": "code",
   "execution_count": 24,
   "metadata": {},
   "outputs": [],
   "source": [
    "from sklearn.base import TransformerMixin\n",
    "class DenseTransformer(TransformerMixin):\n",
    "\n",
    "    def fit(self, X, y=None, **fit_params):\n",
    "        return self\n",
    "\n",
    "    def transform(self, X, y=None, **fit_params):\n",
    "        return X.todense()"
   ]
  },
  {
   "cell_type": "code",
   "execution_count": 25,
   "metadata": {},
   "outputs": [],
   "source": [
    "from time import time \n",
    "\n",
    "def make_cv(X_all, y_all,\n",
    "            vectorizer_list=[TfidfVectorizer()],\n",
    "            model_list=[LogisticRegression()],\n",
    "            n_folds=10,\n",
    "            n_jobs=3):\n",
    "    \n",
    "    columns = ['vectorizer', 'model', 'mean'] + ['fold_{}'.format(i) for i in range(1, n_folds + 1)]\n",
    "    df_results = pd.DataFrame()\n",
    "    \n",
    "    line = {'vectorizer': [], 'model': [], 'mean': []}\n",
    "    \n",
    "    for i in range(n_folds):\n",
    "        line['fold_{}'.format(i)] = []\n",
    "        \n",
    "        \n",
    "    for vect in vectorizer_list:\n",
    "        for clf in model_list:\n",
    "            pipe = Pipeline([('vect', vect), ('clf', clf)])\n",
    "            \n",
    "            time_start = time()\n",
    "            try:\n",
    "                cv = cross_val_score(pipe, X_all, y_all, n_jobs=n_jobs, cv=n_folds, verbose=0, scoring='f1')\n",
    "            except:\n",
    "                pipe = Pipeline([('vect', vect),\n",
    "                                 ('todense', DenseTransformer()), ('clf', clf)])\n",
    "                \n",
    "                cv = cross_val_score(pipe, X_all, y_all, n_jobs=1, cv=n_folds, verbose=0, scoring='f1')\n",
    "\n",
    "            \n",
    "            line['vectorizer'].append(type(vect).__name__)\n",
    "            line['model'].append(type(clf).__name__)\n",
    "            line['mean'].append(cv.mean())\n",
    "\n",
    "            for j, item in enumerate(cv):\n",
    "                line['fold_{}'.format(j)].append(item)\n",
    "\n",
    "            print('Finished running {} + {}'.format(type(vect).__name__, type(clf).__name__))\n",
    "            print('Time elapsed {}s'.format(time() - time_start))\n",
    "            print()\n",
    "    df_results = df_results.append(pd.DataFrame(line))\n",
    "    return df_results"
   ]
  },
  {
   "cell_type": "code",
   "execution_count": 41,
   "metadata": {
    "scrolled": true
   },
   "outputs": [
    {
     "name": "stdout",
     "output_type": "stream",
     "text": [
      "Finished running CountVectorizer + GaussianNB\n",
      "Time elapsed 16.844714403152466s\n",
      "\n",
      "Finished running CountVectorizer + LogisticRegression\n",
      "Time elapsed 8.579059839248657s\n",
      "\n",
      "Finished running CountVectorizer + RandomForestClassifier\n",
      "Time elapsed 62.85193419456482s\n",
      "\n",
      "Finished running CountVectorizer + SVC\n",
      "Time elapsed 17.31769347190857s\n",
      "\n",
      "Finished running TfidfVectorizer + GaussianNB\n",
      "Time elapsed 15.833662271499634s\n",
      "\n",
      "Finished running TfidfVectorizer + LogisticRegression\n",
      "Time elapsed 7.302474498748779s\n",
      "\n",
      "Finished running TfidfVectorizer + RandomForestClassifier\n",
      "Time elapsed 60.09730315208435s\n",
      "\n",
      "Finished running TfidfVectorizer + SVC\n",
      "Time elapsed 23.951953411102295s\n",
      "\n"
     ]
    }
   ],
   "source": [
    "X_all = df_fakebr['TEXT_CLEAN']\n",
    "y_all = df_fakebr['FAKE']\n",
    "\n",
    "n_folds = 5\n",
    "n_jobs = 3\n",
    "\n",
    "results_fakebr = make_cv(X_all, y_all,\n",
    "          vectorizer_list=vectorizer_list,\n",
    "          model_list=model_list,\n",
    "          n_folds=n_folds,\n",
    "          n_jobs=n_jobs)"
   ]
  },
  {
   "cell_type": "code",
   "execution_count": 58,
   "metadata": {},
   "outputs": [],
   "source": [
    "results_fakebr.loc[results_fakebr['model'] == 'SVC', 'model'] = 'SVC (linear)'"
   ]
  },
  {
   "cell_type": "code",
   "execution_count": 60,
   "metadata": {},
   "outputs": [],
   "source": [
    "# with open('results_fakebr.pkl', 'wb') as f:\n",
    "#     pkl.dump(results_fakebr, f)"
   ]
  },
  {
   "cell_type": "code",
   "execution_count": 61,
   "metadata": {},
   "outputs": [],
   "source": [
    "with open('results_fakebr.pkl', 'rb') as f:\n",
    "    results_fakebr = pkl.load(f)"
   ]
  },
  {
   "cell_type": "code",
   "execution_count": 62,
   "metadata": {},
   "outputs": [
    {
     "data": {
      "text/html": [
       "<div>\n",
       "<style scoped>\n",
       "    .dataframe tbody tr th:only-of-type {\n",
       "        vertical-align: middle;\n",
       "    }\n",
       "\n",
       "    .dataframe tbody tr th {\n",
       "        vertical-align: top;\n",
       "    }\n",
       "\n",
       "    .dataframe thead th {\n",
       "        text-align: right;\n",
       "    }\n",
       "</style>\n",
       "<table border=\"1\" class=\"dataframe\">\n",
       "  <thead>\n",
       "    <tr style=\"text-align: right;\">\n",
       "      <th></th>\n",
       "      <th>vectorizer</th>\n",
       "      <th>model</th>\n",
       "      <th>mean</th>\n",
       "    </tr>\n",
       "  </thead>\n",
       "  <tbody>\n",
       "    <tr>\n",
       "      <th>0</th>\n",
       "      <td>CountVectorizer</td>\n",
       "      <td>GaussianNB</td>\n",
       "      <td>0.810565</td>\n",
       "    </tr>\n",
       "    <tr>\n",
       "      <th>1</th>\n",
       "      <td>CountVectorizer</td>\n",
       "      <td>LogisticRegression</td>\n",
       "      <td>0.879169</td>\n",
       "    </tr>\n",
       "    <tr>\n",
       "      <th>2</th>\n",
       "      <td>CountVectorizer</td>\n",
       "      <td>RandomForestClassifier</td>\n",
       "      <td>0.855167</td>\n",
       "    </tr>\n",
       "    <tr>\n",
       "      <th>3</th>\n",
       "      <td>CountVectorizer</td>\n",
       "      <td>SVC (linear)</td>\n",
       "      <td>0.859687</td>\n",
       "    </tr>\n",
       "    <tr>\n",
       "      <th>4</th>\n",
       "      <td>TfidfVectorizer</td>\n",
       "      <td>GaussianNB</td>\n",
       "      <td>0.795325</td>\n",
       "    </tr>\n",
       "    <tr>\n",
       "      <th>5</th>\n",
       "      <td>TfidfVectorizer</td>\n",
       "      <td>LogisticRegression</td>\n",
       "      <td>0.880629</td>\n",
       "    </tr>\n",
       "    <tr>\n",
       "      <th>6</th>\n",
       "      <td>TfidfVectorizer</td>\n",
       "      <td>RandomForestClassifier</td>\n",
       "      <td>0.860465</td>\n",
       "    </tr>\n",
       "    <tr>\n",
       "      <th>7</th>\n",
       "      <td>TfidfVectorizer</td>\n",
       "      <td>SVC (linear)</td>\n",
       "      <td>0.883349</td>\n",
       "    </tr>\n",
       "  </tbody>\n",
       "</table>\n",
       "</div>"
      ],
      "text/plain": [
       "        vectorizer                   model      mean\n",
       "0  CountVectorizer              GaussianNB  0.810565\n",
       "1  CountVectorizer      LogisticRegression  0.879169\n",
       "2  CountVectorizer  RandomForestClassifier  0.855167\n",
       "3  CountVectorizer            SVC (linear)  0.859687\n",
       "4  TfidfVectorizer              GaussianNB  0.795325\n",
       "5  TfidfVectorizer      LogisticRegression  0.880629\n",
       "6  TfidfVectorizer  RandomForestClassifier  0.860465\n",
       "7  TfidfVectorizer            SVC (linear)  0.883349"
      ]
     },
     "execution_count": 62,
     "metadata": {},
     "output_type": "execute_result"
    }
   ],
   "source": [
    "results_fakebr[['vectorizer', 'model', 'mean']]"
   ]
  },
  {
   "cell_type": "code",
   "execution_count": 63,
   "metadata": {},
   "outputs": [
    {
     "data": {
      "text/plain": [
       "<matplotlib.legend.Legend at 0x1e50b68a7f0>"
      ]
     },
     "execution_count": 63,
     "metadata": {},
     "output_type": "execute_result"
    },
    {
     "data": {
      "image/png": "[encoded data removed]",
      "text/plain": [
       "<Figure size 720x360 with 1 Axes>"
      ]
     },
     "metadata": {
      "needs_background": "light"
     },
     "output_type": "display_data"
    }
   ],
   "source": [
    "fig, ax = plt.subplots(figsize=(10, 5))\n",
    "ax.set_ylim(0, 1)\n",
    "ax = sns.barplot(x='model', y='mean', hue='vectorizer', data=results_fakebr)\n",
    "ax.set_xlabel('Modelos')\n",
    "ax.set_ylabel('Score')\n",
    "plt.legend(bbox_to_anchor=(1.02, 1))"
   ]
  },
  {
   "cell_type": "code",
   "execution_count": null,
   "metadata": {},
   "outputs": [],
   "source": []
  },
  {
   "cell_type": "code",
   "execution_count": null,
   "metadata": {},
   "outputs": [],
   "source": []
  },
  {
   "cell_type": "code",
   "execution_count": 32,
   "metadata": {
    "scrolled": true
   },
   "outputs": [
    {
     "name": "stdout",
     "output_type": "stream",
     "text": [
      "Finished running CountVectorizer + GaussianNB\n",
      "Time elapsed 4.567785263061523s\n",
      "\n",
      "Finished running CountVectorizer + LogisticRegression\n",
      "Time elapsed 3.988335609436035s\n",
      "\n",
      "Finished running CountVectorizer + RandomForestClassifier\n",
      "Time elapsed 10.877912044525146s\n",
      "\n",
      "Finished running CountVectorizer + SVC\n",
      "Time elapsed 3.064807415008545s\n",
      "\n",
      "Finished running TfidfVectorizer + GaussianNB\n",
      "Time elapsed 4.6725053787231445s\n",
      "\n",
      "Finished running TfidfVectorizer + LogisticRegression\n",
      "Time elapsed 4.20874547958374s\n",
      "\n",
      "Finished running TfidfVectorizer + RandomForestClassifier\n",
      "Time elapsed 11.105303525924683s\n",
      "\n",
      "Finished running TfidfVectorizer + SVC\n",
      "Time elapsed 3.1316285133361816s\n",
      "\n"
     ]
    }
   ],
   "source": [
    "X_all = df_prime['TEXT_CLEAN']\n",
    "y_all = df_prime['FAKE']\n",
    "\n",
    "n_folds = 5\n",
    "n_jobs = 3\n",
    "\n",
    "results_prime = make_cv(X_all, y_all,\n",
    "          vectorizer_list=vectorizer_list,\n",
    "          model_list=model_list,\n",
    "          n_folds=n_folds,\n",
    "          n_jobs=n_jobs)"
   ]
  },
  {
   "cell_type": "code",
   "execution_count": 49,
   "metadata": {},
   "outputs": [],
   "source": [
    "results_prime.loc[results_prime['model'] == 'SVC', 'model'] = 'SVC (linear)'"
   ]
  },
  {
   "cell_type": "code",
   "execution_count": 55,
   "metadata": {},
   "outputs": [],
   "source": [
    "# with open('results_prime.pkl', 'wb') as f:\n",
    "#     pkl.dump(results_prime, f)"
   ]
  },
  {
   "cell_type": "code",
   "execution_count": 56,
   "metadata": {},
   "outputs": [],
   "source": [
    "with open('results_prime.pkl', 'rb') as f:\n",
    "    results_prime = pkl.load(f)"
   ]
  },
  {
   "cell_type": "code",
   "execution_count": 64,
   "metadata": {},
   "outputs": [
    {
     "data": {
      "text/html": [
       "<div>\n",
       "<style scoped>\n",
       "    .dataframe tbody tr th:only-of-type {\n",
       "        vertical-align: middle;\n",
       "    }\n",
       "\n",
       "    .dataframe tbody tr th {\n",
       "        vertical-align: top;\n",
       "    }\n",
       "\n",
       "    .dataframe thead th {\n",
       "        text-align: right;\n",
       "    }\n",
       "</style>\n",
       "<table border=\"1\" class=\"dataframe\">\n",
       "  <thead>\n",
       "    <tr style=\"text-align: right;\">\n",
       "      <th></th>\n",
       "      <th>vectorizer</th>\n",
       "      <th>model</th>\n",
       "      <th>mean</th>\n",
       "      <th>fold_0</th>\n",
       "      <th>fold_1</th>\n",
       "      <th>fold_2</th>\n",
       "      <th>fold_3</th>\n",
       "      <th>fold_4</th>\n",
       "    </tr>\n",
       "  </thead>\n",
       "  <tbody>\n",
       "    <tr>\n",
       "      <th>0</th>\n",
       "      <td>CountVectorizer</td>\n",
       "      <td>GaussianNB</td>\n",
       "      <td>0.775555</td>\n",
       "      <td>0.786611</td>\n",
       "      <td>0.839286</td>\n",
       "      <td>0.757576</td>\n",
       "      <td>0.694301</td>\n",
       "      <td>0.800000</td>\n",
       "    </tr>\n",
       "    <tr>\n",
       "      <th>1</th>\n",
       "      <td>CountVectorizer</td>\n",
       "      <td>LogisticRegression</td>\n",
       "      <td>0.899206</td>\n",
       "      <td>0.785714</td>\n",
       "      <td>0.955823</td>\n",
       "      <td>0.945607</td>\n",
       "      <td>0.875000</td>\n",
       "      <td>0.933884</td>\n",
       "    </tr>\n",
       "    <tr>\n",
       "      <th>2</th>\n",
       "      <td>CountVectorizer</td>\n",
       "      <td>RandomForestClassifier</td>\n",
       "      <td>0.872191</td>\n",
       "      <td>0.774834</td>\n",
       "      <td>0.929461</td>\n",
       "      <td>0.901786</td>\n",
       "      <td>0.842593</td>\n",
       "      <td>0.912281</td>\n",
       "    </tr>\n",
       "    <tr>\n",
       "      <th>3</th>\n",
       "      <td>CountVectorizer</td>\n",
       "      <td>SVC (linear)</td>\n",
       "      <td>0.877416</td>\n",
       "      <td>0.722388</td>\n",
       "      <td>0.955823</td>\n",
       "      <td>0.933884</td>\n",
       "      <td>0.859729</td>\n",
       "      <td>0.915254</td>\n",
       "    </tr>\n",
       "    <tr>\n",
       "      <th>4</th>\n",
       "      <td>TfidfVectorizer</td>\n",
       "      <td>GaussianNB</td>\n",
       "      <td>0.749857</td>\n",
       "      <td>0.758621</td>\n",
       "      <td>0.821918</td>\n",
       "      <td>0.712042</td>\n",
       "      <td>0.673684</td>\n",
       "      <td>0.783019</td>\n",
       "    </tr>\n",
       "    <tr>\n",
       "      <th>5</th>\n",
       "      <td>TfidfVectorizer</td>\n",
       "      <td>LogisticRegression</td>\n",
       "      <td>0.913797</td>\n",
       "      <td>0.846975</td>\n",
       "      <td>0.971888</td>\n",
       "      <td>0.945148</td>\n",
       "      <td>0.876106</td>\n",
       "      <td>0.928870</td>\n",
       "    </tr>\n",
       "    <tr>\n",
       "      <th>6</th>\n",
       "      <td>TfidfVectorizer</td>\n",
       "      <td>RandomForestClassifier</td>\n",
       "      <td>0.873014</td>\n",
       "      <td>0.781457</td>\n",
       "      <td>0.937759</td>\n",
       "      <td>0.916300</td>\n",
       "      <td>0.831776</td>\n",
       "      <td>0.897778</td>\n",
       "    </tr>\n",
       "    <tr>\n",
       "      <th>7</th>\n",
       "      <td>TfidfVectorizer</td>\n",
       "      <td>SVC (linear)</td>\n",
       "      <td>0.918147</td>\n",
       "      <td>0.871795</td>\n",
       "      <td>0.968000</td>\n",
       "      <td>0.932203</td>\n",
       "      <td>0.885965</td>\n",
       "      <td>0.932773</td>\n",
       "    </tr>\n",
       "  </tbody>\n",
       "</table>\n",
       "</div>"
      ],
      "text/plain": [
       "        vectorizer                   model      mean    fold_0    fold_1  \\\n",
       "0  CountVectorizer              GaussianNB  0.775555  0.786611  0.839286   \n",
       "1  CountVectorizer      LogisticRegression  0.899206  0.785714  0.955823   \n",
       "2  CountVectorizer  RandomForestClassifier  0.872191  0.774834  0.929461   \n",
       "3  CountVectorizer            SVC (linear)  0.877416  0.722388  0.955823   \n",
       "4  TfidfVectorizer              GaussianNB  0.749857  0.758621  0.821918   \n",
       "5  TfidfVectorizer      LogisticRegression  0.913797  0.846975  0.971888   \n",
       "6  TfidfVectorizer  RandomForestClassifier  0.873014  0.781457  0.937759   \n",
       "7  TfidfVectorizer            SVC (linear)  0.918147  0.871795  0.968000   \n",
       "\n",
       "     fold_2    fold_3    fold_4  \n",
       "0  0.757576  0.694301  0.800000  \n",
       "1  0.945607  0.875000  0.933884  \n",
       "2  0.901786  0.842593  0.912281  \n",
       "3  0.933884  0.859729  0.915254  \n",
       "4  0.712042  0.673684  0.783019  \n",
       "5  0.945148  0.876106  0.928870  \n",
       "6  0.916300  0.831776  0.897778  \n",
       "7  0.932203  0.885965  0.932773  "
      ]
     },
     "execution_count": 64,
     "metadata": {},
     "output_type": "execute_result"
    }
   ],
   "source": [
    "results_prime"
   ]
  },
  {
   "cell_type": "code",
   "execution_count": 65,
   "metadata": {},
   "outputs": [
    {
     "data": {
      "text/plain": [
       "<matplotlib.legend.Legend at 0x1e50b68f748>"
      ]
     },
     "execution_count": 65,
     "metadata": {},
     "output_type": "execute_result"
    },
    {
     "data": {
      "image/png": "[encoded data removed]",
      "text/plain": [
       "<Figure size 720x360 with 1 Axes>"
      ]
     },
     "metadata": {
      "needs_background": "light"
     },
     "output_type": "display_data"
    }
   ],
   "source": [
    "fig, ax = plt.subplots(figsize=(10, 5))\n",
    "ax.set_ylim(0, 1)\n",
    "ax = sns.barplot(x='model', y='mean', hue='vectorizer', data=results_prime)\n",
    "ax.set_xlabel('Modelos')\n",
    "ax.set_ylabel('Score')\n",
    "plt.legend(bbox_to_anchor=(1.02, 1))"
   ]
  },
  {
   "cell_type": "code",
   "execution_count": null,
   "metadata": {},
   "outputs": [],
   "source": []
  },
  {
   "cell_type": "code",
   "execution_count": null,
   "metadata": {},
   "outputs": [],
   "source": []
  },
  {
   "cell_type": "code",
   "execution_count": 5,
   "metadata": {},
   "outputs": [],
   "source": [
    "X_all = df_fakebr['TEXT_CLEAN']\n",
    "y_all = df_fakebr['FAKE']"
   ]
  },
  {
   "cell_type": "code",
   "execution_count": 6,
   "metadata": {},
   "outputs": [],
   "source": []
  },
  {
   "cell_type": "code",
   "execution_count": 21,
   "metadata": {},
   "outputs": [],
   "source": [
    "vectorizer_list = [\n",
    "    TfidfVectorizer(ngram_range=(1, 2), min_df=5, max_df=0.9, max_features=10000)\n",
    "]\n",
    "\n",
    "\n",
    "pipe = Pipeline([('vect', vectorizer_list[0]), ('clf', LogisticRegression())])\n",
    "\n",
    "param_grid = {\n",
    "    'clf__C': [0.001, 0.01, 0.1, 1, 10, 100, 1000],\n",
    "    'clf__solver': ['lbfgs', 'saga'],\n",
    "    'clf__tol': [1e-6, 1e-5, 1e-4, 1e-3, 1e-2, 1e-1, 1, 10, 100]\n",
    "}"
   ]
  },
  {
   "cell_type": "code",
   "execution_count": 23,
   "metadata": {
    "scrolled": true
   },
   "outputs": [
    {
     "name": "stdout",
     "output_type": "stream",
     "text": [
      "Fitting 5 folds for each of 126 candidates, totalling 630 fits\n"
     ]
    },
    {
     "name": "stderr",
     "output_type": "stream",
     "text": [
      "[Parallel(n_jobs=3)]: Using backend LokyBackend with 3 concurrent workers.\n",
      "[Parallel(n_jobs=3)]: Done   2 tasks      | elapsed:    4.4s\n",
      "[Parallel(n_jobs=3)]: Done   7 tasks      | elapsed:    8.7s\n",
      "[Parallel(n_jobs=3)]: Done  12 tasks      | elapsed:   12.1s\n",
      "[Parallel(n_jobs=3)]: Done  19 tasks      | elapsed:   19.0s\n",
      "[Parallel(n_jobs=3)]: Done  26 tasks      | elapsed:   25.5s\n",
      "[Parallel(n_jobs=3)]: Done  35 tasks      | elapsed:   35.1s\n",
      "[Parallel(n_jobs=3)]: Done  44 tasks      | elapsed:   46.6s\n",
      "[Parallel(n_jobs=3)]: Done  55 tasks      | elapsed:  1.1min\n",
      "[Parallel(n_jobs=3)]: Done  66 tasks      | elapsed:  1.3min\n",
      "[Parallel(n_jobs=3)]: Done  79 tasks      | elapsed:  1.6min\n",
      "[Parallel(n_jobs=3)]: Done  92 tasks      | elapsed:  1.8min\n",
      "[Parallel(n_jobs=3)]: Done 107 tasks      | elapsed:  2.0min\n",
      "[Parallel(n_jobs=3)]: Done 122 tasks      | elapsed:  2.2min\n",
      "[Parallel(n_jobs=3)]: Done 139 tasks      | elapsed:  2.5min\n",
      "[Parallel(n_jobs=3)]: Done 156 tasks      | elapsed:  2.8min\n",
      "[Parallel(n_jobs=3)]: Done 175 tasks      | elapsed:  3.1min\n",
      "[Parallel(n_jobs=3)]: Done 194 tasks      | elapsed:  3.4min\n",
      "[Parallel(n_jobs=3)]: Done 215 tasks      | elapsed:  3.7min\n",
      "[Parallel(n_jobs=3)]: Done 236 tasks      | elapsed:  4.1min\n",
      "[Parallel(n_jobs=3)]: Done 259 tasks      | elapsed:  4.5min\n",
      "[Parallel(n_jobs=3)]: Done 282 tasks      | elapsed:  4.9min\n",
      "[Parallel(n_jobs=3)]: Done 307 tasks      | elapsed:  5.4min\n",
      "[Parallel(n_jobs=3)]: Done 332 tasks      | elapsed:  5.8min\n",
      "[Parallel(n_jobs=3)]: Done 359 tasks      | elapsed:  6.3min\n",
      "[Parallel(n_jobs=3)]: Done 386 tasks      | elapsed:  6.7min\n",
      "[Parallel(n_jobs=3)]: Done 415 tasks      | elapsed:  7.3min\n",
      "[Parallel(n_jobs=3)]: Done 444 tasks      | elapsed:  7.8min\n",
      "[Parallel(n_jobs=3)]: Done 475 tasks      | elapsed:  8.3min\n",
      "[Parallel(n_jobs=3)]: Done 506 tasks      | elapsed:  8.8min\n",
      "[Parallel(n_jobs=3)]: Done 539 tasks      | elapsed:  9.4min\n",
      "[Parallel(n_jobs=3)]: Done 572 tasks      | elapsed: 10.0min\n",
      "[Parallel(n_jobs=3)]: Done 607 tasks      | elapsed: 10.7min\n",
      "[Parallel(n_jobs=3)]: Done 630 out of 630 | elapsed: 11.0min finished\n"
     ]
    },
    {
     "data": {
      "text/plain": [
       "GridSearchCV(cv=5, error_score='raise-deprecating',\n",
       "             estimator=Pipeline(memory=None,\n",
       "                                steps=[('vect',\n",
       "                                        TfidfVectorizer(analyzer='word',\n",
       "                                                        binary=False,\n",
       "                                                        decode_error='strict',\n",
       "                                                        dtype=<class 'numpy.float64'>,\n",
       "                                                        encoding='utf-8',\n",
       "                                                        input='content',\n",
       "                                                        lowercase=True,\n",
       "                                                        max_df=0.9,\n",
       "                                                        max_features=10000,\n",
       "                                                        min_df=5,\n",
       "                                                        ngram_range=(1, 2),\n",
       "                                                        norm='l2',\n",
       "                                                        preprocessor=None,\n",
       "                                                        smooth_idf=True,\n",
       "                                                        stop_word...\n",
       "                                                           random_state=None,\n",
       "                                                           solver='warn',\n",
       "                                                           tol=0.0001,\n",
       "                                                           verbose=0,\n",
       "                                                           warm_start=False))],\n",
       "                                verbose=False),\n",
       "             iid='warn', n_jobs=3,\n",
       "             param_grid={'clf__C': [0.001, 0.01, 0.1, 1, 10, 100, 1000],\n",
       "                         'clf__class_weight': ['balanced'],\n",
       "                         'clf__solver': ['lbfgs', 'saga'],\n",
       "                         'clf__tol': [1e-06, 1e-05, 0.0001, 0.001, 0.01, 0.1, 1,\n",
       "                                      10, 100]},\n",
       "             pre_dispatch='2*n_jobs', refit=True, return_train_score=False,\n",
       "             scoring=None, verbose=10)"
      ]
     },
     "execution_count": 23,
     "metadata": {},
     "output_type": "execute_result"
    }
   ],
   "source": [
    "gscv = GridSearchCV(pipe, param_grid, cv=5, n_jobs=3, verbose=10)\n",
    "gscv.fit(X_all, y_all)"
   ]
  },
  {
   "cell_type": "code",
   "execution_count": 24,
   "metadata": {},
   "outputs": [
    {
     "name": "stdout",
     "output_type": "stream",
     "text": [
      "Best parameter (CV score=0.891):\n",
      "{'clf__C': 100, 'clf__class_weight': 'balanced', 'clf__solver': 'saga', 'clf__tol': 0.01}\n"
     ]
    }
   ],
   "source": [
    "print(\"Best parameter (CV score={:.3f}):\".format(gscv.best_score_))\n",
    "print(gscv.best_params_)\n"
   ]
  },
  {
   "cell_type": "code",
   "execution_count": 25,
   "metadata": {},
   "outputs": [],
   "source": [
    "# Best parameter (CV score=0.891):\n",
    "# {'clf__C': 100, 'clf__class_weight': 'balanced', 'clf__solver': 'saga', 'clf__tol': 0.01}"
   ]
  },
  {
   "cell_type": "code",
   "execution_count": null,
   "metadata": {},
   "outputs": [],
   "source": []
  },
  {
   "cell_type": "code",
   "execution_count": 16,
   "metadata": {},
   "outputs": [],
   "source": [
    "vectorizer_list = [\n",
    "    TfidfVectorizer(ngram_range=(1, 2), min_df=5, max_df=0.9, max_features=10000)\n",
    "]\n",
    "\n",
    "\n",
    "pipe = Pipeline([('vect', vectorizer_list[0]), ('clf', SVC())])\n",
    "\n",
    "param_grid = {\n",
    "    'clf__C': [0.1, 1, 10],\n",
    "    'clf__class_weight': ['balanced'],\n",
    "    'clf__tol': [1e-6, 1e-4],\n",
    "    'clf__gamma': [0.0001, 0.001, 0.01, 0.1, 1],\n",
    "    'clf__kernel': ['linear']\n",
    "}"
   ]
  },
  {
   "cell_type": "code",
   "execution_count": 17,
   "metadata": {
    "scrolled": true
   },
   "outputs": [
    {
     "name": "stdout",
     "output_type": "stream",
     "text": [
      "Fitting 5 folds for each of 30 candidates, totalling 150 fits\n"
     ]
    },
    {
     "name": "stderr",
     "output_type": "stream",
     "text": [
      "[Parallel(n_jobs=3)]: Using backend LokyBackend with 3 concurrent workers.\n",
      "[Parallel(n_jobs=3)]: Done   2 tasks      | elapsed:   20.1s\n",
      "[Parallel(n_jobs=3)]: Done   7 tasks      | elapsed:   56.7s\n",
      "[Parallel(n_jobs=3)]: Done  12 tasks      | elapsed:  1.3min\n",
      "[Parallel(n_jobs=3)]: Done  19 tasks      | elapsed:  2.1min\n",
      "[Parallel(n_jobs=3)]: Done  26 tasks      | elapsed:  2.8min\n",
      "[Parallel(n_jobs=3)]: Done  35 tasks      | elapsed:  3.7min\n",
      "[Parallel(n_jobs=3)]: Done  44 tasks      | elapsed:  4.6min\n",
      "[Parallel(n_jobs=3)]: Done  55 tasks      | elapsed:  5.6min\n",
      "[Parallel(n_jobs=3)]: Done  66 tasks      | elapsed:  6.4min\n",
      "[Parallel(n_jobs=3)]: Done  79 tasks      | elapsed:  7.5min\n",
      "[Parallel(n_jobs=3)]: Done  92 tasks      | elapsed:  8.4min\n",
      "[Parallel(n_jobs=3)]: Done 107 tasks      | elapsed:  9.7min\n",
      "[Parallel(n_jobs=3)]: Done 122 tasks      | elapsed: 11.0min\n",
      "[Parallel(n_jobs=3)]: Done 139 tasks      | elapsed: 12.6min\n",
      "[Parallel(n_jobs=3)]: Done 150 out of 150 | elapsed: 13.5min finished\n"
     ]
    },
    {
     "data": {
      "text/plain": [
       "GridSearchCV(cv=5, error_score='raise-deprecating',\n",
       "             estimator=Pipeline(memory=None,\n",
       "                                steps=[('vect',\n",
       "                                        TfidfVectorizer(analyzer='word',\n",
       "                                                        binary=False,\n",
       "                                                        decode_error='strict',\n",
       "                                                        dtype=<class 'numpy.float64'>,\n",
       "                                                        encoding='utf-8',\n",
       "                                                        input='content',\n",
       "                                                        lowercase=True,\n",
       "                                                        max_df=0.9,\n",
       "                                                        max_features=10000,\n",
       "                                                        min_df=5,\n",
       "                                                        ngram_range=(1, 2),\n",
       "                                                        norm='l2',\n",
       "                                                        preprocessor=None,\n",
       "                                                        smooth_idf=True,\n",
       "                                                        stop_word...\n",
       "                                            probability=False,\n",
       "                                            random_state=None, shrinking=True,\n",
       "                                            tol=0.001, verbose=False))],\n",
       "                                verbose=False),\n",
       "             iid='warn', n_jobs=3,\n",
       "             param_grid={'clf__C': [0.1, 1, 10],\n",
       "                         'clf__class_weight': ['balanced'],\n",
       "                         'clf__gamma': [0.0001, 0.001, 0.01, 0.1, 1],\n",
       "                         'clf__kernel': ['linear'],\n",
       "                         'clf__tol': [1e-06, 0.0001]},\n",
       "             pre_dispatch='2*n_jobs', refit=True, return_train_score=False,\n",
       "             scoring=None, verbose=10)"
      ]
     },
     "execution_count": 17,
     "metadata": {},
     "output_type": "execute_result"
    }
   ],
   "source": [
    "gscv = GridSearchCV(pipe, param_grid, cv=5, n_jobs=3, verbose=10)\n",
    "gscv.fit(X_all, y_all)"
   ]
  },
  {
   "cell_type": "code",
   "execution_count": 18,
   "metadata": {},
   "outputs": [
    {
     "name": "stdout",
     "output_type": "stream",
     "text": [
      "Best parameter (CV score=0.888):\n",
      "{'clf__C': 1, 'clf__class_weight': 'balanced', 'clf__gamma': 0.0001, 'clf__kernel': 'linear', 'clf__tol': 1e-06}\n"
     ]
    }
   ],
   "source": [
    "print(\"Best parameter (CV score={:.3f}):\".format(gscv.best_score_))\n",
    "print(gscv.best_params_)\n"
   ]
  },
  {
   "cell_type": "code",
   "execution_count": null,
   "metadata": {},
   "outputs": [],
   "source": []
  }
 ],
 "metadata": {
  "kernelspec": {
   "display_name": "Python 3",
   "language": "python",
   "name": "python3"
  },
  "language_info": {
   "codemirror_mode": {
    "name": "ipython",
    "version": 3
   },
   "file_extension": ".py",
   "mimetype": "text/x-python",
   "name": "python",
   "nbconvert_exporter": "python",
   "pygments_lexer": "ipython3",
   "version": "3.7.3"
  }
 },
 "nbformat": 4,
 "nbformat_minor": 2
}
