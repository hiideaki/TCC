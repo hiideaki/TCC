{
 "cells": [
  {
   "cell_type": "markdown",
   "metadata": {},
   "source": [
    "# Doing hyper-parameter optimization for the best selected pipeline\n",
    "\n",
    "Best selected pipeline: TF-IDF + LogisticRegression with the Fake.Br corpus"
   ]
  },
  {
   "cell_type": "code",
   "execution_count": 1,
   "metadata": {},
   "outputs": [],
   "source": [
    "import pickle as pkl\n",
    "import seaborn as sns\n",
    "import matplotlib.pyplot as plt\n",
    "import re\n",
    "import pandas as pd\n",
    "import numpy as np\n",
    "import os\n",
    "import seaborn as sns\n",
    "import matplotlib.pyplot as plt\n",
    "import math\n",
    "\n",
    "from tqdm import tqdm_notebook\n",
    "from collections import Counter\n",
    "from glob import glob\n",
    "from unidecode import unidecode\n",
    "from nltk.corpus import stopwords\n",
    "from datetime import datetime\n",
    "\n",
    "import utils\n",
    "\n",
    "%matplotlib inline\n",
    "\n",
    "sns.set(style=\"darkgrid\")"
   ]
  },
  {
   "cell_type": "code",
   "execution_count": 2,
   "metadata": {},
   "outputs": [],
   "source": [
    "PATH = '../'\n",
    "\n",
    "PROCESSED_DATA_PATH = os.path.join(PATH, 'data/processed/')\n",
    "\n",
    "DF_PRIME_TRUNCATED_PATH = os.path.join(PROCESSED_DATA_PATH, 'df_prime_truncated.pkl')\n",
    "DF_USP_TRUNCATED_PATH = os.path.join(PROCESSED_DATA_PATH, 'df_usp_truncated_clean.pkl')\n",
    "\n",
    "\n",
    "STOPWORDS = utils.get_stopwords()"
   ]
  },
  {
   "cell_type": "code",
   "execution_count": 3,
   "metadata": {},
   "outputs": [],
   "source": [
    "df_fakebr = pkl.load(open(DF_USP_TRUNCATED_PATH, 'rb'))"
   ]
  },
  {
   "cell_type": "code",
   "execution_count": 4,
   "metadata": {},
   "outputs": [],
   "source": [
    "from imblearn.under_sampling import RandomUnderSampler\n",
    "\n",
    "from sklearn.feature_extraction.text import CountVectorizer, TfidfVectorizer\n",
    "from sklearn.model_selection import cross_val_score, train_test_split\n",
    "from sklearn.model_selection import GridSearchCV\n",
    "from sklearn.metrics import accuracy_score, f1_score, recall_score, precision_score, confusion_matrix, classification_report\n",
    "\n",
    "from sklearn.linear_model import LogisticRegression\n",
    "from sklearn.ensemble import RandomForestClassifier\n",
    "from sklearn.naive_bayes import GaussianNB\n",
    "from sklearn.svm import SVC\n",
    "from sklearn.svm import LinearSVC\n",
    "\n",
    "from sklearn.calibration import CalibratedClassifierCV\n",
    "\n",
    "from sklearn.pipeline import Pipeline"
   ]
  },
  {
   "cell_type": "code",
   "execution_count": 5,
   "metadata": {},
   "outputs": [],
   "source": [
    "PATH = '../'\n",
    "\n",
    "PROCESSED_DATA_PATH = os.path.join(PATH, 'data/processed/')\n",
    "\n",
    "DF_PRIME_TRUNCATED_PATH = os.path.join(PROCESSED_DATA_PATH, 'df_prime_truncated.pkl')\n",
    "DF_USP_TRUNCATED_PATH = os.path.join(PROCESSED_DATA_PATH, 'df_usp_truncated_clean.pkl')\n",
    "\n",
    "\n",
    "STOPWORDS = utils.get_stopwords()\n",
    "\n",
    "df_prime = pkl.load(open(DF_PRIME_TRUNCATED_PATH, 'rb'))\n",
    "\n",
    "df_fakebr = pkl.load(open(DF_USP_TRUNCATED_PATH, 'rb'))"
   ]
  },
  {
   "cell_type": "code",
   "execution_count": 6,
   "metadata": {},
   "outputs": [],
   "source": [
    "X_train_prime, X_test_prime, y_train_prime, y_test_prime = \\\n",
    "    train_test_split(df_prime['TEXT_CLEAN'], df_prime['FAKE'], test_size=0.3, random_state=42)"
   ]
  },
  {
   "cell_type": "code",
   "execution_count": 7,
   "metadata": {},
   "outputs": [],
   "source": [
    "X_train_fakebr, X_test_fakebr, y_train_fakebr, y_test_fakebr = \\\n",
    "    train_test_split(df_fakebr['TEXT_CLEAN'], df_fakebr['FAKE'], test_size=0.3, random_state=42)"
   ]
  },
  {
   "cell_type": "code",
   "execution_count": 8,
   "metadata": {},
   "outputs": [],
   "source": [
    "X_train_all = list(X_train_fakebr) + list(X_train_prime)\n",
    "y_train_all = list(y_train_fakebr) + list(y_train_prime)"
   ]
  },
  {
   "cell_type": "code",
   "execution_count": 9,
   "metadata": {},
   "outputs": [],
   "source": [
    "X_aux = list(X_test_fakebr) + list(X_test_prime)\n",
    "y_aux = list(y_test_fakebr) + list(y_test_prime)\n",
    "src_aux = len(list(y_test_fakebr)) * ['fakebr'] + len(list(y_test_prime)) * ['prime']\n",
    "\n",
    "df_resample = pd.DataFrame({'X': X_aux, 'y': y_aux, 'src': src_aux})\n",
    "rus = RandomUnderSampler()\n",
    "resampled = rus.fit_resample(df_resample[['X', 'y']], df_resample['src'])\n",
    "\n",
    "X_test_all = [item[0] for item in resampled[0]]\n",
    "y_test_all = [item[1] for item in resampled[0]]"
   ]
  },
  {
   "cell_type": "markdown",
   "metadata": {},
   "source": [
    "## Choosing grid_search parameters to explore"
   ]
  },
  {
   "cell_type": "code",
   "execution_count": 10,
   "metadata": {},
   "outputs": [],
   "source": [
    "vectorizer_list = [\n",
    "    TfidfVectorizer(ngram_range=(1, 2), min_df=5, max_df=0.9, max_features=10000)\n",
    "]\n",
    "\n",
    "\n",
    "pipe = Pipeline([('vect', vectorizer_list[0]), ('clf', LogisticRegression())])\n",
    "\n",
    "param_grid = {\n",
    "    'clf__C': [0.001, 0.01, 0.1, 1, 10, 100, 1000],\n",
    "    'clf__solver': ['lbfgs', 'saga'],\n",
    "    'clf__tol': [1e-5, 1e-4, 1e-3, 1e-2]\n",
    "}"
   ]
  },
  {
   "cell_type": "markdown",
   "metadata": {},
   "source": [
    "## Calling grid_search"
   ]
  },
  {
   "cell_type": "code",
   "execution_count": null,
   "metadata": {
    "scrolled": true
   },
   "outputs": [],
   "source": [
    "gscv = GridSearchCV(pipe, param_grid, cv=5, n_jobs=4, verbose=10)\n",
    "gscv.fit(X_train_fakebr, y_train_fakebr)"
   ]
  },
  {
   "cell_type": "code",
   "execution_count": null,
   "metadata": {},
   "outputs": [],
   "source": [
    "print(\"Best parameter (CV score={:.3f}):\".format(gscv.best_score_))\n",
    "print(gscv.best_params_)\n"
   ]
  },
  {
   "cell_type": "code",
   "execution_count": null,
   "metadata": {},
   "outputs": [],
   "source": []
  },
  {
   "cell_type": "code",
   "execution_count": null,
   "metadata": {},
   "outputs": [],
   "source": []
  },
  {
   "cell_type": "code",
   "execution_count": null,
   "metadata": {},
   "outputs": [],
   "source": []
  },
  {
   "cell_type": "code",
   "execution_count": 11,
   "metadata": {},
   "outputs": [],
   "source": [
    "clf_kwargs = {'C': 100, 'solver': 'saga', 'tol': 0.0001}\n",
    "\n",
    "pipe = Pipeline([\n",
    "    ('vect', TfidfVectorizer(ngram_range=(1, 2), min_df=5, max_df=0.9, max_features=10000)), \n",
    "    ('clf', LogisticRegression(**clf_kwargs))\n",
    "])\n"
   ]
  },
  {
   "cell_type": "code",
   "execution_count": 12,
   "metadata": {
    "scrolled": true
   },
   "outputs": [
    {
     "name": "stderr",
     "output_type": "stream",
     "text": [
      "D:\\Anaconda\\lib\\site-packages\\sklearn\\linear_model\\sag.py:337: ConvergenceWarning: The max_iter was reached which means the coef_ did not converge\n",
      "  \"the coef_ did not converge\", ConvergenceWarning)\n"
     ]
    },
    {
     "data": {
      "text/plain": [
       "Pipeline(memory=None,\n",
       "         steps=[('vect',\n",
       "                 TfidfVectorizer(analyzer='word', binary=False,\n",
       "                                 decode_error='strict',\n",
       "                                 dtype=<class 'numpy.float64'>,\n",
       "                                 encoding='utf-8', input='content',\n",
       "                                 lowercase=True, max_df=0.9, max_features=10000,\n",
       "                                 min_df=5, ngram_range=(1, 2), norm='l2',\n",
       "                                 preprocessor=None, smooth_idf=True,\n",
       "                                 stop_words=None, strip_accents=None,\n",
       "                                 sublinear_tf=False,\n",
       "                                 token_pattern='(?u)\\\\b\\\\w\\\\w+\\\\b',\n",
       "                                 tokenizer=None, use_idf=True,\n",
       "                                 vocabulary=None)),\n",
       "                ('clf',\n",
       "                 LogisticRegression(C=100, class_weight=None, dual=False,\n",
       "                                    fit_intercept=True, intercept_scaling=1,\n",
       "                                    l1_ratio=None, max_iter=100,\n",
       "                                    multi_class='warn', n_jobs=None,\n",
       "                                    penalty='l2', random_state=None,\n",
       "                                    solver='saga', tol=0.0001, verbose=0,\n",
       "                                    warm_start=False))],\n",
       "         verbose=False)"
      ]
     },
     "execution_count": 12,
     "metadata": {},
     "output_type": "execute_result"
    }
   ],
   "source": [
    "pipe.fit(X_train_fakebr, y_train_fakebr)"
   ]
  },
  {
   "cell_type": "code",
   "execution_count": 13,
   "metadata": {},
   "outputs": [],
   "source": [
    "y_pred = pipe.predict(X_test_all)"
   ]
  },
  {
   "cell_type": "code",
   "execution_count": 14,
   "metadata": {},
   "outputs": [
    {
     "name": "stdout",
     "output_type": "stream",
     "text": [
      "              precision    recall  f1-score   support\n",
      "\n",
      "           0       0.85      0.87      0.86       352\n",
      "           1       0.88      0.86      0.87       386\n",
      "\n",
      "    accuracy                           0.86       738\n",
      "   macro avg       0.86      0.86      0.86       738\n",
      "weighted avg       0.86      0.86      0.86       738\n",
      "\n"
     ]
    }
   ],
   "source": [
    "print(classification_report(y_test_all, y_pred))"
   ]
  },
  {
   "cell_type": "code",
   "execution_count": 15,
   "metadata": {},
   "outputs": [
    {
     "name": "stdout",
     "output_type": "stream",
     "text": [
      "[[306  46]\n",
      " [ 54 332]]\n"
     ]
    }
   ],
   "source": [
    "print(confusion_matrix(y_test_all, y_pred))"
   ]
  },
  {
   "cell_type": "code",
   "execution_count": 16,
   "metadata": {},
   "outputs": [
    {
     "data": {
      "text/plain": [
       "0.8644986449864499"
      ]
     },
     "execution_count": 16,
     "metadata": {},
     "output_type": "execute_result"
    }
   ],
   "source": [
    "accuracy_score(y_test_all, y_pred)"
   ]
  },
  {
   "cell_type": "markdown",
   "metadata": {},
   "source": [
    "## Hypothesis test: confidence (proba) threshold usage\n",
    "\n",
    "As the confidence in a prediction increases, the more certain the classifier is about it. By establishing a confidence threshold you might get better results (accuracy-wise) in exchange of entries that will not be classified (because it didn't reach the minimum established by the threshold)."
   ]
  },
  {
   "cell_type": "code",
   "execution_count": 17,
   "metadata": {},
   "outputs": [],
   "source": [
    "def proba_thresh(pipe, X_test, y_test, threshold):\n",
    "\n",
    "    y_proba = pipe.predict_proba(X_test)\n",
    "    y_pred_proba = []\n",
    "    y_test_proba = []\n",
    "\n",
    "\n",
    "    for i, proba in enumerate(y_proba):\n",
    "        if proba.max() > threshold:\n",
    "            y_pred_proba.append(y_pred[i])\n",
    "            y_test_proba.append(y_test[i])\n",
    "\n",
    "    coverage = len(y_test_proba) / len(y_test)\n",
    "    \n",
    "    return (y_test_proba, y_pred_proba, coverage)"
   ]
  },
  {
   "cell_type": "code",
   "execution_count": 18,
   "metadata": {},
   "outputs": [
    {
     "data": {
      "text/plain": [
       "[<matplotlib.lines.Line2D at 0x1594b7b2278>]"
      ]
     },
     "execution_count": 18,
     "metadata": {},
     "output_type": "execute_result"
    },
    {
     "data": {
      "image/png": "[encoded data removed]",
      "text/plain": [
       "<Figure size 1080x576 with 1 Axes>"
      ]
     },
     "metadata": {
      "needs_background": "light"
     },
     "output_type": "display_data"
    }
   ],
   "source": [
    "accuracy = []\n",
    "coverage = []\n",
    "\n",
    "img, ax = plt.subplots(figsize=(15, 8))\n",
    "\n",
    "\n",
    "for i in np.arange(0.5, 1, 0.05):\n",
    "    x = round(i, 2)\n",
    "    \n",
    "    y_test_aux, y_pred_aux, cover = proba_thresh(pipe, X_test_all, y_test_all, x)\n",
    "    accuracy_aux = accuracy_score(y_test_aux, y_pred_aux)\n",
    "    accuracy.append(accuracy_aux)\n",
    "    coverage.append(cover)\n",
    "    plt.text(x - 0.01, accuracy_aux + 0.01, round(accuracy_aux, 3), color=\"#666666\", fontweight=\"bold\")\n",
    "    plt.text(x, cover + 0.01, round(cover, 3), color=\"#666666\", fontweight=\"bold\")\n",
    "    \n",
    "    \n",
    "plt.bar(np.arange(0.5, 1, 0.05), accuracy, width=0.01)\n",
    "plt.plot(np.arange(0.5, 1, 0.05), accuracy)\n",
    "plt.bar(np.arange(0.5, 1, 0.05) + 0.01, coverage, width=0.01)\n",
    "plt.plot(np.arange(0.5, 1, 0.05) + 0.01, coverage)"
   ]
  },
  {
   "cell_type": "code",
   "execution_count": null,
   "metadata": {},
   "outputs": [],
   "source": [
    "# Orange bar = coverage\n",
    "# Blue bar = accuracy"
   ]
  },
  {
   "cell_type": "code",
   "execution_count": null,
   "metadata": {},
   "outputs": [],
   "source": []
  },
  {
   "cell_type": "code",
   "execution_count": null,
   "metadata": {},
   "outputs": [],
   "source": [
    "print(classification_report(y_test_proba, y_pred_proba)), coverage"
   ]
  },
  {
   "cell_type": "markdown",
   "metadata": {},
   "source": [
    "## Dumping final pipeline"
   ]
  },
  {
   "cell_type": "code",
   "execution_count": null,
   "metadata": {},
   "outputs": [],
   "source": [
    "with open('../data/processed/pipeline.pkl', 'wb') as f:\n",
    "    pkl.dump(pipe, f)"
   ]
  },
  {
   "cell_type": "code",
   "execution_count": null,
   "metadata": {},
   "outputs": [],
   "source": []
  },
  {
   "cell_type": "code",
   "execution_count": null,
   "metadata": {},
   "outputs": [],
   "source": []
  },
  {
   "cell_type": "code",
   "execution_count": null,
   "metadata": {},
   "outputs": [],
   "source": []
  },
  {
   "cell_type": "code",
   "execution_count": null,
   "metadata": {},
   "outputs": [],
   "source": []
  },
  {
   "cell_type": "code",
   "execution_count": null,
   "metadata": {},
   "outputs": [],
   "source": []
  }
 ],
 "metadata": {
  "kernelspec": {
   "display_name": "Python 3",
   "language": "python",
   "name": "python3"
  },
  "language_info": {
   "codemirror_mode": {
    "name": "ipython",
    "version": 3
   },
   "file_extension": ".py",
   "mimetype": "text/x-python",
   "name": "python",
   "nbconvert_exporter": "python",
   "pygments_lexer": "ipython3",
   "version": "3.7.3"
  }
 },
 "nbformat": 4,
 "nbformat_minor": 2
}
