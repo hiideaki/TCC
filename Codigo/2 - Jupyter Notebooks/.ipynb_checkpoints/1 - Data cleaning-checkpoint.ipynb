{
 "cells": [
  {
   "cell_type": "markdown",
   "metadata": {},
   "source": [
    "# Data Preprocessing\n",
    "\n",
    "In this notebook the JSONs extracted by the crawlers are loaded and normalized:\n",
    " - Dates are changed to the format **dd/mm/yyyy**\n",
    " - Texts are cleaned (removing non-alphabetic characters, lowering the case, etc.)\n",
    " "
   ]
  },
  {
   "cell_type": "code",
   "execution_count": 1,
   "metadata": {},
   "outputs": [],
   "source": [
    "import re\n",
    "import pandas as pd\n",
    "import numpy as np\n",
    "import json\n",
    "import pickle as pkl\n",
    "import os\n",
    "from nltk.corpus import stopwords\n",
    "from nltk.stem.snowball import SnowballStemmer\n",
    "\n",
    "from unidecode import unidecode\n",
    "from glob import glob"
   ]
  },
  {
   "cell_type": "markdown",
   "metadata": {},
   "source": [
    "## Defining variables"
   ]
  },
  {
   "cell_type": "code",
   "execution_count": 8,
   "metadata": {},
   "outputs": [],
   "source": [
    "PATH = '../'\n",
    "\n",
    "RAW_DATA_PATH = os.path.join(PATH, 'data/raw/')\n",
    "\n",
    "BOATOS_PATH = RAW_DATA_PATH + 'output.json'\n",
    "ELPAIS_PATH = RAW_DATA_PATH + 'elpais.json'\n",
    "G1_PATH = RAW_DATA_PATH + 'g1.json'\n",
    "\n",
    "OUTPUT_PATH = os.path.join(PATH, 'data/processed/')\n",
    "\n",
    "STOPWORDS = set(unidecode(sw) for sw in stopwords.words('portuguese'))"
   ]
  },
  {
   "cell_type": "markdown",
   "metadata": {},
   "source": [
    "## Making FAKE NEWS DataFrame\n",
    "### Loading JSON"
   ]
  },
  {
   "cell_type": "code",
   "execution_count": 10,
   "metadata": {},
   "outputs": [],
   "source": [
    "with open(BOATOS_PATH, 'r') as f:\n",
    "    boatos = json.load(f)\n",
    "    \n",
    "for i, item in enumerate(boatos):\n",
    "    boatos[i]['text'] = ' '.join(item['text'])    "
   ]
  },
  {
   "cell_type": "markdown",
   "metadata": {},
   "source": [
    "### Making DataFrame"
   ]
  },
  {
   "cell_type": "code",
   "execution_count": 11,
   "metadata": {},
   "outputs": [
    {
     "data": {
      "text/html": [
       "<div>\n",
       "<style scoped>\n",
       "    .dataframe tbody tr th:only-of-type {\n",
       "        vertical-align: middle;\n",
       "    }\n",
       "\n",
       "    .dataframe tbody tr th {\n",
       "        vertical-align: top;\n",
       "    }\n",
       "\n",
       "    .dataframe thead th {\n",
       "        text-align: right;\n",
       "    }\n",
       "</style>\n",
       "<table border=\"1\" class=\"dataframe\">\n",
       "  <thead>\n",
       "    <tr style=\"text-align: right;\">\n",
       "      <th></th>\n",
       "      <th>DATE</th>\n",
       "      <th>TEXT</th>\n",
       "      <th>TITLE</th>\n",
       "      <th>FAKE</th>\n",
       "    </tr>\n",
       "  </thead>\n",
       "  <tbody>\n",
       "    <tr>\n",
       "      <th>0</th>\n",
       "      <td>20/09/2019</td>\n",
       "      <td>“bolsonaro demite presidente da caixa e exige ...</td>\n",
       "      <td>\\n   \\t\\t\\tBolsonaro demite presidente da Caix...</td>\n",
       "      <td>1</td>\n",
       "    </tr>\n",
       "    <tr>\n",
       "      <th>1</th>\n",
       "      <td>25/09/2019</td>\n",
       "      <td>Todo mundo tinha certeza, inclusive quem era o...</td>\n",
       "      <td>\\n   \\t\\t\\tMarcos Valério grava áudio falando ...</td>\n",
       "      <td>1</td>\n",
       "    </tr>\n",
       "    <tr>\n",
       "      <th>2</th>\n",
       "      <td>02/10/2019</td>\n",
       "      <td></td>\n",
       "      <td>\\n   \\t\\t\\tDilma diz que, assim como Janot, ia...</td>\n",
       "      <td>1</td>\n",
       "    </tr>\n",
       "    <tr>\n",
       "      <th>3</th>\n",
       "      <td>20/09/2019</td>\n",
       "      <td></td>\n",
       "      <td>\\n   \\t\\t\\tBolsonaro traz ultrassom que destró...</td>\n",
       "      <td>1</td>\n",
       "    </tr>\n",
       "    <tr>\n",
       "      <th>4</th>\n",
       "      <td>06/10/2019</td>\n",
       "      <td>700 empresas do Japão querem investir no Brasi...</td>\n",
       "      <td>\\n   \\t\\t\\t700 empresas querem investir no Bra...</td>\n",
       "      <td>1</td>\n",
       "    </tr>\n",
       "  </tbody>\n",
       "</table>\n",
       "</div>"
      ],
      "text/plain": [
       "         DATE                                               TEXT  \\\n",
       "0  20/09/2019  “bolsonaro demite presidente da caixa e exige ...   \n",
       "1  25/09/2019  Todo mundo tinha certeza, inclusive quem era o...   \n",
       "2  02/10/2019                                                      \n",
       "3  20/09/2019                                                      \n",
       "4  06/10/2019  700 empresas do Japão querem investir no Brasi...   \n",
       "\n",
       "                                               TITLE  FAKE  \n",
       "0  \\n   \\t\\t\\tBolsonaro demite presidente da Caix...     1  \n",
       "1  \\n   \\t\\t\\tMarcos Valério grava áudio falando ...     1  \n",
       "2  \\n   \\t\\t\\tDilma diz que, assim como Janot, ia...     1  \n",
       "3  \\n   \\t\\t\\tBolsonaro traz ultrassom que destró...     1  \n",
       "4  \\n   \\t\\t\\t700 empresas querem investir no Bra...     1  "
      ]
     },
     "execution_count": 11,
     "metadata": {},
     "output_type": "execute_result"
    }
   ],
   "source": [
    "df_fake = pd.DataFrame(boatos)\n",
    "df_fake['FAKE'] = 1\n",
    "df_fake.rename({'date': 'DATE', 'text': 'TEXT', 'title': 'TITLE'}, axis=1, inplace=True)\n",
    "\n",
    "df_fake.head()"
   ]
  },
  {
   "cell_type": "code",
   "execution_count": 12,
   "metadata": {},
   "outputs": [
    {
     "data": {
      "text/plain": [
       "(1301, 4)"
      ]
     },
     "execution_count": 12,
     "metadata": {},
     "output_type": "execute_result"
    }
   ],
   "source": [
    "df_fake.shape"
   ]
  },
  {
   "cell_type": "code",
   "execution_count": null,
   "metadata": {},
   "outputs": [],
   "source": []
  },
  {
   "cell_type": "markdown",
   "metadata": {},
   "source": [
    "## Making LEGIT NEWS DataFrame\n",
    "### Loading JSONs"
   ]
  },
  {
   "cell_type": "code",
   "execution_count": 13,
   "metadata": {
    "scrolled": true
   },
   "outputs": [],
   "source": [
    "with open(G1_PATH, 'r') as f:\n",
    "    g1 = json.load(f)\n",
    "    \n",
    "for i, item in enumerate(g1):\n",
    "    g1[i]['text'] = ' '.join(item['text'])\n",
    "\n",
    "with open(ELPAIS_PATH, 'r') as f:\n",
    "    elpais = json.load(f)\n",
    "\n",
    "for i, item in enumerate(elpais):\n",
    "    elpais[i]['text'] = ' '.join(item['text'])"
   ]
  },
  {
   "cell_type": "markdown",
   "metadata": {},
   "source": [
    "### Normalizing El Pais dates"
   ]
  },
  {
   "cell_type": "code",
   "execution_count": 14,
   "metadata": {},
   "outputs": [],
   "source": [
    "month_dict = {\n",
    "    'JAN': '01',\n",
    "    'FEV': '02',\n",
    "    'MAR': '03',\n",
    "    'ABR': '04',\n",
    "    'MAI': '05',\n",
    "    'JUN': '06',\n",
    "    'JUL': '07',\n",
    "    'AGO': '08',\n",
    "    'SET': '09',\n",
    "    'SEP': '09',\n",
    "    'OUT': '10',\n",
    "    'NOV': '11',\n",
    "    'DEZ': '12'\n",
    "}"
   ]
  },
  {
   "cell_type": "code",
   "execution_count": 15,
   "metadata": {},
   "outputs": [],
   "source": [
    "for i, item in enumerate(elpais):\n",
    "    # Searching for dd/mmm/yyyy in the string\n",
    "    matched = re.findall(r'\\d+\\s+[a-zA-Z]+\\s+\\d+', item['date'].strip())\n",
    "    \n",
    "    # If did not find anything, continues onto the next iteration\n",
    "    if len(matched) == 0:\n",
    "        continue\n",
    "    \n",
    "    date = matched[0]\n",
    "    day = re.findall(r'\\d+', date)[0]\n",
    "    # Changing one digit days to two digits (e.g. 1/12/1999 to 01/12/1999)\n",
    "    if len(day) == 1:\n",
    "        date = date.replace(day + ' ', '0' + day + ' ')\n",
    "    date = re.sub(r'\\s+', ' ', date)\n",
    "    date = re.sub(r'\\s', '/', date)\n",
    "    \n",
    "    # Changing written month names to its numeric equivalent\n",
    "    month = re.findall('[a-zA-Z]+', date)[0]\n",
    "    if month in month_dict:\n",
    "        date = re.sub(month, month_dict[month], date)\n",
    "    \n",
    "    elpais[i]['date'] = date"
   ]
  },
  {
   "cell_type": "code",
   "execution_count": 16,
   "metadata": {},
   "outputs": [],
   "source": [
    "# Removing registers dated before 2013\n",
    "for i, item in enumerate(elpais):\n",
    "    if int(item['date'].split('/')[2]) < 2013:\n",
    "        del elpais[i]"
   ]
  },
  {
   "cell_type": "code",
   "execution_count": 17,
   "metadata": {},
   "outputs": [
    {
     "name": "stdout",
     "output_type": "stream",
     "text": [
      "Dias:  31\n",
      "Meses 12\n",
      "Anos: 7 - {'2019', '2018', '2015', '2016', '2017', '2014', '2013'}\n"
     ]
    }
   ],
   "source": [
    "# Making sure the dates make sense\n",
    "day = set()\n",
    "month = set()\n",
    "year = set()\n",
    "\n",
    "for item in elpais:\n",
    "    date = re.findall('\\d+', item['date'])\n",
    "    day.add(date[0])\n",
    "    month.add(date[1])\n",
    "    year.add(date[2])\n",
    "    \n",
    "print('Dias: ',len(day))\n",
    "print('Meses', len(month))\n",
    "print('Anos:', len(year), '-', year)"
   ]
  },
  {
   "cell_type": "markdown",
   "metadata": {},
   "source": [
    "### Normalizing G1 dates"
   ]
  },
  {
   "cell_type": "code",
   "execution_count": 18,
   "metadata": {},
   "outputs": [],
   "source": [
    "for i, item in enumerate(g1):\n",
    "    matched = re.findall('\\d+/\\d+/\\d+', g1[5]['date'].strip())\n",
    "    if len(matched) == 0:\n",
    "        continue\n",
    "    g1[i]['date'] = matched[0]"
   ]
  },
  {
   "cell_type": "markdown",
   "metadata": {},
   "source": [
    "### Making DataFrame"
   ]
  },
  {
   "cell_type": "code",
   "execution_count": 19,
   "metadata": {},
   "outputs": [
    {
     "data": {
      "text/html": [
       "<div>\n",
       "<style scoped>\n",
       "    .dataframe tbody tr th:only-of-type {\n",
       "        vertical-align: middle;\n",
       "    }\n",
       "\n",
       "    .dataframe tbody tr th {\n",
       "        vertical-align: top;\n",
       "    }\n",
       "\n",
       "    .dataframe thead th {\n",
       "        text-align: right;\n",
       "    }\n",
       "</style>\n",
       "<table border=\"1\" class=\"dataframe\">\n",
       "  <thead>\n",
       "    <tr style=\"text-align: right;\">\n",
       "      <th></th>\n",
       "      <th>DATE</th>\n",
       "      <th>TEXT</th>\n",
       "      <th>TITLE</th>\n",
       "      <th>FAKE</th>\n",
       "    </tr>\n",
       "  </thead>\n",
       "  <tbody>\n",
       "    <tr>\n",
       "      <th>0</th>\n",
       "      <td>04/06/2019</td>\n",
       "      <td>O atual mandato presidencial no Brasil começou...</td>\n",
       "      <td>Começam a soar os alarmes sobre a sustentabili...</td>\n",
       "      <td>0</td>\n",
       "    </tr>\n",
       "    <tr>\n",
       "      <th>1</th>\n",
       "      <td>02/06/2019</td>\n",
       "      <td>Poucas horas antes de milhares de  manifestant...</td>\n",
       "      <td>Corte ou contingenciamento, quem está certo na...</td>\n",
       "      <td>0</td>\n",
       "    </tr>\n",
       "    <tr>\n",
       "      <th>2</th>\n",
       "      <td>03/06/2019</td>\n",
       "      <td>Se o tamanho de uma figura pública se mede pel...</td>\n",
       "      <td>Trump insulta prefeito de Londres no início de...</td>\n",
       "      <td>0</td>\n",
       "    </tr>\n",
       "    <tr>\n",
       "      <th>3</th>\n",
       "      <td>26/05/2019</td>\n",
       "      <td>Um dos tantos fenômenos imparáveis trazidos pe...</td>\n",
       "      <td>O líder e eu (e ninguém no meio)</td>\n",
       "      <td>0</td>\n",
       "    </tr>\n",
       "    <tr>\n",
       "      <th>4</th>\n",
       "      <td>03/06/2019</td>\n",
       "      <td>Após semanas de audiências públicas, o projeto...</td>\n",
       "      <td>A reforma da Previdência pesará mais sobre os ...</td>\n",
       "      <td>0</td>\n",
       "    </tr>\n",
       "  </tbody>\n",
       "</table>\n",
       "</div>"
      ],
      "text/plain": [
       "         DATE                                               TEXT  \\\n",
       "0  04/06/2019  O atual mandato presidencial no Brasil começou...   \n",
       "1  02/06/2019  Poucas horas antes de milhares de  manifestant...   \n",
       "2  03/06/2019  Se o tamanho de uma figura pública se mede pel...   \n",
       "3  26/05/2019  Um dos tantos fenômenos imparáveis trazidos pe...   \n",
       "4  03/06/2019  Após semanas de audiências públicas, o projeto...   \n",
       "\n",
       "                                               TITLE  FAKE  \n",
       "0  Começam a soar os alarmes sobre a sustentabili...     0  \n",
       "1  Corte ou contingenciamento, quem está certo na...     0  \n",
       "2  Trump insulta prefeito de Londres no início de...     0  \n",
       "3                   O líder e eu (e ninguém no meio)     0  \n",
       "4  A reforma da Previdência pesará mais sobre os ...     0  "
      ]
     },
     "execution_count": 19,
     "metadata": {},
     "output_type": "execute_result"
    }
   ],
   "source": [
    "legit_news = elpais[:]\n",
    "legit_news.extend(g1)\n",
    "\n",
    "df_legit = pd.DataFrame(legit_news)\n",
    "df_legit['FAKE'] = 0\n",
    "df_legit.rename({'date': 'DATE', 'text': 'TEXT', 'title': 'TITLE'}, axis=1, inplace=True)\n",
    "\n",
    "df_legit.head()"
   ]
  },
  {
   "cell_type": "markdown",
   "metadata": {},
   "source": [
    "## Cleaning texts"
   ]
  },
  {
   "cell_type": "code",
   "execution_count": 20,
   "metadata": {},
   "outputs": [],
   "source": [
    "stemmer = SnowballStemmer(language='portuguese')\n",
    "\n",
    "def clean_text(text):\n",
    "    # Making sure we're dealing with strings and lowering the characters\n",
    "    text = str(text).lower()\n",
    "    \n",
    "    # Stemming tokens\n",
    "    text = \" \".join([stemmer.stem(wrd) for wrd in text.split()])\n",
    "    \n",
    "    # Stripping accents\n",
    "    text = unidecode(text)\n",
    "    \n",
    "    # Removing characters that aren't alphanumeric\n",
    "    text = re.sub(r'[^a-zA-Z0-9 ]', ' ', text)\n",
    "    \n",
    "    # Removing tokens that intercalate between letters and digits\n",
    "    text = re.sub(r'\\w*([a-zA-Z][0-9]|[0-9][a-zA-Z])\\w*', ' ', text)\n",
    "    \n",
    "    # Removing digits\n",
    "    text = re.sub(r'\\d', ' ', text)\n",
    "    \n",
    "    # Removing tokens with letters that appear more than twice in a row\n",
    "    text = re.sub(r'\\w*([a-zA-Z])\\1{2,}\\w*', ' ', text)\n",
    "    \n",
    "    # Removing extra spaces\n",
    "    text = re.sub('\\s+', ' ', text)\n",
    "    \n",
    "    # Removing words with length equal or lower than 2 or are in STOPWORDS\n",
    "    return ' '.join([token for token in text.split() if len(token) > 2 and token not in STOPWORDS])"
   ]
  },
  {
   "cell_type": "code",
   "execution_count": 21,
   "metadata": {},
   "outputs": [
    {
     "data": {
      "text/plain": [
       "'test limpez textos remoca stopwords outr cois'"
      ]
     },
     "execution_count": 21,
     "metadata": {},
     "output_type": "execute_result"
    }
   ],
   "source": [
    "clean_text(\"Testando limpeza dos textos. Remoção de stopwords e outras coisas\")"
   ]
  },
  {
   "cell_type": "markdown",
   "metadata": {},
   "source": [
    "### Cleaning and dumping Fake News DataFrame"
   ]
  },
  {
   "cell_type": "code",
   "execution_count": 22,
   "metadata": {},
   "outputs": [],
   "source": [
    "# Using TITLE as TEXT for news that don't have TEXT initially\n",
    "df_fake.loc[df_fake['TEXT'].apply(len) == 0, ['TEXT']] = df_fake[df_fake['TEXT'].apply(len) == 0]['TITLE']"
   ]
  },
  {
   "cell_type": "code",
   "execution_count": 23,
   "metadata": {},
   "outputs": [],
   "source": [
    "df_fake['TEXT_CLEAN'] = df_fake['TEXT'].apply(clean_text)\n",
    "df_fake['TITLE_CLEAN'] = df_fake['TITLE'].apply(clean_text).apply(lambda x: re.sub('boato(|s)', '', x).strip())"
   ]
  },
  {
   "cell_type": "code",
   "execution_count": 24,
   "metadata": {},
   "outputs": [],
   "source": [
    "df_fake['TEXT_LEN_CHAR'] = df_fake['TEXT_CLEAN'].apply(len)\n",
    "df_fake['TEXT_LEN_TOKEN'] = df_fake['TEXT_CLEAN'].apply(str.split).apply(len)\n",
    "df_fake['TITLE_LEN_CHAR'] = df_fake['TITLE_CLEAN'].apply(len)\n",
    "df_fake['TITLE_LEN_TOKEN'] = df_fake['TITLE_CLEAN'].apply(str.split).apply(len)"
   ]
  },
  {
   "cell_type": "code",
   "execution_count": 25,
   "metadata": {},
   "outputs": [],
   "source": [
    "df_fake = df_fake[df_fake['TEXT_LEN_CHAR'] <= 30000]\n",
    "df_fake = df_fake[df_fake['TEXT_LEN_TOKEN'] <= 4000]"
   ]
  },
  {
   "cell_type": "code",
   "execution_count": 26,
   "metadata": {},
   "outputs": [],
   "source": [
    "df_fake.drop(['TEXT', 'TITLE'], axis=1, inplace=True)"
   ]
  },
  {
   "cell_type": "code",
   "execution_count": 27,
   "metadata": {},
   "outputs": [],
   "source": [
    "pkl.dump(df_fake, open(os.path.join(OUTPUT_PATH, 'df_fake_clean.pkl'), 'wb'))"
   ]
  },
  {
   "cell_type": "markdown",
   "metadata": {},
   "source": [
    "### Cleaning and dumping Legit News Dataframe"
   ]
  },
  {
   "cell_type": "code",
   "execution_count": 28,
   "metadata": {},
   "outputs": [],
   "source": [
    "# Removing news that don't have any TEXT\n",
    "df_legit = df_legit[df_legit['TEXT'].apply(len) > 0]"
   ]
  },
  {
   "cell_type": "code",
   "execution_count": 29,
   "metadata": {},
   "outputs": [],
   "source": [
    "df_legit['TEXT_CLEAN'] = df_legit['TEXT'].apply(clean_text)\n",
    "df_legit['TITLE_CLEAN'] = df_legit['TITLE'].apply(clean_text)"
   ]
  },
  {
   "cell_type": "code",
   "execution_count": 30,
   "metadata": {},
   "outputs": [],
   "source": [
    "df_legit['TEXT_LEN_CHAR'] = df_legit['TEXT_CLEAN'].apply(len)\n",
    "df_legit['TEXT_LEN_TOKEN'] = df_legit['TEXT_CLEAN'].apply(str.split).apply(len)\n",
    "df_legit['TITLE_LEN_CHAR'] = df_legit['TITLE_CLEAN'].apply(len)\n",
    "df_legit['TITLE_LEN_TOKEN'] = df_legit['TITLE_CLEAN'].apply(str.split).apply(len)"
   ]
  },
  {
   "cell_type": "code",
   "execution_count": 31,
   "metadata": {},
   "outputs": [],
   "source": [
    "df_legit = df_legit[df_legit['TEXT_LEN_CHAR'] <= 30000]\n",
    "df_legit = df_legit[df_legit['TEXT_LEN_TOKEN'] <= 4000]"
   ]
  },
  {
   "cell_type": "code",
   "execution_count": 32,
   "metadata": {},
   "outputs": [],
   "source": [
    "df_legit.drop(['TEXT', 'TITLE'], axis=1, inplace=True)"
   ]
  },
  {
   "cell_type": "code",
   "execution_count": 33,
   "metadata": {},
   "outputs": [],
   "source": [
    "pkl.dump(df_legit, open(os.path.join(OUTPUT_PATH, 'df_legit_clean.pkl'), 'wb'))"
   ]
  },
  {
   "cell_type": "code",
   "execution_count": null,
   "metadata": {},
   "outputs": [],
   "source": []
  },
  {
   "cell_type": "code",
   "execution_count": 34,
   "metadata": {},
   "outputs": [
    {
     "data": {
      "text/plain": [
       "4346"
      ]
     },
     "execution_count": 34,
     "metadata": {},
     "output_type": "execute_result"
    }
   ],
   "source": [
    "len(g1)"
   ]
  },
  {
   "cell_type": "code",
   "execution_count": 35,
   "metadata": {},
   "outputs": [
    {
     "data": {
      "text/plain": [
       "11680"
      ]
     },
     "execution_count": 35,
     "metadata": {},
     "output_type": "execute_result"
    }
   ],
   "source": [
    "len(elpais)"
   ]
  },
  {
   "cell_type": "code",
   "execution_count": 36,
   "metadata": {},
   "outputs": [
    {
     "data": {
      "text/plain": [
       "1301"
      ]
     },
     "execution_count": 36,
     "metadata": {},
     "output_type": "execute_result"
    }
   ],
   "source": [
    "len(boatos)"
   ]
  },
  {
   "cell_type": "code",
   "execution_count": null,
   "metadata": {},
   "outputs": [],
   "source": []
  },
  {
   "cell_type": "code",
   "execution_count": 32,
   "metadata": {},
   "outputs": [],
   "source": [
    "import matplotlib.pyplot as plt\n",
    "import seaborn as sns\n",
    "sns.set_style('darkgrid')"
   ]
  },
  {
   "cell_type": "code",
   "execution_count": 33,
   "metadata": {},
   "outputs": [],
   "source": [
    "x = ['G1', 'El País', 'boatos.org']\n",
    "y = [len(g1), len(elpais), len(boatos)]"
   ]
  },
  {
   "cell_type": "code",
   "execution_count": 34,
   "metadata": {},
   "outputs": [
    {
     "data": {
      "text/plain": [
       "['G1', 'El País', 'boatos.org']"
      ]
     },
     "execution_count": 34,
     "metadata": {},
     "output_type": "execute_result"
    }
   ],
   "source": [
    "x"
   ]
  },
  {
   "cell_type": "code",
   "execution_count": 35,
   "metadata": {},
   "outputs": [
    {
     "data": {
      "text/plain": [
       "17277"
      ]
     },
     "execution_count": 35,
     "metadata": {},
     "output_type": "execute_result"
    }
   ],
   "source": [
    "sum(y)"
   ]
  },
  {
   "cell_type": "code",
   "execution_count": 36,
   "metadata": {},
   "outputs": [
    {
     "data": {
      "text/plain": [
       "<matplotlib.axes._subplots.AxesSubplot at 0x26681400be0>"
      ]
     },
     "execution_count": 36,
     "metadata": {},
     "output_type": "execute_result"
    },
    {
     "data": {
      "image/png": "[encoded data removed]",
      "text/plain": [
       "<Figure size 432x288 with 1 Axes>"
      ]
     },
     "metadata": {
      "needs_background": "light"
     },
     "output_type": "display_data"
    }
   ],
   "source": [
    "sns.barplot(x, y)"
   ]
  },
  {
   "cell_type": "code",
   "execution_count": null,
   "metadata": {},
   "outputs": [],
   "source": []
  }
 ],
 "metadata": {
  "kernelspec": {
   "display_name": "Python 3",
   "language": "python",
   "name": "python3"
  },
  "language_info": {
   "codemirror_mode": {
    "name": "ipython",
    "version": 3
   },
   "file_extension": ".py",
   "mimetype": "text/x-python",
   "name": "python",
   "nbconvert_exporter": "python",
   "pygments_lexer": "ipython3",
   "version": "3.7.3"
  }
 },
 "nbformat": 4,
 "nbformat_minor": 2
}
