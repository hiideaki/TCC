{
 "cells": [
  {
   "cell_type": "markdown",
   "metadata": {},
   "source": [
    "# Basic approach of vectorization and classification"
   ]
  },
  {
   "cell_type": "code",
   "execution_count": 1,
   "metadata": {},
   "outputs": [],
   "source": [
    "import pandas as pd\n",
    "import numpy as np\n",
    "import pickle as pkl\n",
    "import os\n",
    "\n",
    "from glob import glob\n",
    "from collections import Counter"
   ]
  },
  {
   "cell_type": "markdown",
   "metadata": {},
   "source": [
    "## Defining variables"
   ]
  },
  {
   "cell_type": "code",
   "execution_count": 2,
   "metadata": {},
   "outputs": [],
   "source": [
    "PATH = '../'\n",
    "\n",
    "PROCESSED_DATA_PATH = os.path.join(PATH, 'data/processed/')\n",
    "\n",
    "DF_FAKE_PATH = os.path.join(PROCESSED_DATA_PATH, 'df_fake_clean.pkl')\n",
    "DF_LEGIT_PATH = os.path.join(PROCESSED_DATA_PATH, 'df_legit_clean.pkl')"
   ]
  },
  {
   "cell_type": "markdown",
   "metadata": {},
   "source": [
    "## Loading DataFrames"
   ]
  },
  {
   "cell_type": "code",
   "execution_count": 3,
   "metadata": {},
   "outputs": [],
   "source": [
    "df_fake = pkl.load(open(DF_FAKE_PATH, 'rb'))\n",
    "\n",
    "df_legit = pkl.load(open(DF_LEGIT_PATH, 'rb'))"
   ]
  },
  {
   "cell_type": "markdown",
   "metadata": {},
   "source": [
    "### DataFrame with Fake News"
   ]
  },
  {
   "cell_type": "code",
   "execution_count": 4,
   "metadata": {},
   "outputs": [
    {
     "data": {
      "text/html": [
       "<div>\n",
       "<style scoped>\n",
       "    .dataframe tbody tr th:only-of-type {\n",
       "        vertical-align: middle;\n",
       "    }\n",
       "\n",
       "    .dataframe tbody tr th {\n",
       "        vertical-align: top;\n",
       "    }\n",
       "\n",
       "    .dataframe thead th {\n",
       "        text-align: right;\n",
       "    }\n",
       "</style>\n",
       "<table border=\"1\" class=\"dataframe\">\n",
       "  <thead>\n",
       "    <tr style=\"text-align: right;\">\n",
       "      <th></th>\n",
       "      <th>DATE</th>\n",
       "      <th>FAKE</th>\n",
       "      <th>TEXT_CLEAN</th>\n",
       "      <th>TITLE_CLEAN</th>\n",
       "      <th>TEXT_LEN_CHAR</th>\n",
       "      <th>TEXT_LEN_TOKEN</th>\n",
       "      <th>TITLE_LEN_CHAR</th>\n",
       "      <th>TITLE_LEN_TOKEN</th>\n",
       "    </tr>\n",
       "  </thead>\n",
       "  <tbody>\n",
       "    <tr>\n",
       "      <th>0</th>\n",
       "      <td>03/08/2019</td>\n",
       "      <td>1</td>\n",
       "      <td>vamos assinar peticao cassacao mandato bolsona...</td>\n",
       "      <td>peticao impeachment bolsonaro precisa milhoes ...</td>\n",
       "      <td>328</td>\n",
       "      <td>36</td>\n",
       "      <td>81</td>\n",
       "      <td>9</td>\n",
       "    </tr>\n",
       "    <tr>\n",
       "      <th>1</th>\n",
       "      <td>04/08/2019</td>\n",
       "      <td>1</td>\n",
       "      <td>lula vitima golpe politico merece estar preso ...</td>\n",
       "      <td>peticao lula livre contribui liberdade preside...</td>\n",
       "      <td>242</td>\n",
       "      <td>30</td>\n",
       "      <td>54</td>\n",
       "      <td>7</td>\n",
       "    </tr>\n",
       "    <tr>\n",
       "      <th>2</th>\n",
       "      <td>05/08/2019</td>\n",
       "      <td>1</td>\n",
       "      <td>professor contou dilma matou mario kozel filho...</td>\n",
       "      <td>mario kozel filho assassinado dilma tiros</td>\n",
       "      <td>170</td>\n",
       "      <td>24</td>\n",
       "      <td>41</td>\n",
       "      <td>6</td>\n",
       "    </tr>\n",
       "    <tr>\n",
       "      <th>3</th>\n",
       "      <td>03/08/2019</td>\n",
       "      <td>1</td>\n",
       "      <td>vergonha presidente oab mentiu pai morto milit...</td>\n",
       "      <td>felipe santa cruz presidente oab mentiu sobre ...</td>\n",
       "      <td>158</td>\n",
       "      <td>25</td>\n",
       "      <td>82</td>\n",
       "      <td>13</td>\n",
       "    </tr>\n",
       "    <tr>\n",
       "      <th>4</th>\n",
       "      <td>06/08/2019</td>\n",
       "      <td>1</td>\n",
       "      <td>partido diabolico bandidos abrindo buracos est...</td>\n",
       "      <td>esquerda abrindo buracos estradas nordeste con...</td>\n",
       "      <td>155</td>\n",
       "      <td>19</td>\n",
       "      <td>59</td>\n",
       "      <td>7</td>\n",
       "    </tr>\n",
       "  </tbody>\n",
       "</table>\n",
       "</div>"
      ],
      "text/plain": [
       "         DATE  FAKE                                         TEXT_CLEAN  \\\n",
       "0  03/08/2019     1  vamos assinar peticao cassacao mandato bolsona...   \n",
       "1  04/08/2019     1  lula vitima golpe politico merece estar preso ...   \n",
       "2  05/08/2019     1  professor contou dilma matou mario kozel filho...   \n",
       "3  03/08/2019     1  vergonha presidente oab mentiu pai morto milit...   \n",
       "4  06/08/2019     1  partido diabolico bandidos abrindo buracos est...   \n",
       "\n",
       "                                         TITLE_CLEAN  TEXT_LEN_CHAR  \\\n",
       "0  peticao impeachment bolsonaro precisa milhoes ...            328   \n",
       "1  peticao lula livre contribui liberdade preside...            242   \n",
       "2          mario kozel filho assassinado dilma tiros            170   \n",
       "3  felipe santa cruz presidente oab mentiu sobre ...            158   \n",
       "4  esquerda abrindo buracos estradas nordeste con...            155   \n",
       "\n",
       "   TEXT_LEN_TOKEN  TITLE_LEN_CHAR  TITLE_LEN_TOKEN  \n",
       "0              36              81                9  \n",
       "1              30              54                7  \n",
       "2              24              41                6  \n",
       "3              25              82               13  \n",
       "4              19              59                7  "
      ]
     },
     "execution_count": 4,
     "metadata": {},
     "output_type": "execute_result"
    }
   ],
   "source": [
    "df_fake.head()"
   ]
  },
  {
   "cell_type": "markdown",
   "metadata": {},
   "source": [
    "### DataFrame with Legit News"
   ]
  },
  {
   "cell_type": "code",
   "execution_count": 5,
   "metadata": {},
   "outputs": [
    {
     "data": {
      "text/html": [
       "<div>\n",
       "<style scoped>\n",
       "    .dataframe tbody tr th:only-of-type {\n",
       "        vertical-align: middle;\n",
       "    }\n",
       "\n",
       "    .dataframe tbody tr th {\n",
       "        vertical-align: top;\n",
       "    }\n",
       "\n",
       "    .dataframe thead th {\n",
       "        text-align: right;\n",
       "    }\n",
       "</style>\n",
       "<table border=\"1\" class=\"dataframe\">\n",
       "  <thead>\n",
       "    <tr style=\"text-align: right;\">\n",
       "      <th></th>\n",
       "      <th>DATE</th>\n",
       "      <th>FAKE</th>\n",
       "      <th>TEXT_CLEAN</th>\n",
       "      <th>TITLE_CLEAN</th>\n",
       "      <th>TEXT_LEN_CHAR</th>\n",
       "      <th>TEXT_LEN_TOKEN</th>\n",
       "      <th>TITLE_LEN_CHAR</th>\n",
       "      <th>TITLE_LEN_TOKEN</th>\n",
       "    </tr>\n",
       "  </thead>\n",
       "  <tbody>\n",
       "    <tr>\n",
       "      <th>0</th>\n",
       "      <td>04/06/2019</td>\n",
       "      <td>0</td>\n",
       "      <td>atual mandato presidencial brasil comecou pouc...</td>\n",
       "      <td>comecam soar alarmes sobre sustentabilidade pr...</td>\n",
       "      <td>3992</td>\n",
       "      <td>495</td>\n",
       "      <td>65</td>\n",
       "      <td>7</td>\n",
       "    </tr>\n",
       "    <tr>\n",
       "      <th>1</th>\n",
       "      <td>02/06/2019</td>\n",
       "      <td>0</td>\n",
       "      <td>poucas horas antes milhares manifestantes irem...</td>\n",
       "      <td>corte contingenciamento certo guerra narrativa...</td>\n",
       "      <td>4665</td>\n",
       "      <td>579</td>\n",
       "      <td>56</td>\n",
       "      <td>6</td>\n",
       "    </tr>\n",
       "    <tr>\n",
       "      <th>2</th>\n",
       "      <td>03/06/2019</td>\n",
       "      <td>0</td>\n",
       "      <td>tamanho figura publica mede importancia inimig...</td>\n",
       "      <td>trump insulta prefeito londres inicio visita r...</td>\n",
       "      <td>3245</td>\n",
       "      <td>398</td>\n",
       "      <td>56</td>\n",
       "      <td>8</td>\n",
       "    </tr>\n",
       "    <tr>\n",
       "      <th>3</th>\n",
       "      <td>26/05/2019</td>\n",
       "      <td>0</td>\n",
       "      <td>tantos fenomenos imparaveis trazidos revolucao...</td>\n",
       "      <td>lider ninguem meio</td>\n",
       "      <td>2071</td>\n",
       "      <td>246</td>\n",
       "      <td>18</td>\n",
       "      <td>3</td>\n",
       "    </tr>\n",
       "    <tr>\n",
       "      <th>4</th>\n",
       "      <td>03/06/2019</td>\n",
       "      <td>0</td>\n",
       "      <td>apos semanas audiencias publicas projeto refor...</td>\n",
       "      <td>reforma previdencia pesara sobre pobres ricos</td>\n",
       "      <td>10220</td>\n",
       "      <td>1256</td>\n",
       "      <td>45</td>\n",
       "      <td>6</td>\n",
       "    </tr>\n",
       "  </tbody>\n",
       "</table>\n",
       "</div>"
      ],
      "text/plain": [
       "         DATE  FAKE                                         TEXT_CLEAN  \\\n",
       "0  04/06/2019     0  atual mandato presidencial brasil comecou pouc...   \n",
       "1  02/06/2019     0  poucas horas antes milhares manifestantes irem...   \n",
       "2  03/06/2019     0  tamanho figura publica mede importancia inimig...   \n",
       "3  26/05/2019     0  tantos fenomenos imparaveis trazidos revolucao...   \n",
       "4  03/06/2019     0  apos semanas audiencias publicas projeto refor...   \n",
       "\n",
       "                                         TITLE_CLEAN  TEXT_LEN_CHAR  \\\n",
       "0  comecam soar alarmes sobre sustentabilidade pr...           3992   \n",
       "1  corte contingenciamento certo guerra narrativa...           4665   \n",
       "2  trump insulta prefeito londres inicio visita r...           3245   \n",
       "3                                 lider ninguem meio           2071   \n",
       "4      reforma previdencia pesara sobre pobres ricos          10220   \n",
       "\n",
       "   TEXT_LEN_TOKEN  TITLE_LEN_CHAR  TITLE_LEN_TOKEN  \n",
       "0             495              65                7  \n",
       "1             579              56                6  \n",
       "2             398              56                8  \n",
       "3             246              18                3  \n",
       "4            1256              45                6  "
      ]
     },
     "execution_count": 5,
     "metadata": {},
     "output_type": "execute_result"
    }
   ],
   "source": [
    "df_legit.head()"
   ]
  },
  {
   "cell_type": "markdown",
   "metadata": {},
   "source": [
    "### Unifying DataFrames"
   ]
  },
  {
   "cell_type": "code",
   "execution_count": 6,
   "metadata": {},
   "outputs": [],
   "source": [
    "df = pd.concat((df_fake, df_legit), axis=0)"
   ]
  },
  {
   "cell_type": "markdown",
   "metadata": {},
   "source": [
    "## Modeling"
   ]
  },
  {
   "cell_type": "code",
   "execution_count": 7,
   "metadata": {},
   "outputs": [],
   "source": [
    "from imblearn.under_sampling import RandomUnderSampler\n",
    "\n",
    "from sklearn.feature_extraction.text import CountVectorizer, TfidfVectorizer\n",
    "from sklearn.model_selection import cross_val_score, train_test_split\n",
    "from sklearn.metrics import accuracy_score, confusion_matrix, classification_report\n",
    "\n",
    "from sklearn.linear_model import LogisticRegression\n",
    "from sklearn.ensemble import RandomForestClassifier\n",
    "from sklearn.naive_bayes import MultinomialNB\n",
    "from sklearn.naive_bayes import GaussianNB\n",
    "from xgboost import XGBClassifier\n",
    "\n",
    "from sklearn.pipeline import Pipeline"
   ]
  },
  {
   "cell_type": "code",
   "execution_count": 8,
   "metadata": {},
   "outputs": [],
   "source": [
    "y_all = df['FAKE']"
   ]
  },
  {
   "cell_type": "markdown",
   "metadata": {},
   "source": [
    "### Vectorization\n",
    "\n",
    "This step is necessary because models don't behave well with words. \n",
    "\n",
    "In this step, each token will be transformed into a number and, for that, the TF-IDF vectorization will be used.\n",
    "\n",
    "TF-IDF vectorization consists in the product of two terms:\n",
    "\n",
    "- <b>TF or Term Frequency:</b> increases the importance of a token as it appears more in the corpus\n",
    "\n",
    "- <b>IDF or Inverse Document Frequency:</b> penalizes the importance of a token as they appear in more documents\n",
    "    - The idea here is that, for instance, if a token appears in every document, it probably won't help to differ one document class from another\n",
    "    \n",
    "For a deeper insight of the method, I reccomend checking these sites:\n",
    "- <a href=\"http://www.tfidf.com/\">tfidf</a>\n",
    "- <a href=\"https://pt.wikipedia.org/wiki/Tf%E2%80%93idf\">Wikipedia</a>"
   ]
  },
  {
   "cell_type": "code",
   "execution_count": 9,
   "metadata": {},
   "outputs": [],
   "source": [
    "vectorizer = TfidfVectorizer(ngram_range=(1, 2), min_df=5, max_df=0.9)"
   ]
  },
  {
   "cell_type": "code",
   "execution_count": 10,
   "metadata": {},
   "outputs": [
    {
     "data": {
      "text/plain": [
       "TfidfVectorizer(analyzer='word', binary=False, decode_error='strict',\n",
       "                dtype=<class 'numpy.float64'>, encoding='utf-8',\n",
       "                input='content', lowercase=True, max_df=0.9, max_features=None,\n",
       "                min_df=5, ngram_range=(1, 2), norm='l2', preprocessor=None,\n",
       "                smooth_idf=True, stop_words=None, strip_accents=None,\n",
       "                sublinear_tf=False, token_pattern='(?u)\\\\b\\\\w\\\\w+\\\\b',\n",
       "                tokenizer=None, use_idf=True, vocabulary=None)"
      ]
     },
     "execution_count": 10,
     "metadata": {},
     "output_type": "execute_result"
    }
   ],
   "source": [
    "vectorizer.fit(df['TEXT_CLEAN'])"
   ]
  },
  {
   "cell_type": "markdown",
   "metadata": {},
   "source": [
    "It's important to mention that I made tests with both the TEXT corpus and the TITLE corpus. The latter didn't perform as expected."
   ]
  },
  {
   "cell_type": "code",
   "execution_count": 11,
   "metadata": {},
   "outputs": [],
   "source": [
    "X_all_text = vectorizer.transform(df['TEXT_CLEAN'])"
   ]
  },
  {
   "cell_type": "code",
   "execution_count": 12,
   "metadata": {},
   "outputs": [
    {
     "data": {
      "text/plain": [
       "(16950, 185645)"
      ]
     },
     "execution_count": 12,
     "metadata": {},
     "output_type": "execute_result"
    }
   ],
   "source": [
    "X_all_text.shape"
   ]
  },
  {
   "cell_type": "code",
   "execution_count": 13,
   "metadata": {},
   "outputs": [],
   "source": [
    "X_all_title = vectorizer.transform(df['TITLE_CLEAN'])"
   ]
  },
  {
   "cell_type": "code",
   "execution_count": 14,
   "metadata": {},
   "outputs": [
    {
     "data": {
      "text/plain": [
       "(16950, 185645)"
      ]
     },
     "execution_count": 14,
     "metadata": {},
     "output_type": "execute_result"
    }
   ],
   "source": [
    "X_all_title.shape"
   ]
  },
  {
   "cell_type": "code",
   "execution_count": null,
   "metadata": {},
   "outputs": [],
   "source": []
  },
  {
   "cell_type": "markdown",
   "metadata": {},
   "source": [
    "### Resampling\n",
    "\n",
    "As the samples of fake news and legit news aren't balanced (the legit news corpus has a LOT more entries than the fake news corpus), I opted for a resampling technique.\n",
    "\n",
    "For that, I used <a href=\"https://imbalanced-learn.readthedocs.io/en/stable/index.html\">imblearn's</a> RandomUnderSampler, which will randomly choose entries from the largest corpus so that both corpora will have the same amount of samples."
   ]
  },
  {
   "cell_type": "code",
   "execution_count": 15,
   "metadata": {},
   "outputs": [],
   "source": [
    "rus = RandomUnderSampler(random_state=42)"
   ]
  },
  {
   "cell_type": "code",
   "execution_count": 16,
   "metadata": {},
   "outputs": [],
   "source": [
    "X_resampled, y_resampled = rus.fit_resample(X_all_text, y_all)"
   ]
  },
  {
   "cell_type": "code",
   "execution_count": 17,
   "metadata": {},
   "outputs": [
    {
     "data": {
      "text/plain": [
       "Counter({0: 1251, 1: 1251})"
      ]
     },
     "execution_count": 17,
     "metadata": {},
     "output_type": "execute_result"
    }
   ],
   "source": [
    "Counter(y_resampled)"
   ]
  },
  {
   "cell_type": "code",
   "execution_count": null,
   "metadata": {},
   "outputs": [],
   "source": []
  },
  {
   "cell_type": "markdown",
   "metadata": {},
   "source": [
    "### Splitting the data for TRAIN and TEST\n"
   ]
  },
  {
   "cell_type": "code",
   "execution_count": 18,
   "metadata": {},
   "outputs": [],
   "source": [
    "X_train, X_test, y_train, y_test = train_test_split(X_resampled, y_resampled, test_size=0.3, random_state=42)"
   ]
  },
  {
   "cell_type": "code",
   "execution_count": null,
   "metadata": {},
   "outputs": [],
   "source": []
  },
  {
   "cell_type": "markdown",
   "metadata": {},
   "source": [
    "### Cross validation\n",
    "<a href=\"https://scikit-learn.org/stable/modules/generated/sklearn.model_selection.cross_val_score.html\">Cross validation</a> will help to determine if the model is performing well. It will divide the data in folds, train and test them, ensuring that each fold will be tested once."
   ]
  },
  {
   "cell_type": "code",
   "execution_count": 19,
   "metadata": {},
   "outputs": [
    {
     "name": "stderr",
     "output_type": "stream",
     "text": [
      "[Parallel(n_jobs=-1)]: Using backend LokyBackend with 4 concurrent workers.\n",
      "[Parallel(n_jobs=-1)]: Done   2 out of   5 | elapsed:  1.1min remaining:  1.6min\n",
      "[Parallel(n_jobs=-1)]: Done   3 out of   5 | elapsed:  1.1min remaining:   42.3s\n"
     ]
    },
    {
     "name": "stdout",
     "output_type": "stream",
     "text": [
      "[0.97150997 0.96       0.99142857 0.98285714 0.97428571]\n"
     ]
    },
    {
     "name": "stderr",
     "output_type": "stream",
     "text": [
      "[Parallel(n_jobs=-1)]: Done   5 out of   5 | elapsed:  1.3min remaining:    0.0s\n",
      "[Parallel(n_jobs=-1)]: Done   5 out of   5 | elapsed:  1.3min finished\n"
     ]
    }
   ],
   "source": [
    "cv = cross_val_score(RandomForestClassifier(n_estimators=1000, n_jobs=3), X_train, y_train, n_jobs=-1, cv=5, verbose=10)\n",
    "print(cv)"
   ]
  },
  {
   "cell_type": "markdown",
   "metadata": {},
   "source": [
    "### Training model\n",
    "\n",
    "For this test, the <a href=\"https://scikit-learn.org/stable/modules/generated/sklearn.ensemble.RandomForestClassifier.html\">RandomForestClassifier</a> was used. It is an ensemble method that consists in generating <b>n</b> decision trees based on random features."
   ]
  },
  {
   "cell_type": "code",
   "execution_count": 20,
   "metadata": {},
   "outputs": [],
   "source": [
    "clf = RandomForestClassifier(n_estimators=1000, n_jobs=3, verbose=0)"
   ]
  },
  {
   "cell_type": "code",
   "execution_count": 21,
   "metadata": {},
   "outputs": [
    {
     "data": {
      "text/plain": [
       "RandomForestClassifier(bootstrap=True, class_weight=None, criterion='gini',\n",
       "                       max_depth=None, max_features='auto', max_leaf_nodes=None,\n",
       "                       min_impurity_decrease=0.0, min_impurity_split=None,\n",
       "                       min_samples_leaf=1, min_samples_split=2,\n",
       "                       min_weight_fraction_leaf=0.0, n_estimators=1000,\n",
       "                       n_jobs=3, oob_score=False, random_state=None, verbose=0,\n",
       "                       warm_start=False)"
      ]
     },
     "execution_count": 21,
     "metadata": {},
     "output_type": "execute_result"
    }
   ],
   "source": [
    "clf.fit(X_train, y_train)"
   ]
  },
  {
   "cell_type": "markdown",
   "metadata": {},
   "source": [
    "### Making pipeline\n",
    "\n",
    "This part isn't totally necessary, but, for practical reasons, a pipeline was made."
   ]
  },
  {
   "cell_type": "code",
   "execution_count": 23,
   "metadata": {},
   "outputs": [],
   "source": [
    "pipe = Pipeline((['vect', vectorizer], ['clf', clf]))\n",
    "\n",
    "with open('pipe.pkl', 'wb') as f:\n",
    "    pkl.dump(pipe, f)"
   ]
  },
  {
   "cell_type": "code",
   "execution_count": 24,
   "metadata": {},
   "outputs": [
    {
     "data": {
      "text/plain": [
       "0.9760162800162799"
      ]
     },
     "execution_count": 24,
     "metadata": {},
     "output_type": "execute_result"
    }
   ],
   "source": [
    "cv.mean()"
   ]
  },
  {
   "cell_type": "markdown",
   "metadata": {},
   "source": [
    "### Testing with actual test set (with texts)"
   ]
  },
  {
   "cell_type": "code",
   "execution_count": 22,
   "metadata": {
    "scrolled": true
   },
   "outputs": [],
   "source": [
    "y_pred = clf.predict(X_test)"
   ]
  },
  {
   "cell_type": "code",
   "execution_count": 25,
   "metadata": {},
   "outputs": [
    {
     "name": "stdout",
     "output_type": "stream",
     "text": [
      "              precision    recall  f1-score   support\n",
      "\n",
      "           0       0.98      0.98      0.98       371\n",
      "           1       0.98      0.98      0.98       380\n",
      "\n",
      "    accuracy                           0.98       751\n",
      "   macro avg       0.98      0.98      0.98       751\n",
      "weighted avg       0.98      0.98      0.98       751\n",
      "\n"
     ]
    }
   ],
   "source": [
    "print(classification_report(y_test, y_pred))"
   ]
  },
  {
   "cell_type": "code",
   "execution_count": 26,
   "metadata": {},
   "outputs": [
    {
     "name": "stdout",
     "output_type": "stream",
     "text": [
      "[[362   9]\n",
      " [  7 373]]\n"
     ]
    }
   ],
   "source": [
    "print(confusion_matrix(y_test, y_pred))"
   ]
  },
  {
   "cell_type": "markdown",
   "metadata": {},
   "source": [
    "### Testing with entire texts corpus"
   ]
  },
  {
   "cell_type": "code",
   "execution_count": 27,
   "metadata": {},
   "outputs": [],
   "source": [
    "y_pred_all_texts = clf.predict(X_all_text)"
   ]
  },
  {
   "cell_type": "code",
   "execution_count": 28,
   "metadata": {},
   "outputs": [
    {
     "name": "stdout",
     "output_type": "stream",
     "text": [
      "              precision    recall  f1-score   support\n",
      "\n",
      "           0       1.00      0.97      0.98     15699\n",
      "           1       0.70      0.99      0.82      1251\n",
      "\n",
      "    accuracy                           0.97     16950\n",
      "   macro avg       0.85      0.98      0.90     16950\n",
      "weighted avg       0.98      0.97      0.97     16950\n",
      "\n"
     ]
    }
   ],
   "source": [
    "print(classification_report(y_all, y_pred_all_texts))"
   ]
  },
  {
   "cell_type": "code",
   "execution_count": 29,
   "metadata": {},
   "outputs": [
    {
     "name": "stdout",
     "output_type": "stream",
     "text": [
      "[[15154   545]\n",
      " [    7  1244]]\n"
     ]
    }
   ],
   "source": [
    "print(confusion_matrix(y_all, y_pred_all_texts))"
   ]
  },
  {
   "cell_type": "code",
   "execution_count": null,
   "metadata": {},
   "outputs": [],
   "source": []
  },
  {
   "cell_type": "code",
   "execution_count": null,
   "metadata": {},
   "outputs": [],
   "source": []
  },
  {
   "cell_type": "markdown",
   "metadata": {},
   "source": [
    "## Simulating real life uses\n",
    "\n",
    "### Text cleaning"
   ]
  },
  {
   "cell_type": "code",
   "execution_count": 30,
   "metadata": {},
   "outputs": [],
   "source": [
    "from unidecode import unidecode\n",
    "import re\n",
    "from nltk.corpus import stopwords\n",
    "\n",
    "STOPWORDS = set(unidecode(sw) for sw in stopwords.words('portuguese'))\n",
    "def clean_text(text):\n",
    "    # Making sure we're dealing with strings and lowering the characters\n",
    "    text = str(text).lower()\n",
    "    \n",
    "    # Stripping accents\n",
    "    text = unidecode(text)\n",
    "    \n",
    "    # Removing characters that aren't alphanumeric\n",
    "    text = re.sub(r'[^a-zA-Z0-9 ]', ' ', text)\n",
    "    \n",
    "    # Removing tokens that intercalate between letters and digits\n",
    "    text = re.sub(r'\\w*([a-zA-Z][0-9]|[0-9][a-zA-Z])\\w*', ' ', text)\n",
    "    \n",
    "    # Removing digits\n",
    "    text = re.sub(r'\\d', ' ', text)\n",
    "    \n",
    "    # Removing tokens with letters that appear more than twice in a row\n",
    "    text = re.sub(r'\\w*([a-zA-Z])\\1{2,}\\w*', ' ', text)\n",
    "    \n",
    "    # Removing extra spaces\n",
    "    text = re.sub('\\s+', ' ', text)\n",
    "    \n",
    "    # Removing words with length equal or lower than 2 or are in STOPWORDS\n",
    "    return ' '.join([token for token in text.split() if len(token) > 2 and token not in STOPWORDS])"
   ]
  },
  {
   "cell_type": "code",
   "execution_count": 31,
   "metadata": {},
   "outputs": [],
   "source": [
    "def evaluate(msg):\n",
    "\n",
    "    input_test = vectorizer.transform([clean_text(msg)])\n",
    "\n",
    "    out = clf.predict(input_test)\n",
    "    proba = int(max(clf.predict_proba(input_test)[0]) * 100)\n",
    "\n",
    "    if out:\n",
    "        print('Tenho {}% de certeza que esta notícia é FALSA'.format(proba))\n",
    "    else:\n",
    "        print('Tenho {}% de certeza que esta notícia é VERDADEIRA'.format(proba))\n",
    "    \n"
   ]
  },
  {
   "cell_type": "code",
   "execution_count": 32,
   "metadata": {},
   "outputs": [
    {
     "name": "stdout",
     "output_type": "stream",
     "text": [
      "Tenho 58% de certeza que esta notícia é VERDADEIRA\n"
     ]
    }
   ],
   "source": [
    "msg = \"\"\"\n",
    "\n",
    "O presidente Jair Bolsonaro assinou nesta segunda-feira (19) a medida provisória que irá transferir o Coaf (Conselho de Controle de Atividades Financeiras) do Ministério da Economia para o Banco Central. Decisão será publicada no Diário Oficial da União desta terça-feira (20).\n",
    "\n",
    "Até o fim da gestão Temer, o Coaf era ligado ao antigo Ministério da Fazenda. Com a reforma ministerial do início do governo Bolsonaro, foi transferido para o Ministério da Justiça. O Congresso, no entanto, devolveu o órgão para o Ministério da Economia.\n",
    "\n",
    "O órgão está em crise desde que decisão do ministro do Supremo Tribunal Federal, Dias Toffoli, suspendeu investigações com base no compartilhamento de dados detalhados de órgãos de controle, como o Coaf, sem autorização judicial.\n",
    "\n",
    "\"\"\"\n",
    "evaluate(msg)"
   ]
  },
  {
   "cell_type": "code",
   "execution_count": null,
   "metadata": {},
   "outputs": [],
   "source": []
  },
  {
   "cell_type": "code",
   "execution_count": null,
   "metadata": {},
   "outputs": [],
   "source": []
  },
  {
   "cell_type": "code",
   "execution_count": null,
   "metadata": {},
   "outputs": [],
   "source": []
  },
  {
   "cell_type": "code",
   "execution_count": 33,
   "metadata": {
    "scrolled": true
   },
   "outputs": [],
   "source": [
    "pipe = Pipeline((['vect', vectorizer], ['clf', clf]))"
   ]
  },
  {
   "cell_type": "code",
   "execution_count": 35,
   "metadata": {},
   "outputs": [
    {
     "ename": "ModuleNotFoundError",
     "evalue": "No module named 'lime'",
     "output_type": "error",
     "traceback": [
      "\u001b[1;31m---------------------------------------------------------------------------\u001b[0m",
      "\u001b[1;31mModuleNotFoundError\u001b[0m                       Traceback (most recent call last)",
      "\u001b[1;32m<ipython-input-35-fcd4d267ef13>\u001b[0m in \u001b[0;36m<module>\u001b[1;34m\u001b[0m\n\u001b[1;32m----> 1\u001b[1;33m \u001b[1;32mfrom\u001b[0m \u001b[0mlime\u001b[0m\u001b[1;33m.\u001b[0m\u001b[0mlime_text\u001b[0m \u001b[1;32mimport\u001b[0m \u001b[0mLimeTextExplainer\u001b[0m\u001b[1;33m\u001b[0m\u001b[1;33m\u001b[0m\u001b[0m\n\u001b[0m\u001b[0;32m      2\u001b[0m \u001b[0mexplainer\u001b[0m \u001b[1;33m=\u001b[0m \u001b[0mLimeTextExplainer\u001b[0m\u001b[1;33m(\u001b[0m\u001b[0mclass_names\u001b[0m\u001b[1;33m=\u001b[0m\u001b[1;33m[\u001b[0m\u001b[1;36m0\u001b[0m\u001b[1;33m,\u001b[0m \u001b[1;36m1\u001b[0m\u001b[1;33m]\u001b[0m\u001b[1;33m)\u001b[0m\u001b[1;33m\u001b[0m\u001b[1;33m\u001b[0m\u001b[0m\n",
      "\u001b[1;31mModuleNotFoundError\u001b[0m: No module named 'lime'"
     ]
    }
   ],
   "source": [
    "from lime.lime_text import LimeTextExplainer\n",
    "explainer = LimeTextExplainer(class_names=[0, 1])"
   ]
  },
  {
   "cell_type": "code",
   "execution_count": null,
   "metadata": {
    "scrolled": false
   },
   "outputs": [],
   "source": [
    "msg = \"\"\"\n",
    "\n",
    "PT entra com ação no STF para impedir que Bolsonaro reduza o preço do gás. De acordo com uma fonte de dentro do Congresso, \n",
    "integrantes do Partido dos Trabalhadores enviaram nesta segunda-feira (05) para o STF, uma ação exigindo que o presidente \n",
    "Jair Bolsonaro seja impedido de prosseguir com o projeto de redução do preço do gás no país. Para eles, a medida do presidente \n",
    "é inconstitucional e tem objetivo único de aumentar sua popularidade perante a população mais pobre. Bolsonaro, em parceria \n",
    "com o ministro da Economia Paulo Guedes, pretende reduzir o preço do gás doméstico em até 50% em 2 meses. \n",
    "\n",
    "Essa é uma das medidas do ministro para melhorar a economia do país de curto a médio prazo. A presidente do PT, \n",
    "Gleisi Hoffmann, afirmou que o partido fará de tudo para que o preço do gás continue como está. “Nós acabamos de enviar \n",
    "uma ação para que o STF barre essa medida populista e descabida desse fascista. Essa redução no preço do gás trará grandes \n",
    "prejuízos para a nossa querida Petrobrás e para os cofres públicos. Em qualquer país sério isso seria considerado crime de \n",
    "improbidade. Se depender de nós, o preço do gás continuará como está, pois a população pobre não precisa de migalhas desse \n",
    "presidente autoritário.” Disse a deputada durante entrevista. […]\n",
    "\n",
    "\"\"\"\n",
    "\n",
    "msg = clean_text(msg)\n",
    "\n",
    "result = pipe.predict([msg])\n",
    "\n",
    "if result == 1:\n",
    "    veredict = \"falsa\"\n",
    "else:\n",
    "    veredict = \"verdadeira\"\n",
    "\n",
    "print(\"Tenho {:.0f}% de certeza de que a notícia é {}.\".format(max(pipe.predict_proba([msg])[0]) * 100, veredict))\n",
    "\n",
    "exp = explainer.explain_instance(msg, pipe.predict_proba, num_features=10)\n",
    "exp.show_in_notebook()"
   ]
  },
  {
   "cell_type": "code",
   "execution_count": null,
   "metadata": {},
   "outputs": [],
   "source": [
    "exp.as_list()"
   ]
  },
  {
   "cell_type": "code",
   "execution_count": null,
   "metadata": {},
   "outputs": [],
   "source": []
  },
  {
   "cell_type": "code",
   "execution_count": null,
   "metadata": {},
   "outputs": [],
   "source": [
    "# To use other features\n",
    "# https://stackoverflow.com/questions/41937786/add-column-to-a-sparse-matrix\n",
    "\n",
    "# import scipy\n",
    "# X_all_text_title = scipy.sparse.hstack((X_all_text_title, X_length[:, None]))"
   ]
  },
  {
   "cell_type": "code",
   "execution_count": null,
   "metadata": {},
   "outputs": [],
   "source": []
  },
  {
   "cell_type": "code",
   "execution_count": null,
   "metadata": {},
   "outputs": [],
   "source": []
  },
  {
   "cell_type": "code",
   "execution_count": null,
   "metadata": {},
   "outputs": [],
   "source": [
    "# https://www.datacamp.com/community/tutorials/introduction-t-sne"
   ]
  },
  {
   "cell_type": "code",
   "execution_count": 36,
   "metadata": {},
   "outputs": [
    {
     "data": {
      "text/plain": [
       "Counter({1: 250, 0: 250})"
      ]
     },
     "execution_count": 36,
     "metadata": {},
     "output_type": "execute_result"
    }
   ],
   "source": [
    "Counter(y_all[1001:1501])"
   ]
  },
  {
   "cell_type": "code",
   "execution_count": 37,
   "metadata": {},
   "outputs": [
    {
     "data": {
      "text/html": [
       "<div>\n",
       "<style scoped>\n",
       "    .dataframe tbody tr th:only-of-type {\n",
       "        vertical-align: middle;\n",
       "    }\n",
       "\n",
       "    .dataframe tbody tr th {\n",
       "        vertical-align: top;\n",
       "    }\n",
       "\n",
       "    .dataframe thead th {\n",
       "        text-align: right;\n",
       "    }\n",
       "</style>\n",
       "<table border=\"1\" class=\"dataframe\">\n",
       "  <thead>\n",
       "    <tr style=\"text-align: right;\">\n",
       "      <th></th>\n",
       "      <th>DATE</th>\n",
       "      <th>FAKE</th>\n",
       "      <th>TEXT_CLEAN</th>\n",
       "      <th>TITLE_CLEAN</th>\n",
       "      <th>TEXT_LEN_CHAR</th>\n",
       "      <th>TEXT_LEN_TOKEN</th>\n",
       "      <th>TITLE_LEN_CHAR</th>\n",
       "      <th>TITLE_LEN_TOKEN</th>\n",
       "    </tr>\n",
       "  </thead>\n",
       "  <tbody>\n",
       "    <tr>\n",
       "      <th>1001</th>\n",
       "      <td>11/08/2014</td>\n",
       "      <td>1</td>\n",
       "      <td>boato aecio neves concede entrevista bebado es...</td>\n",
       "      <td>aecio neves concede entrevista bebado estadao</td>\n",
       "      <td>51</td>\n",
       "      <td>7</td>\n",
       "      <td>45</td>\n",
       "      <td>6</td>\n",
       "    </tr>\n",
       "    <tr>\n",
       "      <th>1002</th>\n",
       "      <td>11/05/2014</td>\n",
       "      <td>1</td>\n",
       "      <td>montagem steven seagal apoia campanha dilma</td>\n",
       "      <td>montagem steven seagal apoia campanha dilma</td>\n",
       "      <td>43</td>\n",
       "      <td>6</td>\n",
       "      <td>43</td>\n",
       "      <td>6</td>\n",
       "    </tr>\n",
       "    <tr>\n",
       "      <th>1003</th>\n",
       "      <td>13/05/2014</td>\n",
       "      <td>1</td>\n",
       "      <td>alerta falso projeto acabar familia votado semana</td>\n",
       "      <td>alerta falso projeto acabar familia votado semana</td>\n",
       "      <td>49</td>\n",
       "      <td>7</td>\n",
       "      <td>49</td>\n",
       "      <td>7</td>\n",
       "    </tr>\n",
       "    <tr>\n",
       "      <th>1004</th>\n",
       "      <td>09/05/2014</td>\n",
       "      <td>1</td>\n",
       "      <td>balela amante dilma entra justica cobra pensao...</td>\n",
       "      <td>balela amante dilma entra justica cobra pensao...</td>\n",
       "      <td>57</td>\n",
       "      <td>8</td>\n",
       "      <td>57</td>\n",
       "      <td>8</td>\n",
       "    </tr>\n",
       "    <tr>\n",
       "      <th>1005</th>\n",
       "      <td>24/05/2014</td>\n",
       "      <td>1</td>\n",
       "      <td>boato jair bolsonaro vai candidatar presidente...</td>\n",
       "      <td>jair bolsonaro vai candidatar presidente eleicoes</td>\n",
       "      <td>55</td>\n",
       "      <td>7</td>\n",
       "      <td>49</td>\n",
       "      <td>6</td>\n",
       "    </tr>\n",
       "    <tr>\n",
       "      <th>1006</th>\n",
       "      <td>28/05/2014</td>\n",
       "      <td>1</td>\n",
       "      <td>primeiro ministro china sugere solucoes melhor...</td>\n",
       "      <td>ministro china aponta sugestoes melhorar brasil</td>\n",
       "      <td>469</td>\n",
       "      <td>52</td>\n",
       "      <td>47</td>\n",
       "      <td>6</td>\n",
       "    </tr>\n",
       "    <tr>\n",
       "      <th>1007</th>\n",
       "      <td>11/05/2014</td>\n",
       "      <td>1</td>\n",
       "      <td>informacao errada presidente paraguai elimina ...</td>\n",
       "      <td>informacao errada presidente paraguai elimina ...</td>\n",
       "      <td>59</td>\n",
       "      <td>7</td>\n",
       "      <td>59</td>\n",
       "      <td>7</td>\n",
       "    </tr>\n",
       "    <tr>\n",
       "      <th>1008</th>\n",
       "      <td>12/05/2014</td>\n",
       "      <td>1</td>\n",
       "      <td>balela sbt faz enquete dar programa rachel she...</td>\n",
       "      <td>balela sbt faz enquete dar programa rachel she...</td>\n",
       "      <td>54</td>\n",
       "      <td>8</td>\n",
       "      <td>54</td>\n",
       "      <td>8</td>\n",
       "    </tr>\n",
       "    <tr>\n",
       "      <th>1009</th>\n",
       "      <td>29/05/2014</td>\n",
       "      <td>1</td>\n",
       "      <td>hoax carta aberta presidente dilma rousseff se...</td>\n",
       "      <td>hoax carta aberta presidente dilma rousseff se...</td>\n",
       "      <td>56</td>\n",
       "      <td>8</td>\n",
       "      <td>56</td>\n",
       "      <td>8</td>\n",
       "    </tr>\n",
       "    <tr>\n",
       "      <th>1010</th>\n",
       "      <td>25/05/2014</td>\n",
       "      <td>1</td>\n",
       "      <td>informacao errada ministros vao ganhar bolsa c...</td>\n",
       "      <td>informacao errada ministros vao ganhar bolsa c...</td>\n",
       "      <td>57</td>\n",
       "      <td>8</td>\n",
       "      <td>57</td>\n",
       "      <td>8</td>\n",
       "    </tr>\n",
       "    <tr>\n",
       "      <th>1011</th>\n",
       "      <td>27/05/2014</td>\n",
       "      <td>1</td>\n",
       "      <td>noticia falsa policiais mocambique farao segur...</td>\n",
       "      <td>noticia falsa policiais mocambique farao segur...</td>\n",
       "      <td>55</td>\n",
       "      <td>7</td>\n",
       "      <td>55</td>\n",
       "      <td>7</td>\n",
       "    </tr>\n",
       "    <tr>\n",
       "      <th>1012</th>\n",
       "      <td>31/05/2014</td>\n",
       "      <td>1</td>\n",
       "      <td>informacao errada aecio neves julgado desvio v...</td>\n",
       "      <td>informacao errada aecio neves julgado desvio v...</td>\n",
       "      <td>50</td>\n",
       "      <td>7</td>\n",
       "      <td>50</td>\n",
       "      <td>7</td>\n",
       "    </tr>\n",
       "    <tr>\n",
       "      <th>1013</th>\n",
       "      <td>03/06/2014</td>\n",
       "      <td>1</td>\n",
       "      <td>informacao falsa traz mil haitianos brasil for...</td>\n",
       "      <td>informacao falsa traz mil haitianos brasil for...</td>\n",
       "      <td>57</td>\n",
       "      <td>8</td>\n",
       "      <td>57</td>\n",
       "      <td>8</td>\n",
       "    </tr>\n",
       "    <tr>\n",
       "      <th>1014</th>\n",
       "      <td>23/02/2014</td>\n",
       "      <td>1</td>\n",
       "      <td>foto mostra nicolas maduro gay boato</td>\n",
       "      <td>foto mostra nicolas maduro gay</td>\n",
       "      <td>36</td>\n",
       "      <td>6</td>\n",
       "      <td>30</td>\n",
       "      <td>5</td>\n",
       "    </tr>\n",
       "    <tr>\n",
       "      <th>1015</th>\n",
       "      <td>04/06/2014</td>\n",
       "      <td>1</td>\n",
       "      <td>imagem mostra extrato bolsa familia falsa</td>\n",
       "      <td>imagem mostra extrato bolsa familia falsa</td>\n",
       "      <td>41</td>\n",
       "      <td>6</td>\n",
       "      <td>41</td>\n",
       "      <td>6</td>\n",
       "    </tr>\n",
       "    <tr>\n",
       "      <th>1016</th>\n",
       "      <td>07/03/2014</td>\n",
       "      <td>1</td>\n",
       "      <td>mentira ativista sininho neta janio quadros</td>\n",
       "      <td>mentira ativista sininho neta janio quadros</td>\n",
       "      <td>43</td>\n",
       "      <td>6</td>\n",
       "      <td>43</td>\n",
       "      <td>6</td>\n",
       "    </tr>\n",
       "    <tr>\n",
       "      <th>1017</th>\n",
       "      <td>12/03/2014</td>\n",
       "      <td>1</td>\n",
       "      <td>mentira deputado propoe cota evangelicos concu...</td>\n",
       "      <td>mentira deputado propoe cota evangelicos concu...</td>\n",
       "      <td>59</td>\n",
       "      <td>7</td>\n",
       "      <td>59</td>\n",
       "      <td>7</td>\n",
       "    </tr>\n",
       "    <tr>\n",
       "      <th>1018</th>\n",
       "      <td>10/03/2014</td>\n",
       "      <td>1</td>\n",
       "      <td>noticia sobre lei obriga brasileiro pintar cas...</td>\n",
       "      <td>noticia sobre lei obriga brasileiro pintar cas...</td>\n",
       "      <td>58</td>\n",
       "      <td>9</td>\n",
       "      <td>58</td>\n",
       "      <td>9</td>\n",
       "    </tr>\n",
       "    <tr>\n",
       "      <th>1019</th>\n",
       "      <td>13/03/2014</td>\n",
       "      <td>1</td>\n",
       "      <td>foto lula lendo livro cabeca baixo montagem</td>\n",
       "      <td>foto lula lendo livro cabeca baixo montagem</td>\n",
       "      <td>43</td>\n",
       "      <td>7</td>\n",
       "      <td>43</td>\n",
       "      <td>7</td>\n",
       "    </tr>\n",
       "    <tr>\n",
       "      <th>1020</th>\n",
       "      <td>15/03/2014</td>\n",
       "      <td>1</td>\n",
       "      <td>noticia falsa maria rosario confunde controle ...</td>\n",
       "      <td>noticia falsa maria rosario confunde controle ...</td>\n",
       "      <td>61</td>\n",
       "      <td>8</td>\n",
       "      <td>61</td>\n",
       "      <td>8</td>\n",
       "    </tr>\n",
       "    <tr>\n",
       "      <th>1021</th>\n",
       "      <td>20/03/2014</td>\n",
       "      <td>1</td>\n",
       "      <td>informacao rachel sheherazade convocou marcha ...</td>\n",
       "      <td>informacao rachel sheherazade convocou marcha ...</td>\n",
       "      <td>59</td>\n",
       "      <td>7</td>\n",
       "      <td>59</td>\n",
       "      <td>7</td>\n",
       "    </tr>\n",
       "    <tr>\n",
       "      <th>1022</th>\n",
       "      <td>21/03/2014</td>\n",
       "      <td>1</td>\n",
       "      <td>noticia falsa dilma contrata mil policiais cub...</td>\n",
       "      <td>noticia falsa dilma contrata mil policiais cub...</td>\n",
       "      <td>55</td>\n",
       "      <td>8</td>\n",
       "      <td>55</td>\n",
       "      <td>8</td>\n",
       "    </tr>\n",
       "    <tr>\n",
       "      <th>1023</th>\n",
       "      <td>26/03/2014</td>\n",
       "      <td>1</td>\n",
       "      <td>informacao errada alexandre padilha diploma fa...</td>\n",
       "      <td>informacao errada alexandre padilha diploma fa...</td>\n",
       "      <td>71</td>\n",
       "      <td>8</td>\n",
       "      <td>71</td>\n",
       "      <td>8</td>\n",
       "    </tr>\n",
       "    <tr>\n",
       "      <th>1024</th>\n",
       "      <td>28/03/2014</td>\n",
       "      <td>1</td>\n",
       "      <td>presidente esclareceu significa apoie consumo ...</td>\n",
       "      <td>mentira dilma diz consumo cocaina mostra cresc...</td>\n",
       "      <td>135</td>\n",
       "      <td>17</td>\n",
       "      <td>62</td>\n",
       "      <td>8</td>\n",
       "    </tr>\n",
       "    <tr>\n",
       "      <th>1025</th>\n",
       "      <td>02/04/2014</td>\n",
       "      <td>1</td>\n",
       "      <td>kim jong obriga uso corte cabelo coreia norte ...</td>\n",
       "      <td>kim jong obriga uso corte cabelo coreia norte</td>\n",
       "      <td>51</td>\n",
       "      <td>9</td>\n",
       "      <td>45</td>\n",
       "      <td>8</td>\n",
       "    </tr>\n",
       "    <tr>\n",
       "      <th>1026</th>\n",
       "      <td>14/03/2014</td>\n",
       "      <td>1</td>\n",
       "      <td>hoax texto arnaldo jabor chamado vote dilma ce...</td>\n",
       "      <td>hoax texto arnaldo jabor chamado vote dilma ce...</td>\n",
       "      <td>57</td>\n",
       "      <td>9</td>\n",
       "      <td>57</td>\n",
       "      <td>9</td>\n",
       "    </tr>\n",
       "    <tr>\n",
       "      <th>1027</th>\n",
       "      <td>04/04/2014</td>\n",
       "      <td>1</td>\n",
       "      <td>pegadinha governo proibe doze anos escravidao ...</td>\n",
       "      <td>pegadinha governo proibe doze anos escravidao ...</td>\n",
       "      <td>61</td>\n",
       "      <td>8</td>\n",
       "      <td>61</td>\n",
       "      <td>8</td>\n",
       "    </tr>\n",
       "    <tr>\n",
       "      <th>1028</th>\n",
       "      <td>04/04/2014</td>\n",
       "      <td>1</td>\n",
       "      <td>pesquisa ipea traz informacao errada sobre est...</td>\n",
       "      <td>pesquisa ipea traz informacao errada sobre est...</td>\n",
       "      <td>64</td>\n",
       "      <td>9</td>\n",
       "      <td>64</td>\n",
       "      <td>9</td>\n",
       "    </tr>\n",
       "    <tr>\n",
       "      <th>1029</th>\n",
       "      <td>07/04/2014</td>\n",
       "      <td>1</td>\n",
       "      <td>boato sbt afasta rachel sheherazade apos press...</td>\n",
       "      <td>sbt afasta rachel sheherazade apos pressao gov...</td>\n",
       "      <td>56</td>\n",
       "      <td>8</td>\n",
       "      <td>50</td>\n",
       "      <td>7</td>\n",
       "    </tr>\n",
       "    <tr>\n",
       "      <th>1030</th>\n",
       "      <td>14/04/2014</td>\n",
       "      <td>1</td>\n",
       "      <td>noticia falsa deputado jean wyllys quer criar ...</td>\n",
       "      <td>noticia falsa deputado jean wyllys quer criar ...</td>\n",
       "      <td>55</td>\n",
       "      <td>8</td>\n",
       "      <td>55</td>\n",
       "      <td>8</td>\n",
       "    </tr>\n",
       "    <tr>\n",
       "      <th>...</th>\n",
       "      <td>...</td>\n",
       "      <td>...</td>\n",
       "      <td>...</td>\n",
       "      <td>...</td>\n",
       "      <td>...</td>\n",
       "      <td>...</td>\n",
       "      <td>...</td>\n",
       "      <td>...</td>\n",
       "    </tr>\n",
       "    <tr>\n",
       "      <th>226</th>\n",
       "      <td>27/03/2019</td>\n",
       "      <td>0</td>\n",
       "      <td>quatro paredes principal sala reunioes dirigen...</td>\n",
       "      <td>excecao japonesa terremoto politico democracia...</td>\n",
       "      <td>4083</td>\n",
       "      <td>499</td>\n",
       "      <td>57</td>\n",
       "      <td>6</td>\n",
       "    </tr>\n",
       "    <tr>\n",
       "      <th>227</th>\n",
       "      <td>21/03/2019</td>\n",
       "      <td>0</td>\n",
       "      <td>decisao juiz marcelo bretas mandou prender pre...</td>\n",
       "      <td>temer lider organizacao criminosa conforme dec...</td>\n",
       "      <td>5742</td>\n",
       "      <td>710</td>\n",
       "      <td>58</td>\n",
       "      <td>7</td>\n",
       "    </tr>\n",
       "    <tr>\n",
       "      <th>228</th>\n",
       "      <td>21/03/2019</td>\n",
       "      <td>0</td>\n",
       "      <td>eleicoes regionais holandesas desta quarta fei...</td>\n",
       "      <td>nova ultradireita ganha forca holanda</td>\n",
       "      <td>3180</td>\n",
       "      <td>406</td>\n",
       "      <td>37</td>\n",
       "      <td>5</td>\n",
       "    </tr>\n",
       "    <tr>\n",
       "      <th>229</th>\n",
       "      <td>21/03/2019</td>\n",
       "      <td>0</td>\n",
       "      <td>policia politica venezuela prendeu nesta quint...</td>\n",
       "      <td>policia venezuelana prende numero dois juan gu...</td>\n",
       "      <td>3508</td>\n",
       "      <td>431</td>\n",
       "      <td>50</td>\n",
       "      <td>7</td>\n",
       "    </tr>\n",
       "    <tr>\n",
       "      <th>230</th>\n",
       "      <td>22/03/2019</td>\n",
       "      <td>0</td>\n",
       "      <td>dia operacao lava jato voltou prender politico...</td>\n",
       "      <td>disputa lava jato stf acirra novas prisoes inq...</td>\n",
       "      <td>6533</td>\n",
       "      <td>812</td>\n",
       "      <td>68</td>\n",
       "      <td>11</td>\n",
       "    </tr>\n",
       "    <tr>\n",
       "      <th>231</th>\n",
       "      <td>24/03/2019</td>\n",
       "      <td>0</td>\n",
       "      <td>chegada dois avioes militares russos aeroporto...</td>\n",
       "      <td>dois avioes russos chegam venezuela centena mi...</td>\n",
       "      <td>2316</td>\n",
       "      <td>282</td>\n",
       "      <td>53</td>\n",
       "      <td>7</td>\n",
       "    </tr>\n",
       "    <tr>\n",
       "      <th>232</th>\n",
       "      <td>22/03/2019</td>\n",
       "      <td>0</td>\n",
       "      <td>operacao lava jato voltou impor agenda politic...</td>\n",
       "      <td>prisao temer revigora lava jato tumultua agend...</td>\n",
       "      <td>5492</td>\n",
       "      <td>697</td>\n",
       "      <td>65</td>\n",
       "      <td>9</td>\n",
       "    </tr>\n",
       "    <tr>\n",
       "      <th>233</th>\n",
       "      <td>22/03/2019</td>\n",
       "      <td>0</td>\n",
       "      <td>preciso ser admirador fisico alemao albert ein...</td>\n",
       "      <td>curioso tempo prisao temer</td>\n",
       "      <td>6155</td>\n",
       "      <td>764</td>\n",
       "      <td>26</td>\n",
       "      <td>4</td>\n",
       "    </tr>\n",
       "    <tr>\n",
       "      <th>234</th>\n",
       "      <td>21/03/2019</td>\n",
       "      <td>0</td>\n",
       "      <td>michel temer tornou nesta quinta feira paulo s...</td>\n",
       "      <td>prisao temer complica futuro reforma previdenc...</td>\n",
       "      <td>2217</td>\n",
       "      <td>288</td>\n",
       "      <td>55</td>\n",
       "      <td>7</td>\n",
       "    </tr>\n",
       "    <tr>\n",
       "      <th>235</th>\n",
       "      <td>22/03/2019</td>\n",
       "      <td>0</td>\n",
       "      <td>rachadinha apropriacao salarios assessores nom...</td>\n",
       "      <td>dois assessores bolsonaro doaram reais campanh...</td>\n",
       "      <td>8895</td>\n",
       "      <td>1069</td>\n",
       "      <td>56</td>\n",
       "      <td>7</td>\n",
       "    </tr>\n",
       "    <tr>\n",
       "      <th>236</th>\n",
       "      <td>22/03/2019</td>\n",
       "      <td>0</td>\n",
       "      <td>brasil acumulado faiscas consensos caminho ref...</td>\n",
       "      <td>curto circuito politico faz economia calcanhar...</td>\n",
       "      <td>6356</td>\n",
       "      <td>795</td>\n",
       "      <td>64</td>\n",
       "      <td>8</td>\n",
       "    </tr>\n",
       "    <tr>\n",
       "      <th>237</th>\n",
       "      <td>22/03/2019</td>\n",
       "      <td>0</td>\n",
       "      <td>guinada sul americana direita consumada unasul...</td>\n",
       "      <td>guinada sul americana direita consuma enterro ...</td>\n",
       "      <td>3381</td>\n",
       "      <td>416</td>\n",
       "      <td>52</td>\n",
       "      <td>7</td>\n",
       "    </tr>\n",
       "    <tr>\n",
       "      <th>238</th>\n",
       "      <td>22/03/2019</td>\n",
       "      <td>0</td>\n",
       "      <td>promotor especial robert mueller entregou sext...</td>\n",
       "      <td>relatorio sobre influencia russa eleicao eua e...</td>\n",
       "      <td>3563</td>\n",
       "      <td>438</td>\n",
       "      <td>68</td>\n",
       "      <td>10</td>\n",
       "    </tr>\n",
       "    <tr>\n",
       "      <th>239</th>\n",
       "      <td>23/03/2019</td>\n",
       "      <td>0</td>\n",
       "      <td>apesar prevista legislacao penal apenas tres o...</td>\n",
       "      <td>prisao temer reacende debate sobre uso prisao ...</td>\n",
       "      <td>3584</td>\n",
       "      <td>451</td>\n",
       "      <td>66</td>\n",
       "      <td>10</td>\n",
       "    </tr>\n",
       "    <tr>\n",
       "      <th>240</th>\n",
       "      <td>22/03/2019</td>\n",
       "      <td>0</td>\n",
       "      <td>parceiros uniao europeia chegaram acordo sobre...</td>\n",
       "      <td>uniao europeia impoe ultimato dias londres def...</td>\n",
       "      <td>6153</td>\n",
       "      <td>768</td>\n",
       "      <td>57</td>\n",
       "      <td>8</td>\n",
       "    </tr>\n",
       "    <tr>\n",
       "      <th>241</th>\n",
       "      <td>23/03/2019</td>\n",
       "      <td>0</td>\n",
       "      <td>ultima terca feira presidente jair bolsonaro p...</td>\n",
       "      <td>bolsonaro desenvolvimento filhos bolsa familia...</td>\n",
       "      <td>4278</td>\n",
       "      <td>502</td>\n",
       "      <td>76</td>\n",
       "      <td>8</td>\n",
       "    </tr>\n",
       "    <tr>\n",
       "      <th>242</th>\n",
       "      <td>15/03/2019</td>\n",
       "      <td>0</td>\n",
       "      <td>operacao lava jato apresenta vigor apos encarc...</td>\n",
       "      <td>stf impoe derrota lava jato sobre caixa encamp...</td>\n",
       "      <td>2647</td>\n",
       "      <td>331</td>\n",
       "      <td>74</td>\n",
       "      <td>11</td>\n",
       "    </tr>\n",
       "    <tr>\n",
       "      <th>243</th>\n",
       "      <td>14/03/2019</td>\n",
       "      <td>0</td>\n",
       "      <td>senado estados unidos aprovou quinta feira pro...</td>\n",
       "      <td>senado derruba declaracao emergencia trump des...</td>\n",
       "      <td>3629</td>\n",
       "      <td>428</td>\n",
       "      <td>66</td>\n",
       "      <td>9</td>\n",
       "    </tr>\n",
       "    <tr>\n",
       "      <th>244</th>\n",
       "      <td>14/03/2019</td>\n",
       "      <td>0</td>\n",
       "      <td>nada decidido tudo decidido parece theresa may...</td>\n",
       "      <td>parlamento britanico aprova adiar brexit rejei...</td>\n",
       "      <td>3860</td>\n",
       "      <td>486</td>\n",
       "      <td>63</td>\n",
       "      <td>8</td>\n",
       "    </tr>\n",
       "    <tr>\n",
       "      <th>245</th>\n",
       "      <td>16/03/2019</td>\n",
       "      <td>0</td>\n",
       "      <td>juan guaido guaira venezuela chega hotel carac...</td>\n",
       "      <td>medo forcas armadas muita perseguicao</td>\n",
       "      <td>8269</td>\n",
       "      <td>1026</td>\n",
       "      <td>37</td>\n",
       "      <td>5</td>\n",
       "    </tr>\n",
       "    <tr>\n",
       "      <th>246</th>\n",
       "      <td>23/03/2019</td>\n",
       "      <td>0</td>\n",
       "      <td>brasil estados unidos segundo maior pais conti...</td>\n",
       "      <td>querer colocar biblia centro educacao escolar ...</td>\n",
       "      <td>3333</td>\n",
       "      <td>421</td>\n",
       "      <td>80</td>\n",
       "      <td>10</td>\n",
       "    </tr>\n",
       "    <tr>\n",
       "      <th>247</th>\n",
       "      <td>15/03/2019</td>\n",
       "      <td>0</td>\n",
       "      <td>razao colega flavia marreiro escreve exagero d...</td>\n",
       "      <td>marielle atemoriza porque representa tudo este...</td>\n",
       "      <td>2883</td>\n",
       "      <td>377</td>\n",
       "      <td>80</td>\n",
       "      <td>9</td>\n",
       "    </tr>\n",
       "    <tr>\n",
       "      <th>248</th>\n",
       "      <td>14/03/2019</td>\n",
       "      <td>0</td>\n",
       "      <td>aterrissei caracas quinta feira passada seis d...</td>\n",
       "      <td>retorno caracas</td>\n",
       "      <td>7375</td>\n",
       "      <td>893</td>\n",
       "      <td>15</td>\n",
       "      <td>2</td>\n",
       "    </tr>\n",
       "    <tr>\n",
       "      <th>249</th>\n",
       "      <td>16/03/2019</td>\n",
       "      <td>0</td>\n",
       "      <td>esclarecimento caso desaparecimento forcado du...</td>\n",
       "      <td>direitos humanos reforma exercito causam tensa...</td>\n",
       "      <td>3918</td>\n",
       "      <td>465</td>\n",
       "      <td>73</td>\n",
       "      <td>9</td>\n",
       "    </tr>\n",
       "    <tr>\n",
       "      <th>251</th>\n",
       "      <td>16/03/2019</td>\n",
       "      <td>0</td>\n",
       "      <td>samba enredo escola vencedora carnaval deste a...</td>\n",
       "      <td>mandou matar marielle clamor despertou brasil</td>\n",
       "      <td>5007</td>\n",
       "      <td>623</td>\n",
       "      <td>45</td>\n",
       "      <td>6</td>\n",
       "    </tr>\n",
       "    <tr>\n",
       "      <th>252</th>\n",
       "      <td>17/03/2019</td>\n",
       "      <td>0</td>\n",
       "      <td>serie pequenos atos realizados varias cidades ...</td>\n",
       "      <td>grupos vao ruas protestar contra stf</td>\n",
       "      <td>1819</td>\n",
       "      <td>232</td>\n",
       "      <td>36</td>\n",
       "      <td>6</td>\n",
       "    </tr>\n",
       "    <tr>\n",
       "      <th>253</th>\n",
       "      <td>17/03/2019</td>\n",
       "      <td>0</td>\n",
       "      <td>alto escalao ministerio educacao mec envolveu ...</td>\n",
       "      <td>batalha olavistas militares mec trava pauta ed...</td>\n",
       "      <td>8415</td>\n",
       "      <td>1035</td>\n",
       "      <td>52</td>\n",
       "      <td>7</td>\n",
       "    </tr>\n",
       "    <tr>\n",
       "      <th>254</th>\n",
       "      <td>17/03/2019</td>\n",
       "      <td>0</td>\n",
       "      <td>animalismo marginal ser considerado quase piad...</td>\n",
       "      <td>cada dia pessoas acreditam animais importam ta...</td>\n",
       "      <td>8924</td>\n",
       "      <td>1102</td>\n",
       "      <td>63</td>\n",
       "      <td>9</td>\n",
       "    </tr>\n",
       "    <tr>\n",
       "      <th>255</th>\n",
       "      <td>18/03/2019</td>\n",
       "      <td>0</td>\n",
       "      <td>presidente brasil possivelmente chefe estado a...</td>\n",
       "      <td>bolsonaro visita trump reforcar alianca brasil...</td>\n",
       "      <td>4769</td>\n",
       "      <td>587</td>\n",
       "      <td>50</td>\n",
       "      <td>7</td>\n",
       "    </tr>\n",
       "    <tr>\n",
       "      <th>256</th>\n",
       "      <td>18/03/2019</td>\n",
       "      <td>0</td>\n",
       "      <td>leitor deste jornal criticou fato jornal perde...</td>\n",
       "      <td>brasileiros transformam metafora politica hist...</td>\n",
       "      <td>3184</td>\n",
       "      <td>397</td>\n",
       "      <td>83</td>\n",
       "      <td>9</td>\n",
       "    </tr>\n",
       "  </tbody>\n",
       "</table>\n",
       "<p>500 rows × 8 columns</p>\n",
       "</div>"
      ],
      "text/plain": [
       "            DATE  FAKE                                         TEXT_CLEAN  \\\n",
       "1001  11/08/2014     1  boato aecio neves concede entrevista bebado es...   \n",
       "1002  11/05/2014     1        montagem steven seagal apoia campanha dilma   \n",
       "1003  13/05/2014     1  alerta falso projeto acabar familia votado semana   \n",
       "1004  09/05/2014     1  balela amante dilma entra justica cobra pensao...   \n",
       "1005  24/05/2014     1  boato jair bolsonaro vai candidatar presidente...   \n",
       "1006  28/05/2014     1  primeiro ministro china sugere solucoes melhor...   \n",
       "1007  11/05/2014     1  informacao errada presidente paraguai elimina ...   \n",
       "1008  12/05/2014     1  balela sbt faz enquete dar programa rachel she...   \n",
       "1009  29/05/2014     1  hoax carta aberta presidente dilma rousseff se...   \n",
       "1010  25/05/2014     1  informacao errada ministros vao ganhar bolsa c...   \n",
       "1011  27/05/2014     1  noticia falsa policiais mocambique farao segur...   \n",
       "1012  31/05/2014     1  informacao errada aecio neves julgado desvio v...   \n",
       "1013  03/06/2014     1  informacao falsa traz mil haitianos brasil for...   \n",
       "1014  23/02/2014     1               foto mostra nicolas maduro gay boato   \n",
       "1015  04/06/2014     1          imagem mostra extrato bolsa familia falsa   \n",
       "1016  07/03/2014     1        mentira ativista sininho neta janio quadros   \n",
       "1017  12/03/2014     1  mentira deputado propoe cota evangelicos concu...   \n",
       "1018  10/03/2014     1  noticia sobre lei obriga brasileiro pintar cas...   \n",
       "1019  13/03/2014     1        foto lula lendo livro cabeca baixo montagem   \n",
       "1020  15/03/2014     1  noticia falsa maria rosario confunde controle ...   \n",
       "1021  20/03/2014     1  informacao rachel sheherazade convocou marcha ...   \n",
       "1022  21/03/2014     1  noticia falsa dilma contrata mil policiais cub...   \n",
       "1023  26/03/2014     1  informacao errada alexandre padilha diploma fa...   \n",
       "1024  28/03/2014     1  presidente esclareceu significa apoie consumo ...   \n",
       "1025  02/04/2014     1  kim jong obriga uso corte cabelo coreia norte ...   \n",
       "1026  14/03/2014     1  hoax texto arnaldo jabor chamado vote dilma ce...   \n",
       "1027  04/04/2014     1  pegadinha governo proibe doze anos escravidao ...   \n",
       "1028  04/04/2014     1  pesquisa ipea traz informacao errada sobre est...   \n",
       "1029  07/04/2014     1  boato sbt afasta rachel sheherazade apos press...   \n",
       "1030  14/04/2014     1  noticia falsa deputado jean wyllys quer criar ...   \n",
       "...          ...   ...                                                ...   \n",
       "226   27/03/2019     0  quatro paredes principal sala reunioes dirigen...   \n",
       "227   21/03/2019     0  decisao juiz marcelo bretas mandou prender pre...   \n",
       "228   21/03/2019     0  eleicoes regionais holandesas desta quarta fei...   \n",
       "229   21/03/2019     0  policia politica venezuela prendeu nesta quint...   \n",
       "230   22/03/2019     0  dia operacao lava jato voltou prender politico...   \n",
       "231   24/03/2019     0  chegada dois avioes militares russos aeroporto...   \n",
       "232   22/03/2019     0  operacao lava jato voltou impor agenda politic...   \n",
       "233   22/03/2019     0  preciso ser admirador fisico alemao albert ein...   \n",
       "234   21/03/2019     0  michel temer tornou nesta quinta feira paulo s...   \n",
       "235   22/03/2019     0  rachadinha apropriacao salarios assessores nom...   \n",
       "236   22/03/2019     0  brasil acumulado faiscas consensos caminho ref...   \n",
       "237   22/03/2019     0  guinada sul americana direita consumada unasul...   \n",
       "238   22/03/2019     0  promotor especial robert mueller entregou sext...   \n",
       "239   23/03/2019     0  apesar prevista legislacao penal apenas tres o...   \n",
       "240   22/03/2019     0  parceiros uniao europeia chegaram acordo sobre...   \n",
       "241   23/03/2019     0  ultima terca feira presidente jair bolsonaro p...   \n",
       "242   15/03/2019     0  operacao lava jato apresenta vigor apos encarc...   \n",
       "243   14/03/2019     0  senado estados unidos aprovou quinta feira pro...   \n",
       "244   14/03/2019     0  nada decidido tudo decidido parece theresa may...   \n",
       "245   16/03/2019     0  juan guaido guaira venezuela chega hotel carac...   \n",
       "246   23/03/2019     0  brasil estados unidos segundo maior pais conti...   \n",
       "247   15/03/2019     0  razao colega flavia marreiro escreve exagero d...   \n",
       "248   14/03/2019     0  aterrissei caracas quinta feira passada seis d...   \n",
       "249   16/03/2019     0  esclarecimento caso desaparecimento forcado du...   \n",
       "251   16/03/2019     0  samba enredo escola vencedora carnaval deste a...   \n",
       "252   17/03/2019     0  serie pequenos atos realizados varias cidades ...   \n",
       "253   17/03/2019     0  alto escalao ministerio educacao mec envolveu ...   \n",
       "254   17/03/2019     0  animalismo marginal ser considerado quase piad...   \n",
       "255   18/03/2019     0  presidente brasil possivelmente chefe estado a...   \n",
       "256   18/03/2019     0  leitor deste jornal criticou fato jornal perde...   \n",
       "\n",
       "                                            TITLE_CLEAN  TEXT_LEN_CHAR  \\\n",
       "1001      aecio neves concede entrevista bebado estadao             51   \n",
       "1002        montagem steven seagal apoia campanha dilma             43   \n",
       "1003  alerta falso projeto acabar familia votado semana             49   \n",
       "1004  balela amante dilma entra justica cobra pensao...             57   \n",
       "1005  jair bolsonaro vai candidatar presidente eleicoes             55   \n",
       "1006    ministro china aponta sugestoes melhorar brasil            469   \n",
       "1007  informacao errada presidente paraguai elimina ...             59   \n",
       "1008  balela sbt faz enquete dar programa rachel she...             54   \n",
       "1009  hoax carta aberta presidente dilma rousseff se...             56   \n",
       "1010  informacao errada ministros vao ganhar bolsa c...             57   \n",
       "1011  noticia falsa policiais mocambique farao segur...             55   \n",
       "1012  informacao errada aecio neves julgado desvio v...             50   \n",
       "1013  informacao falsa traz mil haitianos brasil for...             57   \n",
       "1014                     foto mostra nicolas maduro gay             36   \n",
       "1015          imagem mostra extrato bolsa familia falsa             41   \n",
       "1016        mentira ativista sininho neta janio quadros             43   \n",
       "1017  mentira deputado propoe cota evangelicos concu...             59   \n",
       "1018  noticia sobre lei obriga brasileiro pintar cas...             58   \n",
       "1019        foto lula lendo livro cabeca baixo montagem             43   \n",
       "1020  noticia falsa maria rosario confunde controle ...             61   \n",
       "1021  informacao rachel sheherazade convocou marcha ...             59   \n",
       "1022  noticia falsa dilma contrata mil policiais cub...             55   \n",
       "1023  informacao errada alexandre padilha diploma fa...             71   \n",
       "1024  mentira dilma diz consumo cocaina mostra cresc...            135   \n",
       "1025      kim jong obriga uso corte cabelo coreia norte             51   \n",
       "1026  hoax texto arnaldo jabor chamado vote dilma ce...             57   \n",
       "1027  pegadinha governo proibe doze anos escravidao ...             61   \n",
       "1028  pesquisa ipea traz informacao errada sobre est...             64   \n",
       "1029  sbt afasta rachel sheherazade apos pressao gov...             56   \n",
       "1030  noticia falsa deputado jean wyllys quer criar ...             55   \n",
       "...                                                 ...            ...   \n",
       "226   excecao japonesa terremoto politico democracia...           4083   \n",
       "227   temer lider organizacao criminosa conforme dec...           5742   \n",
       "228               nova ultradireita ganha forca holanda           3180   \n",
       "229   policia venezuelana prende numero dois juan gu...           3508   \n",
       "230   disputa lava jato stf acirra novas prisoes inq...           6533   \n",
       "231   dois avioes russos chegam venezuela centena mi...           2316   \n",
       "232   prisao temer revigora lava jato tumultua agend...           5492   \n",
       "233                          curioso tempo prisao temer           6155   \n",
       "234   prisao temer complica futuro reforma previdenc...           2217   \n",
       "235   dois assessores bolsonaro doaram reais campanh...           8895   \n",
       "236   curto circuito politico faz economia calcanhar...           6356   \n",
       "237   guinada sul americana direita consuma enterro ...           3381   \n",
       "238   relatorio sobre influencia russa eleicao eua e...           3563   \n",
       "239   prisao temer reacende debate sobre uso prisao ...           3584   \n",
       "240   uniao europeia impoe ultimato dias londres def...           6153   \n",
       "241   bolsonaro desenvolvimento filhos bolsa familia...           4278   \n",
       "242   stf impoe derrota lava jato sobre caixa encamp...           2647   \n",
       "243   senado derruba declaracao emergencia trump des...           3629   \n",
       "244   parlamento britanico aprova adiar brexit rejei...           3860   \n",
       "245               medo forcas armadas muita perseguicao           8269   \n",
       "246   querer colocar biblia centro educacao escolar ...           3333   \n",
       "247   marielle atemoriza porque representa tudo este...           2883   \n",
       "248                                     retorno caracas           7375   \n",
       "249   direitos humanos reforma exercito causam tensa...           3918   \n",
       "251       mandou matar marielle clamor despertou brasil           5007   \n",
       "252                grupos vao ruas protestar contra stf           1819   \n",
       "253   batalha olavistas militares mec trava pauta ed...           8415   \n",
       "254   cada dia pessoas acreditam animais importam ta...           8924   \n",
       "255   bolsonaro visita trump reforcar alianca brasil...           4769   \n",
       "256   brasileiros transformam metafora politica hist...           3184   \n",
       "\n",
       "      TEXT_LEN_TOKEN  TITLE_LEN_CHAR  TITLE_LEN_TOKEN  \n",
       "1001               7              45                6  \n",
       "1002               6              43                6  \n",
       "1003               7              49                7  \n",
       "1004               8              57                8  \n",
       "1005               7              49                6  \n",
       "1006              52              47                6  \n",
       "1007               7              59                7  \n",
       "1008               8              54                8  \n",
       "1009               8              56                8  \n",
       "1010               8              57                8  \n",
       "1011               7              55                7  \n",
       "1012               7              50                7  \n",
       "1013               8              57                8  \n",
       "1014               6              30                5  \n",
       "1015               6              41                6  \n",
       "1016               6              43                6  \n",
       "1017               7              59                7  \n",
       "1018               9              58                9  \n",
       "1019               7              43                7  \n",
       "1020               8              61                8  \n",
       "1021               7              59                7  \n",
       "1022               8              55                8  \n",
       "1023               8              71                8  \n",
       "1024              17              62                8  \n",
       "1025               9              45                8  \n",
       "1026               9              57                9  \n",
       "1027               8              61                8  \n",
       "1028               9              64                9  \n",
       "1029               8              50                7  \n",
       "1030               8              55                8  \n",
       "...              ...             ...              ...  \n",
       "226              499              57                6  \n",
       "227              710              58                7  \n",
       "228              406              37                5  \n",
       "229              431              50                7  \n",
       "230              812              68               11  \n",
       "231              282              53                7  \n",
       "232              697              65                9  \n",
       "233              764              26                4  \n",
       "234              288              55                7  \n",
       "235             1069              56                7  \n",
       "236              795              64                8  \n",
       "237              416              52                7  \n",
       "238              438              68               10  \n",
       "239              451              66               10  \n",
       "240              768              57                8  \n",
       "241              502              76                8  \n",
       "242              331              74               11  \n",
       "243              428              66                9  \n",
       "244              486              63                8  \n",
       "245             1026              37                5  \n",
       "246              421              80               10  \n",
       "247              377              80                9  \n",
       "248              893              15                2  \n",
       "249              465              73                9  \n",
       "251              623              45                6  \n",
       "252              232              36                6  \n",
       "253             1035              52                7  \n",
       "254             1102              63                9  \n",
       "255              587              50                7  \n",
       "256              397              83                9  \n",
       "\n",
       "[500 rows x 8 columns]"
      ]
     },
     "execution_count": 37,
     "metadata": {},
     "output_type": "execute_result"
    }
   ],
   "source": [
    "df[1001:1501]"
   ]
  },
  {
   "cell_type": "code",
   "execution_count": 38,
   "metadata": {},
   "outputs": [
    {
     "data": {
      "text/plain": [
       "array([[0.86  , 0.3712, 0.34  ],\n",
       "       [0.34  , 0.8288, 0.86  ]])"
      ]
     },
     "execution_count": 38,
     "metadata": {},
     "output_type": "execute_result"
    }
   ],
   "source": [
    "import seaborn as sns\n",
    "np.array(sns.color_palette(\"hls\", 2))"
   ]
  },
  {
   "cell_type": "code",
   "execution_count": 39,
   "metadata": {},
   "outputs": [],
   "source": [
    "def fashion_scatter(x, colors):\n",
    "    # choose a color palette with seaborn.\n",
    "    num_classes = len(np.unique(colors))\n",
    "    palette = np.array(sns.color_palette([\"#c52f33\", \"#2A8DC7\"], num_classes))\n",
    "\n",
    "    # create a scatter plot.\n",
    "    f = plt.figure(figsize=(8, 8))\n",
    "    ax = plt.subplot(aspect='equal')\n",
    "    sc = ax.scatter(x[:,0], x[:,1], lw=0, s=40, c=palette[colors.astype(np.int)])\n",
    "    plt.xlim(-25, 25)\n",
    "    plt.ylim(-25, 25)\n",
    "    ax.axis('off')\n",
    "    ax.axis('tight')\n",
    "\n",
    "    # add the labels for each digit corresponding to the label\n",
    "    txts = []\n",
    "\n",
    "    for i in range(num_classes):\n",
    "\n",
    "        # Position of each label at median of data points.\n",
    "\n",
    "        xtext, ytext = np.median(x[colors == i, :], axis=0)\n",
    "        txt = ax.text(xtext, ytext, str(i), fontsize=24, color=\"#222222\", bbox=dict(facecolor='#eeeeee', alpha=0.8))\n",
    "        txts.append(txt)\n",
    "\n",
    "    return f, ax, sc, txts"
   ]
  },
  {
   "cell_type": "code",
   "execution_count": 40,
   "metadata": {},
   "outputs": [],
   "source": [
    "idx_min = 0\n",
    "idx_max = 2502\n",
    "features = X_all_text[idx_min:idx_max]"
   ]
  },
  {
   "cell_type": "code",
   "execution_count": 41,
   "metadata": {
    "scrolled": true
   },
   "outputs": [
    {
     "ename": "MemoryError",
     "evalue": "",
     "output_type": "error",
     "traceback": [
      "\u001b[1;31m---------------------------------------------------------------------------\u001b[0m",
      "\u001b[1;31mMemoryError\u001b[0m                               Traceback (most recent call last)",
      "\u001b[1;32m<ipython-input-41-541c76fbcd0e>\u001b[0m in \u001b[0;36m<module>\u001b[1;34m\u001b[0m\n\u001b[0;32m      5\u001b[0m \u001b[1;33m\u001b[0m\u001b[0m\n\u001b[0;32m      6\u001b[0m \u001b[0mpca\u001b[0m \u001b[1;33m=\u001b[0m \u001b[0mPCA\u001b[0m\u001b[1;33m(\u001b[0m\u001b[0mn_components\u001b[0m\u001b[1;33m=\u001b[0m\u001b[1;36m4\u001b[0m\u001b[1;33m)\u001b[0m\u001b[1;33m\u001b[0m\u001b[1;33m\u001b[0m\u001b[0m\n\u001b[1;32m----> 7\u001b[1;33m \u001b[0mpca_result\u001b[0m \u001b[1;33m=\u001b[0m \u001b[0mpca\u001b[0m\u001b[1;33m.\u001b[0m\u001b[0mfit_transform\u001b[0m\u001b[1;33m(\u001b[0m\u001b[0mfeatures\u001b[0m\u001b[1;33m.\u001b[0m\u001b[0mtoarray\u001b[0m\u001b[1;33m(\u001b[0m\u001b[1;33m)\u001b[0m\u001b[1;33m)\u001b[0m\u001b[1;33m\u001b[0m\u001b[1;33m\u001b[0m\u001b[0m\n\u001b[0m\u001b[0;32m      8\u001b[0m \u001b[0mprint\u001b[0m\u001b[1;33m(\u001b[0m\u001b[1;34m'PCA done! Time elapsed: {} seconds'\u001b[0m\u001b[1;33m.\u001b[0m\u001b[0mformat\u001b[0m\u001b[1;33m(\u001b[0m\u001b[0mtime\u001b[0m\u001b[1;33m.\u001b[0m\u001b[0mtime\u001b[0m\u001b[1;33m(\u001b[0m\u001b[1;33m)\u001b[0m\u001b[1;33m-\u001b[0m\u001b[0mtime_start\u001b[0m\u001b[1;33m)\u001b[0m\u001b[1;33m)\u001b[0m\u001b[1;33m\u001b[0m\u001b[1;33m\u001b[0m\u001b[0m\n",
      "\u001b[1;32mD:\\Anaconda\\lib\\site-packages\\sklearn\\decomposition\\pca.py\u001b[0m in \u001b[0;36mfit_transform\u001b[1;34m(self, X, y)\u001b[0m\n\u001b[0;32m    358\u001b[0m \u001b[1;33m\u001b[0m\u001b[0m\n\u001b[0;32m    359\u001b[0m         \"\"\"\n\u001b[1;32m--> 360\u001b[1;33m         \u001b[0mU\u001b[0m\u001b[1;33m,\u001b[0m \u001b[0mS\u001b[0m\u001b[1;33m,\u001b[0m \u001b[0mV\u001b[0m \u001b[1;33m=\u001b[0m \u001b[0mself\u001b[0m\u001b[1;33m.\u001b[0m\u001b[0m_fit\u001b[0m\u001b[1;33m(\u001b[0m\u001b[0mX\u001b[0m\u001b[1;33m)\u001b[0m\u001b[1;33m\u001b[0m\u001b[1;33m\u001b[0m\u001b[0m\n\u001b[0m\u001b[0;32m    361\u001b[0m         \u001b[0mU\u001b[0m \u001b[1;33m=\u001b[0m \u001b[0mU\u001b[0m\u001b[1;33m[\u001b[0m\u001b[1;33m:\u001b[0m\u001b[1;33m,\u001b[0m \u001b[1;33m:\u001b[0m\u001b[0mself\u001b[0m\u001b[1;33m.\u001b[0m\u001b[0mn_components_\u001b[0m\u001b[1;33m]\u001b[0m\u001b[1;33m\u001b[0m\u001b[1;33m\u001b[0m\u001b[0m\n\u001b[0;32m    362\u001b[0m \u001b[1;33m\u001b[0m\u001b[0m\n",
      "\u001b[1;32mD:\\Anaconda\\lib\\site-packages\\sklearn\\decomposition\\pca.py\u001b[0m in \u001b[0;36m_fit\u001b[1;34m(self, X)\u001b[0m\n\u001b[0;32m    407\u001b[0m             \u001b[1;32mreturn\u001b[0m \u001b[0mself\u001b[0m\u001b[1;33m.\u001b[0m\u001b[0m_fit_full\u001b[0m\u001b[1;33m(\u001b[0m\u001b[0mX\u001b[0m\u001b[1;33m,\u001b[0m \u001b[0mn_components\u001b[0m\u001b[1;33m)\u001b[0m\u001b[1;33m\u001b[0m\u001b[1;33m\u001b[0m\u001b[0m\n\u001b[0;32m    408\u001b[0m         \u001b[1;32melif\u001b[0m \u001b[0mself\u001b[0m\u001b[1;33m.\u001b[0m\u001b[0m_fit_svd_solver\u001b[0m \u001b[1;32min\u001b[0m \u001b[1;33m[\u001b[0m\u001b[1;34m'arpack'\u001b[0m\u001b[1;33m,\u001b[0m \u001b[1;34m'randomized'\u001b[0m\u001b[1;33m]\u001b[0m\u001b[1;33m:\u001b[0m\u001b[1;33m\u001b[0m\u001b[1;33m\u001b[0m\u001b[0m\n\u001b[1;32m--> 409\u001b[1;33m             \u001b[1;32mreturn\u001b[0m \u001b[0mself\u001b[0m\u001b[1;33m.\u001b[0m\u001b[0m_fit_truncated\u001b[0m\u001b[1;33m(\u001b[0m\u001b[0mX\u001b[0m\u001b[1;33m,\u001b[0m \u001b[0mn_components\u001b[0m\u001b[1;33m,\u001b[0m \u001b[0mself\u001b[0m\u001b[1;33m.\u001b[0m\u001b[0m_fit_svd_solver\u001b[0m\u001b[1;33m)\u001b[0m\u001b[1;33m\u001b[0m\u001b[1;33m\u001b[0m\u001b[0m\n\u001b[0m\u001b[0;32m    410\u001b[0m         \u001b[1;32melse\u001b[0m\u001b[1;33m:\u001b[0m\u001b[1;33m\u001b[0m\u001b[1;33m\u001b[0m\u001b[0m\n\u001b[0;32m    411\u001b[0m             raise ValueError(\"Unrecognized svd_solver='{0}'\"\n",
      "\u001b[1;32mD:\\Anaconda\\lib\\site-packages\\sklearn\\decomposition\\pca.py\u001b[0m in \u001b[0;36m_fit_truncated\u001b[1;34m(self, X, n_components, svd_solver)\u001b[0m\n\u001b[0;32m    532\u001b[0m         \u001b[1;31m# Get variance explained by singular values\u001b[0m\u001b[1;33m\u001b[0m\u001b[1;33m\u001b[0m\u001b[1;33m\u001b[0m\u001b[0m\n\u001b[0;32m    533\u001b[0m         \u001b[0mself\u001b[0m\u001b[1;33m.\u001b[0m\u001b[0mexplained_variance_\u001b[0m \u001b[1;33m=\u001b[0m \u001b[1;33m(\u001b[0m\u001b[0mS\u001b[0m \u001b[1;33m**\u001b[0m \u001b[1;36m2\u001b[0m\u001b[1;33m)\u001b[0m \u001b[1;33m/\u001b[0m \u001b[1;33m(\u001b[0m\u001b[0mn_samples\u001b[0m \u001b[1;33m-\u001b[0m \u001b[1;36m1\u001b[0m\u001b[1;33m)\u001b[0m\u001b[1;33m\u001b[0m\u001b[1;33m\u001b[0m\u001b[0m\n\u001b[1;32m--> 534\u001b[1;33m         \u001b[0mtotal_var\u001b[0m \u001b[1;33m=\u001b[0m \u001b[0mnp\u001b[0m\u001b[1;33m.\u001b[0m\u001b[0mvar\u001b[0m\u001b[1;33m(\u001b[0m\u001b[0mX\u001b[0m\u001b[1;33m,\u001b[0m \u001b[0mddof\u001b[0m\u001b[1;33m=\u001b[0m\u001b[1;36m1\u001b[0m\u001b[1;33m,\u001b[0m \u001b[0maxis\u001b[0m\u001b[1;33m=\u001b[0m\u001b[1;36m0\u001b[0m\u001b[1;33m)\u001b[0m\u001b[1;33m\u001b[0m\u001b[1;33m\u001b[0m\u001b[0m\n\u001b[0m\u001b[0;32m    535\u001b[0m         \u001b[0mself\u001b[0m\u001b[1;33m.\u001b[0m\u001b[0mexplained_variance_ratio_\u001b[0m \u001b[1;33m=\u001b[0m\u001b[0;31m \u001b[0m\u001b[0;31m\\\u001b[0m\u001b[1;33m\u001b[0m\u001b[1;33m\u001b[0m\u001b[0m\n\u001b[0;32m    536\u001b[0m             \u001b[0mself\u001b[0m\u001b[1;33m.\u001b[0m\u001b[0mexplained_variance_\u001b[0m \u001b[1;33m/\u001b[0m \u001b[0mtotal_var\u001b[0m\u001b[1;33m.\u001b[0m\u001b[0msum\u001b[0m\u001b[1;33m(\u001b[0m\u001b[1;33m)\u001b[0m\u001b[1;33m\u001b[0m\u001b[1;33m\u001b[0m\u001b[0m\n",
      "\u001b[1;32mD:\\Anaconda\\lib\\site-packages\\numpy\\core\\fromnumeric.py\u001b[0m in \u001b[0;36mvar\u001b[1;34m(a, axis, dtype, out, ddof, keepdims)\u001b[0m\n\u001b[0;32m   3365\u001b[0m \u001b[1;33m\u001b[0m\u001b[0m\n\u001b[0;32m   3366\u001b[0m     return _methods._var(a, axis=axis, dtype=dtype, out=out, ddof=ddof,\n\u001b[1;32m-> 3367\u001b[1;33m                          **kwargs)\n\u001b[0m\u001b[0;32m   3368\u001b[0m \u001b[1;33m\u001b[0m\u001b[0m\n\u001b[0;32m   3369\u001b[0m \u001b[1;33m\u001b[0m\u001b[0m\n",
      "\u001b[1;32mD:\\Anaconda\\lib\\site-packages\\numpy\\core\\_methods.py\u001b[0m in \u001b[0;36m_var\u001b[1;34m(a, axis, dtype, out, ddof, keepdims)\u001b[0m\n\u001b[0;32m    115\u001b[0m     \u001b[1;31m# Note that x may not be inexact and that we need it to be an array,\u001b[0m\u001b[1;33m\u001b[0m\u001b[1;33m\u001b[0m\u001b[1;33m\u001b[0m\u001b[0m\n\u001b[0;32m    116\u001b[0m     \u001b[1;31m# not a scalar.\u001b[0m\u001b[1;33m\u001b[0m\u001b[1;33m\u001b[0m\u001b[1;33m\u001b[0m\u001b[0m\n\u001b[1;32m--> 117\u001b[1;33m     \u001b[0mx\u001b[0m \u001b[1;33m=\u001b[0m \u001b[0masanyarray\u001b[0m\u001b[1;33m(\u001b[0m\u001b[0marr\u001b[0m \u001b[1;33m-\u001b[0m \u001b[0marrmean\u001b[0m\u001b[1;33m)\u001b[0m\u001b[1;33m\u001b[0m\u001b[1;33m\u001b[0m\u001b[0m\n\u001b[0m\u001b[0;32m    118\u001b[0m     \u001b[1;32mif\u001b[0m \u001b[0missubclass\u001b[0m\u001b[1;33m(\u001b[0m\u001b[0marr\u001b[0m\u001b[1;33m.\u001b[0m\u001b[0mdtype\u001b[0m\u001b[1;33m.\u001b[0m\u001b[0mtype\u001b[0m\u001b[1;33m,\u001b[0m \u001b[0mnt\u001b[0m\u001b[1;33m.\u001b[0m\u001b[0mcomplexfloating\u001b[0m\u001b[1;33m)\u001b[0m\u001b[1;33m:\u001b[0m\u001b[1;33m\u001b[0m\u001b[1;33m\u001b[0m\u001b[0m\n\u001b[0;32m    119\u001b[0m         \u001b[0mx\u001b[0m \u001b[1;33m=\u001b[0m \u001b[0mum\u001b[0m\u001b[1;33m.\u001b[0m\u001b[0mmultiply\u001b[0m\u001b[1;33m(\u001b[0m\u001b[0mx\u001b[0m\u001b[1;33m,\u001b[0m \u001b[0mum\u001b[0m\u001b[1;33m.\u001b[0m\u001b[0mconjugate\u001b[0m\u001b[1;33m(\u001b[0m\u001b[0mx\u001b[0m\u001b[1;33m)\u001b[0m\u001b[1;33m,\u001b[0m \u001b[0mout\u001b[0m\u001b[1;33m=\u001b[0m\u001b[0mx\u001b[0m\u001b[1;33m)\u001b[0m\u001b[1;33m.\u001b[0m\u001b[0mreal\u001b[0m\u001b[1;33m\u001b[0m\u001b[1;33m\u001b[0m\u001b[0m\n",
      "\u001b[1;31mMemoryError\u001b[0m: "
     ]
    }
   ],
   "source": [
    "from sklearn.decomposition import PCA\n",
    "import matplotlib.pyplot as plt\n",
    "import time\n",
    "time_start = time.time()\n",
    "\n",
    "pca = PCA(n_components=4)\n",
    "pca_result = pca.fit_transform(features.toarray())\n",
    "print('PCA done! Time elapsed: {} seconds'.format(time.time()-time_start))"
   ]
  },
  {
   "cell_type": "code",
   "execution_count": null,
   "metadata": {},
   "outputs": [],
   "source": [
    "print('Variance explained per principal component: {}'.format(pca.explained_variance_ratio_))"
   ]
  },
  {
   "cell_type": "code",
   "execution_count": null,
   "metadata": {},
   "outputs": [],
   "source": [
    "df_pca = pd.DataFrame(columns = ['pca1','pca2'])\n",
    "\n",
    "df_pca['pca1'] = pca_result[:,0]\n",
    "df_pca['pca2'] = pca_result[:,1]\n",
    "\n",
    "print('Variance explained per principal component: {}'.format(pca.explained_variance_ratio_))"
   ]
  },
  {
   "cell_type": "code",
   "execution_count": null,
   "metadata": {},
   "outputs": [],
   "source": [
    "fashion_scatter(df_pca.values, df['FAKE'][idx_min:idx_max])"
   ]
  },
  {
   "cell_type": "code",
   "execution_count": null,
   "metadata": {},
   "outputs": [],
   "source": [
    "Counter(y_all[:2502])"
   ]
  },
  {
   "cell_type": "code",
   "execution_count": null,
   "metadata": {},
   "outputs": [],
   "source": [
    "from sklearn.manifold import TSNE\n",
    "import time\n",
    "time_start = time.time()\n",
    "\n",
    "fashion_tsne = TSNE(random_state=42).fit_transform(X_all_text[:2502].toarray())\n",
    "\n",
    "print('t-SNE done! Time elapsed: {} seconds'.format(time.time()-time_start))"
   ]
  },
  {
   "cell_type": "code",
   "execution_count": null,
   "metadata": {},
   "outputs": [],
   "source": [
    "fashion_scatter(fashion_tsne, df['FAKE'][:2502])"
   ]
  },
  {
   "cell_type": "code",
   "execution_count": null,
   "metadata": {},
   "outputs": [],
   "source": []
  },
  {
   "cell_type": "code",
   "execution_count": null,
   "metadata": {},
   "outputs": [],
   "source": []
  },
  {
   "cell_type": "code",
   "execution_count": null,
   "metadata": {},
   "outputs": [],
   "source": []
  },
  {
   "cell_type": "code",
   "execution_count": null,
   "metadata": {},
   "outputs": [],
   "source": []
  },
  {
   "cell_type": "code",
   "execution_count": null,
   "metadata": {},
   "outputs": [],
   "source": []
  },
  {
   "cell_type": "code",
   "execution_count": null,
   "metadata": {},
   "outputs": [],
   "source": []
  },
  {
   "cell_type": "code",
   "execution_count": null,
   "metadata": {},
   "outputs": [],
   "source": []
  },
  {
   "cell_type": "code",
   "execution_count": null,
   "metadata": {},
   "outputs": [],
   "source": []
  },
  {
   "cell_type": "code",
   "execution_count": null,
   "metadata": {},
   "outputs": [],
   "source": []
  },
  {
   "cell_type": "code",
   "execution_count": null,
   "metadata": {},
   "outputs": [],
   "source": []
  },
  {
   "cell_type": "code",
   "execution_count": null,
   "metadata": {},
   "outputs": [],
   "source": []
  },
  {
   "cell_type": "code",
   "execution_count": null,
   "metadata": {},
   "outputs": [],
   "source": []
  }
 ],
 "metadata": {
  "kernelspec": {
   "display_name": "Python 3",
   "language": "python",
   "name": "python3"
  },
  "language_info": {
   "codemirror_mode": {
    "name": "ipython",
    "version": 3
   },
   "file_extension": ".py",
   "mimetype": "text/x-python",
   "name": "python",
   "nbconvert_exporter": "python",
   "pygments_lexer": "ipython3",
   "version": "3.7.3"
  }
 },
 "nbformat": 4,
 "nbformat_minor": 2
}
