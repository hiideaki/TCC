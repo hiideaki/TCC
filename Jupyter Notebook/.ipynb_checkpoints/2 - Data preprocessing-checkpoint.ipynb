{
 "cells": [
  {
   "cell_type": "code",
   "execution_count": 166,
   "metadata": {},
   "outputs": [],
   "source": [
    "from glob import glob\n",
    "import re\n",
    "import pandas as pd\n",
    "import numpy as np\n",
    "import json\n",
    "import pickle as pkl\n",
    "from unidecode import unidecode"
   ]
  },
  {
   "cell_type": "markdown",
   "metadata": {},
   "source": [
    "# Defining variables"
   ]
  },
  {
   "cell_type": "code",
   "execution_count": 202,
   "metadata": {},
   "outputs": [],
   "source": [
    "PATH = '../*'"
   ]
  },
  {
   "cell_type": "code",
   "execution_count": 203,
   "metadata": {},
   "outputs": [
    {
     "data": {
      "text/plain": [
       "['..\\\\API Crawler', '..\\\\Apresentação 1º Semestre', '..\\\\Jupyter Notebook']"
      ]
     },
     "execution_count": 203,
     "metadata": {},
     "output_type": "execute_result"
    }
   ],
   "source": [
    "glob(PATH)"
   ]
  },
  {
   "cell_type": "code",
   "execution_count": null,
   "metadata": {},
   "outputs": [],
   "source": []
  },
  {
   "cell_type": "markdown",
   "metadata": {},
   "source": [
    "# Making FAKE NEWS DataFrame\n",
    "## Loading JSON"
   ]
  },
  {
   "cell_type": "code",
   "execution_count": 136,
   "metadata": {},
   "outputs": [],
   "source": [
    "with open('data/raw/boatos.json', 'r') as f:\n",
    "    boatos = json.load(f)\n",
    "    \n",
    "for i, item in enumerate(boatos):\n",
    "    boatos[i]['text'] = ' '.join(item['text'])    "
   ]
  },
  {
   "cell_type": "markdown",
   "metadata": {},
   "source": [
    "## Making DataFrame"
   ]
  },
  {
   "cell_type": "code",
   "execution_count": 164,
   "metadata": {},
   "outputs": [
    {
     "data": {
      "text/html": [
       "<div>\n",
       "<style scoped>\n",
       "    .dataframe tbody tr th:only-of-type {\n",
       "        vertical-align: middle;\n",
       "    }\n",
       "\n",
       "    .dataframe tbody tr th {\n",
       "        vertical-align: top;\n",
       "    }\n",
       "\n",
       "    .dataframe thead th {\n",
       "        text-align: right;\n",
       "    }\n",
       "</style>\n",
       "<table border=\"1\" class=\"dataframe\">\n",
       "  <thead>\n",
       "    <tr style=\"text-align: right;\">\n",
       "      <th></th>\n",
       "      <th>DATE</th>\n",
       "      <th>TEXT</th>\n",
       "      <th>TITLE</th>\n",
       "      <th>FAKE</th>\n",
       "    </tr>\n",
       "  </thead>\n",
       "  <tbody>\n",
       "    <tr>\n",
       "      <th>0</th>\n",
       "      <td>26/04/2019</td>\n",
       "      <td>“Seria cômica se não fosse nojenta a cena que ...</td>\n",
       "      <td>\\nMaria do Rosário perde dentadura durante vot...</td>\n",
       "      <td>True</td>\n",
       "    </tr>\n",
       "    <tr>\n",
       "      <th>1</th>\n",
       "      <td>22/04/2019</td>\n",
       "      <td>FINALMENTE. #ProfessoraHeleyPresente Em reuniã...</td>\n",
       "      <td>\\nBolsonaro condecorou professora Heley de Abr...</td>\n",
       "      <td>True</td>\n",
       "    </tr>\n",
       "    <tr>\n",
       "      <th>2</th>\n",
       "      <td>24/04/2019</td>\n",
       "      <td>A audiência tem que ser grande!!! Hoje, às 22h...</td>\n",
       "      <td>\\nHoje, às 22h, a TV Record vai entrevistar Bo...</td>\n",
       "      <td>True</td>\n",
       "    </tr>\n",
       "    <tr>\n",
       "      <th>3</th>\n",
       "      <td>25/04/2019</td>\n",
       "      <td>IBANEIS ROCHA, GOVERNADOR DO DISTRITO FEDERAL ...</td>\n",
       "      <td>\\nIbaneis Rocha, governador do DF, viaja bêbad...</td>\n",
       "      <td>True</td>\n",
       "    </tr>\n",
       "    <tr>\n",
       "      <th>4</th>\n",
       "      <td>21/04/2019</td>\n",
       "      <td>PT MANDOU DINHEIRO PARA O NARCOTRÁFICO DO RIO,...</td>\n",
       "      <td>\\nMarcelo Odebrecht diz que governo do PT deu ...</td>\n",
       "      <td>True</td>\n",
       "    </tr>\n",
       "  </tbody>\n",
       "</table>\n",
       "</div>"
      ],
      "text/plain": [
       "         DATE                                               TEXT  \\\n",
       "0  26/04/2019  “Seria cômica se não fosse nojenta a cena que ...   \n",
       "1  22/04/2019  FINALMENTE. #ProfessoraHeleyPresente Em reuniã...   \n",
       "2  24/04/2019  A audiência tem que ser grande!!! Hoje, às 22h...   \n",
       "3  25/04/2019  IBANEIS ROCHA, GOVERNADOR DO DISTRITO FEDERAL ...   \n",
       "4  21/04/2019  PT MANDOU DINHEIRO PARA O NARCOTRÁFICO DO RIO,...   \n",
       "\n",
       "                                               TITLE  FAKE  \n",
       "0  \\nMaria do Rosário perde dentadura durante vot...  True  \n",
       "1  \\nBolsonaro condecorou professora Heley de Abr...  True  \n",
       "2  \\nHoje, às 22h, a TV Record vai entrevistar Bo...  True  \n",
       "3  \\nIbaneis Rocha, governador do DF, viaja bêbad...  True  \n",
       "4  \\nMarcelo Odebrecht diz que governo do PT deu ...  True  "
      ]
     },
     "execution_count": 164,
     "metadata": {},
     "output_type": "execute_result"
    }
   ],
   "source": [
    "df_fake = pd.DataFrame(boatos)\n",
    "df_fake['FAKE'] = True\n",
    "df_fake.rename({'date': 'DATE', 'text': 'TEXT', 'title': 'TITLE'}, axis=1, inplace=True)\n",
    "df_fake.head()"
   ]
  },
  {
   "cell_type": "markdown",
   "metadata": {},
   "source": [
    "# Making LEGIT NEWS DataFrame\n",
    "## Loading JSONs"
   ]
  },
  {
   "cell_type": "code",
   "execution_count": 118,
   "metadata": {
    "scrolled": true
   },
   "outputs": [],
   "source": [
    "with open('data/raw/g1.json', 'r') as f:\n",
    "    g1 = json.load(f)\n",
    "    \n",
    "for i, item in enumerate(g1):\n",
    "    g1[i]['text'] = ' '.join(item['text'])\n",
    "\n",
    "with open('data/raw/elpais.json', 'r') as f:\n",
    "    elpais = json.load(f)\n",
    "\n",
    "for i, item in enumerate(elpais):\n",
    "    elpais[i]['text'] = ' '.join(item['text'])"
   ]
  },
  {
   "cell_type": "markdown",
   "metadata": {},
   "source": [
    "## Normalizing El Pais dates"
   ]
  },
  {
   "cell_type": "code",
   "execution_count": 119,
   "metadata": {},
   "outputs": [],
   "source": [
    "month_dict = {\n",
    "    'JAN': '01',\n",
    "    'FEV': '02',\n",
    "    'MAR': '03',\n",
    "    'ABR': '04',\n",
    "    'MAI': '05',\n",
    "    'JUN': '06',\n",
    "    'JUL': '07',\n",
    "    'AGO': '08',\n",
    "    'SET': '09',\n",
    "    'SEP': '09',\n",
    "    'OUT': '10',\n",
    "    'NOV': '11',\n",
    "    'DEZ': '12'\n",
    "}"
   ]
  },
  {
   "cell_type": "code",
   "execution_count": 120,
   "metadata": {},
   "outputs": [],
   "source": [
    "for i, item in enumerate(elpais):\n",
    "    # Searching for dd/mmm/yyyy in the string\n",
    "    matched = re.findall(r'\\d+\\s+[a-zA-Z]+\\s+\\d+', item['date'].strip())\n",
    "    \n",
    "    # If did not find anything, continues onto the next iteration\n",
    "    if len(matched) == 0:\n",
    "        continue\n",
    "    \n",
    "    date = matched[0]\n",
    "    day = re.findall(r'\\d+', date)[0]\n",
    "    # Changing one digit days to two digits (e.g. 1/12/1999 to 01/12/1999)\n",
    "    if len(day) == 1:\n",
    "        date = date.replace(day + ' ', '0' + day + ' ')\n",
    "    date = re.sub(r'\\s+', ' ', date)\n",
    "    date = re.sub(r'\\s', '/', date)\n",
    "    \n",
    "    # Changing written month names to its numeric equivalent\n",
    "    month = re.findall('[a-zA-Z]+', date)[0]\n",
    "    if month in month_dict:\n",
    "        date = re.sub(month, month_dict[month], date)\n",
    "    \n",
    "    elpais[i]['date'] = date"
   ]
  },
  {
   "cell_type": "code",
   "execution_count": 143,
   "metadata": {},
   "outputs": [],
   "source": [
    "# Removing registers dated before 2013\n",
    "for i, item in enumerate(elpais):\n",
    "    if int(item['date'].split('/')[2]) < 2013:\n",
    "        del elpais[i]"
   ]
  },
  {
   "cell_type": "code",
   "execution_count": 146,
   "metadata": {},
   "outputs": [
    {
     "name": "stdout",
     "output_type": "stream",
     "text": [
      "Dias:  31\n",
      "Meses 12\n",
      "Anos: 7 - {'2018', '2017', '2013', '2014', '2019', '2015', '2016'}\n"
     ]
    }
   ],
   "source": [
    "# Making sure the dates make sense\n",
    "day = set()\n",
    "month = set()\n",
    "year = set()\n",
    "\n",
    "for item in elpais:\n",
    "    date = re.findall('\\d+', item['date'])\n",
    "    day.add(date[0])\n",
    "    month.add(date[1])\n",
    "    year.add(date[2])\n",
    "    \n",
    "print('Dias: ',len(day))\n",
    "print('Meses', len(month))\n",
    "print('Anos:', len(year), '-', year)"
   ]
  },
  {
   "cell_type": "markdown",
   "metadata": {},
   "source": [
    "## Normalizing G1 dates"
   ]
  },
  {
   "cell_type": "code",
   "execution_count": 147,
   "metadata": {},
   "outputs": [],
   "source": [
    "for i, item in enumerate(g1):\n",
    "    matched = re.findall('\\d+/\\d+/\\d+', g1[5]['date'].strip())\n",
    "    if len(matched) == 0:\n",
    "        continue\n",
    "    g1[i]['date'] = matched[0]"
   ]
  },
  {
   "cell_type": "markdown",
   "metadata": {},
   "source": [
    "## Making DataFrame"
   ]
  },
  {
   "cell_type": "code",
   "execution_count": 150,
   "metadata": {},
   "outputs": [
    {
     "data": {
      "text/html": [
       "<div>\n",
       "<style scoped>\n",
       "    .dataframe tbody tr th:only-of-type {\n",
       "        vertical-align: middle;\n",
       "    }\n",
       "\n",
       "    .dataframe tbody tr th {\n",
       "        vertical-align: top;\n",
       "    }\n",
       "\n",
       "    .dataframe thead th {\n",
       "        text-align: right;\n",
       "    }\n",
       "</style>\n",
       "<table border=\"1\" class=\"dataframe\">\n",
       "  <thead>\n",
       "    <tr style=\"text-align: right;\">\n",
       "      <th></th>\n",
       "      <th>DATE</th>\n",
       "      <th>TEXT</th>\n",
       "      <th>TITLE</th>\n",
       "      <th>FAKE</th>\n",
       "    </tr>\n",
       "  </thead>\n",
       "  <tbody>\n",
       "    <tr>\n",
       "      <th>0</th>\n",
       "      <td>04/06/2019</td>\n",
       "      <td>O atual mandato presidencial no Brasil começou...</td>\n",
       "      <td>Começam a soar os alarmes sobre a sustentabili...</td>\n",
       "      <td>False</td>\n",
       "    </tr>\n",
       "    <tr>\n",
       "      <th>1</th>\n",
       "      <td>02/06/2019</td>\n",
       "      <td>Poucas horas antes de milhares de  manifestant...</td>\n",
       "      <td>Corte ou contingenciamento, quem está certo na...</td>\n",
       "      <td>False</td>\n",
       "    </tr>\n",
       "    <tr>\n",
       "      <th>2</th>\n",
       "      <td>03/06/2019</td>\n",
       "      <td>Se o tamanho de uma figura pública se mede pel...</td>\n",
       "      <td>Trump insulta prefeito de Londres no início de...</td>\n",
       "      <td>False</td>\n",
       "    </tr>\n",
       "    <tr>\n",
       "      <th>3</th>\n",
       "      <td>26/05/2019</td>\n",
       "      <td>Um dos tantos fenômenos imparáveis trazidos pe...</td>\n",
       "      <td>O líder e eu (e ninguém no meio)</td>\n",
       "      <td>False</td>\n",
       "    </tr>\n",
       "    <tr>\n",
       "      <th>4</th>\n",
       "      <td>03/06/2019</td>\n",
       "      <td>Após semanas de audiências públicas, o projeto...</td>\n",
       "      <td>A reforma da Previdência pesará mais sobre os ...</td>\n",
       "      <td>False</td>\n",
       "    </tr>\n",
       "  </tbody>\n",
       "</table>\n",
       "</div>"
      ],
      "text/plain": [
       "         DATE                                               TEXT  \\\n",
       "0  04/06/2019  O atual mandato presidencial no Brasil começou...   \n",
       "1  02/06/2019  Poucas horas antes de milhares de  manifestant...   \n",
       "2  03/06/2019  Se o tamanho de uma figura pública se mede pel...   \n",
       "3  26/05/2019  Um dos tantos fenômenos imparáveis trazidos pe...   \n",
       "4  03/06/2019  Após semanas de audiências públicas, o projeto...   \n",
       "\n",
       "                                               TITLE   FAKE  \n",
       "0  Começam a soar os alarmes sobre a sustentabili...  False  \n",
       "1  Corte ou contingenciamento, quem está certo na...  False  \n",
       "2  Trump insulta prefeito de Londres no início de...  False  \n",
       "3                   O líder e eu (e ninguém no meio)  False  \n",
       "4  A reforma da Previdência pesará mais sobre os ...  False  "
      ]
     },
     "execution_count": 150,
     "metadata": {},
     "output_type": "execute_result"
    }
   ],
   "source": [
    "legit_news = elpais[:]\n",
    "legit_news.extend(g1)\n",
    "\n",
    "df_legit = pd.DataFrame(legit_news)\n",
    "df_legit['FAKE'] = False\n",
    "df_legit.rename({'date': 'DATE', 'text': 'TEXT', 'title': 'TITLE'}, axis=1, inplace=True)\n",
    "df_legit.head()"
   ]
  },
  {
   "cell_type": "markdown",
   "metadata": {},
   "source": [
    "# Cleaning texts"
   ]
  },
  {
   "cell_type": "code",
   "execution_count": 194,
   "metadata": {},
   "outputs": [],
   "source": [
    "def clean_text(text):\n",
    "    # Making sure we're dealing with strings and lowering the characters\n",
    "    text = str(text).lower()\n",
    "    \n",
    "    # Stripping accents\n",
    "    text = unidecode(text)\n",
    "    \n",
    "    # Removing characters that aren't alphabetic\n",
    "    text = re.sub(r'[^a-zA-Z ]', ' ', text)\n",
    "    \n",
    "    # Removing extra spaces\n",
    "    text = re.sub('\\s+', ' ', text)\n",
    "    \n",
    "    # Removing words with length equal or lower than 2\n",
    "    return ' '.join([token for token in text.split() if len(token) > 2])"
   ]
  },
  {
   "cell_type": "markdown",
   "metadata": {},
   "source": [
    "## Cleaning and dumping Fake News DataFrame"
   ]
  },
  {
   "cell_type": "code",
   "execution_count": 196,
   "metadata": {},
   "outputs": [],
   "source": [
    "df_fake['TEXT_CLEAN'] = df_fake['TEXT'].apply(clean_text)"
   ]
  },
  {
   "cell_type": "code",
   "execution_count": 200,
   "metadata": {},
   "outputs": [],
   "source": [
    "pkl.dump(df_fake, open('data/processed/df_fake_clean.pkl', 'wb'))"
   ]
  },
  {
   "cell_type": "markdown",
   "metadata": {},
   "source": [
    "## Cleaning and dumping Legit News Dataframe"
   ]
  },
  {
   "cell_type": "code",
   "execution_count": 197,
   "metadata": {},
   "outputs": [],
   "source": [
    "df_legit['TEXT_CLEAN'] = df_legit['TEXT'].apply(clean_text)"
   ]
  },
  {
   "cell_type": "code",
   "execution_count": 201,
   "metadata": {},
   "outputs": [],
   "source": [
    "pkl.dump(df_legit, open('data/processed/df_legit_clean.pkl', 'wb'))"
   ]
  },
  {
   "cell_type": "code",
   "execution_count": null,
   "metadata": {},
   "outputs": [],
   "source": []
  }
 ],
 "metadata": {
  "kernelspec": {
   "display_name": "Python 3",
   "language": "python",
   "name": "python3"
  },
  "language_info": {
   "codemirror_mode": {
    "name": "ipython",
    "version": 3
   },
   "file_extension": ".py",
   "mimetype": "text/x-python",
   "name": "python",
   "nbconvert_exporter": "python",
   "pygments_lexer": "ipython3",
   "version": "3.7.3"
  }
 },
 "nbformat": 4,
 "nbformat_minor": 2
}
