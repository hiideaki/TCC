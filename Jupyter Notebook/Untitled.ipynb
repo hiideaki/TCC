{
 "cells": [
  {
   "cell_type": "code",
   "execution_count": 63,
   "metadata": {},
   "outputs": [],
   "source": [
    "import numpy as np\n",
    "import pandas as pd"
   ]
  },
  {
   "cell_type": "code",
   "execution_count": 64,
   "metadata": {},
   "outputs": [],
   "source": [
    "df = pd.read_json('data/posts.json')"
   ]
  },
  {
   "cell_type": "code",
   "execution_count": 68,
   "metadata": {},
   "outputs": [
    {
     "data": {
      "text/html": [
       "<div>\n",
       "<style scoped>\n",
       "    .dataframe tbody tr th:only-of-type {\n",
       "        vertical-align: middle;\n",
       "    }\n",
       "\n",
       "    .dataframe tbody tr th {\n",
       "        vertical-align: top;\n",
       "    }\n",
       "\n",
       "    .dataframe thead th {\n",
       "        text-align: right;\n",
       "    }\n",
       "</style>\n",
       "<table border=\"1\" class=\"dataframe\">\n",
       "  <thead>\n",
       "    <tr style=\"text-align: right;\">\n",
       "      <th></th>\n",
       "      <th>date</th>\n",
       "      <th>text</th>\n",
       "      <th>title</th>\n",
       "    </tr>\n",
       "  </thead>\n",
       "  <tbody>\n",
       "    <tr>\n",
       "      <th>0</th>\n",
       "      <td>2019-04-26</td>\n",
       "      <td>“Seria cômica se não fosse nojenta a cena que ...</td>\n",
       "      <td>\\nMaria do Rosário perde dentadura durante vot...</td>\n",
       "    </tr>\n",
       "    <tr>\n",
       "      <th>1</th>\n",
       "      <td>2019-04-22</td>\n",
       "      <td>FINALMENTE. #ProfessoraHeleyPresente Em reuniã...</td>\n",
       "      <td>\\nBolsonaro condecorou professora Heley de Abr...</td>\n",
       "    </tr>\n",
       "    <tr>\n",
       "      <th>2</th>\n",
       "      <td>2019-04-24</td>\n",
       "      <td>A audiência tem que ser grande!!! Hoje, às 22h...</td>\n",
       "      <td>\\nHoje, às 22h, a TV Record vai entrevistar Bo...</td>\n",
       "    </tr>\n",
       "    <tr>\n",
       "      <th>3</th>\n",
       "      <td>2019-04-25</td>\n",
       "      <td>IBANEIS ROCHA, GOVERNADOR DO DISTRITO FEDERAL ...</td>\n",
       "      <td>\\nIbaneis Rocha, governador do DF, viaja bêbad...</td>\n",
       "    </tr>\n",
       "    <tr>\n",
       "      <th>4</th>\n",
       "      <td>2019-04-21</td>\n",
       "      <td>PT MANDOU DINHEIRO PARA O NARCOTRÁFICO DO RIO,...</td>\n",
       "      <td>\\nMarcelo Odebrecht diz que governo do PT deu ...</td>\n",
       "    </tr>\n",
       "  </tbody>\n",
       "</table>\n",
       "</div>"
      ],
      "text/plain": [
       "        date                                               text  \\\n",
       "0 2019-04-26  “Seria cômica se não fosse nojenta a cena que ...   \n",
       "1 2019-04-22  FINALMENTE. #ProfessoraHeleyPresente Em reuniã...   \n",
       "2 2019-04-24  A audiência tem que ser grande!!! Hoje, às 22h...   \n",
       "3 2019-04-25  IBANEIS ROCHA, GOVERNADOR DO DISTRITO FEDERAL ...   \n",
       "4 2019-04-21  PT MANDOU DINHEIRO PARA O NARCOTRÁFICO DO RIO,...   \n",
       "\n",
       "                                               title  \n",
       "0  \\nMaria do Rosário perde dentadura durante vot...  \n",
       "1  \\nBolsonaro condecorou professora Heley de Abr...  \n",
       "2  \\nHoje, às 22h, a TV Record vai entrevistar Bo...  \n",
       "3  \\nIbaneis Rocha, governador do DF, viaja bêbad...  \n",
       "4  \\nMarcelo Odebrecht diz que governo do PT deu ...  "
      ]
     },
     "execution_count": 68,
     "metadata": {},
     "output_type": "execute_result"
    }
   ],
   "source": [
    "df.head()"
   ]
  },
  {
   "cell_type": "code",
   "execution_count": 66,
   "metadata": {},
   "outputs": [],
   "source": [
    "df['text'] = [''.join(sent) for sent in df['text']]"
   ]
  },
  {
   "cell_type": "code",
   "execution_count": 67,
   "metadata": {},
   "outputs": [
    {
     "data": {
      "text/plain": [
       "'FINALMENTE. #ProfessoraHeleyPresente Em reunião com ministros, o presidente Bolsonaro assinou uma declaração oficial, que condecora a professora Heley como heroína nacional. Emocionado, Bolsonaro elogiou a conduta da professora, que deu sua própria vida para salvar as crianças de sua creche. O Presidente da República, assinou o título de Heroína Nacional à professora Heley de Abreu, uma verdadeira mulher empoderada que sacrificou sua vida para salvar aquelas crianças. Presidente Bolsonaro assina decreto declarando a Professora Heley heroína nacional. Os vermelhinhos se contorcem de raiva. PARABÉNS À INICIATIVA DE NOSSOS GOVERNANTES EM HOMENAGEAR UMA VERDADEIRA HEROÍNA! Em reunião com ministros, o presidente Bolsonaro assinou uma declaração oficial, que condecora a professora Heley como heroína nacional. Emocionado, Bolsonaro elogiou a conduta da professora, que deu sua própria vida para salvar as crianças de sua creche.'"
      ]
     },
     "execution_count": 67,
     "metadata": {},
     "output_type": "execute_result"
    }
   ],
   "source": [
    "df['text'][1]"
   ]
  },
  {
   "cell_type": "code",
   "execution_count": null,
   "metadata": {},
   "outputs": [],
   "source": []
  }
 ],
 "metadata": {
  "kernelspec": {
   "display_name": "Python 3",
   "language": "python",
   "name": "python3"
  },
  "language_info": {
   "codemirror_mode": {
    "name": "ipython",
    "version": 3
   },
   "file_extension": ".py",
   "mimetype": "text/x-python",
   "name": "python",
   "nbconvert_exporter": "python",
   "pygments_lexer": "ipython3",
   "version": "3.7.3"
  }
 },
 "nbformat": 4,
 "nbformat_minor": 2
}
