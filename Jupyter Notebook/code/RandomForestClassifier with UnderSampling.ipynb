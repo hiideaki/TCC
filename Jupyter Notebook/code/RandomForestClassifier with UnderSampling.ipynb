{
 "cells": [
  {
   "cell_type": "code",
   "execution_count": 1,
   "metadata": {},
   "outputs": [],
   "source": [
    "import numpy as np\n",
    "import pandas as pd\n",
    "import pickle\n",
    "import collections"
   ]
  },
  {
   "cell_type": "code",
   "execution_count": 2,
   "metadata": {},
   "outputs": [],
   "source": [
    "from nltk.corpus import stopwords\n",
    "import re\n",
    "import string"
   ]
  },
  {
   "cell_type": "code",
   "execution_count": 3,
   "metadata": {},
   "outputs": [],
   "source": [
    "sw = stopwords.words('portuguese')\n",
    "def limpar_string(frase):\n",
    "    frase = str(frase)\n",
    "    frase = frase.lower()\n",
    "    frase = re.sub(r'-', ' ', frase)\n",
    "    frase = re.sub(r'<\\w+>|\\(\\w+\\)|[^\\w\\s]|\\d|¹|²|³|º|ª|“|”', '', frase)\n",
    "    frase = re.sub(r'\\s+', ' ', frase)\n",
    "    frase = frase.translate(str.maketrans('', '', string.punctuation))\n",
    "    return ' '.join([word for word in frase.split() if word not in sw and len(word) > 2])"
   ]
  },
  {
   "cell_type": "code",
   "execution_count": 4,
   "metadata": {},
   "outputs": [],
   "source": [
    "g1_df = pickle.load(open('data/g1_limpo.pkl', 'rb'))\n",
    "boato_df = pickle.load(open('data/boato_limpo.pkl', 'rb'))"
   ]
  },
  {
   "cell_type": "code",
   "execution_count": 5,
   "metadata": {},
   "outputs": [],
   "source": [
    "all_df = pd.concat([g1_df, boato_df])"
   ]
  },
  {
   "cell_type": "code",
   "execution_count": 6,
   "metadata": {},
   "outputs": [],
   "source": [
    "all_df.reset_index(drop=True,  inplace=True)\n",
    "all_df.reset_index(drop=False, inplace=True)"
   ]
  },
  {
   "cell_type": "code",
   "execution_count": 7,
   "metadata": {},
   "outputs": [
    {
     "data": {
      "text/plain": [
       "Counter({0: 4247, 1: 744})"
      ]
     },
     "execution_count": 7,
     "metadata": {},
     "output_type": "execute_result"
    }
   ],
   "source": [
    "collections.Counter(all_df['fake'])"
   ]
  },
  {
   "cell_type": "code",
   "execution_count": 8,
   "metadata": {},
   "outputs": [
    {
     "data": {
      "text/html": [
       "<div>\n",
       "<style scoped>\n",
       "    .dataframe tbody tr th:only-of-type {\n",
       "        vertical-align: middle;\n",
       "    }\n",
       "\n",
       "    .dataframe tbody tr th {\n",
       "        vertical-align: top;\n",
       "    }\n",
       "\n",
       "    .dataframe thead th {\n",
       "        text-align: right;\n",
       "    }\n",
       "</style>\n",
       "<table border=\"1\" class=\"dataframe\">\n",
       "  <thead>\n",
       "    <tr style=\"text-align: right;\">\n",
       "      <th></th>\n",
       "      <th>index</th>\n",
       "      <th>date</th>\n",
       "      <th>text</th>\n",
       "      <th>title</th>\n",
       "      <th>len</th>\n",
       "      <th>fake</th>\n",
       "    </tr>\n",
       "  </thead>\n",
       "  <tbody>\n",
       "    <tr>\n",
       "      <th>0</th>\n",
       "      <td>0</td>\n",
       "      <td>2019-01-06</td>\n",
       "      <td>presidente jair bolsonaro afirmou neste sábado...</td>\n",
       "      <td>Bolsonaro diz que quer manter estados e municí...</td>\n",
       "      <td>2724</td>\n",
       "      <td>0</td>\n",
       "    </tr>\n",
       "    <tr>\n",
       "      <th>1</th>\n",
       "      <td>1</td>\n",
       "      <td>2019-01-06</td>\n",
       "      <td>relator proposta reforma previdência comissão ...</td>\n",
       "      <td>Relator diz que déficit previdenciário de esta...</td>\n",
       "      <td>3706</td>\n",
       "      <td>0</td>\n",
       "    </tr>\n",
       "    <tr>\n",
       "      <th>2</th>\n",
       "      <td>2</td>\n",
       "      <td>2019-05-31</td>\n",
       "      <td>procuradoria geral república encaminhou manife...</td>\n",
       "      <td>PGR dá parecer a favor de indulto para ex-diri...</td>\n",
       "      <td>1166</td>\n",
       "      <td>0</td>\n",
       "    </tr>\n",
       "    <tr>\n",
       "      <th>3</th>\n",
       "      <td>3</td>\n",
       "      <td>2019-05-30</td>\n",
       "      <td>votação medida provisória estabelece pente fin...</td>\n",
       "      <td>Senado adia para a próxima segunda-feira votaç...</td>\n",
       "      <td>5166</td>\n",
       "      <td>0</td>\n",
       "    </tr>\n",
       "    <tr>\n",
       "      <th>4</th>\n",
       "      <td>4</td>\n",
       "      <td>2019-01-06</td>\n",
       "      <td>presidente jair bolsonaro afirmou entrevista c...</td>\n",
       "      <td>A jornal argentino, Bolsonaro diz que Comissão...</td>\n",
       "      <td>1725</td>\n",
       "      <td>0</td>\n",
       "    </tr>\n",
       "  </tbody>\n",
       "</table>\n",
       "</div>"
      ],
      "text/plain": [
       "   index        date                                               text  \\\n",
       "0      0  2019-01-06  presidente jair bolsonaro afirmou neste sábado...   \n",
       "1      1  2019-01-06  relator proposta reforma previdência comissão ...   \n",
       "2      2  2019-05-31  procuradoria geral república encaminhou manife...   \n",
       "3      3  2019-05-30  votação medida provisória estabelece pente fin...   \n",
       "4      4  2019-01-06  presidente jair bolsonaro afirmou entrevista c...   \n",
       "\n",
       "                                               title   len  fake  \n",
       "0  Bolsonaro diz que quer manter estados e municí...  2724     0  \n",
       "1  Relator diz que déficit previdenciário de esta...  3706     0  \n",
       "2  PGR dá parecer a favor de indulto para ex-diri...  1166     0  \n",
       "3  Senado adia para a próxima segunda-feira votaç...  5166     0  \n",
       "4  A jornal argentino, Bolsonaro diz que Comissão...  1725     0  "
      ]
     },
     "execution_count": 8,
     "metadata": {},
     "output_type": "execute_result"
    }
   ],
   "source": [
    "all_df.head()"
   ]
  },
  {
   "cell_type": "code",
   "execution_count": 9,
   "metadata": {},
   "outputs": [],
   "source": [
    "from imblearn.under_sampling import RandomUnderSampler\n",
    "from sklearn.feature_extraction.text import CountVectorizer, TfidfVectorizer, TfidfTransformer\n",
    "from sklearn.model_selection import cross_val_score, train_test_split\n",
    "from sklearn.metrics import accuracy_score, confusion_matrix, classification_report\n",
    "from sklearn.linear_model import LogisticRegression\n",
    "from sklearn.ensemble import RandomForestClassifier\n",
    "from sklearn.naive_bayes import MultinomialNB\n",
    "from sklearn.naive_bayes import GaussianNB\n",
    "from nltk.tokenize import RegexpTokenizer\n",
    "from sklearn.pipeline import Pipeline\n",
    "from nltk.stem import RSLPStemmer\n",
    "from xgboost import XGBClassifier\n",
    "from sklearn.svm import SVC\n",
    "from sklearn.cluster import KMeans\n",
    "from gensim.models import Doc2Vec\n",
    "from gensim.models.doc2vec import TaggedDocument\n",
    "from sklearn import utils\n",
    "import unicodedata\n",
    "\n",
    "from sklearn.linear_model import SGDClassifier"
   ]
  },
  {
   "cell_type": "code",
   "execution_count": 10,
   "metadata": {},
   "outputs": [
    {
     "name": "stdout",
     "output_type": "stream",
     "text": [
      "(1488, 3)\n",
      "Counter({0: 744, 1: 744})\n"
     ]
    }
   ],
   "source": [
    "rus = RandomUnderSampler()\n",
    "\n",
    "X_all, y_all = rus.fit_resample(all_df[['index', 'text', 'title']], list(all_df['fake']))\n",
    "\n",
    "print(X_all.shape)\n",
    "print(collections.Counter(y_all))"
   ]
  },
  {
   "cell_type": "code",
   "execution_count": 11,
   "metadata": {},
   "outputs": [],
   "source": [
    "vect = TfidfVectorizer(ngram_range=(1, 1), max_df=0.7, min_df=5, strip_accents='unicode')\n",
    "\n",
    "clf = RandomForestClassifier(n_estimators=5000)\n",
    "\n",
    "pipe = Pipeline([('vect', vect), ('clf', clf)])"
   ]
  },
  {
   "cell_type": "code",
   "execution_count": 12,
   "metadata": {},
   "outputs": [],
   "source": [
    "X_train, X_test, y_train, y_test = train_test_split(np.concatenate(([limpar_string(item) for i, item, title in X_all], [limpar_string(title) for i, item, title in X_all]), axis=0), np.concatenate((y_all, y_all), axis=0), test_size=0.3, random_state=42)"
   ]
  },
  {
   "cell_type": "code",
   "execution_count": 13,
   "metadata": {},
   "outputs": [
    {
     "name": "stderr",
     "output_type": "stream",
     "text": [
      "[Parallel(n_jobs=-1)]: Using backend LokyBackend with 4 concurrent workers.\n",
      "[Parallel(n_jobs=-1)]: Done   6 out of  10 | elapsed:  5.5min remaining:  3.7min\n",
      "[Parallel(n_jobs=-1)]: Done  10 out of  10 | elapsed:  7.8min finished\n"
     ]
    },
    {
     "data": {
      "text/plain": [
       "array([0.96308725, 0.98657718, 0.96979866, 0.9295302 , 0.92281879,\n",
       "       0.8557047 , 0.90604027, 0.84228188, 0.82432432, 0.77702703])"
      ]
     },
     "execution_count": 13,
     "metadata": {},
     "output_type": "execute_result"
    }
   ],
   "source": [
    "cv = cross_val_score(pipe, np.concatenate(([limpar_string(item) for i, item, title in X_all], [limpar_string(title) for i, item, title in X_all]), axis=0), np.concatenate((y_all, y_all), axis=0), n_jobs=-1, verbose=4, cv=10)\n",
    "\n",
    "cv"
   ]
  },
  {
   "cell_type": "code",
   "execution_count": 14,
   "metadata": {},
   "outputs": [
    {
     "data": {
      "text/plain": [
       "0.8977190277525848"
      ]
     },
     "execution_count": 14,
     "metadata": {},
     "output_type": "execute_result"
    }
   ],
   "source": [
    "cv.mean()"
   ]
  },
  {
   "cell_type": "code",
   "execution_count": 15,
   "metadata": {},
   "outputs": [
    {
     "data": {
      "text/plain": [
       "Pipeline(memory=None,\n",
       "     steps=[('vect', TfidfVectorizer(analyzer='word', binary=False, decode_error='strict',\n",
       "        dtype=<class 'numpy.float64'>, encoding='utf-8', input='content',\n",
       "        lowercase=True, max_df=0.7, max_features=None, min_df=5,\n",
       "        ngram_range=(1, 1), norm='l2', preprocessor=None, smooth_idf=True,\n",
       "...obs=None,\n",
       "            oob_score=False, random_state=None, verbose=0,\n",
       "            warm_start=False))])"
      ]
     },
     "execution_count": 15,
     "metadata": {},
     "output_type": "execute_result"
    }
   ],
   "source": [
    "pipe.fit(X_train, y_train)"
   ]
  },
  {
   "cell_type": "code",
   "execution_count": 16,
   "metadata": {},
   "outputs": [],
   "source": [
    "pred = pipe.predict(X_test)"
   ]
  },
  {
   "cell_type": "code",
   "execution_count": 17,
   "metadata": {},
   "outputs": [
    {
     "name": "stdout",
     "output_type": "stream",
     "text": [
      "              precision    recall  f1-score   support\n",
      "\n",
      "           0       0.92      0.86      0.89       446\n",
      "           1       0.87      0.92      0.90       447\n",
      "\n",
      "   micro avg       0.89      0.89      0.89       893\n",
      "   macro avg       0.89      0.89      0.89       893\n",
      "weighted avg       0.89      0.89      0.89       893\n",
      "\n"
     ]
    }
   ],
   "source": [
    "print(classification_report(y_test, pred))"
   ]
  },
  {
   "cell_type": "code",
   "execution_count": 18,
   "metadata": {},
   "outputs": [
    {
     "name": "stdout",
     "output_type": "stream",
     "text": [
      "[[385  61]\n",
      " [ 35 412]]\n"
     ]
    }
   ],
   "source": [
    "print(confusion_matrix(y_test, pred))"
   ]
  },
  {
   "cell_type": "code",
   "execution_count": 19,
   "metadata": {},
   "outputs": [
    {
     "name": "stdout",
     "output_type": "stream",
     "text": [
      "0.8924972004479284\n"
     ]
    }
   ],
   "source": [
    "print(accuracy_score(y_test, pred))"
   ]
  },
  {
   "cell_type": "code",
   "execution_count": null,
   "metadata": {},
   "outputs": [],
   "source": []
  },
  {
   "cell_type": "code",
   "execution_count": 20,
   "metadata": {},
   "outputs": [],
   "source": [
    "### Outros testes"
   ]
  },
  {
   "cell_type": "code",
   "execution_count": 21,
   "metadata": {},
   "outputs": [],
   "source": [
    "### testando com o texto do dataframe inteiro"
   ]
  },
  {
   "cell_type": "code",
   "execution_count": 22,
   "metadata": {},
   "outputs": [],
   "source": [
    "pred_all = pipe.predict(all_df['text'].apply(limpar_string))"
   ]
  },
  {
   "cell_type": "code",
   "execution_count": 23,
   "metadata": {},
   "outputs": [
    {
     "name": "stdout",
     "output_type": "stream",
     "text": [
      "              precision    recall  f1-score   support\n",
      "\n",
      "           0       1.00      0.99      0.99      4247\n",
      "           1       0.96      0.98      0.97       744\n",
      "\n",
      "   micro avg       0.99      0.99      0.99      4991\n",
      "   macro avg       0.98      0.99      0.98      4991\n",
      "weighted avg       0.99      0.99      0.99      4991\n",
      "\n"
     ]
    }
   ],
   "source": [
    "print(classification_report(all_df['fake'], pred_all))"
   ]
  },
  {
   "cell_type": "code",
   "execution_count": 24,
   "metadata": {
    "scrolled": true
   },
   "outputs": [
    {
     "name": "stdout",
     "output_type": "stream",
     "text": [
      "[[4214   33]\n",
      " [  14  730]]\n"
     ]
    }
   ],
   "source": [
    "print(confusion_matrix(all_df['fake'], pred_all))"
   ]
  },
  {
   "cell_type": "code",
   "execution_count": null,
   "metadata": {},
   "outputs": [],
   "source": []
  },
  {
   "cell_type": "code",
   "execution_count": 25,
   "metadata": {},
   "outputs": [],
   "source": [
    "### testando com os titulos (manchetes) das notícias"
   ]
  },
  {
   "cell_type": "code",
   "execution_count": 26,
   "metadata": {},
   "outputs": [],
   "source": [
    "pred_all = pipe.predict(all_df['title'].apply(limpar_string))"
   ]
  },
  {
   "cell_type": "code",
   "execution_count": 27,
   "metadata": {},
   "outputs": [
    {
     "name": "stdout",
     "output_type": "stream",
     "text": [
      "              precision    recall  f1-score   support\n",
      "\n",
      "           0       0.99      0.79      0.88      4247\n",
      "           1       0.44      0.97      0.61       744\n",
      "\n",
      "   micro avg       0.81      0.81      0.81      4991\n",
      "   macro avg       0.72      0.88      0.74      4991\n",
      "weighted avg       0.91      0.81      0.84      4991\n",
      "\n"
     ]
    }
   ],
   "source": [
    "print(classification_report(all_df['fake'], pred_all))"
   ]
  },
  {
   "cell_type": "code",
   "execution_count": 28,
   "metadata": {
    "scrolled": true
   },
   "outputs": [
    {
     "name": "stdout",
     "output_type": "stream",
     "text": [
      "[[3334  913]\n",
      " [  21  723]]\n"
     ]
    }
   ],
   "source": [
    "print(confusion_matrix(all_df['fake'], pred_all))"
   ]
  },
  {
   "cell_type": "code",
   "execution_count": null,
   "metadata": {},
   "outputs": [],
   "source": []
  },
  {
   "cell_type": "code",
   "execution_count": 29,
   "metadata": {},
   "outputs": [],
   "source": [
    "### testando com os textos dos conjuntos de treino + teste"
   ]
  },
  {
   "cell_type": "code",
   "execution_count": 42,
   "metadata": {},
   "outputs": [],
   "source": [
    "pred_tt = pipe.predict([limpar_string(item[1]) for item in X_all])"
   ]
  },
  {
   "cell_type": "code",
   "execution_count": 43,
   "metadata": {},
   "outputs": [
    {
     "name": "stdout",
     "output_type": "stream",
     "text": [
      "              precision    recall  f1-score   support\n",
      "\n",
      "           0       0.98      1.00      0.99       744\n",
      "           1       1.00      0.98      0.99       744\n",
      "\n",
      "   micro avg       0.99      0.99      0.99      1488\n",
      "   macro avg       0.99      0.99      0.99      1488\n",
      "weighted avg       0.99      0.99      0.99      1488\n",
      "\n"
     ]
    }
   ],
   "source": [
    "print(classification_report(y_all, pred_tt))"
   ]
  },
  {
   "cell_type": "code",
   "execution_count": 44,
   "metadata": {},
   "outputs": [
    {
     "name": "stdout",
     "output_type": "stream",
     "text": [
      "[[742   2]\n",
      " [ 14 730]]\n"
     ]
    }
   ],
   "source": [
    "print(confusion_matrix(y_all, pred_tt))"
   ]
  },
  {
   "cell_type": "code",
   "execution_count": null,
   "metadata": {},
   "outputs": [],
   "source": []
  },
  {
   "cell_type": "code",
   "execution_count": null,
   "metadata": {},
   "outputs": [],
   "source": []
  },
  {
   "cell_type": "code",
   "execution_count": null,
   "metadata": {},
   "outputs": [],
   "source": [
    "### testando com algumas frases pontuais"
   ]
  },
  {
   "cell_type": "code",
   "execution_count": 45,
   "metadata": {},
   "outputs": [],
   "source": [
    "def predict(text):\n",
    "    text = limpar_string(text)\n",
    "    return [pipe.predict([text]), pipe.predict_proba([text])]"
   ]
  },
  {
   "cell_type": "code",
   "execution_count": 46,
   "metadata": {},
   "outputs": [
    {
     "data": {
      "text/plain": [
       "[array([0]), array([[0.5466, 0.4534]])]"
      ]
     },
     "execution_count": 46,
     "metadata": {},
     "output_type": "execute_result"
    }
   ],
   "source": [
    "# real:      verdadeiro\n",
    "# predicted: verdadeiro\n",
    "# fonte: https://g1.globo.com/politica/noticia/2019/06/01/a-jornal-argentino-bolsonaro-diz-que-comissao-da-verdade-e-mentirosa.ghtml\n",
    "\n",
    "texto1 = \"\"\"\n",
    "\n",
    "O presidente Jair Bolsonaro (PSL) afirmou, em entrevista concedida ao jornal argentino ‘La Nacion’, publicada neste sábado (1º), que a Comissão da Verdade instituída para investigar violações aos direitos humanos durante a ditadura é “mentirosa”.\n",
    "\n",
    "Questionado sobre a questão da Venezuela, Bolsonaro afirmou que o presidente Nicolás Maduro se mantém no poder porque cooptou o Exército, o que não ocorreu no Brasil.\n",
    "\n",
    "“Isso, no Brasil, a esquerda não conseguiu fazer, apesar de todas as medidas tomadas contra nós, nem sequer com a mentirosa Comissão da Verdade, que contou histórias totalmente diferentes das que ocorreram no período de 1964 a 1985”, afirmou.\n",
    "\n",
    "Bolsonaro disse ainda que a história do Brasil tem que começar a ser escrita com a verdade.\n",
    "\n",
    "“Se o Partido dos Trabalhadores quisesse a verdade, o primeiro feito que deveria ser esclarecido seria o sequestro, tortura e execução, em 2002, do petista Celso Daniel, que estava para divulgar informação que acabaria com a campanha de Lula. E não se vê nenhum petista defendendo essa investigação, porque todos os indícios apontam que eles o mataram, entre tantos outros”, disse.\n",
    "\n",
    "O jornal afirma que Bolsonaro, cinco meses depois de assumir o poder, está na “defensiva”, com a popularidade erodida, a economia em retrocesso e enfrenta obstáculos para impulsionar seus projetos no Congresso.\n",
    "\n",
    "A entrevista foi concedida no Palácio do Planalto. O presidente disse também que deve visitar a Argentina na próxima semana para discutir um acordo entre o Mercosul e a União Europeia.\n",
    "\n",
    "“A Argentina e o Brasil não podem voltar à corrupção do passado, uma corrupção desenfreada por busca de poder. Contamos com o povo argentino para eleger bem o presidente em outubro”, disse.\n",
    "\n",
    "\"\"\"\n",
    "\n",
    "predict(texto1)"
   ]
  },
  {
   "cell_type": "code",
   "execution_count": 47,
   "metadata": {},
   "outputs": [
    {
     "data": {
      "text/plain": [
       "[array([0]), array([[0.8212, 0.1788]])]"
      ]
     },
     "execution_count": 47,
     "metadata": {},
     "output_type": "execute_result"
    }
   ],
   "source": [
    "# real:      verdadeiro\n",
    "# predicted: verdadeiro\n",
    "# fonte: https://g1.globo.com/politica/noticia/2019/06/01/bolsonaro-diz-que-quer-manter-estados-e-municipios-na-reforma-da-previdencia.ghtml\n",
    "\n",
    "texto2 = \"\"\"\n",
    "\n",
    "O presidente Jair Bolsonaro afirmou neste sábado (1º) que gostaria que o Congresso mantivesse estados e municípios dentro da reforma da Previdência enviada pelo governo. Ele ponderou, porém, que o \"impasse\" sobre o tema deve ser resolvido pelos parlamentares e, portanto, disse não ter \"nada a ver com isso\".\n",
    "\n",
    "Nos últimos dias, deputados têm feito pressão para que o relator da reforma na comissão especial da Câmara, Samuel Moreira (PSDB-SP), deixe as previdências estaduais e municipais de fora do texto.\n",
    "\n",
    "Na semana passada, o presidente da Câmara, Rodrigo Maia (DEM-RJ), admitiu que a pressão para retirar estados e municípios da reforma da Previdência é grande. Na avaliação de Maia, um dos principais fiadores da PEC que altera as regras previdenciárias, é \"difícil\" manter servidores estaduais na reforma.\n",
    "\n",
    "\"Isso está sendo acertado pela Câmara. O que nós gostaríamos é que fosse tudo junto, mas como tem partidos que querem que aprove [sem estados e municípios], e eles votando ao contrário, então há esse impasse dentro da Câmara, Eu não tenho nada a ver com isso. Não tenho nada a ver com isso, a Câmara que decide agora\", disse Bolsonaro, após almoçar na casa de um amigo militar.\n",
    "\n",
    "Questionado sobre se o governo teria alguma preferência, o presidente repetiu o que vem dizendo em declarações públicas, de que gostaria de ver aprovado o texto original da proposta.\n",
    "\n",
    "\n",
    "\"Eu quero aprovar a reforma basicamente como chegou lá, eu espero que o pessoal se entenda. Tem parlamentar reclamando: 'Olha, a gente quer votar, mas o colega de tal partido quer que ela passe, mas ele votou no contrário porque tem algum desgaste no estado'. É esse o problema que está acontecendo dentro da Câmara\", afirmou.\n",
    "\n",
    "O presidente disse ainda que todos os demais projetos econômicos \"nascerão\" da reforma da Previdência. Para ele, a PEC é a \"reforma mãe\" do governo.\n",
    "\n",
    "Relator\n",
    "Também neste sábado, o relator da proposta reuniu-se em Brasília com integrantes da área técnica do governo. Após o encontro, Samuel Moreira afirmou que o déficit previdenciário de estados e prefeituras soma R$ 96 bilhões por ano.\n",
    "\n",
    "Ele disse, porém, que isso é um assunto \"polêmico e grave\" e que ainda não decidiu se irá mexer neste ponto no parecer final.\n",
    "\n",
    "Indagado pelos repórteres ao final da reunião com a área técnica do governo federal sobre a pressão política para retirar estados e municípios da reforma, ele disse que \"não há qualquer cálculo eleitoral que possa ser maior que a responsabilidade nesse momento\".\n",
    "\n",
    "A expectativa do relator é de apresentar o parecer final à comissão especial no fim da próxima semana. Até lá, ele pretende continuar conversando e negociando com líderes partidários para tentar construir um texto que atraia os votos do Centrão.\n",
    "\n",
    "\"\"\"\n",
    "\n",
    "predict(texto2)"
   ]
  },
  {
   "cell_type": "code",
   "execution_count": 48,
   "metadata": {},
   "outputs": [
    {
     "data": {
      "text/plain": [
       "[array([1]), array([[0.2692, 0.7308]])]"
      ]
     },
     "execution_count": 48,
     "metadata": {},
     "output_type": "execute_result"
    }
   ],
   "source": [
    "# real:      falso\n",
    "# predicted: falso\n",
    "# fonte: https://www.boatos.org/politica/editorial-o-globo-pede-intervencao.html\n",
    "\n",
    "texto3 = \"\"\"\n",
    "\n",
    "EDITORIAL DE O GLOBO Segunda-feira 20.05.2019. Não vivemos mais um regime Presidencialista! Que eu saiba, questões de gestão inerentes ao exercício do Poder determinadas pelo Presidente da República, jamais foram contestadas ao longo do tempo. Nos estranhos dias atuais, onde a esquerda não se conforma em perder o Poder e acha que democracia é o poder que emana do lado esquerdo do povo, o Presidente da República, Jair Bolsonaro, legitimamente eleito por mais de 57 milhões de brasileiros, virou um títere, um boneco de ventríloquo nas mãos de Congressistas, Juízes, Procuradores e Ministros de má fé suportados pela mídia. […]\n",
    "\n",
    "É, meus amigos, acho que este País só tem um jeito: Intervenção militar e fechamento de Congresso, Judiciário e o escambau. Ai esses filhos da puta desses políticos corruptos, esses juizinhos engajados de merda, esses artistas e essa mídia de bosta, toda essa gentalha que não se conforma em perder as eleições, que não admite que o Brasil abomina a esquerda e que não quer ver um governo democrático funcionar, vai ver o que é bom e ai, sim, vai poder discutir, na prática e com conhecimento de causa, aqui e agora, se o que acontecer é golpe, é revolução, é ditadura, é contra-revolução ou é simplesmente a reação de um povo de saco cheio, como o foi em 64. ps: se concordar, compartilhe, pois estou bloqueado e este perfil é super limitado, não atinge nem 100 pessoas. Obrigado.\n",
    "\n",
    "\"\"\"\n",
    "\n",
    "predict(texto3)"
   ]
  },
  {
   "cell_type": "code",
   "execution_count": 49,
   "metadata": {},
   "outputs": [
    {
     "data": {
      "text/plain": [
       "[array([1]), array([[0.093, 0.907]])]"
      ]
     },
     "execution_count": 49,
     "metadata": {},
     "output_type": "execute_result"
    }
   ],
   "source": [
    "# real:      falso\n",
    "# predicted: falso\n",
    "#fonte: rodney\n",
    "\n",
    "texto4 = \"\"\"\n",
    "\n",
    "lula e bolsonaro são avistados na fronteira do mexico\n",
    "\n",
    "\"\"\"\n",
    "predict(texto4)"
   ]
  },
  {
   "cell_type": "code",
   "execution_count": 50,
   "metadata": {},
   "outputs": [
    {
     "data": {
      "text/plain": [
       "[array([1]), array([[0.2348, 0.7652]])]"
      ]
     },
     "execution_count": 50,
     "metadata": {},
     "output_type": "execute_result"
    }
   ],
   "source": [
    "# real:      falso\n",
    "# predicted: falso\n",
    "# fonte: rodney\n",
    "\n",
    "texto5 = \"\"\"\n",
    "\n",
    "Eles irão tirar a frase deus seja louvado e colocarão brasil pais lgbt claramente numa tentativa de destruir as familia de bem que ajudaram a construir esse pais e manter a familia que deus criou\n",
    "\n",
    "\"\"\"\n",
    "predict(texto5)"
   ]
  },
  {
   "cell_type": "code",
   "execution_count": 51,
   "metadata": {},
   "outputs": [
    {
     "data": {
      "text/plain": [
       "[array([1]), array([[0.0604, 0.9396]])]"
      ]
     },
     "execution_count": 51,
     "metadata": {},
     "output_type": "execute_result"
    }
   ],
   "source": [
    "texto6 = \"\"\"\n",
    "\n",
    "Não é fake não, direitas evangélicas! O que Bolsonaro queria, procurando fotos do Pablo Vitar com a b… grande e gostosa? Twitter na real kkkk \n",
    "\n",
    "\"\"\"\n",
    "\n",
    "predict(texto6)"
   ]
  },
  {
   "cell_type": "code",
   "execution_count": 52,
   "metadata": {},
   "outputs": [
    {
     "data": {
      "text/plain": [
       "[array([0]), array([[0.566, 0.434]])]"
      ]
     },
     "execution_count": 52,
     "metadata": {},
     "output_type": "execute_result"
    }
   ],
   "source": [
    "texto7 = \"\"\"\n",
    "\n",
    "A presidente nacional do PT, Gleisi Hoffmann, negou neste domingo, 2, que haja uma separação entre a pauta do \"Lula Livre\" e as demais bandeiras da esquerda, como a da defesa da educação. \"Lula e educação são pautas inseparáveis. Essa moçada está indo às ruas pelo legado que ele deixou neste País\", disse a petista, uma das únicas autoridades do partido a estar presente no festival Lula Livre, que não contou com discursos de políticos no palco. VEJA TAMBÉM Festival Lula Livre não destaca outras bandeiras de esquerda \"Para nós do PT, 'Lula Livre' é estratégico, nós achamos que não há salvação da democracia com Lula preso. Nós sempre levaremos a pauta do 'Lula Livre' junto com a pauta da defesa da educação\", disse Hoffmann. Perguntada se os partidos aliados também fazem a mesma associação, a ex-senadora respondeu que \"muitos têm levado (uma agenda em conjunto coma outra)\". Citou o PCdoB e o PSOL e afirmou que Carlos Lupi, presidente do PDT, visitou Lula na prisão. Além de não contar com discursos políticos, o ato deste domingo não enfatizou nenhuma outra grande pauta da esquerda, como a defesa das instituições públicas de ensino e a oposição à reforma da Previdência. O Broadcast/Estadão apurou que a organização de atos paralelos é uma estratégia da oposição para manter agenda de protestos pró-Lula sem que essa pauta isole quem não simpatiza com o ex-presidente da agenda anti-Bolsonaro. Para Guilherme Boulos, que foi candidato do PSOL à Presidência da República ano passado, as manifestações dos dias 15 e 30 de maio - contra o contingenciamento de recursos de instituições de ensino anunciado pelo governo Jair Bolsonaro - foram \"com centro na luta pela educação\". \"Agora aqui é um evento pensado com o tema do 'Lula Livre'\". Segundo Paulo Okamotto, presidente dos Instituto Lula, o evento deste domingo não conta com discursos por se tratar de um \"ato lúdico\". Ele disse ainda que os políticos com mandato ajudaram a fazer o contato com os artistas e a chamar público pelas redes sociais.\n",
    "\n",
    "\"\"\"\n",
    "\n",
    "predict(texto7)"
   ]
  },
  {
   "cell_type": "code",
   "execution_count": 53,
   "metadata": {},
   "outputs": [
    {
     "data": {
      "text/plain": [
       "[array([1]), array([[0.0866, 0.9134]])]"
      ]
     },
     "execution_count": 53,
     "metadata": {},
     "output_type": "execute_result"
    }
   ],
   "source": [
    "texto8 = \"\"\"\n",
    "\n",
    "Bolsonaro leva facada em atentado durante campanha em Juiz de Fora\n",
    "\n",
    "\"\"\"\n",
    "predict(texto8)"
   ]
  },
  {
   "cell_type": "code",
   "execution_count": 54,
   "metadata": {},
   "outputs": [
    {
     "data": {
      "text/plain": [
       "[array([1]), array([[0.3994, 0.6006]])]"
      ]
     },
     "execution_count": 54,
     "metadata": {},
     "output_type": "execute_result"
    }
   ],
   "source": [
    "texto9 = \"\"\"\n",
    "\n",
    "O presidente Jair Bolsonaro comentou a recente notícia de que a o PIB brasileiro sofreu uma queda de 0,2% no primeiro trimestre do ano, reiterando a sua confiança no ministro Paulo Guedes.\n",
    "\n",
    "Ao ser perguntado por jornalistas sobre as projeções para a economia brasileira, Bolsonaro relacionou as projeções econômicas brasileiras com fatores externos e reiterou a necessidade de aprovara reforma da Previdência.\n",
    "\n",
    "\"Já falei que não entendia de economia? Quem entendia afundou o Brasil, eu confio 100% na economia do Paulo Guedes [...] A gente quer melhorar os nossos índices aqui, agora passa por questões até externas\", disse Bolsonaro, durante um almoço na casa de um amigo, em Brasília.\n",
    "\n",
    "De acordo com ele, está \"descartada qualquer possibilidade de novo imposto ou majorar qualquer imposto, isso não existe\".\n",
    "\n",
    "Além disso, ele destacou que o governo está trabalhando para garantir a promessa de pagar a 13º parcela do Bolsa Família por meio do combate a fraudes no benefício.\n",
    "\n",
    "Um estudo do IBGE divulgada em 29 de maio mostrou que o PIB brasileiro sofre uma queda de 0,2% no primeiro trimestre de 2019 em comparação com o último trimestre do ano passado.\n",
    "\n",
    "Trata-se da primeira queda do PIB desde o quarto trimestre de 2016. No último trimestre de 2018 foi registrado o aumento do PIB de 0,1% em comparação com o terceiro trimestre de 2018.\n",
    "\n",
    "\n",
    "\"\"\"\n",
    "\n",
    "predict(texto9)"
   ]
  },
  {
   "cell_type": "code",
   "execution_count": 55,
   "metadata": {},
   "outputs": [
    {
     "data": {
      "text/plain": [
       "[array([1]), array([[0.3634, 0.6366]])]"
      ]
     },
     "execution_count": 55,
     "metadata": {},
     "output_type": "execute_result"
    }
   ],
   "source": [
    "texto10 = \"\"\"\n",
    "\n",
    "Lula tem direito a progredir para o regime semiaberto, diz MPF em parecer ao STJ\n",
    "\n",
    "\"\"\"\n",
    "\n",
    "predict(texto10)"
   ]
  },
  {
   "cell_type": "code",
   "execution_count": null,
   "metadata": {},
   "outputs": [],
   "source": []
  },
  {
   "cell_type": "code",
   "execution_count": 56,
   "metadata": {},
   "outputs": [],
   "source": [
    "elpais_df = pd.read_json('data/elpais.json')"
   ]
  },
  {
   "cell_type": "code",
   "execution_count": 57,
   "metadata": {},
   "outputs": [
    {
     "data": {
      "text/plain": [
       "11681"
      ]
     },
     "execution_count": 57,
     "metadata": {},
     "output_type": "execute_result"
    }
   ],
   "source": [
    "len(elpais_df)"
   ]
  },
  {
   "cell_type": "code",
   "execution_count": 58,
   "metadata": {},
   "outputs": [
    {
     "data": {
      "text/html": [
       "<div>\n",
       "<style scoped>\n",
       "    .dataframe tbody tr th:only-of-type {\n",
       "        vertical-align: middle;\n",
       "    }\n",
       "\n",
       "    .dataframe tbody tr th {\n",
       "        vertical-align: top;\n",
       "    }\n",
       "\n",
       "    .dataframe thead th {\n",
       "        text-align: right;\n",
       "    }\n",
       "</style>\n",
       "<table border=\"1\" class=\"dataframe\">\n",
       "  <thead>\n",
       "    <tr style=\"text-align: right;\">\n",
       "      <th></th>\n",
       "      <th>date</th>\n",
       "      <th>text</th>\n",
       "      <th>title</th>\n",
       "    </tr>\n",
       "  </thead>\n",
       "  <tbody>\n",
       "    <tr>\n",
       "      <th>0</th>\n",
       "      <td>\\n4 JUN 2019 - 14:27\\t\\t\\t\\t\\t</td>\n",
       "      <td>[O atual mandato presidencial no Brasil começo...</td>\n",
       "      <td>Começam a soar os alarmes sobre a sustentabili...</td>\n",
       "    </tr>\n",
       "    <tr>\n",
       "      <th>1</th>\n",
       "      <td>\\n2 JUN 2019 - 12:49\\t\\t\\t\\t\\t</td>\n",
       "      <td>[Poucas horas antes de milhares de , manifesta...</td>\n",
       "      <td>Corte ou contingenciamento, quem está certo na...</td>\n",
       "    </tr>\n",
       "    <tr>\n",
       "      <th>2</th>\n",
       "      <td>\\n3 JUN 2019 - 11:00\\t\\t\\t\\t\\t</td>\n",
       "      <td>[Se o tamanho de uma figura pública se mede pe...</td>\n",
       "      <td>Trump insulta prefeito de Londres no início de...</td>\n",
       "    </tr>\n",
       "    <tr>\n",
       "      <th>3</th>\n",
       "      <td>\\n26 MAI 2019 - 16:18\\t\\t\\t\\t\\t</td>\n",
       "      <td>[Um dos tantos fenômenos imparáveis trazidos p...</td>\n",
       "      <td>O líder e eu (e ninguém no meio)</td>\n",
       "    </tr>\n",
       "    <tr>\n",
       "      <th>4</th>\n",
       "      <td>\\n3 JUN 2019 - 16:22\\t\\t\\t\\t\\t</td>\n",
       "      <td>[Após semanas de audiências públicas, o projet...</td>\n",
       "      <td>A reforma da Previdência pesará mais sobre os ...</td>\n",
       "    </tr>\n",
       "  </tbody>\n",
       "</table>\n",
       "</div>"
      ],
      "text/plain": [
       "                              date  \\\n",
       "0   \\n4 JUN 2019 - 14:27\\t\\t\\t\\t\\t   \n",
       "1   \\n2 JUN 2019 - 12:49\\t\\t\\t\\t\\t   \n",
       "2   \\n3 JUN 2019 - 11:00\\t\\t\\t\\t\\t   \n",
       "3  \\n26 MAI 2019 - 16:18\\t\\t\\t\\t\\t   \n",
       "4   \\n3 JUN 2019 - 16:22\\t\\t\\t\\t\\t   \n",
       "\n",
       "                                                text  \\\n",
       "0  [O atual mandato presidencial no Brasil começo...   \n",
       "1  [Poucas horas antes de milhares de , manifesta...   \n",
       "2  [Se o tamanho de uma figura pública se mede pe...   \n",
       "3  [Um dos tantos fenômenos imparáveis trazidos p...   \n",
       "4  [Após semanas de audiências públicas, o projet...   \n",
       "\n",
       "                                               title  \n",
       "0  Começam a soar os alarmes sobre a sustentabili...  \n",
       "1  Corte ou contingenciamento, quem está certo na...  \n",
       "2  Trump insulta prefeito de Londres no início de...  \n",
       "3                   O líder e eu (e ninguém no meio)  \n",
       "4  A reforma da Previdência pesará mais sobre os ...  "
      ]
     },
     "execution_count": 58,
     "metadata": {},
     "output_type": "execute_result"
    }
   ],
   "source": [
    "elpais_df.head()"
   ]
  },
  {
   "cell_type": "code",
   "execution_count": 59,
   "metadata": {},
   "outputs": [],
   "source": [
    "elpais_df['text'] = [''.join(sent) for sent in elpais_df['text']]"
   ]
  },
  {
   "cell_type": "code",
   "execution_count": 60,
   "metadata": {},
   "outputs": [
    {
     "data": {
      "text/html": [
       "<div>\n",
       "<style scoped>\n",
       "    .dataframe tbody tr th:only-of-type {\n",
       "        vertical-align: middle;\n",
       "    }\n",
       "\n",
       "    .dataframe tbody tr th {\n",
       "        vertical-align: top;\n",
       "    }\n",
       "\n",
       "    .dataframe thead th {\n",
       "        text-align: right;\n",
       "    }\n",
       "</style>\n",
       "<table border=\"1\" class=\"dataframe\">\n",
       "  <thead>\n",
       "    <tr style=\"text-align: right;\">\n",
       "      <th></th>\n",
       "      <th>date</th>\n",
       "      <th>text</th>\n",
       "      <th>title</th>\n",
       "    </tr>\n",
       "  </thead>\n",
       "  <tbody>\n",
       "    <tr>\n",
       "      <th>0</th>\n",
       "      <td>\\n4 JUN 2019 - 14:27\\t\\t\\t\\t\\t</td>\n",
       "      <td>O atual mandato presidencial no Brasil começou...</td>\n",
       "      <td>Começam a soar os alarmes sobre a sustentabili...</td>\n",
       "    </tr>\n",
       "    <tr>\n",
       "      <th>1</th>\n",
       "      <td>\\n2 JUN 2019 - 12:49\\t\\t\\t\\t\\t</td>\n",
       "      <td>Poucas horas antes de milhares de manifestante...</td>\n",
       "      <td>Corte ou contingenciamento, quem está certo na...</td>\n",
       "    </tr>\n",
       "    <tr>\n",
       "      <th>2</th>\n",
       "      <td>\\n3 JUN 2019 - 11:00\\t\\t\\t\\t\\t</td>\n",
       "      <td>Se o tamanho de uma figura pública se mede pel...</td>\n",
       "      <td>Trump insulta prefeito de Londres no início de...</td>\n",
       "    </tr>\n",
       "    <tr>\n",
       "      <th>3</th>\n",
       "      <td>\\n26 MAI 2019 - 16:18\\t\\t\\t\\t\\t</td>\n",
       "      <td>Um dos tantos fenômenos imparáveis trazidos pe...</td>\n",
       "      <td>O líder e eu (e ninguém no meio)</td>\n",
       "    </tr>\n",
       "    <tr>\n",
       "      <th>4</th>\n",
       "      <td>\\n3 JUN 2019 - 16:22\\t\\t\\t\\t\\t</td>\n",
       "      <td>Após semanas de audiências públicas, o projeto...</td>\n",
       "      <td>A reforma da Previdência pesará mais sobre os ...</td>\n",
       "    </tr>\n",
       "  </tbody>\n",
       "</table>\n",
       "</div>"
      ],
      "text/plain": [
       "                              date  \\\n",
       "0   \\n4 JUN 2019 - 14:27\\t\\t\\t\\t\\t   \n",
       "1   \\n2 JUN 2019 - 12:49\\t\\t\\t\\t\\t   \n",
       "2   \\n3 JUN 2019 - 11:00\\t\\t\\t\\t\\t   \n",
       "3  \\n26 MAI 2019 - 16:18\\t\\t\\t\\t\\t   \n",
       "4   \\n3 JUN 2019 - 16:22\\t\\t\\t\\t\\t   \n",
       "\n",
       "                                                text  \\\n",
       "0  O atual mandato presidencial no Brasil começou...   \n",
       "1  Poucas horas antes de milhares de manifestante...   \n",
       "2  Se o tamanho de uma figura pública se mede pel...   \n",
       "3  Um dos tantos fenômenos imparáveis trazidos pe...   \n",
       "4  Após semanas de audiências públicas, o projeto...   \n",
       "\n",
       "                                               title  \n",
       "0  Começam a soar os alarmes sobre a sustentabili...  \n",
       "1  Corte ou contingenciamento, quem está certo na...  \n",
       "2  Trump insulta prefeito de Londres no início de...  \n",
       "3                   O líder e eu (e ninguém no meio)  \n",
       "4  A reforma da Previdência pesará mais sobre os ...  "
      ]
     },
     "execution_count": 60,
     "metadata": {},
     "output_type": "execute_result"
    }
   ],
   "source": [
    "elpais_df.head()"
   ]
  },
  {
   "cell_type": "code",
   "execution_count": 62,
   "metadata": {},
   "outputs": [],
   "source": [
    "elpais_df['text'] = elpais_df['text'].apply(limpar_string)"
   ]
  },
  {
   "cell_type": "code",
   "execution_count": 63,
   "metadata": {},
   "outputs": [
    {
     "data": {
      "text/html": [
       "<div>\n",
       "<style scoped>\n",
       "    .dataframe tbody tr th:only-of-type {\n",
       "        vertical-align: middle;\n",
       "    }\n",
       "\n",
       "    .dataframe tbody tr th {\n",
       "        vertical-align: top;\n",
       "    }\n",
       "\n",
       "    .dataframe thead th {\n",
       "        text-align: right;\n",
       "    }\n",
       "</style>\n",
       "<table border=\"1\" class=\"dataframe\">\n",
       "  <thead>\n",
       "    <tr style=\"text-align: right;\">\n",
       "      <th></th>\n",
       "      <th>date</th>\n",
       "      <th>text</th>\n",
       "      <th>title</th>\n",
       "    </tr>\n",
       "  </thead>\n",
       "  <tbody>\n",
       "    <tr>\n",
       "      <th>0</th>\n",
       "      <td>\\n4 JUN 2019 - 14:27\\t\\t\\t\\t\\t</td>\n",
       "      <td>atual mandato presidencial brasil começou pouc...</td>\n",
       "      <td>Começam a soar os alarmes sobre a sustentabili...</td>\n",
       "    </tr>\n",
       "    <tr>\n",
       "      <th>1</th>\n",
       "      <td>\\n2 JUN 2019 - 12:49\\t\\t\\t\\t\\t</td>\n",
       "      <td>poucas horas antes milhares manifestantes irem...</td>\n",
       "      <td>Corte ou contingenciamento, quem está certo na...</td>\n",
       "    </tr>\n",
       "    <tr>\n",
       "      <th>2</th>\n",
       "      <td>\\n3 JUN 2019 - 11:00\\t\\t\\t\\t\\t</td>\n",
       "      <td>tamanho figura pública mede importância inimig...</td>\n",
       "      <td>Trump insulta prefeito de Londres no início de...</td>\n",
       "    </tr>\n",
       "    <tr>\n",
       "      <th>3</th>\n",
       "      <td>\\n26 MAI 2019 - 16:18\\t\\t\\t\\t\\t</td>\n",
       "      <td>tantos fenômenos imparáveis trazidos revolução...</td>\n",
       "      <td>O líder e eu (e ninguém no meio)</td>\n",
       "    </tr>\n",
       "    <tr>\n",
       "      <th>4</th>\n",
       "      <td>\\n3 JUN 2019 - 16:22\\t\\t\\t\\t\\t</td>\n",
       "      <td>após semanas audiências públicas projeto refor...</td>\n",
       "      <td>A reforma da Previdência pesará mais sobre os ...</td>\n",
       "    </tr>\n",
       "  </tbody>\n",
       "</table>\n",
       "</div>"
      ],
      "text/plain": [
       "                              date  \\\n",
       "0   \\n4 JUN 2019 - 14:27\\t\\t\\t\\t\\t   \n",
       "1   \\n2 JUN 2019 - 12:49\\t\\t\\t\\t\\t   \n",
       "2   \\n3 JUN 2019 - 11:00\\t\\t\\t\\t\\t   \n",
       "3  \\n26 MAI 2019 - 16:18\\t\\t\\t\\t\\t   \n",
       "4   \\n3 JUN 2019 - 16:22\\t\\t\\t\\t\\t   \n",
       "\n",
       "                                                text  \\\n",
       "0  atual mandato presidencial brasil começou pouc...   \n",
       "1  poucas horas antes milhares manifestantes irem...   \n",
       "2  tamanho figura pública mede importância inimig...   \n",
       "3  tantos fenômenos imparáveis trazidos revolução...   \n",
       "4  após semanas audiências públicas projeto refor...   \n",
       "\n",
       "                                               title  \n",
       "0  Começam a soar os alarmes sobre a sustentabili...  \n",
       "1  Corte ou contingenciamento, quem está certo na...  \n",
       "2  Trump insulta prefeito de Londres no início de...  \n",
       "3                   O líder e eu (e ninguém no meio)  \n",
       "4  A reforma da Previdência pesará mais sobre os ...  "
      ]
     },
     "execution_count": 63,
     "metadata": {},
     "output_type": "execute_result"
    }
   ],
   "source": [
    "elpais_df.head()"
   ]
  },
  {
   "cell_type": "code",
   "execution_count": 64,
   "metadata": {},
   "outputs": [],
   "source": [
    "elpais_pred = pipe.predict(elpais_df['text'])"
   ]
  },
  {
   "cell_type": "code",
   "execution_count": 65,
   "metadata": {},
   "outputs": [],
   "source": [
    "elpais_df['fake'] = 0"
   ]
  },
  {
   "cell_type": "code",
   "execution_count": 66,
   "metadata": {},
   "outputs": [
    {
     "name": "stdout",
     "output_type": "stream",
     "text": [
      "              precision    recall  f1-score   support\n",
      "\n",
      "           0       1.00      0.76      0.86     11681\n",
      "           1       0.00      0.00      0.00         0\n",
      "\n",
      "   micro avg       0.76      0.76      0.76     11681\n",
      "   macro avg       0.50      0.38      0.43     11681\n",
      "weighted avg       1.00      0.76      0.86     11681\n",
      "\n"
     ]
    },
    {
     "name": "stderr",
     "output_type": "stream",
     "text": [
      "c:\\users\\hidea\\appdata\\local\\programs\\python\\python37\\lib\\site-packages\\sklearn\\metrics\\classification.py:1145: UndefinedMetricWarning: Recall and F-score are ill-defined and being set to 0.0 in labels with no true samples.\n",
      "  'recall', 'true', average, warn_for)\n"
     ]
    }
   ],
   "source": [
    "print(classification_report(elpais_df['fake'], elpais_pred))"
   ]
  },
  {
   "cell_type": "code",
   "execution_count": 67,
   "metadata": {},
   "outputs": [
    {
     "name": "stdout",
     "output_type": "stream",
     "text": [
      "[[8874 2807]\n",
      " [   0    0]]\n"
     ]
    }
   ],
   "source": [
    "print(confusion_matrix(elpais_df['fake'], elpais_pred))"
   ]
  },
  {
   "cell_type": "code",
   "execution_count": null,
   "metadata": {},
   "outputs": [],
   "source": []
  },
  {
   "cell_type": "code",
   "execution_count": null,
   "metadata": {},
   "outputs": [],
   "source": []
  }
 ],
 "metadata": {
  "kernelspec": {
   "display_name": "Python 3",
   "language": "python",
   "name": "python3"
  },
  "language_info": {
   "codemirror_mode": {
    "name": "ipython",
    "version": 3
   },
   "file_extension": ".py",
   "mimetype": "text/x-python",
   "name": "python",
   "nbconvert_exporter": "python",
   "pygments_lexer": "ipython3",
   "version": "3.7.3"
  }
 },
 "nbformat": 4,
 "nbformat_minor": 2
}
