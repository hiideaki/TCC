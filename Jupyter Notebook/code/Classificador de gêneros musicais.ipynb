{
 "cells": [
  {
   "cell_type": "markdown",
   "metadata": {},
   "source": [
    "# Classificador de gêneros musicais (Bossa nova, Funk, Gospel e Sertanejo)\n"
   ]
  },
  {
   "cell_type": "markdown",
   "metadata": {},
   "source": [
    "Notebook por **Marcelo Hideaki Iwata Kito**"
   ]
  },
  {
   "cell_type": "markdown",
   "metadata": {},
   "source": [
    "Neste _notebook_ será mostrado o processo realizado no tratamento dos dados, levantamento de características e treinamento do sistema de classificação de gêneros musicais, dada a letra de uma música."
   ]
  },
  {
   "cell_type": "code",
   "execution_count": 449,
   "metadata": {},
   "outputs": [],
   "source": [
    "import numpy as np\n",
    "import pandas as pd\n",
    "import pickle\n",
    "import matplotlib\n",
    "import seaborn as sn\n",
    "import collections as col\n",
    "import matplotlib.pyplot as plt\n",
    "\n",
    "%matplotlib inline"
   ]
  },
  {
   "cell_type": "markdown",
   "metadata": {},
   "source": [
    "# Leitura e armazenamento dos arquivos .csv usando pandas"
   ]
  },
  {
   "cell_type": "markdown",
   "metadata": {},
   "source": [
    "As músicas são armazenadas em _DataFrames_ com nomes adequados"
   ]
  },
  {
   "cell_type": "code",
   "execution_count": 2,
   "metadata": {},
   "outputs": [],
   "source": [
    "lista_funk = pd.read_csv('../genero/funk.csv')\n",
    "lista_funk['genero'] = 'Funk'"
   ]
  },
  {
   "cell_type": "code",
   "execution_count": 3,
   "metadata": {},
   "outputs": [],
   "source": [
    "lista_bossa_nova = pd.read_csv('../genero/bossa_nova.csv')\n",
    "lista_bossa_nova['genero'] = 'Bossa nova'"
   ]
  },
  {
   "cell_type": "code",
   "execution_count": 4,
   "metadata": {},
   "outputs": [],
   "source": [
    "lista_gospel = pd.read_csv('../genero/gospel.csv')\n",
    "lista_gospel['genero'] = 'Gospel'"
   ]
  },
  {
   "cell_type": "code",
   "execution_count": 5,
   "metadata": {},
   "outputs": [],
   "source": [
    "lista_sertanejo = pd.read_csv('../genero/sertanejo.csv')\n",
    "lista_sertanejo['genero'] = 'Sertanejo'"
   ]
  },
  {
   "cell_type": "code",
   "execution_count": 6,
   "metadata": {},
   "outputs": [],
   "source": [
    "lista_musicas = pd.concat([lista_funk, lista_bossa_nova, lista_gospel, lista_sertanejo])"
   ]
  },
  {
   "cell_type": "markdown",
   "metadata": {},
   "source": [
    "Abaixo, aplica-se uma contagem de quantas palavras se tem por música"
   ]
  },
  {
   "cell_type": "code",
   "execution_count": 7,
   "metadata": {},
   "outputs": [],
   "source": [
    "lista_musicas['length'] = lista_musicas['lyric'].apply(len) "
   ]
  },
  {
   "cell_type": "code",
   "execution_count": 443,
   "metadata": {},
   "outputs": [
    {
     "data": {
      "text/plain": [
       "Text(0.5, 1.0, 'Média de palavras nas músicas por gênero musical')"
      ]
     },
     "execution_count": 443,
     "metadata": {},
     "output_type": "execute_result"
    },
    {
     "data": {
      "image/png": "[encoded data removed]",
      "text/plain": [
       "<Figure size 432x288 with 1 Axes>"
      ]
     },
     "metadata": {
      "needs_background": "light"
     },
     "output_type": "display_data"
    }
   ],
   "source": [
    "fig1, ax1 = plt.subplots()\n",
    "ax1.bar(lista_musicas['genero'].unique(), lista_musicas.groupby('genero').mean().round()['length'])\n",
    "ax1.set_title('Média de palavras nas músicas por gênero musical')"
   ]
  },
  {
   "cell_type": "markdown",
   "metadata": {},
   "source": [
    "# Função para contar quantas palavras unicas estão contidas num dataset"
   ]
  },
  {
   "cell_type": "code",
   "execution_count": 434,
   "metadata": {},
   "outputs": [],
   "source": [
    "def unique_words(lista):\n",
    "    unq = set()\n",
    "    for letra in lista['lyric']:\n",
    "        sem_pontuacao = [ch for ch in letra if ch not in string.punctuation]\n",
    "        sem_pontuacao = ''.join(sem_pontuacao)\n",
    "        for palavra in sem_pontuacao.split():\n",
    "            unq.add(palavra)\n",
    "    return unq"
   ]
  },
  {
   "cell_type": "code",
   "execution_count": 435,
   "metadata": {},
   "outputs": [],
   "source": [
    "unq_funk = unique_words(lista_funk)\n",
    "unique_funk = len(unq_funk)"
   ]
  },
  {
   "cell_type": "code",
   "execution_count": 436,
   "metadata": {},
   "outputs": [],
   "source": [
    "unq_bossa_nova = unique_words(lista_bossa_nova)\n",
    "unique_bossa_nova = len(unq_bossa_nova)"
   ]
  },
  {
   "cell_type": "code",
   "execution_count": 437,
   "metadata": {},
   "outputs": [],
   "source": [
    "unq_gospel = unique_words(lista_gospel)\n",
    "unique_gospel = len(unq_gospel)"
   ]
  },
  {
   "cell_type": "code",
   "execution_count": 438,
   "metadata": {},
   "outputs": [],
   "source": [
    "unq_sertanejo = unique_words(lista_sertanejo)\n",
    "unique_sertanejo = len(unq_sertanejo)"
   ]
  },
  {
   "cell_type": "markdown",
   "metadata": {},
   "source": [
    "O DataFrame abaixo contém a quantidade de palavras únicas nos conjuntos de cada gênero"
   ]
  },
  {
   "cell_type": "code",
   "execution_count": 439,
   "metadata": {},
   "outputs": [
    {
     "data": {
      "text/html": [
       "<div>\n",
       "<style scoped>\n",
       "    .dataframe tbody tr th:only-of-type {\n",
       "        vertical-align: middle;\n",
       "    }\n",
       "\n",
       "    .dataframe tbody tr th {\n",
       "        vertical-align: top;\n",
       "    }\n",
       "\n",
       "    .dataframe thead th {\n",
       "        text-align: right;\n",
       "    }\n",
       "</style>\n",
       "<table border=\"1\" class=\"dataframe\">\n",
       "  <thead>\n",
       "    <tr style=\"text-align: right;\">\n",
       "      <th></th>\n",
       "      <th>unique</th>\n",
       "    </tr>\n",
       "    <tr>\n",
       "      <th>genero</th>\n",
       "      <th></th>\n",
       "    </tr>\n",
       "  </thead>\n",
       "  <tbody>\n",
       "    <tr>\n",
       "      <th>Funk</th>\n",
       "      <td>13228</td>\n",
       "    </tr>\n",
       "    <tr>\n",
       "      <th>Bossa nova</th>\n",
       "      <td>13545</td>\n",
       "    </tr>\n",
       "    <tr>\n",
       "      <th>Gospel</th>\n",
       "      <td>8961</td>\n",
       "    </tr>\n",
       "    <tr>\n",
       "      <th>Sertanejo</th>\n",
       "      <td>8961</td>\n",
       "    </tr>\n",
       "  </tbody>\n",
       "</table>\n",
       "</div>"
      ],
      "text/plain": [
       "            unique\n",
       "genero            \n",
       "Funk         13228\n",
       "Bossa nova   13545\n",
       "Gospel        8961\n",
       "Sertanejo     8961"
      ]
     },
     "execution_count": 439,
     "metadata": {},
     "output_type": "execute_result"
    }
   ],
   "source": [
    "a = ['Funk', 'Bossa nova', 'Gospel', 'Sertanejo']\n",
    "b = [unique_funk, unique_bossa_nova, unique_gospel, unique_gospel]\n",
    "\n",
    "unique_words_by_genre = pd.DataFrame()\n",
    "unique_words_by_genre['genero'] = a\n",
    "unique_words_by_genre['unique'] = b\n",
    "unique_words_by_genre.set_index('genero')"
   ]
  },
  {
   "cell_type": "markdown",
   "metadata": {},
   "source": [
    "Gráfico de barras representando a informação acima"
   ]
  },
  {
   "cell_type": "code",
   "execution_count": 444,
   "metadata": {},
   "outputs": [
    {
     "data": {
      "text/plain": [
       "Text(0.5, 1.0, 'Palavras únicas por gênero')"
      ]
     },
     "execution_count": 444,
     "metadata": {},
     "output_type": "execute_result"
    },
    {
     "data": {
      "image/png": "[encoded data removed]",
      "text/plain": [
       "<Figure size 432x288 with 1 Axes>"
      ]
     },
     "metadata": {
      "needs_background": "light"
     },
     "output_type": "display_data"
    }
   ],
   "source": [
    "fig2, ax2 = plt.subplots()\n",
    "ax2.bar(unique_words_by_genre['genero'], unique_words_by_genre['unique'])\n",
    "ax2.set_title('Palavras únicas por gênero')"
   ]
  },
  {
   "cell_type": "markdown",
   "metadata": {},
   "source": [
    "# Função para contar as palavras mais comuns (tirando as _stopwords_)"
   ]
  },
  {
   "cell_type": "code",
   "execution_count": 447,
   "metadata": {},
   "outputs": [],
   "source": [
    "def most_common_words(lista, n):\n",
    "    return col.Counter(\" \".join([plv.lower() for slst in lista['lyric'].apply(limpar_letra) for plv in slst]).split()).most_common(n)"
   ]
  },
  {
   "cell_type": "code",
   "execution_count": 450,
   "metadata": {},
   "outputs": [],
   "source": [
    "common_funk = most_common_words(lista_funk, 10)"
   ]
  },
  {
   "cell_type": "code",
   "execution_count": 471,
   "metadata": {},
   "outputs": [
    {
     "data": {
      "text/plain": [
       "Text(0.5, 1.0, 'Palavras mais comuns em letras de funk')"
      ]
     },
     "execution_count": 471,
     "metadata": {},
     "output_type": "execute_result"
    },
    {
     "data": {
      "image/png": "[encoded data removed]",
      "text/plain": [
       "<Figure size 432x288 with 1 Axes>"
      ]
     },
     "metadata": {
      "needs_background": "light"
     },
     "output_type": "display_data"
    }
   ],
   "source": [
    "fig3, ax3 = plt.subplots()\n",
    "ax3.bar([plv[0] for plv in common_funk], [plv[1] for plv in common_funk])\n",
    "ax3.set_title('Palavras mais comuns em letras de funk')"
   ]
  },
  {
   "cell_type": "code",
   "execution_count": 451,
   "metadata": {},
   "outputs": [],
   "source": [
    "common_bossa_nova = most_common_words(lista_bossa_nova, 10)"
   ]
  },
  {
   "cell_type": "code",
   "execution_count": 472,
   "metadata": {},
   "outputs": [
    {
     "data": {
      "text/plain": [
       "Text(0.5, 1.0, 'Palavras mais comuns em letras de bossa nova')"
      ]
     },
     "execution_count": 472,
     "metadata": {},
     "output_type": "execute_result"
    },
    {
     "data": {
      "image/png": "[encoded data removed]",
      "text/plain": [
       "<Figure size 432x288 with 1 Axes>"
      ]
     },
     "metadata": {
      "needs_background": "light"
     },
     "output_type": "display_data"
    }
   ],
   "source": [
    "fig4, ax4 = plt.subplots()\n",
    "ax4.bar([plv[0] for plv in common_bossa_nova], [plv[1] for plv in common_bossa_nova])\n",
    "ax4.set_title('Palavras mais comuns em letras de bossa nova')"
   ]
  },
  {
   "cell_type": "code",
   "execution_count": 452,
   "metadata": {},
   "outputs": [],
   "source": [
    "common_gospel = most_common_words(lista_gospel, 10)"
   ]
  },
  {
   "cell_type": "code",
   "execution_count": 474,
   "metadata": {},
   "outputs": [
    {
     "data": {
      "text/plain": [
       "Text(0.5, 1.0, 'Palavras mais comuns em letras de música gospel')"
      ]
     },
     "execution_count": 474,
     "metadata": {},
     "output_type": "execute_result"
    },
    {
     "data": {
      "image/png": "[encoded data removed]",
      "text/plain": [
       "<Figure size 432x288 with 1 Axes>"
      ]
     },
     "metadata": {
      "needs_background": "light"
     },
     "output_type": "display_data"
    }
   ],
   "source": [
    "fig5, ax5 = plt.subplots()\n",
    "ax5.bar([plv[0] for plv in common_gospel], [plv[1] for plv in common_gospel])\n",
    "ax5.set_title('Palavras mais comuns em letras de música gospel')"
   ]
  },
  {
   "cell_type": "code",
   "execution_count": 453,
   "metadata": {},
   "outputs": [],
   "source": [
    "common_sertanejo = most_common_words(lista_sertanejo, 10)"
   ]
  },
  {
   "cell_type": "code",
   "execution_count": 477,
   "metadata": {},
   "outputs": [
    {
     "data": {
      "text/plain": [
       "Text(0.5, 1.0, 'Palavras mais comuns em letras de música sertaneja')"
      ]
     },
     "execution_count": 477,
     "metadata": {},
     "output_type": "execute_result"
    },
    {
     "data": {
      "image/png": "[encoded data removed]",
      "text/plain": [
       "<Figure size 432x288 with 1 Axes>"
      ]
     },
     "metadata": {
      "needs_background": "light"
     },
     "output_type": "display_data"
    }
   ],
   "source": [
    "fig6, ax6 = plt.subplots()\n",
    "ax6.bar([plv[0] for plv in common_sertanejo], [plv[1] for plv in common_sertanejo])\n",
    "ax6.set_title('Palavras mais comuns em letras de música sertaneja')"
   ]
  },
  {
   "cell_type": "markdown",
   "metadata": {},
   "source": [
    "A quantidade de palavras por música, assim como a unicidade de palavras nas músicas de cada gênero, podem ser bons indicadores para a classificação de gêneros musicais."
   ]
  },
  {
   "cell_type": "markdown",
   "metadata": {},
   "source": [
    "# Função para remover pontuação e palavras comuns"
   ]
  },
  {
   "cell_type": "code",
   "execution_count": 8,
   "metadata": {},
   "outputs": [],
   "source": [
    "import string\n",
    "from nltk.corpus import stopwords"
   ]
  },
  {
   "cell_type": "markdown",
   "metadata": {},
   "source": [
    "_stopwords.words('portuguese')_ contém diversas palavras bastante comuns na lingua portuguesa que podem atrapalhar o trabalho de classificação. Alguns exemplos:"
   ]
  },
  {
   "cell_type": "code",
   "execution_count": 431,
   "metadata": {},
   "outputs": [
    {
     "data": {
      "text/plain": [
       "['de',\n",
       " 'a',\n",
       " 'o',\n",
       " 'que',\n",
       " 'e',\n",
       " 'do',\n",
       " 'da',\n",
       " 'em',\n",
       " 'um',\n",
       " 'para',\n",
       " 'com',\n",
       " 'não',\n",
       " 'uma',\n",
       " 'os',\n",
       " 'no',\n",
       " 'se',\n",
       " 'na',\n",
       " 'por',\n",
       " 'mais',\n",
       " 'as']"
      ]
     },
     "execution_count": 431,
     "metadata": {},
     "output_type": "execute_result"
    }
   ],
   "source": [
    "stopwords.words('portuguese')[:20]"
   ]
  },
  {
   "cell_type": "code",
   "execution_count": 9,
   "metadata": {},
   "outputs": [],
   "source": [
    "def limpar_letra(letra):\n",
    "    sem_pontuacao = [ch for ch in letra if ch not in string.punctuation]\n",
    "    sem_pontuacao = ''.join(sem_pontuacao)\n",
    "    return [plv for plv in sem_pontuacao.split() if plv.lower() not in stopwords.words('portuguese')]"
   ]
  },
  {
   "cell_type": "code",
   "execution_count": 102,
   "metadata": {},
   "outputs": [
    {
     "data": {
      "text/plain": [
       "['Testando', 'frase', 'pontuação', 'removendo', 'stopwords']"
      ]
     },
     "execution_count": 102,
     "metadata": {},
     "output_type": "execute_result"
    }
   ],
   "source": [
    "limpar_letra('Testando! Essa frase tem pontuação, removendo elas e as stopwords...')"
   ]
  },
  {
   "cell_type": "markdown",
   "metadata": {},
   "source": [
    "Trabalha em cima da lista de músicas aplicando a função **limpar_letra**, retornando uma lista no mesmo formato"
   ]
  },
  {
   "cell_type": "code",
   "execution_count": 307,
   "metadata": {},
   "outputs": [],
   "source": [
    "lista_limpa = pd.DataFrame([' '.join(plv) for plv in lista_musicas['lyric'].apply(limpar_letra)], columns=['lyric'])['lyric']"
   ]
  },
  {
   "cell_type": "markdown",
   "metadata": {},
   "source": [
    "# Divisão da lista de músicas já limpa numa proporção 20/80 para teste e treinamento, respectivamente "
   ]
  },
  {
   "cell_type": "code",
   "execution_count": 382,
   "metadata": {},
   "outputs": [
    {
     "name": "stdout",
     "output_type": "stream",
     "text": [
      "Treino:  2560 \n",
      "Teste:  640 \n",
      "Total:  3200\n"
     ]
    }
   ],
   "source": [
    "from sklearn.model_selection import train_test_split\n",
    "\n",
    "musica_train, musica_test, label_train, label_test = \\\n",
    "train_test_split(lista_limpa, lista_musicas['genero'], test_size=0.2)\n",
    "\n",
    "print('Treino: ', len(musica_train), '\\nTeste: ', len(musica_test), '\\nTotal: ', len(musica_train) + len(musica_test))"
   ]
  },
  {
   "cell_type": "markdown",
   "metadata": {},
   "source": [
    "# Vetorização"
   ]
  },
  {
   "cell_type": "markdown",
   "metadata": {},
   "source": [
    "Cálculo das ocorrências de palavras nas letras de músicas"
   ]
  },
  {
   "cell_type": "code",
   "execution_count": 383,
   "metadata": {},
   "outputs": [],
   "source": [
    "from sklearn.feature_extraction.text import CountVectorizer"
   ]
  },
  {
   "cell_type": "code",
   "execution_count": 384,
   "metadata": {},
   "outputs": [],
   "source": [
    "bow_transformer = CountVectorizer().fit(musica_train)"
   ]
  },
  {
   "cell_type": "code",
   "execution_count": 385,
   "metadata": {},
   "outputs": [],
   "source": [
    "bow_musicas = bow_transformer.transform(musica_train)"
   ]
  },
  {
   "cell_type": "markdown",
   "metadata": {},
   "source": [
    "Cálculo do peso TF-IDF (_Term frequency - Inverse document frequency_) para verificar a importância de cada palavra no _corpus_"
   ]
  },
  {
   "cell_type": "code",
   "execution_count": 386,
   "metadata": {},
   "outputs": [],
   "source": [
    "from sklearn.feature_extraction.text import TfidfTransformer"
   ]
  },
  {
   "cell_type": "code",
   "execution_count": 387,
   "metadata": {},
   "outputs": [],
   "source": [
    "tfidf_transformer = TfidfTransformer().fit(bow_musicas)"
   ]
  },
  {
   "cell_type": "code",
   "execution_count": 388,
   "metadata": {},
   "outputs": [],
   "source": [
    "tfidf_musicas = tfidf_transformer.transform(bow_musicas)"
   ]
  },
  {
   "cell_type": "markdown",
   "metadata": {},
   "source": [
    "Este processo gera uma matriz esparsa:\n"
   ]
  },
  {
   "cell_type": "code",
   "execution_count": 411,
   "metadata": {},
   "outputs": [
    {
     "name": "stdout",
     "output_type": "stream",
     "text": [
      "Esparsidade: 0.0025477215842167255\n"
     ]
    }
   ],
   "source": [
    "Esparsidade = (bow_musicas.nnz / (bow_musicas.shape[0] * bow_musicas.shape[1]))\n",
    "print('Esparsidade: {}'.format(sparsity))"
   ]
  },
  {
   "cell_type": "markdown",
   "metadata": {},
   "source": [
    "# Treinamento dos modelos e resultados dos testes"
   ]
  },
  {
   "cell_type": "markdown",
   "metadata": {},
   "source": [
    "Aqui é realizado o treinamento do modelo com a partição de treinamento, assim como a predição, feita com a partição de testes.\n",
    "Os resultados são exibidos no _classification report_, logo abaixo de cada seção"
   ]
  },
  {
   "cell_type": "markdown",
   "metadata": {},
   "source": [
    "O primeiro modelo foi o _Logistic Regression_"
   ]
  },
  {
   "cell_type": "code",
   "execution_count": 390,
   "metadata": {},
   "outputs": [
    {
     "name": "stdout",
     "output_type": "stream",
     "text": [
      "              precision    recall  f1-score   support\n",
      "\n",
      "  Bossa nova       0.90      0.82      0.86       159\n",
      "        Funk       0.85      0.90      0.88       145\n",
      "      Gospel       0.95      0.93      0.94       175\n",
      "   Sertanejo       0.77      0.81      0.79       161\n",
      "\n",
      "   micro avg       0.87      0.87      0.87       640\n",
      "   macro avg       0.87      0.87      0.87       640\n",
      "weighted avg       0.87      0.87      0.87       640\n",
      "\n"
     ]
    }
   ],
   "source": [
    "from sklearn.linear_model import LogisticRegression\n",
    "mnb = LogisticRegression(random_state=0, solver='lbfgs', multi_class='multinomial')\n",
    "mnb.fit(tfidf_musicas, label_train)\n",
    "predicaomnb = mnb.predict(tfidf_transformer.transform(bow_transformer.transform(musica_test)))\n",
    "print(classification_report(predicaomnb, label_test))"
   ]
  },
  {
   "cell_type": "markdown",
   "metadata": {},
   "source": [
    "O segundo, que apresentou resultados ligeiramente melhores, foi o _C-Support Vector Classification_"
   ]
  },
  {
   "cell_type": "code",
   "execution_count": 426,
   "metadata": {},
   "outputs": [
    {
     "name": "stdout",
     "output_type": "stream",
     "text": [
      "              precision    recall  f1-score   support\n",
      "\n",
      "  Bossa nova       0.90      0.81      0.85       161\n",
      "        Funk       0.86      0.92      0.89       144\n",
      "      Gospel       0.92      0.95      0.93       164\n",
      "   Sertanejo       0.82      0.82      0.82       171\n",
      "\n",
      "   micro avg       0.88      0.88      0.88       640\n",
      "   macro avg       0.88      0.88      0.88       640\n",
      "weighted avg       0.88      0.88      0.87       640\n",
      "\n"
     ]
    }
   ],
   "source": [
    "from sklearn.svm import SVC\n",
    "svc = SVC(gamma='scale', probability=False)\n",
    "svc.fit(tfidf_musicas, label_train)\n",
    "predicao = svc.predict(tfidf_transformer.transform(bow_transformer.transform(musica_test)))\n",
    "print(classification_report(predicao,label_test))"
   ]
  },
  {
   "cell_type": "markdown",
   "metadata": {},
   "source": [
    "**_precision_** avalia a proporção entre **real_positivos / (real_positivos + falso_positivos)**"
   ]
  },
  {
   "cell_type": "markdown",
   "metadata": {},
   "source": [
    "**_recall_** avalia a proporção entre **real_positivos / (real_positivos + falso_negativos)**"
   ]
  },
  {
   "cell_type": "markdown",
   "metadata": {},
   "source": [
    "Acurácia do modelo:"
   ]
  },
  {
   "cell_type": "code",
   "execution_count": 430,
   "metadata": {},
   "outputs": [
    {
     "name": "stdout",
     "output_type": "stream",
     "text": [
      "Accuracy score: 0.875\n"
     ]
    }
   ],
   "source": [
    "print('Accuracy score: {}'.format(accuracy_score(predicao, label_test)))"
   ]
  },
  {
   "cell_type": "markdown",
   "metadata": {},
   "source": [
    "Abaixo, a matriz de confusão do modelo _svc_"
   ]
  },
  {
   "cell_type": "code",
   "execution_count": 424,
   "metadata": {},
   "outputs": [
    {
     "data": {
      "text/plain": [
       "array([[131,   3,   9,  18],\n",
       "       [  4, 133,   2,   5],\n",
       "       [  1,   0, 156,   7],\n",
       "       [ 10,  18,   3, 140]], dtype=int64)"
      ]
     },
     "execution_count": 424,
     "metadata": {},
     "output_type": "execute_result"
    }
   ],
   "source": [
    "cfs_mat = confusion_matrix(predicao, label_test)\n",
    "cfs_mat"
   ]
  },
  {
   "cell_type": "code",
   "execution_count": 422,
   "metadata": {},
   "outputs": [
    {
     "data": {
      "text/plain": [
       "<matplotlib.axes._subplots.AxesSubplot at 0x1aa888b0>"
      ]
     },
     "execution_count": 422,
     "metadata": {},
     "output_type": "execute_result"
    },
    {
     "data": {
      "image/png": "[encoded data removed]",
      "text/plain": [
       "<Figure size 432x360 with 2 Axes>"
      ]
     },
     "metadata": {
      "needs_background": "light"
     },
     "output_type": "display_data"
    }
   ],
   "source": [
    "df_cm = pd.DataFrame(cfs_mat, index = [i for i in ['Bossa nova', 'Funk', 'Gospel', 'Sertanejo']],\n",
    "                  columns = [i for i in ['Bossa nova', 'Funk', 'Gospel', 'Sertanejo']])\n",
    "plt.figure(figsize = (6,5))\n",
    "sn.heatmap(df_cm, annot=True)"
   ]
  },
  {
   "cell_type": "markdown",
   "metadata": {},
   "source": [
    "# Foi usado o _pickle_ para exportar os modelos para o projeto _flask_"
   ]
  },
  {
   "cell_type": "code",
   "execution_count": 393,
   "metadata": {},
   "outputs": [],
   "source": [
    "pickle.dump(bow_transformer, open('bow_transf.pkl', 'wb'))\n",
    "pickle.dump(tfidf_transformer, open('tfidf_transf.pkl', 'wb'))\n",
    "pickle.dump(svc, open('modelo_svc.pkl', 'wb'))"
   ]
  },
  {
   "cell_type": "markdown",
   "metadata": {},
   "source": [
    "# Uso do _pipeline_ para simplificar o processo"
   ]
  },
  {
   "cell_type": "code",
   "execution_count": 79,
   "metadata": {},
   "outputs": [],
   "source": [
    "from sklearn.pipeline import Pipeline\n",
    "\n",
    "pipeline = Pipeline([\n",
    "    ('bow', CountVectorizer(analyzer=limpar_letra)),\n",
    "    ('tfidf', TfidfTransformer()),\n",
    "    ('clf', SVC(gamma='scale')),\n",
    "])"
   ]
  }
 ],
 "metadata": {
  "kernelspec": {
   "display_name": "Python 3",
   "language": "python",
   "name": "python3"
  },
  "language_info": {
   "codemirror_mode": {
    "name": "ipython",
    "version": 3
   },
   "file_extension": ".py",
   "mimetype": "text/x-python",
   "name": "python",
   "nbconvert_exporter": "python",
   "pygments_lexer": "ipython3",
   "version": "3.7.3"
  }
 },
 "nbformat": 4,
 "nbformat_minor": 2
}
