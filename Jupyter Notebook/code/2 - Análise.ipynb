{
 "cells": [
  {
   "cell_type": "code",
   "execution_count": 1,
   "metadata": {},
   "outputs": [],
   "source": [
    "import pickle as pkl\n",
    "import seaborn as sns\n",
    "import matplotlib.pyplot as plt\n",
    "import re\n",
    "import pandas as pd\n",
    "import numpy as np\n",
    "import os\n",
    "import seaborn as sns\n",
    "import matplotlib.pyplot as plt\n",
    "import math\n",
    "\n",
    "from tqdm import tqdm_notebook\n",
    "from collections import Counter\n",
    "from glob import glob\n",
    "\n",
    "%matplotlib inline\n",
    "\n",
    "sns.set(style=\"darkgrid\")"
   ]
  },
  {
   "cell_type": "code",
   "execution_count": 2,
   "metadata": {},
   "outputs": [],
   "source": [
    "PATH = '../'\n",
    "\n",
    "PROCESSED_DATA_PATH = os.path.join(PATH, 'data/processed/')\n",
    "\n",
    "DF_FAKE_PATH = glob(PROCESSED_DATA_PATH + '*')[0]\n",
    "DF_LEGIT_PATH = glob(PROCESSED_DATA_PATH + '*')[1]"
   ]
  },
  {
   "cell_type": "code",
   "execution_count": 3,
   "metadata": {},
   "outputs": [],
   "source": [
    "df_fake = pkl.load(open(DF_FAKE_PATH, 'rb'))\n",
    "\n",
    "df_legit = pkl.load(open(DF_LEGIT_PATH, 'rb'))"
   ]
  },
  {
   "cell_type": "code",
   "execution_count": 4,
   "metadata": {},
   "outputs": [],
   "source": [
    "df = pd.concat((df_fake, df_legit), axis=0)"
   ]
  },
  {
   "cell_type": "code",
   "execution_count": 5,
   "metadata": {},
   "outputs": [],
   "source": [
    "classes = [True, False]"
   ]
  },
  {
   "cell_type": "code",
   "execution_count": 6,
   "metadata": {},
   "outputs": [],
   "source": [
    "df['TEXT_LEN_CHAR'] = df['TEXT_CLEAN'].apply(len)\n",
    "df['TEXT_LEN_TOKEN'] = df['TEXT_CLEAN'].apply(str.split).apply(len)\n",
    "df['TITLE_LEN_CHAR'] = df['TITLE_CLEAN'].apply(len)\n",
    "df['TITLE_LEN_TOKEN'] = df['TITLE_CLEAN'].apply(str.split).apply(len)"
   ]
  },
  {
   "cell_type": "code",
   "execution_count": 7,
   "metadata": {},
   "outputs": [
    {
     "data": {
      "text/html": [
       "<div>\n",
       "<style scoped>\n",
       "    .dataframe tbody tr th:only-of-type {\n",
       "        vertical-align: middle;\n",
       "    }\n",
       "\n",
       "    .dataframe tbody tr th {\n",
       "        vertical-align: top;\n",
       "    }\n",
       "\n",
       "    .dataframe thead th {\n",
       "        text-align: right;\n",
       "    }\n",
       "</style>\n",
       "<table border=\"1\" class=\"dataframe\">\n",
       "  <thead>\n",
       "    <tr style=\"text-align: right;\">\n",
       "      <th></th>\n",
       "      <th>DATE</th>\n",
       "      <th>FAKE</th>\n",
       "      <th>TEXT_CLEAN</th>\n",
       "      <th>TITLE_CLEAN</th>\n",
       "      <th>TEXT_LEN_CHAR</th>\n",
       "      <th>TEXT_LEN_TOKEN</th>\n",
       "      <th>TITLE_LEN_CHAR</th>\n",
       "      <th>TITLE_LEN_TOKEN</th>\n",
       "    </tr>\n",
       "  </thead>\n",
       "  <tbody>\n",
       "    <tr>\n",
       "      <th>0</th>\n",
       "      <td>26/04/2019</td>\n",
       "      <td>True</td>\n",
       "      <td>comica nojenta cena aconteceu ultima terca fei...</td>\n",
       "      <td>maria rosario perde dentadura durante votacao ...</td>\n",
       "      <td>262</td>\n",
       "      <td>32</td>\n",
       "      <td>72</td>\n",
       "      <td>9</td>\n",
       "    </tr>\n",
       "    <tr>\n",
       "      <th>1</th>\n",
       "      <td>22/04/2019</td>\n",
       "      <td>True</td>\n",
       "      <td>finalmente professoraheleypresente reuniao min...</td>\n",
       "      <td>bolsonaro condecorou professora heley abreu he...</td>\n",
       "      <td>739</td>\n",
       "      <td>82</td>\n",
       "      <td>60</td>\n",
       "      <td>7</td>\n",
       "    </tr>\n",
       "    <tr>\n",
       "      <th>2</th>\n",
       "      <td>24/04/2019</td>\n",
       "      <td>True</td>\n",
       "      <td>audiencia ser grande hoje horario brasilia rec...</td>\n",
       "      <td>hoje record vai entrevistar bolsonaro minutos</td>\n",
       "      <td>163</td>\n",
       "      <td>21</td>\n",
       "      <td>45</td>\n",
       "      <td>6</td>\n",
       "    </tr>\n",
       "    <tr>\n",
       "      <th>3</th>\n",
       "      <td>25/04/2019</td>\n",
       "      <td>True</td>\n",
       "      <td>ibaneis rocha governador distrito federal fica...</td>\n",
       "      <td>ibaneis rocha governador viaja bebado vexame a...</td>\n",
       "      <td>1053</td>\n",
       "      <td>131</td>\n",
       "      <td>50</td>\n",
       "      <td>7</td>\n",
       "    </tr>\n",
       "    <tr>\n",
       "      <th>4</th>\n",
       "      <td>21/04/2019</td>\n",
       "      <td>True</td>\n",
       "      <td>mandou dinheiro narcotrafico rio farc sequestr...</td>\n",
       "      <td>marcelo odebrecht diz governo deu dinheiro tra...</td>\n",
       "      <td>430</td>\n",
       "      <td>49</td>\n",
       "      <td>63</td>\n",
       "      <td>9</td>\n",
       "    </tr>\n",
       "  </tbody>\n",
       "</table>\n",
       "</div>"
      ],
      "text/plain": [
       "         DATE  FAKE                                         TEXT_CLEAN  \\\n",
       "0  26/04/2019  True  comica nojenta cena aconteceu ultima terca fei...   \n",
       "1  22/04/2019  True  finalmente professoraheleypresente reuniao min...   \n",
       "2  24/04/2019  True  audiencia ser grande hoje horario brasilia rec...   \n",
       "3  25/04/2019  True  ibaneis rocha governador distrito federal fica...   \n",
       "4  21/04/2019  True  mandou dinheiro narcotrafico rio farc sequestr...   \n",
       "\n",
       "                                         TITLE_CLEAN  TEXT_LEN_CHAR  \\\n",
       "0  maria rosario perde dentadura durante votacao ...            262   \n",
       "1  bolsonaro condecorou professora heley abreu he...            739   \n",
       "2      hoje record vai entrevistar bolsonaro minutos            163   \n",
       "3  ibaneis rocha governador viaja bebado vexame a...           1053   \n",
       "4  marcelo odebrecht diz governo deu dinheiro tra...            430   \n",
       "\n",
       "   TEXT_LEN_TOKEN  TITLE_LEN_CHAR  TITLE_LEN_TOKEN  \n",
       "0              32              72                9  \n",
       "1              82              60                7  \n",
       "2              21              45                6  \n",
       "3             131              50                7  \n",
       "4              49              63                9  "
      ]
     },
     "execution_count": 7,
     "metadata": {},
     "output_type": "execute_result"
    }
   ],
   "source": [
    "df.head()"
   ]
  },
  {
   "cell_type": "code",
   "execution_count": null,
   "metadata": {},
   "outputs": [],
   "source": []
  },
  {
   "cell_type": "code",
   "execution_count": 8,
   "metadata": {},
   "outputs": [
    {
     "data": {
      "application/vnd.jupyter.widget-view+json": {
       "model_id": "860708404d7c4df398ba25468fab40d6",
       "version_major": 2,
       "version_minor": 0
      },
      "text/plain": [
       "HBox(children=(IntProgress(value=0, max=2), HTML(value='')))"
      ]
     },
     "metadata": {},
     "output_type": "display_data"
    },
    {
     "data": {
      "application/vnd.jupyter.widget-view+json": {
       "model_id": "eef9d50f49384918addd93193eb82beb",
       "version_major": 2,
       "version_minor": 0
      },
      "text/plain": [
       "HBox(children=(IntProgress(value=0, max=1153), HTML(value='')))"
      ]
     },
     "metadata": {},
     "output_type": "display_data"
    },
    {
     "data": {
      "application/vnd.jupyter.widget-view+json": {
       "model_id": "d527035eb76e41e899f2aa4713866c75",
       "version_major": 2,
       "version_minor": 0
      },
      "text/plain": [
       "HBox(children=(IntProgress(value=0, max=15705), HTML(value='')))"
      ]
     },
     "metadata": {},
     "output_type": "display_data"
    },
    {
     "name": "stdout",
     "output_type": "stream",
     "text": [
      "\n"
     ]
    }
   ],
   "source": [
    "all_cnt = {}\n",
    "for key in tqdm_notebook(classes):\n",
    "    cnt = Counter()\n",
    "    for text in tqdm_notebook(df[df['FAKE'] == key]['TEXT_CLEAN']):\n",
    "        cnt += Counter(set(str(text).split()))\n",
    "\n",
    "    all_cnt[key] = cnt.most_common()"
   ]
  },
  {
   "cell_type": "code",
   "execution_count": 9,
   "metadata": {},
   "outputs": [],
   "source": [
    "def get_from_sublist(wrd, counter):\n",
    "    lst = [elem[0] for elem in counter]\n",
    "    if wrd in lst:\n",
    "        return True, counter[lst.index(wrd)][1]\n",
    "    return False, -1\n",
    "        "
   ]
  },
  {
   "cell_type": "code",
   "execution_count": 10,
   "metadata": {
    "scrolled": true
   },
   "outputs": [
    {
     "name": "stdout",
     "output_type": "stream",
     "text": [
      "========== True ========== \n",
      "BRASIL: 307/1153 (26.63%)\n",
      " - 5447 documentos em False\n",
      "\n",
      "PRESIDENTE: 254/1153 (22.03%)\n",
      " - 10910 documentos em False\n",
      "\n",
      "LULA: 241/1153 (20.9%)\n",
      " - 2239 documentos em False\n",
      "\n",
      "BOLSONARO: 224/1153 (19.43%)\n",
      " - 1891 documentos em False\n",
      "\n",
      "SER: 216/1153 (18.73%)\n",
      " - 10884 documentos em False\n",
      "\n",
      "BOATO: 207/1153 (17.95%)\n",
      " - 35 documentos em False\n",
      "\n",
      "VAI: 190/1153 (16.48%)\n",
      " - 4732 documentos em False\n",
      "\n",
      "DIZ: 176/1153 (15.26%)\n",
      " - 4657 documentos em False\n",
      "\n",
      "DILMA: 164/1153 (14.22%)\n",
      " - 3084 documentos em False\n",
      "\n",
      "TODOS: 154/1153 (13.36%)\n",
      " - 6263 documentos em False\n",
      "\n",
      "\n",
      "========== False ========== \n",
      "PRESIDENTE: 10910/15705 (69.47%)\n",
      " - 254 documentos em True\n",
      "\n",
      "SER: 10884/15705 (69.3%)\n",
      " - 216 documentos em True\n",
      "\n",
      "SOBRE: 9940/15705 (63.29%)\n",
      " - 140 documentos em True\n",
      "\n",
      "FEIRA: 9537/15705 (60.73%)\n",
      " - 65 documentos em True\n",
      "\n",
      "GOVERNO: 9461/15705 (60.24%)\n",
      " - 131 documentos em True\n",
      "\n",
      "PAIS: 9100/15705 (57.94%)\n",
      " - 140 documentos em True\n",
      "\n",
      "SEGUNDO: 9086/15705 (57.85%)\n",
      " - 85 documentos em True\n",
      "\n",
      "AINDA: 9065/15705 (57.72%)\n",
      " - 107 documentos em True\n",
      "\n",
      "ANOS: 8823/15705 (56.18%)\n",
      " - 116 documentos em True\n",
      "\n",
      "CONTRA: 8089/15705 (51.51%)\n",
      " - 141 documentos em True\n",
      "\n",
      "\n"
     ]
    }
   ],
   "source": [
    "n = 10\n",
    "for key1 in all_cnt:\n",
    "    print('========== {} ========== '.format(key1))\n",
    "    total = len(df[df['FAKE'] == key1]['TEXT_CLEAN'])\n",
    "    for wrd in all_cnt[key1][:n]:\n",
    "        print('{}: {}/{} ({}%)'.format(wrd[0].upper(), wrd[1], total, round(wrd[1]/total * 100, 2)))\n",
    "        lst = []\n",
    "        for key2 in all_cnt:\n",
    "            cond, val = get_from_sublist(wrd[0], all_cnt[key2])\n",
    "            if key1 != key2 and cond:\n",
    "                lst.append((wrd[0], val, key2))\n",
    "        for item in sorted(lst, key=lambda x: -x[1]):\n",
    "            print(' - {} documentos em {}'.format(item[1], item[2]))\n",
    "                \n",
    "        print()\n",
    "    print()"
   ]
  },
  {
   "cell_type": "code",
   "execution_count": null,
   "metadata": {},
   "outputs": [],
   "source": []
  },
  {
   "cell_type": "code",
   "execution_count": 11,
   "metadata": {},
   "outputs": [],
   "source": [
    "def get_size(cls):\n",
    "    return len(df[df['FAKE'] == cls])"
   ]
  },
  {
   "cell_type": "code",
   "execution_count": 12,
   "metadata": {
    "scrolled": false
   },
   "outputs": [
    {
     "name": "stdout",
     "output_type": "stream",
     "text": [
      "1000\n",
      "10\n"
     ]
    },
    {
     "data": {
      "image/png": "[encoded data removed]",
      "text/plain": [
       "<Figure size 1080x720 with 2 Axes>"
      ]
     },
     "metadata": {
      "needs_background": "light"
     },
     "output_type": "display_data"
    }
   ],
   "source": [
    "\n",
    "fig, ax = plt.subplots(2, 1, figsize=(15, 10))\n",
    "fig.subplots_adjust(top=1.4)\n",
    "for i, cls in enumerate(sorted(classes, key=get_size, reverse=True)):\n",
    "#     n_bins = 2 * len(set(df[df['FAKE'] == cls]['TEXT_LEN_TOKEN'].apply(lambda x: round(x / 100) * 100)))\n",
    "    n_bins = 50\n",
    "    x_min = math.floor(min(df[df['FAKE'] == cls]['TEXT_LEN_TOKEN']) / 100) * 100\n",
    "    x_max = math.ceil(max(df[df['FAKE'] == cls]['TEXT_LEN_TOKEN']) / 100) * 100\n",
    "    x_step = int(math.pow(10, math.ceil(math.log(math.floor((x_max - x_min) / 100), 10))))\n",
    "    print(x_step)\n",
    "    ax[i].set(xlim=(x_min, x_max))\n",
    "    ax[i].hist(df[df['FAKE'] == cls]['TEXT_LEN_TOKEN'], bins=n_bins, align='mid')\n",
    "    ax[i].set_xticklabels(range(x_min, x_max, x_step), rotation=90)\n",
    "    \n",
    "    ax[i].set_title('Tamanho do Corpus - {}'.format(cls))\n",
    "    ax[i].set_xlabel('Número de tokens (por documento)');\n",
    "    ax[i].set_ylabel('Número total de documentos');"
   ]
  },
  {
   "cell_type": "code",
   "execution_count": 16,
   "metadata": {},
   "outputs": [
    {
     "data": {
      "text/plain": [
       "3"
      ]
     },
     "execution_count": 16,
     "metadata": {},
     "output_type": "execute_result"
    }
   ],
   "source": [
    "min(df_fake['TEXT_CLEAN'].apply(str.split).apply(len))"
   ]
  },
  {
   "cell_type": "code",
   "execution_count": 23,
   "metadata": {},
   "outputs": [
    {
     "data": {
      "text/plain": [
       "54.93235039028621"
      ]
     },
     "execution_count": 23,
     "metadata": {},
     "output_type": "execute_result"
    }
   ],
   "source": [
    "df_fake['TEXT_CLEAN'].apply(str.split).apply(len).mean()"
   ]
  },
  {
   "cell_type": "code",
   "execution_count": 14,
   "metadata": {},
   "outputs": [
    {
     "data": {
      "text/plain": [
       "'maria rosario perde dentadura durante votacao reforma previdencia camara'"
      ]
     },
     "execution_count": 14,
     "metadata": {},
     "output_type": "execute_result"
    }
   ],
   "source": [
    "df_fake['TITLE_CLEAN'][0]"
   ]
  },
  {
   "cell_type": "code",
   "execution_count": null,
   "metadata": {},
   "outputs": [],
   "source": []
  },
  {
   "cell_type": "code",
   "execution_count": null,
   "metadata": {},
   "outputs": [],
   "source": []
  }
 ],
 "metadata": {
  "kernelspec": {
   "display_name": "Python 3",
   "language": "python",
   "name": "python3"
  },
  "language_info": {
   "codemirror_mode": {
    "name": "ipython",
    "version": 3
   },
   "file_extension": ".py",
   "mimetype": "text/x-python",
   "name": "python",
   "nbconvert_exporter": "python",
   "pygments_lexer": "ipython3",
   "version": "3.7.3"
  }
 },
 "nbformat": 4,
 "nbformat_minor": 2
}
