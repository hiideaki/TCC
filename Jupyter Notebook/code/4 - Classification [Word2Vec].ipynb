{
 "cells": [
  {
   "cell_type": "code",
   "execution_count": 1,
   "metadata": {},
   "outputs": [],
   "source": [
    "import pandas as pd\n",
    "import re\n",
    "from collections import defaultdict\n",
    "import spacy\n",
    "from glob import glob\n",
    "import unidecode\n",
    "import os\n",
    "import string\n",
    "import numpy as np\n",
    "import pickle as pkl\n",
    "from nltk.corpus import stopwords\n",
    "from nltk.stem.snowball import SnowballStemmer\n",
    "import pickle as pkl\n",
    "\n",
    "import warnings\n",
    "warnings.filterwarnings(\"ignore\")"
   ]
  },
  {
   "cell_type": "markdown",
   "metadata": {},
   "source": [
    "# Text pre-processing"
   ]
  },
  {
   "cell_type": "code",
   "execution_count": 2,
   "metadata": {
    "scrolled": true
   },
   "outputs": [
    {
     "data": {
      "text/html": [
       "<div>\n",
       "<style scoped>\n",
       "    .dataframe tbody tr th:only-of-type {\n",
       "        vertical-align: middle;\n",
       "    }\n",
       "\n",
       "    .dataframe tbody tr th {\n",
       "        vertical-align: top;\n",
       "    }\n",
       "\n",
       "    .dataframe thead th {\n",
       "        text-align: right;\n",
       "    }\n",
       "</style>\n",
       "<table border=\"1\" class=\"dataframe\">\n",
       "  <thead>\n",
       "    <tr style=\"text-align: right;\">\n",
       "      <th></th>\n",
       "      <th>DATE</th>\n",
       "      <th>y</th>\n",
       "      <th>X</th>\n",
       "      <th>TITLE_CLEAN</th>\n",
       "      <th>TEXT_LEN_CHAR</th>\n",
       "      <th>TEXT_LEN_TOKEN</th>\n",
       "      <th>TITLE_LEN_CHAR</th>\n",
       "      <th>TITLE_LEN_TOKEN</th>\n",
       "    </tr>\n",
       "  </thead>\n",
       "  <tbody>\n",
       "    <tr>\n",
       "      <th>0</th>\n",
       "      <td>03/08/2019</td>\n",
       "      <td>1</td>\n",
       "      <td>vamos assinar peticao cassacao mandato bolsona...</td>\n",
       "      <td>peticao impeachment bolsonaro precisa milhoes ...</td>\n",
       "      <td>328</td>\n",
       "      <td>36</td>\n",
       "      <td>81</td>\n",
       "      <td>9</td>\n",
       "    </tr>\n",
       "    <tr>\n",
       "      <th>1</th>\n",
       "      <td>04/08/2019</td>\n",
       "      <td>1</td>\n",
       "      <td>lula vitima golpe politico merece estar preso ...</td>\n",
       "      <td>peticao lula livre contribui liberdade preside...</td>\n",
       "      <td>242</td>\n",
       "      <td>30</td>\n",
       "      <td>54</td>\n",
       "      <td>7</td>\n",
       "    </tr>\n",
       "    <tr>\n",
       "      <th>2</th>\n",
       "      <td>05/08/2019</td>\n",
       "      <td>1</td>\n",
       "      <td>professor contou dilma matou mario kozel filho...</td>\n",
       "      <td>mario kozel filho assassinado dilma tiros</td>\n",
       "      <td>170</td>\n",
       "      <td>24</td>\n",
       "      <td>41</td>\n",
       "      <td>6</td>\n",
       "    </tr>\n",
       "    <tr>\n",
       "      <th>3</th>\n",
       "      <td>03/08/2019</td>\n",
       "      <td>1</td>\n",
       "      <td>vergonha presidente oab mentiu pai morto milit...</td>\n",
       "      <td>felipe santa cruz presidente oab mentiu sobre ...</td>\n",
       "      <td>158</td>\n",
       "      <td>25</td>\n",
       "      <td>82</td>\n",
       "      <td>13</td>\n",
       "    </tr>\n",
       "    <tr>\n",
       "      <th>4</th>\n",
       "      <td>06/08/2019</td>\n",
       "      <td>1</td>\n",
       "      <td>partido diabolico bandidos abrindo buracos est...</td>\n",
       "      <td>esquerda abrindo buracos estradas nordeste con...</td>\n",
       "      <td>155</td>\n",
       "      <td>19</td>\n",
       "      <td>59</td>\n",
       "      <td>7</td>\n",
       "    </tr>\n",
       "  </tbody>\n",
       "</table>\n",
       "</div>"
      ],
      "text/plain": [
       "         DATE  y                                                  X  \\\n",
       "0  03/08/2019  1  vamos assinar peticao cassacao mandato bolsona...   \n",
       "1  04/08/2019  1  lula vitima golpe politico merece estar preso ...   \n",
       "2  05/08/2019  1  professor contou dilma matou mario kozel filho...   \n",
       "3  03/08/2019  1  vergonha presidente oab mentiu pai morto milit...   \n",
       "4  06/08/2019  1  partido diabolico bandidos abrindo buracos est...   \n",
       "\n",
       "                                         TITLE_CLEAN  TEXT_LEN_CHAR  \\\n",
       "0  peticao impeachment bolsonaro precisa milhoes ...            328   \n",
       "1  peticao lula livre contribui liberdade preside...            242   \n",
       "2          mario kozel filho assassinado dilma tiros            170   \n",
       "3  felipe santa cruz presidente oab mentiu sobre ...            158   \n",
       "4  esquerda abrindo buracos estradas nordeste con...            155   \n",
       "\n",
       "   TEXT_LEN_TOKEN  TITLE_LEN_CHAR  TITLE_LEN_TOKEN  \n",
       "0              36              81                9  \n",
       "1              30              54                7  \n",
       "2              24              41                6  \n",
       "3              25              82               13  \n",
       "4              19              59                7  "
      ]
     },
     "execution_count": 2,
     "metadata": {},
     "output_type": "execute_result"
    }
   ],
   "source": [
    "PATH = '../'\n",
    "\n",
    "PROCESSED_DATA_PATH = os.path.join(PATH, 'data/processed/')\n",
    "\n",
    "DF_FAKE_PATH = os.path.join(PROCESSED_DATA_PATH, 'df_fake_clean.pkl')\n",
    "DF_LEGIT_PATH = os.path.join(PROCESSED_DATA_PATH, 'df_legit_clean.pkl')\n",
    "\n",
    "df_fake = pkl.load(open(DF_FAKE_PATH, 'rb'))\n",
    "\n",
    "df_legit = pkl.load(open(DF_LEGIT_PATH, 'rb'))\n",
    "\n",
    "df = pd.concat((df_fake, df_legit), axis=0)\n",
    "\n",
    "df.rename({'TEXT_CLEAN': 'X', 'FAKE': 'y'}, axis=1, inplace=True)\n",
    "\n",
    "df.head()"
   ]
  },
  {
   "cell_type": "code",
   "execution_count": 3,
   "metadata": {},
   "outputs": [
    {
     "data": {
      "text/plain": [
       "(16950, 8)"
      ]
     },
     "execution_count": 3,
     "metadata": {},
     "output_type": "execute_result"
    }
   ],
   "source": [
    "df.shape"
   ]
  },
  {
   "cell_type": "markdown",
   "metadata": {},
   "source": [
    "# Training word2vec model"
   ]
  },
  {
   "cell_type": "code",
   "execution_count": 4,
   "metadata": {},
   "outputs": [],
   "source": [
    "from gensim.models.phrases import Phrases, Phraser\n",
    "from gensim.models import Word2Vec"
   ]
  },
  {
   "cell_type": "markdown",
   "metadata": {},
   "source": [
    "## Join terms that are commonly found together\n",
    "\n",
    "e.g.: belo_horizonte"
   ]
  },
  {
   "cell_type": "code",
   "execution_count": 5,
   "metadata": {},
   "outputs": [],
   "source": [
    "sent = [text.split() for text in df['X']]\n",
    "phrases = Phrases(sent, min_count=30, progress_per=10000)"
   ]
  },
  {
   "cell_type": "code",
   "execution_count": 6,
   "metadata": {},
   "outputs": [],
   "source": [
    "df['X_phrased'] = [phrases[s] for s in sent]"
   ]
  },
  {
   "cell_type": "code",
   "execution_count": 7,
   "metadata": {},
   "outputs": [],
   "source": [
    "w2v_model = Word2Vec(df['X_phrased'],\n",
    "                    min_count=5,\n",
    "                    window=9,\n",
    "                    size=100,\n",
    "                    workers=3,\n",
    "                    iter=50)"
   ]
  },
  {
   "cell_type": "code",
   "execution_count": 49,
   "metadata": {},
   "outputs": [
    {
     "name": "stdout",
     "output_type": "stream",
     "text": [
      "Palavra: bolsonaro\n",
      "Palavras semelhantes:\n",
      "- jair_bolsonaro\n",
      "- bolsonaro_psl\n",
      "- mourao\n",
      "- presidente_eleito\n",
      "- capitao_reformado\n",
      "- capitao_reserva\n",
      "- eduardo_bolsonaro\n",
      "- candidato_psl\n",
      "- bolsonarista\n",
      "- bolsonaro_psc\n"
     ]
    }
   ],
   "source": [
    "wrd = 'bolsonaro'\n",
    "print(\"Palavra: {}\".format(wrd))\n",
    "print(\"Palavras semelhantes:\")\n",
    "if wrd in w2v_model:\n",
    "    for item in w2v_model.wv.most_similar(wrd):\n",
    "        print('- {}'.format(item[0]))"
   ]
  },
  {
   "cell_type": "code",
   "execution_count": null,
   "metadata": {},
   "outputs": [],
   "source": [
    "from tqdm import tqdm_notebook"
   ]
  },
  {
   "cell_type": "code",
   "execution_count": null,
   "metadata": {},
   "outputs": [
    {
     "data": {
      "application/vnd.jupyter.widget-view+json": {
       "model_id": "01c1c212cfea4765ac450bd0dc74cbc9",
       "version_major": 2,
       "version_minor": 0
      },
      "text/plain": [
       "HBox(children=(IntProgress(value=0, max=16950), HTML(value='')))"
      ]
     },
     "metadata": {},
     "output_type": "display_data"
    }
   ],
   "source": [
    "all_df = pd.DataFrame()\n",
    "\n",
    "for text in tqdm_notebook(df['X_phrased']):\n",
    "    aux = pd.DataFrame()\n",
    "    for word in text:\n",
    "        try:\n",
    "            word_vec = w2v_model[word]\n",
    "            aux = aux.append(pd.Series(word_vec), ignore_index=True)\n",
    "        except:\n",
    "            pass\n",
    "        doc_vec = aux.mean()\n",
    "    all_df = all_df.append(doc_vec, ignore_index=True)"
   ]
  },
  {
   "cell_type": "code",
   "execution_count": 44,
   "metadata": {},
   "outputs": [],
   "source": [
    "from sklearn.model_selection import train_test_split\n",
    "from sklearn.ensemble import RandomForestClassifier\n",
    "\n",
    "from sklearn.metrics import accuracy_score, classification_report, confusion_matrix\n",
    "from imblearn.under_sampling import RandomUnderSampler"
   ]
  },
  {
   "cell_type": "code",
   "execution_count": 19,
   "metadata": {},
   "outputs": [],
   "source": [
    "pkl.dump(all_df, open('../data/processed/text_w2v.pkl', 'wb'))\n",
    "\n",
    "# all_df = pkl.load(open('../data/processed/text_w2v.pkl', 'rb'))"
   ]
  },
  {
   "cell_type": "code",
   "execution_count": 20,
   "metadata": {
    "scrolled": true
   },
   "outputs": [],
   "source": [
    "rus = RandomUnderSampler(random_state=42)\n",
    "resampled_X, resampled_y = rus.fit_resample(all_df, df['y'])"
   ]
  },
  {
   "cell_type": "code",
   "execution_count": 21,
   "metadata": {},
   "outputs": [],
   "source": [
    "train_x, test_x, train_y, test_y = train_test_split(resampled_X,\n",
    "                                                   resampled_y,\n",
    "                                                   test_size = 0.2,\n",
    "                                                   random_state = 1)"
   ]
  },
  {
   "cell_type": "code",
   "execution_count": 22,
   "metadata": {},
   "outputs": [
    {
     "data": {
      "text/plain": [
       "((2001, 100), (501, 100), (2001,), (501,))"
      ]
     },
     "execution_count": 22,
     "metadata": {},
     "output_type": "execute_result"
    }
   ],
   "source": [
    "train_x.shape, test_x.shape, train_y.shape, test_y.shape"
   ]
  },
  {
   "cell_type": "code",
   "execution_count": 45,
   "metadata": {},
   "outputs": [],
   "source": [
    "model = RandomForestClassifier(n_estimators=1000)\n",
    "model.fit(train_x, train_y)\n",
    "test_pred = model.predict(all_df)"
   ]
  },
  {
   "cell_type": "code",
   "execution_count": 46,
   "metadata": {},
   "outputs": [
    {
     "name": "stdout",
     "output_type": "stream",
     "text": [
      "              precision    recall  f1-score   support\n",
      "\n",
      "           0       1.00      0.95      0.97     15699\n",
      "           1       0.59      0.98      0.74      1251\n",
      "\n",
      "   micro avg       0.95      0.95      0.95     16950\n",
      "   macro avg       0.79      0.96      0.85     16950\n",
      "weighted avg       0.97      0.95      0.95     16950\n",
      "\n"
     ]
    }
   ],
   "source": [
    "print(classification_report(df['y'], test_pred))"
   ]
  },
  {
   "cell_type": "code",
   "execution_count": 47,
   "metadata": {},
   "outputs": [
    {
     "name": "stdout",
     "output_type": "stream",
     "text": [
      "[[14836   863]\n",
      " [   21  1230]]\n"
     ]
    }
   ],
   "source": [
    "print(confusion_matrix(df['y'], test_pred))"
   ]
  },
  {
   "cell_type": "code",
   "execution_count": null,
   "metadata": {},
   "outputs": [],
   "source": []
  },
  {
   "cell_type": "code",
   "execution_count": null,
   "metadata": {},
   "outputs": [],
   "source": []
  },
  {
   "cell_type": "code",
   "execution_count": null,
   "metadata": {},
   "outputs": [],
   "source": []
  }
 ],
 "metadata": {
  "kernelspec": {
   "display_name": "Python 3",
   "language": "python",
   "name": "python3"
  },
  "language_info": {
   "codemirror_mode": {
    "name": "ipython",
    "version": 3
   },
   "file_extension": ".py",
   "mimetype": "text/x-python",
   "name": "python",
   "nbconvert_exporter": "python",
   "pygments_lexer": "ipython3",
   "version": "3.7.3"
  }
 },
 "nbformat": 4,
 "nbformat_minor": 2
}
