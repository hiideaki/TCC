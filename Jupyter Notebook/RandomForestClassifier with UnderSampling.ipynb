{
 "cells": [
  {
   "cell_type": "code",
   "execution_count": 1,
   "metadata": {},
   "outputs": [],
   "source": [
    "import numpy as np\n",
    "import pandas as pd\n",
    "import pickle\n",
    "import collections"
   ]
  },
  {
   "cell_type": "code",
   "execution_count": 2,
   "metadata": {},
   "outputs": [],
   "source": [
    "from nltk.corpus import stopwords\n",
    "import re\n",
    "import string"
   ]
  },
  {
   "cell_type": "code",
   "execution_count": 3,
   "metadata": {},
   "outputs": [],
   "source": [
    "sw = stopwords.words('portuguese')\n",
    "def limpar_string(frase):\n",
    "    frase = str(frase)\n",
    "    frase = frase.lower()\n",
    "    frase = re.sub(r'-', ' ', frase)\n",
    "    frase = re.sub(r'<\\w+>|\\(\\w+\\)|[^\\w\\s]|\\d|¹|²|³|º|ª|“|”', '', frase)\n",
    "    frase = re.sub(r'\\s+', ' ', frase)\n",
    "    frase = frase.translate(str.maketrans('', '', string.punctuation))\n",
    "    return ' '.join([word for word in frase.split() if word not in sw and len(word) > 2])"
   ]
  },
  {
   "cell_type": "code",
   "execution_count": 4,
   "metadata": {},
   "outputs": [],
   "source": [
    "g1_df = pickle.load(open('data/g1_limpo.pkl', 'rb'))\n",
    "boato_df = pickle.load(open('data/boato_limpo.pkl', 'rb'))"
   ]
  },
  {
   "cell_type": "code",
   "execution_count": 5,
   "metadata": {},
   "outputs": [],
   "source": [
    "all_df = pd.concat([g1_df, boato_df])"
   ]
  },
  {
   "cell_type": "code",
   "execution_count": 6,
   "metadata": {},
   "outputs": [],
   "source": [
    "all_df.reset_index(drop=True,  inplace=True)\n",
    "all_df.reset_index(drop=False, inplace=True)"
   ]
  },
  {
   "cell_type": "code",
   "execution_count": 7,
   "metadata": {},
   "outputs": [
    {
     "data": {
      "text/plain": [
       "Counter({0: 4247, 1: 744})"
      ]
     },
     "execution_count": 7,
     "metadata": {},
     "output_type": "execute_result"
    }
   ],
   "source": [
    "collections.Counter(all_df['fake'])"
   ]
  },
  {
   "cell_type": "code",
   "execution_count": 8,
   "metadata": {},
   "outputs": [
    {
     "data": {
      "text/html": [
       "<div>\n",
       "<style scoped>\n",
       "    .dataframe tbody tr th:only-of-type {\n",
       "        vertical-align: middle;\n",
       "    }\n",
       "\n",
       "    .dataframe tbody tr th {\n",
       "        vertical-align: top;\n",
       "    }\n",
       "\n",
       "    .dataframe thead th {\n",
       "        text-align: right;\n",
       "    }\n",
       "</style>\n",
       "<table border=\"1\" class=\"dataframe\">\n",
       "  <thead>\n",
       "    <tr style=\"text-align: right;\">\n",
       "      <th></th>\n",
       "      <th>index</th>\n",
       "      <th>date</th>\n",
       "      <th>text</th>\n",
       "      <th>title</th>\n",
       "      <th>len</th>\n",
       "      <th>fake</th>\n",
       "    </tr>\n",
       "  </thead>\n",
       "  <tbody>\n",
       "    <tr>\n",
       "      <th>0</th>\n",
       "      <td>0</td>\n",
       "      <td>2019-01-06</td>\n",
       "      <td>presidente jair bolsonaro afirmou neste sábado...</td>\n",
       "      <td>Bolsonaro diz que quer manter estados e municí...</td>\n",
       "      <td>2724</td>\n",
       "      <td>0</td>\n",
       "    </tr>\n",
       "    <tr>\n",
       "      <th>1</th>\n",
       "      <td>1</td>\n",
       "      <td>2019-01-06</td>\n",
       "      <td>relator proposta reforma previdência comissão ...</td>\n",
       "      <td>Relator diz que déficit previdenciário de esta...</td>\n",
       "      <td>3706</td>\n",
       "      <td>0</td>\n",
       "    </tr>\n",
       "    <tr>\n",
       "      <th>2</th>\n",
       "      <td>2</td>\n",
       "      <td>2019-05-31</td>\n",
       "      <td>procuradoria geral república encaminhou manife...</td>\n",
       "      <td>PGR dá parecer a favor de indulto para ex-diri...</td>\n",
       "      <td>1166</td>\n",
       "      <td>0</td>\n",
       "    </tr>\n",
       "    <tr>\n",
       "      <th>3</th>\n",
       "      <td>3</td>\n",
       "      <td>2019-05-30</td>\n",
       "      <td>votação medida provisória estabelece pente fin...</td>\n",
       "      <td>Senado adia para a próxima segunda-feira votaç...</td>\n",
       "      <td>5166</td>\n",
       "      <td>0</td>\n",
       "    </tr>\n",
       "    <tr>\n",
       "      <th>4</th>\n",
       "      <td>4</td>\n",
       "      <td>2019-01-06</td>\n",
       "      <td>presidente jair bolsonaro afirmou entrevista c...</td>\n",
       "      <td>A jornal argentino, Bolsonaro diz que Comissão...</td>\n",
       "      <td>1725</td>\n",
       "      <td>0</td>\n",
       "    </tr>\n",
       "  </tbody>\n",
       "</table>\n",
       "</div>"
      ],
      "text/plain": [
       "   index        date                                               text  \\\n",
       "0      0  2019-01-06  presidente jair bolsonaro afirmou neste sábado...   \n",
       "1      1  2019-01-06  relator proposta reforma previdência comissão ...   \n",
       "2      2  2019-05-31  procuradoria geral república encaminhou manife...   \n",
       "3      3  2019-05-30  votação medida provisória estabelece pente fin...   \n",
       "4      4  2019-01-06  presidente jair bolsonaro afirmou entrevista c...   \n",
       "\n",
       "                                               title   len  fake  \n",
       "0  Bolsonaro diz que quer manter estados e municí...  2724     0  \n",
       "1  Relator diz que déficit previdenciário de esta...  3706     0  \n",
       "2  PGR dá parecer a favor de indulto para ex-diri...  1166     0  \n",
       "3  Senado adia para a próxima segunda-feira votaç...  5166     0  \n",
       "4  A jornal argentino, Bolsonaro diz que Comissão...  1725     0  "
      ]
     },
     "execution_count": 8,
     "metadata": {},
     "output_type": "execute_result"
    }
   ],
   "source": [
    "all_df.head()"
   ]
  },
  {
   "cell_type": "code",
   "execution_count": 9,
   "metadata": {},
   "outputs": [],
   "source": [
    "from imblearn.under_sampling import RandomUnderSampler\n",
    "from sklearn.feature_extraction.text import CountVectorizer, TfidfVectorizer, TfidfTransformer\n",
    "from sklearn.model_selection import cross_val_score, train_test_split\n",
    "from sklearn.metrics import accuracy_score, confusion_matrix, classification_report\n",
    "from sklearn.linear_model import LogisticRegression\n",
    "from sklearn.ensemble import RandomForestClassifier\n",
    "from sklearn.naive_bayes import MultinomialNB\n",
    "from sklearn.naive_bayes import GaussianNB\n",
    "from nltk.tokenize import RegexpTokenizer\n",
    "from sklearn.pipeline import Pipeline\n",
    "from nltk.stem import RSLPStemmer\n",
    "from xgboost import XGBClassifier\n",
    "from sklearn.svm import SVC\n",
    "from sklearn.cluster import KMeans\n",
    "from gensim.models import Doc2Vec\n",
    "from gensim.models.doc2vec import TaggedDocument\n",
    "from sklearn import utils\n",
    "import unicodedata\n",
    "\n",
    "from sklearn.linear_model import SGDClassifier"
   ]
  },
  {
   "cell_type": "code",
   "execution_count": 10,
   "metadata": {},
   "outputs": [
    {
     "name": "stdout",
     "output_type": "stream",
     "text": [
      "(1488, 2)\n",
      "Counter({0: 744, 1: 744})\n"
     ]
    }
   ],
   "source": [
    "rus = RandomUnderSampler()\n",
    "\n",
    "X_all, y_all = rus.fit_resample(all_df[['index', 'text']], list(all_df['fake']))\n",
    "\n",
    "print(X_all.shape)\n",
    "print(collections.Counter(y_all))"
   ]
  },
  {
   "cell_type": "code",
   "execution_count": 11,
   "metadata": {},
   "outputs": [],
   "source": [
    "vect = TfidfVectorizer(ngram_range=(1, 1), max_df=0.7, min_df=5, strip_accents='unicode')\n",
    "\n",
    "clf = RandomForestClassifier(n_estimators=5000)\n",
    "\n",
    "pipe = Pipeline([('vect', vect), ('clf', clf)])"
   ]
  },
  {
   "cell_type": "code",
   "execution_count": 12,
   "metadata": {},
   "outputs": [],
   "source": [
    "X_train, X_test, y_train, y_test = train_test_split([limpar_string(item) for i, item in X_all], y_all, test_size=0.3, random_state=42)"
   ]
  },
  {
   "cell_type": "code",
   "execution_count": 13,
   "metadata": {},
   "outputs": [
    {
     "name": "stderr",
     "output_type": "stream",
     "text": [
      "[Parallel(n_jobs=-1)]: Using backend LokyBackend with 4 concurrent workers.\n",
      "[Parallel(n_jobs=-1)]: Done   6 out of  10 | elapsed:  1.4min remaining:   56.0s\n",
      "[Parallel(n_jobs=-1)]: Done  10 out of  10 | elapsed:  1.8min finished\n"
     ]
    },
    {
     "data": {
      "text/plain": [
       "array([0.99333333, 0.98      , 0.97333333, 0.98666667, 1.        ,\n",
       "       0.9527027 , 0.96621622, 0.98648649, 0.95945946, 0.95945946])"
      ]
     },
     "execution_count": 13,
     "metadata": {},
     "output_type": "execute_result"
    }
   ],
   "source": [
    "cv = cross_val_score(pipe, [limpar_string(item) for i, item in X_all], y_all, n_jobs=-1, verbose=4, cv=10)\n",
    "\n",
    "cv"
   ]
  },
  {
   "cell_type": "code",
   "execution_count": 14,
   "metadata": {},
   "outputs": [
    {
     "data": {
      "text/plain": [
       "0.9757657657657658"
      ]
     },
     "execution_count": 14,
     "metadata": {},
     "output_type": "execute_result"
    }
   ],
   "source": [
    "cv.mean()"
   ]
  },
  {
   "cell_type": "code",
   "execution_count": 15,
   "metadata": {},
   "outputs": [
    {
     "data": {
      "text/plain": [
       "Pipeline(memory=None,\n",
       "     steps=[('vect', TfidfVectorizer(analyzer='word', binary=False, decode_error='strict',\n",
       "        dtype=<class 'numpy.float64'>, encoding='utf-8', input='content',\n",
       "        lowercase=True, max_df=0.7, max_features=None, min_df=5,\n",
       "        ngram_range=(1, 1), norm='l2', preprocessor=None, smooth_idf=True,\n",
       "...obs=None,\n",
       "            oob_score=False, random_state=None, verbose=0,\n",
       "            warm_start=False))])"
      ]
     },
     "execution_count": 15,
     "metadata": {},
     "output_type": "execute_result"
    }
   ],
   "source": [
    "pipe.fit(X_train, y_train)"
   ]
  },
  {
   "cell_type": "code",
   "execution_count": 16,
   "metadata": {},
   "outputs": [],
   "source": [
    "pred = pipe.predict(X_test)"
   ]
  },
  {
   "cell_type": "code",
   "execution_count": 17,
   "metadata": {},
   "outputs": [
    {
     "name": "stdout",
     "output_type": "stream",
     "text": [
      "              precision    recall  f1-score   support\n",
      "\n",
      "           0       0.94      0.99      0.97       225\n",
      "           1       0.99      0.94      0.96       222\n",
      "\n",
      "   micro avg       0.96      0.96      0.96       447\n",
      "   macro avg       0.97      0.96      0.96       447\n",
      "weighted avg       0.97      0.96      0.96       447\n",
      "\n"
     ]
    }
   ],
   "source": [
    "print(classification_report(y_test, pred))"
   ]
  },
  {
   "cell_type": "code",
   "execution_count": 18,
   "metadata": {},
   "outputs": [
    {
     "name": "stdout",
     "output_type": "stream",
     "text": [
      "[[223   2]\n",
      " [ 14 208]]\n"
     ]
    }
   ],
   "source": [
    "print(confusion_matrix(y_test, pred))"
   ]
  },
  {
   "cell_type": "code",
   "execution_count": null,
   "metadata": {},
   "outputs": [],
   "source": []
  },
  {
   "cell_type": "code",
   "execution_count": 19,
   "metadata": {},
   "outputs": [],
   "source": [
    "### Outros testes"
   ]
  },
  {
   "cell_type": "code",
   "execution_count": 20,
   "metadata": {},
   "outputs": [],
   "source": [
    "def pred(text):\n",
    "    text = limpar_string(text)\n",
    "    return [pipe.predict([text]), pipe.predict_proba([text])]"
   ]
  },
  {
   "cell_type": "code",
   "execution_count": 21,
   "metadata": {},
   "outputs": [],
   "source": [
    "### testando com o dataframe inteiro"
   ]
  },
  {
   "cell_type": "code",
   "execution_count": 22,
   "metadata": {},
   "outputs": [],
   "source": [
    "pred_all = pipe.predict(all_df['text'].apply(limpar_string))"
   ]
  },
  {
   "cell_type": "code",
   "execution_count": 23,
   "metadata": {},
   "outputs": [
    {
     "name": "stdout",
     "output_type": "stream",
     "text": [
      "              precision    recall  f1-score   support\n",
      "\n",
      "           0       1.00      0.98      0.99      4247\n",
      "           1       0.92      0.98      0.95       744\n",
      "\n",
      "   micro avg       0.98      0.98      0.98      4991\n",
      "   macro avg       0.96      0.98      0.97      4991\n",
      "weighted avg       0.98      0.98      0.98      4991\n",
      "\n"
     ]
    }
   ],
   "source": [
    "print(classification_report(all_df['fake'], pred_all))"
   ]
  },
  {
   "cell_type": "code",
   "execution_count": 24,
   "metadata": {},
   "outputs": [
    {
     "name": "stdout",
     "output_type": "stream",
     "text": [
      "[[4180   67]\n",
      " [  14  730]]\n"
     ]
    }
   ],
   "source": [
    "print(confusion_matrix(all_df['fake'], pred_all))"
   ]
  },
  {
   "cell_type": "code",
   "execution_count": null,
   "metadata": {},
   "outputs": [],
   "source": []
  },
  {
   "cell_type": "code",
   "execution_count": null,
   "metadata": {},
   "outputs": [],
   "source": []
  },
  {
   "cell_type": "code",
   "execution_count": 25,
   "metadata": {},
   "outputs": [],
   "source": [
    "### testando com o conjunto de treino + teste"
   ]
  },
  {
   "cell_type": "code",
   "execution_count": 26,
   "metadata": {},
   "outputs": [],
   "source": [
    "pred_tt = pipe.predict([limpar_string(item) for i, item in X_all])"
   ]
  },
  {
   "cell_type": "code",
   "execution_count": 27,
   "metadata": {},
   "outputs": [
    {
     "name": "stdout",
     "output_type": "stream",
     "text": [
      "              precision    recall  f1-score   support\n",
      "\n",
      "           0       0.98      1.00      0.99       744\n",
      "           1       1.00      0.98      0.99       744\n",
      "\n",
      "   micro avg       0.99      0.99      0.99      1488\n",
      "   macro avg       0.99      0.99      0.99      1488\n",
      "weighted avg       0.99      0.99      0.99      1488\n",
      "\n"
     ]
    }
   ],
   "source": [
    "print(classification_report(y_all, pred_tt))"
   ]
  },
  {
   "cell_type": "code",
   "execution_count": 28,
   "metadata": {},
   "outputs": [
    {
     "name": "stdout",
     "output_type": "stream",
     "text": [
      "[[742   2]\n",
      " [ 14 730]]\n"
     ]
    }
   ],
   "source": [
    "print(confusion_matrix(y_all, pred_tt))"
   ]
  },
  {
   "cell_type": "code",
   "execution_count": null,
   "metadata": {},
   "outputs": [],
   "source": []
  },
  {
   "cell_type": "code",
   "execution_count": null,
   "metadata": {},
   "outputs": [],
   "source": []
  },
  {
   "cell_type": "code",
   "execution_count": 29,
   "metadata": {},
   "outputs": [],
   "source": [
    "### testando com algumas frases pontuais"
   ]
  },
  {
   "cell_type": "code",
   "execution_count": 37,
   "metadata": {},
   "outputs": [
    {
     "data": {
      "text/plain": [
       "[array([0]), array([[0.5038, 0.4962]])]"
      ]
     },
     "execution_count": 37,
     "metadata": {},
     "output_type": "execute_result"
    }
   ],
   "source": [
    "# real:      verdadeiro\n",
    "# predicted: verdadeiro\n",
    "# fonte: https://g1.globo.com/politica/noticia/2019/06/01/a-jornal-argentino-bolsonaro-diz-que-comissao-da-verdade-e-mentirosa.ghtml\n",
    "\n",
    "texto1 = \"\"\"\n",
    "\n",
    "O presidente Jair Bolsonaro (PSL) afirmou, em entrevista concedida ao jornal argentino ‘La Nacion’, publicada neste sábado (1º), que a Comissão da Verdade instituída para investigar violações aos direitos humanos durante a ditadura é “mentirosa”.\n",
    "\n",
    "Questionado sobre a questão da Venezuela, Bolsonaro afirmou que o presidente Nicolás Maduro se mantém no poder porque cooptou o Exército, o que não ocorreu no Brasil.\n",
    "\n",
    "“Isso, no Brasil, a esquerda não conseguiu fazer, apesar de todas as medidas tomadas contra nós, nem sequer com a mentirosa Comissão da Verdade, que contou histórias totalmente diferentes das que ocorreram no período de 1964 a 1985”, afirmou.\n",
    "\n",
    "Bolsonaro disse ainda que a história do Brasil tem que começar a ser escrita com a verdade.\n",
    "\n",
    "“Se o Partido dos Trabalhadores quisesse a verdade, o primeiro feito que deveria ser esclarecido seria o sequestro, tortura e execução, em 2002, do petista Celso Daniel, que estava para divulgar informação que acabaria com a campanha de Lula. E não se vê nenhum petista defendendo essa investigação, porque todos os indícios apontam que eles o mataram, entre tantos outros”, disse.\n",
    "\n",
    "O jornal afirma que Bolsonaro, cinco meses depois de assumir o poder, está na “defensiva”, com a popularidade erodida, a economia em retrocesso e enfrenta obstáculos para impulsionar seus projetos no Congresso.\n",
    "\n",
    "A entrevista foi concedida no Palácio do Planalto. O presidente disse também que deve visitar a Argentina na próxima semana para discutir um acordo entre o Mercosul e a União Europeia.\n",
    "\n",
    "“A Argentina e o Brasil não podem voltar à corrupção do passado, uma corrupção desenfreada por busca de poder. Contamos com o povo argentino para eleger bem o presidente em outubro”, disse.\n",
    "\n",
    "\"\"\"\n",
    "\n",
    "pred(texto1)"
   ]
  },
  {
   "cell_type": "code",
   "execution_count": 38,
   "metadata": {},
   "outputs": [
    {
     "data": {
      "text/plain": [
       "[array([0]), array([[0.9246, 0.0754]])]"
      ]
     },
     "execution_count": 38,
     "metadata": {},
     "output_type": "execute_result"
    }
   ],
   "source": [
    "# real:      verdadeiro\n",
    "# predicted: verdadeiro\n",
    "# fonte: https://g1.globo.com/politica/noticia/2019/06/01/bolsonaro-diz-que-quer-manter-estados-e-municipios-na-reforma-da-previdencia.ghtml\n",
    "\n",
    "texto2 = \"\"\"\n",
    "\n",
    "O presidente Jair Bolsonaro afirmou neste sábado (1º) que gostaria que o Congresso mantivesse estados e municípios dentro da reforma da Previdência enviada pelo governo. Ele ponderou, porém, que o \"impasse\" sobre o tema deve ser resolvido pelos parlamentares e, portanto, disse não ter \"nada a ver com isso\".\n",
    "\n",
    "Nos últimos dias, deputados têm feito pressão para que o relator da reforma na comissão especial da Câmara, Samuel Moreira (PSDB-SP), deixe as previdências estaduais e municipais de fora do texto.\n",
    "\n",
    "Na semana passada, o presidente da Câmara, Rodrigo Maia (DEM-RJ), admitiu que a pressão para retirar estados e municípios da reforma da Previdência é grande. Na avaliação de Maia, um dos principais fiadores da PEC que altera as regras previdenciárias, é \"difícil\" manter servidores estaduais na reforma.\n",
    "\n",
    "\"Isso está sendo acertado pela Câmara. O que nós gostaríamos é que fosse tudo junto, mas como tem partidos que querem que aprove [sem estados e municípios], e eles votando ao contrário, então há esse impasse dentro da Câmara, Eu não tenho nada a ver com isso. Não tenho nada a ver com isso, a Câmara que decide agora\", disse Bolsonaro, após almoçar na casa de um amigo militar.\n",
    "\n",
    "Questionado sobre se o governo teria alguma preferência, o presidente repetiu o que vem dizendo em declarações públicas, de que gostaria de ver aprovado o texto original da proposta.\n",
    "\n",
    "\n",
    "\"Eu quero aprovar a reforma basicamente como chegou lá, eu espero que o pessoal se entenda. Tem parlamentar reclamando: 'Olha, a gente quer votar, mas o colega de tal partido quer que ela passe, mas ele votou no contrário porque tem algum desgaste no estado'. É esse o problema que está acontecendo dentro da Câmara\", afirmou.\n",
    "\n",
    "O presidente disse ainda que todos os demais projetos econômicos \"nascerão\" da reforma da Previdência. Para ele, a PEC é a \"reforma mãe\" do governo.\n",
    "\n",
    "Relator\n",
    "Também neste sábado, o relator da proposta reuniu-se em Brasília com integrantes da área técnica do governo. Após o encontro, Samuel Moreira afirmou que o déficit previdenciário de estados e prefeituras soma R$ 96 bilhões por ano.\n",
    "\n",
    "Ele disse, porém, que isso é um assunto \"polêmico e grave\" e que ainda não decidiu se irá mexer neste ponto no parecer final.\n",
    "\n",
    "Indagado pelos repórteres ao final da reunião com a área técnica do governo federal sobre a pressão política para retirar estados e municípios da reforma, ele disse que \"não há qualquer cálculo eleitoral que possa ser maior que a responsabilidade nesse momento\".\n",
    "\n",
    "A expectativa do relator é de apresentar o parecer final à comissão especial no fim da próxima semana. Até lá, ele pretende continuar conversando e negociando com líderes partidários para tentar construir um texto que atraia os votos do Centrão.\n",
    "\n",
    "\"\"\"\n",
    "\n",
    "pred(texto2)"
   ]
  },
  {
   "cell_type": "code",
   "execution_count": 39,
   "metadata": {},
   "outputs": [
    {
     "data": {
      "text/plain": [
       "[array([1]), array([[0.2942, 0.7058]])]"
      ]
     },
     "execution_count": 39,
     "metadata": {},
     "output_type": "execute_result"
    }
   ],
   "source": [
    "# real:      falso\n",
    "# predicted: falso\n",
    "# fonte: https://www.boatos.org/politica/editorial-o-globo-pede-intervencao.html\n",
    "\n",
    "texto3 = \"\"\"\n",
    "\n",
    "EDITORIAL DE O GLOBO Segunda-feira 20.05.2019. Não vivemos mais um regime Presidencialista! Que eu saiba, questões de gestão inerentes ao exercício do Poder determinadas pelo Presidente da República, jamais foram contestadas ao longo do tempo. Nos estranhos dias atuais, onde a esquerda não se conforma em perder o Poder e acha que democracia é o poder que emana do lado esquerdo do povo, o Presidente da República, Jair Bolsonaro, legitimamente eleito por mais de 57 milhões de brasileiros, virou um títere, um boneco de ventríloquo nas mãos de Congressistas, Juízes, Procuradores e Ministros de má fé suportados pela mídia. […]\n",
    "\n",
    "É, meus amigos, acho que este País só tem um jeito: Intervenção militar e fechamento de Congresso, Judiciário e o escambau. Ai esses filhos da puta desses políticos corruptos, esses juizinhos engajados de merda, esses artistas e essa mídia de bosta, toda essa gentalha que não se conforma em perder as eleições, que não admite que o Brasil abomina a esquerda e que não quer ver um governo democrático funcionar, vai ver o que é bom e ai, sim, vai poder discutir, na prática e com conhecimento de causa, aqui e agora, se o que acontecer é golpe, é revolução, é ditadura, é contra-revolução ou é simplesmente a reação de um povo de saco cheio, como o foi em 64. ps: se concordar, compartilhe, pois estou bloqueado e este perfil é super limitado, não atinge nem 100 pessoas. Obrigado.\n",
    "\n",
    "\"\"\"\n",
    "\n",
    "pred(texto3)"
   ]
  },
  {
   "cell_type": "code",
   "execution_count": 40,
   "metadata": {},
   "outputs": [
    {
     "data": {
      "text/plain": [
       "[array([1]), array([[0.0092, 0.9908]])]"
      ]
     },
     "execution_count": 40,
     "metadata": {},
     "output_type": "execute_result"
    }
   ],
   "source": [
    "# real:      falso\n",
    "# predicted: falso\n",
    "#fonte: rodney\n",
    "\n",
    "texto4 = \"\"\"\n",
    "\n",
    "lula e bolsonaro são avistados na fronteira do mexico\n",
    "\n",
    "\"\"\"\n",
    "pred(texto4)"
   ]
  },
  {
   "cell_type": "code",
   "execution_count": 41,
   "metadata": {},
   "outputs": [
    {
     "data": {
      "text/plain": [
       "[array([1]), array([[0.0092, 0.9908]])]"
      ]
     },
     "execution_count": 41,
     "metadata": {},
     "output_type": "execute_result"
    }
   ],
   "source": [
    "# real:      falso\n",
    "# predicted: falso\n",
    "#fonte: rodney\n",
    "\n",
    "texto4 = \"\"\"\n",
    "\n",
    "lula e bolsonaro são avistados na fronteira do mexico\n",
    "\n",
    "\"\"\"\n",
    "pred(texto4)"
   ]
  },
  {
   "cell_type": "code",
   "execution_count": 42,
   "metadata": {},
   "outputs": [
    {
     "data": {
      "text/plain": [
       "[array([1]), array([[0.0824, 0.9176]])]"
      ]
     },
     "execution_count": 42,
     "metadata": {},
     "output_type": "execute_result"
    }
   ],
   "source": [
    "# real:      falso\n",
    "# predicted: falso\n",
    "# fonte: rodney\n",
    "\n",
    "texto5 = \"\"\"\n",
    "\n",
    "pablo vittar e seus ministros discutem um corte de verbas nas universidades públicas e no setor privado\n",
    "\n",
    "\"\"\"\n",
    "pred(texto5)"
   ]
  },
  {
   "cell_type": "code",
   "execution_count": 76,
   "metadata": {},
   "outputs": [
    {
     "data": {
      "text/plain": [
       "[array([1]), array([[0.002, 0.998]])]"
      ]
     },
     "execution_count": 76,
     "metadata": {},
     "output_type": "execute_result"
    }
   ],
   "source": [
    "texto6 = \"\"\"\n",
    "\n",
    "Não é fake não, direitas evangélicas! O que Bolsonaro queria, procurando fotos do Pablo Vitar com a b… grande e gostosa? Twitter na real kkkk \n",
    "\n",
    "\"\"\"\n",
    "\n",
    "pred(texto6)"
   ]
  },
  {
   "cell_type": "code",
   "execution_count": 75,
   "metadata": {},
   "outputs": [
    {
     "data": {
      "text/plain": [
       "[array([0]), array([[0.576, 0.424]])]"
      ]
     },
     "execution_count": 75,
     "metadata": {},
     "output_type": "execute_result"
    }
   ],
   "source": [
    "texto7 = \"\"\"\n",
    "\n",
    "A presidente nacional do PT, Gleisi Hoffmann, negou neste domingo, 2, que haja uma separação entre a pauta do \"Lula Livre\" e as demais bandeiras da esquerda, como a da defesa da educação. \"Lula e educação são pautas inseparáveis. Essa moçada está indo às ruas pelo legado que ele deixou neste País\", disse a petista, uma das únicas autoridades do partido a estar presente no festival Lula Livre, que não contou com discursos de políticos no palco. VEJA TAMBÉM Festival Lula Livre não destaca outras bandeiras de esquerda \"Para nós do PT, 'Lula Livre' é estratégico, nós achamos que não há salvação da democracia com Lula preso. Nós sempre levaremos a pauta do 'Lula Livre' junto com a pauta da defesa da educação\", disse Hoffmann. Perguntada se os partidos aliados também fazem a mesma associação, a ex-senadora respondeu que \"muitos têm levado (uma agenda em conjunto coma outra)\". Citou o PCdoB e o PSOL e afirmou que Carlos Lupi, presidente do PDT, visitou Lula na prisão. Além de não contar com discursos políticos, o ato deste domingo não enfatizou nenhuma outra grande pauta da esquerda, como a defesa das instituições públicas de ensino e a oposição à reforma da Previdência. O Broadcast/Estadão apurou que a organização de atos paralelos é uma estratégia da oposição para manter agenda de protestos pró-Lula sem que essa pauta isole quem não simpatiza com o ex-presidente da agenda anti-Bolsonaro. Para Guilherme Boulos, que foi candidato do PSOL à Presidência da República ano passado, as manifestações dos dias 15 e 30 de maio - contra o contingenciamento de recursos de instituições de ensino anunciado pelo governo Jair Bolsonaro - foram \"com centro na luta pela educação\". \"Agora aqui é um evento pensado com o tema do 'Lula Livre'\". Segundo Paulo Okamotto, presidente dos Instituto Lula, o evento deste domingo não conta com discursos por se tratar de um \"ato lúdico\". Ele disse ainda que os políticos com mandato ajudaram a fazer o contato com os artistas e a chamar público pelas redes sociais.\n",
    "\n",
    "\"\"\"\n",
    "\n",
    "pred(texto7)"
   ]
  },
  {
   "cell_type": "code",
   "execution_count": 74,
   "metadata": {},
   "outputs": [
    {
     "data": {
      "text/plain": [
       "[array([1]), array([[0.3686, 0.6314]])]"
      ]
     },
     "execution_count": 74,
     "metadata": {},
     "output_type": "execute_result"
    }
   ],
   "source": [
    "texto8 = \"\"\"\n",
    "\n",
    "Jair Bolsonaro, candidato do PSL à Presidência da República, foi esfaqueado durante um ato de campanha em Juiz de Fora, em Minas Gerais na tarde desta quinta-feira, 6. O presidenciável foi atingido no abdômen e, levado para a Santa Casa de Misericórdia da cidade mineira, passou por uma cirurgia de cerca de quatro horas. Segundo a equipe médica que operou o candidato à Presidência, ele sofreu lesões nos intestinos delgado e grosso. O quadro dele é “grave, mas estável”. O suspeito do ataque, Adélio Bispo de Oliveira, de 40 anos, foi preso e está custodiado em uma delegacia da Polícia Federal.\n",
    "\n",
    "Após a operação, Jair Bolsonaro foi levado à Unidade de Terapia Intensiva (UTI) da Santa Casa. Ele já retomou a consciência e recebeu familiares e assessores. Os médicos esperam que ele passe pelo menos de sete a dez dias internado. Uma transferência ao Hospital Sírio-Libanês, em São Paulo, foi solicitada pela família do presidenciável e será analisada nas próximas horas, quando uma equipe do hospital paulistano chegará a Juiz de Fora.\n",
    "\n",
    "\"\"\"\n",
    "pred(texto8)"
   ]
  },
  {
   "cell_type": "code",
   "execution_count": 82,
   "metadata": {},
   "outputs": [
    {
     "data": {
      "text/plain": [
       "[array([1]), array([[0.4108, 0.5892]])]"
      ]
     },
     "execution_count": 82,
     "metadata": {},
     "output_type": "execute_result"
    }
   ],
   "source": [
    "texto9 = \"\"\"\n",
    "\n",
    "O presidente Jair Bolsonaro comentou a recente notícia de que a o PIB brasileiro sofreu uma queda de 0,2% no primeiro trimestre do ano, reiterando a sua confiança no ministro Paulo Guedes.\n",
    "\n",
    "Ao ser perguntado por jornalistas sobre as projeções para a economia brasileira, Bolsonaro relacionou as projeções econômicas brasileiras com fatores externos e reiterou a necessidade de aprovara reforma da Previdência.\n",
    "\n",
    "\"Já falei que não entendia de economia? Quem entendia afundou o Brasil, eu confio 100% na economia do Paulo Guedes [...] A gente quer melhorar os nossos índices aqui, agora passa por questões até externas\", disse Bolsonaro, durante um almoço na casa de um amigo, em Brasília.\n",
    "\n",
    "De acordo com ele, está \"descartada qualquer possibilidade de novo imposto ou majorar qualquer imposto, isso não existe\".\n",
    "\n",
    "Além disso, ele destacou que o governo está trabalhando para garantir a promessa de pagar a 13º parcela do Bolsa Família por meio do combate a fraudes no benefício.\n",
    "\n",
    "Um estudo do IBGE divulgada em 29 de maio mostrou que o PIB brasileiro sofre uma queda de 0,2% no primeiro trimestre de 2019 em comparação com o último trimestre do ano passado.\n",
    "\n",
    "Trata-se da primeira queda do PIB desde o quarto trimestre de 2016. No último trimestre de 2018 foi registrado o aumento do PIB de 0,1% em comparação com o terceiro trimestre de 2018.\n",
    "\n",
    "\n",
    "\"\"\"\n",
    "\n",
    "pred(texto9)"
   ]
  },
  {
   "cell_type": "code",
   "execution_count": null,
   "metadata": {},
   "outputs": [],
   "source": [
    "## acho que está viciado com a palavra bolsonaro kkk"
   ]
  }
 ],
 "metadata": {
  "kernelspec": {
   "display_name": "Python 3",
   "language": "python",
   "name": "python3"
  },
  "language_info": {
   "codemirror_mode": {
    "name": "ipython",
    "version": 3
   },
   "file_extension": ".py",
   "mimetype": "text/x-python",
   "name": "python",
   "nbconvert_exporter": "python",
   "pygments_lexer": "ipython3",
   "version": "3.7.3"
  }
 },
 "nbformat": 4,
 "nbformat_minor": 2
}
