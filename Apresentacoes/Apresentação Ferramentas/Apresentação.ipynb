{
 "cells": [
  {
   "cell_type": "code",
   "execution_count": 1,
   "metadata": {},
   "outputs": [],
   "source": [
    "import pandas as pd\n",
    "import numpy as np"
   ]
  },
  {
   "cell_type": "code",
   "execution_count": null,
   "metadata": {},
   "outputs": [],
   "source": []
  },
  {
   "cell_type": "code",
   "execution_count": null,
   "metadata": {},
   "outputs": [],
   "source": []
  },
  {
   "cell_type": "code",
   "execution_count": null,
   "metadata": {},
   "outputs": [],
   "source": []
  },
  {
   "cell_type": "markdown",
   "metadata": {},
   "source": [
    "## Carregando dados\n",
    "\n",
    "Aqui serão carregados os dados de um dataset do Scikit-Learn sobre notícias que contém 20 classes."
   ]
  },
  {
   "cell_type": "code",
   "execution_count": 2,
   "metadata": {},
   "outputs": [],
   "source": [
    "from sklearn import datasets"
   ]
  },
  {
   "cell_type": "code",
   "execution_count": 3,
   "metadata": {},
   "outputs": [],
   "source": [
    "data = datasets.fetch_20newsgroups(subset='all')"
   ]
  },
  {
   "cell_type": "code",
   "execution_count": 4,
   "metadata": {},
   "outputs": [
    {
     "data": {
      "text/plain": [
       "dict_keys(['data', 'filenames', 'target_names', 'target', 'DESCR'])"
      ]
     },
     "execution_count": 4,
     "metadata": {},
     "output_type": "execute_result"
    }
   ],
   "source": [
    "data.keys()"
   ]
  },
  {
   "cell_type": "code",
   "execution_count": 5,
   "metadata": {
    "scrolled": true
   },
   "outputs": [
    {
     "data": {
      "text/plain": [
       "['alt.atheism',\n",
       " 'comp.graphics',\n",
       " 'comp.os.ms-windows.misc',\n",
       " 'comp.sys.ibm.pc.hardware',\n",
       " 'comp.sys.mac.hardware',\n",
       " 'comp.windows.x',\n",
       " 'misc.forsale',\n",
       " 'rec.autos',\n",
       " 'rec.motorcycles',\n",
       " 'rec.sport.baseball',\n",
       " 'rec.sport.hockey',\n",
       " 'sci.crypt',\n",
       " 'sci.electronics',\n",
       " 'sci.med',\n",
       " 'sci.space',\n",
       " 'soc.religion.christian',\n",
       " 'talk.politics.guns',\n",
       " 'talk.politics.mideast',\n",
       " 'talk.politics.misc',\n",
       " 'talk.religion.misc']"
      ]
     },
     "execution_count": 5,
     "metadata": {},
     "output_type": "execute_result"
    }
   ],
   "source": [
    "data['target_names']"
   ]
  },
  {
   "cell_type": "markdown",
   "metadata": {},
   "source": [
    "## Limpeza dos textos\n",
    "\n",
    "A limpeza dos textos é necessária para haver uma \"normalização\" dos textos.\n",
    "\n",
    "- Coloca o texto em minúsculo;\n",
    "- Remove caracteres não alfabéticos;\n",
    "- Remove stopwords (palavras que se repetem muitas vezes e não agregam valor);\n",
    "- Remove palavras muito curtas;\n",
    "- Remove acentos.\n",
    "\n",
    "Para este processo não existe um PADRÃO fixo a ser seguido, a limpeza deve se adaptar à natureza do problema."
   ]
  },
  {
   "cell_type": "code",
   "execution_count": 6,
   "metadata": {},
   "outputs": [],
   "source": [
    "X = data['data']\n",
    "y = data['target']"
   ]
  },
  {
   "cell_type": "code",
   "execution_count": 7,
   "metadata": {},
   "outputs": [],
   "source": [
    "import re\n",
    "from nltk.stem.snowball import SnowballStemmer\n",
    "from nltk.corpus import stopwords\n",
    "from unidecode import unidecode\n",
    "\n",
    "stemmer = SnowballStemmer('english')\n",
    "STOPWORDS = stopwords.words('english')\n",
    "\n",
    "def clean_text(text):\n",
    "    text = str(text).lower()\n",
    "    text = re.sub(r'<.*>', ' ', text)\n",
    "    text = re.sub(r'[^a-zA-Z ]', ' ', text)\n",
    "    text = re.sub(r'\\s{2,}', ' ', text)\n",
    "    text = ' '.join(stemmer.stem(token) for token in text.split() if \n",
    "                    token not in STOPWORDS and \n",
    "                    len(token) > 2)\n",
    "    text = unidecode(text)\n",
    "    return text.strip()\n",
    "    "
   ]
  },
  {
   "cell_type": "code",
   "execution_count": 8,
   "metadata": {},
   "outputs": [
    {
     "data": {
      "application/vnd.jupyter.widget-view+json": {
       "model_id": "fdd941d128794986822f40fd3d5d7533",
       "version_major": 2,
       "version_minor": 0
      },
      "text/plain": [
       "HBox(children=(IntProgress(value=0, max=18846), HTML(value='')))"
      ]
     },
     "metadata": {},
     "output_type": "display_data"
    },
    {
     "name": "stdout",
     "output_type": "stream",
     "text": [
      "\n"
     ]
    }
   ],
   "source": [
    "from tqdm import tqdm_notebook\n",
    "\n",
    "X_clean = [None] * len(X)\n",
    "for i, text in enumerate(tqdm_notebook(X)):\n",
    "    X_clean[i] = clean_text(text)\n",
    "    "
   ]
  },
  {
   "cell_type": "markdown",
   "metadata": {},
   "source": [
    "## Extração de features"
   ]
  },
  {
   "cell_type": "code",
   "execution_count": 9,
   "metadata": {},
   "outputs": [],
   "source": [
    "from sklearn.feature_extraction.text import TfidfVectorizer"
   ]
  },
  {
   "cell_type": "code",
   "execution_count": 10,
   "metadata": {},
   "outputs": [],
   "source": [
    "vect = TfidfVectorizer(ngram_range=(1, 2), min_df=50, max_df=0.8, max_features=3000)\n",
    "X_vect = vect.fit_transform(X_clean)"
   ]
  },
  {
   "cell_type": "markdown",
   "metadata": {},
   "source": [
    "## Split de treino e teste"
   ]
  },
  {
   "cell_type": "code",
   "execution_count": 11,
   "metadata": {},
   "outputs": [],
   "source": [
    "from sklearn.model_selection import train_test_split"
   ]
  },
  {
   "cell_type": "code",
   "execution_count": 12,
   "metadata": {},
   "outputs": [],
   "source": [
    "X_train, X_test, y_train, y_test = train_test_split(X_vect, y, test_size=0.3, random_state=42)"
   ]
  },
  {
   "cell_type": "markdown",
   "metadata": {},
   "source": [
    "## Classificação"
   ]
  },
  {
   "cell_type": "code",
   "execution_count": 13,
   "metadata": {},
   "outputs": [],
   "source": [
    "from sklearn.ensemble import RandomForestClassifier"
   ]
  },
  {
   "cell_type": "code",
   "execution_count": 14,
   "metadata": {},
   "outputs": [],
   "source": [
    "clf = RandomForestClassifier(n_estimators=500, n_jobs=2)"
   ]
  },
  {
   "cell_type": "code",
   "execution_count": 15,
   "metadata": {},
   "outputs": [
    {
     "data": {
      "text/plain": [
       "RandomForestClassifier(bootstrap=True, class_weight=None, criterion='gini',\n",
       "                       max_depth=None, max_features='auto', max_leaf_nodes=None,\n",
       "                       min_impurity_decrease=0.0, min_impurity_split=None,\n",
       "                       min_samples_leaf=1, min_samples_split=2,\n",
       "                       min_weight_fraction_leaf=0.0, n_estimators=500, n_jobs=2,\n",
       "                       oob_score=False, random_state=None, verbose=0,\n",
       "                       warm_start=False)"
      ]
     },
     "execution_count": 15,
     "metadata": {},
     "output_type": "execute_result"
    }
   ],
   "source": [
    "clf.fit(X_train.todense(), y_train)"
   ]
  },
  {
   "cell_type": "code",
   "execution_count": 16,
   "metadata": {},
   "outputs": [],
   "source": [
    "y_pred = clf.predict(X_test.todense())"
   ]
  },
  {
   "cell_type": "markdown",
   "metadata": {},
   "source": [
    "## Avaliação"
   ]
  },
  {
   "cell_type": "code",
   "execution_count": 17,
   "metadata": {},
   "outputs": [],
   "source": [
    "from sklearn.metrics import classification_report, confusion_matrix"
   ]
  },
  {
   "cell_type": "code",
   "execution_count": 18,
   "metadata": {},
   "outputs": [
    {
     "name": "stdout",
     "output_type": "stream",
     "text": [
      "              precision    recall  f1-score   support\n",
      "\n",
      "           0       0.83      0.75      0.79       236\n",
      "           1       0.68      0.72      0.70       287\n",
      "           2       0.74      0.82      0.78       290\n",
      "           3       0.60      0.67      0.63       285\n",
      "           4       0.83      0.71      0.77       312\n",
      "           5       0.87      0.75      0.81       308\n",
      "           6       0.75      0.79      0.77       276\n",
      "           7       0.81      0.83      0.82       304\n",
      "           8       0.92      0.92      0.92       279\n",
      "           9       0.90      0.92      0.91       308\n",
      "          10       0.90      0.93      0.91       309\n",
      "          11       0.91      0.90      0.91       290\n",
      "          12       0.66      0.65      0.66       304\n",
      "          13       0.81      0.86      0.83       300\n",
      "          14       0.85      0.91      0.88       297\n",
      "          15       0.76      0.95      0.84       292\n",
      "          16       0.81      0.89      0.85       270\n",
      "          17       0.95      0.90      0.93       272\n",
      "          18       0.84      0.67      0.75       239\n",
      "          19       0.79      0.45      0.57       196\n",
      "\n",
      "    accuracy                           0.81      5654\n",
      "   macro avg       0.81      0.80      0.80      5654\n",
      "weighted avg       0.81      0.81      0.80      5654\n",
      "\n"
     ]
    }
   ],
   "source": [
    "print(classification_report(y_test, y_pred))"
   ]
  },
  {
   "cell_type": "code",
   "execution_count": 19,
   "metadata": {},
   "outputs": [
    {
     "name": "stdout",
     "output_type": "stream",
     "text": [
      "[[177   1   0   1   1   0   1   0   0   0   2   1   1   1   2  24   1   5\n",
      "    5  13]\n",
      " [  2 207  21  15   6   6   7   2   0   1   0   0  11   2   7   0   0   0\n",
      "    0   0]\n",
      " [  0  11 239  18   3   4   0   2   2   0   0   1   6   2   2   0   0   0\n",
      "    0   0]\n",
      " [  0  11  19 190   8  12  15   4   0   0   2   2  11   3   3   1   2   0\n",
      "    1   1]\n",
      " [  0   5   6  39 223   1   9   2   0   3   1   1  14   3   3   0   0   0\n",
      "    1   1]\n",
      " [  0  27  22   5   1 232   0   3   1   0   0   1   7   3   3   1   0   0\n",
      "    1   1]\n",
      " [  0   4   3  18  11   0 217   5   3   1   2   1   5   1   1   0   1   0\n",
      "    2   1]\n",
      " [  1   5   3   3   2   0   8 252  10   0   0   0  10   5   1   0   2   0\n",
      "    1   1]\n",
      " [  1   1   0   1   0   0   7   6 256   0   1   1   2   0   0   1   2   0\n",
      "    0   0]\n",
      " [  0   2   2   0   0   0   1   0   0 284  16   1   1   1   0   0   0   0\n",
      "    0   0]\n",
      " [  1   0   0   0   1   1   2   2   0   9 286   0   1   4   1   1   0   0\n",
      "    0   0]\n",
      " [  0   2   0   1   1   3   1   3   0   1   0 261   5   1   0   3   4   1\n",
      "    3   0]\n",
      " [  1   8   6  21   8   2   7  18   1   5   2   6 198   5  13   1   1   0\n",
      "    0   1]\n",
      " [  1   6   1   2   2   1   4   1   2   2   1   0  13 259   2   0   2   0\n",
      "    1   0]\n",
      " [  0   8   1   0   0   0   2   0   1   1   0   1   5   7 270   0   0   0\n",
      "    1   0]\n",
      " [  3   2   0   0   0   1   1   1   0   0   0   0   1   2   0 276   1   3\n",
      "    1   0]\n",
      " [  1   1   1   1   1   2   2   1   0   2   0   5   0   2   1   0 239   0\n",
      "    9   2]\n",
      " [  5   2   0   0   0   2   0   1   0   1   0   1   3   5   1   3   2 246\n",
      "    0   0]\n",
      " [  2   1   1   0   1   1   6   7   0   5   3   2   2   8   4   4  29   1\n",
      "  160   2]\n",
      " [ 19   1   0   0   1   0   0   3   2   1   2   1   4   7   3  50   8   2\n",
      "    4  88]]\n"
     ]
    }
   ],
   "source": [
    "print(confusion_matrix(y_test, y_pred))"
   ]
  },
  {
   "cell_type": "code",
   "execution_count": null,
   "metadata": {},
   "outputs": [],
   "source": []
  }
 ],
 "metadata": {
  "kernelspec": {
   "display_name": "Python 3",
   "language": "python",
   "name": "python3"
  },
  "language_info": {
   "codemirror_mode": {
    "name": "ipython",
    "version": 3
   },
   "file_extension": ".py",
   "mimetype": "text/x-python",
   "name": "python",
   "nbconvert_exporter": "python",
   "pygments_lexer": "ipython3",
   "version": "3.7.3"
  }
 },
 "nbformat": 4,
 "nbformat_minor": 2
}
